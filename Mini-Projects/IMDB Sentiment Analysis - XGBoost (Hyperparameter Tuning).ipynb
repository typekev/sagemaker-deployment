{
 "cells": [
  {
   "cell_type": "markdown",
   "metadata": {},
   "source": [
    "# Sentiment Analysis\n",
    "\n",
    "## Using XGBoost in SageMaker\n",
    "\n",
    "_Deep Learning Nanodegree Program | Deployment_\n",
    "\n",
    "---\n",
    "\n",
    "In this example of using Amazon's SageMaker service we will construct a random tree model to predict the sentiment of a movie review. You may have seen a version of this example in a pervious lesson although it would have been done using the sklearn package. Instead, we will be using the XGBoost package as it is provided to us by Amazon.\n",
    "\n",
    "## Instructions\n",
    "\n",
    "Some template code has already been provided for you, and you will need to implement additional functionality to successfully complete this notebook. You will not need to modify the included code beyond what is requested. Sections that begin with '**TODO**' in the header indicate that you need to complete or implement some portion within them. Instructions will be provided for each section and the specifics of the implementation are marked in the code block with a `# TODO: ...` comment. Please be sure to read the instructions carefully!\n",
    "\n",
    "In addition to implementing code, there will be questions for you to answer which relate to the task and your implementation. Each section where you will answer a question is preceded by a '**Question:**' header. Carefully read each question and provide your answer below the '**Answer:**' header by editing the Markdown cell.\n",
    "\n",
    "> **Note**: Code and Markdown cells can be executed using the **Shift+Enter** keyboard shortcut. In addition, a cell can be edited by typically clicking it (double-click for Markdown cells) or by pressing **Enter** while it is highlighted."
   ]
  },
  {
   "cell_type": "markdown",
   "metadata": {},
   "source": [
    "## Step 1: Downloading the data\n",
    "\n",
    "The dataset we are going to use is very popular among researchers in Natural Language Processing, usually referred to as the [IMDb dataset](http://ai.stanford.edu/~amaas/data/sentiment/). It consists of movie reviews from the website [imdb.com](http://www.imdb.com/), each labeled as either '**pos**itive', if the reviewer enjoyed the film, or '**neg**ative' otherwise.\n",
    "\n",
    "> Maas, Andrew L., et al. [Learning Word Vectors for Sentiment Analysis](http://ai.stanford.edu/~amaas/data/sentiment/). In _Proceedings of the 49th Annual Meeting of the Association for Computational Linguistics: Human Language Technologies_. Association for Computational Linguistics, 2011.\n",
    "\n",
    "We begin by using some Jupyter Notebook magic to download and extract the dataset."
   ]
  },
  {
   "cell_type": "code",
   "execution_count": 39,
   "metadata": {},
   "outputs": [
    {
     "name": "stdout",
     "output_type": "stream",
     "text": [
      "mkdir: cannot create directory ‘../data’: File exists\n",
      "--2020-08-10 20:47:36--  http://ai.stanford.edu/~amaas/data/sentiment/aclImdb_v1.tar.gz\n",
      "Resolving ai.stanford.edu (ai.stanford.edu)... 171.64.68.10\n",
      "Connecting to ai.stanford.edu (ai.stanford.edu)|171.64.68.10|:80... connected.\n",
      "HTTP request sent, awaiting response... 200 OK\n",
      "Length: 84125825 (80M) [application/x-gzip]\n",
      "Saving to: ‘../data/aclImdb_v1.tar.gz’\n",
      "\n",
      "../data/aclImdb_v1. 100%[===================>]  80.23M  25.5MB/s    in 3.5s    \n",
      "\n",
      "2020-08-10 20:47:40 (23.2 MB/s) - ‘../data/aclImdb_v1.tar.gz’ saved [84125825/84125825]\n",
      "\n"
     ]
    }
   ],
   "source": [
    "%mkdir ../data\n",
    "!wget -O ../data/aclImdb_v1.tar.gz http://ai.stanford.edu/~amaas/data/sentiment/aclImdb_v1.tar.gz\n",
    "!tar -zxf ../data/aclImdb_v1.tar.gz -C ../data"
   ]
  },
  {
   "cell_type": "markdown",
   "metadata": {},
   "source": [
    "## Step 2: Preparing the data\n",
    "\n",
    "The data we have downloaded is split into various files, each of which contains a single review. It will be much easier going forward if we combine these individual files into two large files, one for training and one for testing."
   ]
  },
  {
   "cell_type": "code",
   "execution_count": 40,
   "metadata": {},
   "outputs": [],
   "source": [
    "import os\n",
    "import glob\n",
    "\n",
    "def read_imdb_data(data_dir='../data/aclImdb'):\n",
    "    data = {}\n",
    "    labels = {}\n",
    "    \n",
    "    for data_type in ['train', 'test']:\n",
    "        data[data_type] = {}\n",
    "        labels[data_type] = {}\n",
    "        \n",
    "        for sentiment in ['pos', 'neg']:\n",
    "            data[data_type][sentiment] = []\n",
    "            labels[data_type][sentiment] = []\n",
    "            \n",
    "            path = os.path.join(data_dir, data_type, sentiment, '*.txt')\n",
    "            files = glob.glob(path)\n",
    "            \n",
    "            for f in files:\n",
    "                with open(f) as review:\n",
    "                    data[data_type][sentiment].append(review.read())\n",
    "                    # Here we represent a positive review by '1' and a negative review by '0'\n",
    "                    labels[data_type][sentiment].append(1 if sentiment == 'pos' else 0)\n",
    "                    \n",
    "            assert len(data[data_type][sentiment]) == len(labels[data_type][sentiment]), \\\n",
    "                    \"{}/{} data size does not match labels size\".format(data_type, sentiment)\n",
    "                \n",
    "    return data, labels"
   ]
  },
  {
   "cell_type": "code",
   "execution_count": 41,
   "metadata": {},
   "outputs": [
    {
     "name": "stdout",
     "output_type": "stream",
     "text": [
      "IMDB reviews: train = 12500 pos / 12500 neg, test = 12500 pos / 12500 neg\n"
     ]
    }
   ],
   "source": [
    "data, labels = read_imdb_data()\n",
    "print(\"IMDB reviews: train = {} pos / {} neg, test = {} pos / {} neg\".format(\n",
    "            len(data['train']['pos']), len(data['train']['neg']),\n",
    "            len(data['test']['pos']), len(data['test']['neg'])))"
   ]
  },
  {
   "cell_type": "code",
   "execution_count": 42,
   "metadata": {},
   "outputs": [],
   "source": [
    "from sklearn.utils import shuffle\n",
    "\n",
    "def prepare_imdb_data(data, labels):\n",
    "    \"\"\"Prepare training and test sets from IMDb movie reviews.\"\"\"\n",
    "    \n",
    "    #Combine positive and negative reviews and labels\n",
    "    data_train = data['train']['pos'] + data['train']['neg']\n",
    "    data_test = data['test']['pos'] + data['test']['neg']\n",
    "    labels_train = labels['train']['pos'] + labels['train']['neg']\n",
    "    labels_test = labels['test']['pos'] + labels['test']['neg']\n",
    "    \n",
    "    #Shuffle reviews and corresponding labels within training and test sets\n",
    "    data_train, labels_train = shuffle(data_train, labels_train)\n",
    "    data_test, labels_test = shuffle(data_test, labels_test)\n",
    "    \n",
    "    # Return a unified training data, test data, training labels, test labets\n",
    "    return data_train, data_test, labels_train, labels_test"
   ]
  },
  {
   "cell_type": "code",
   "execution_count": 43,
   "metadata": {},
   "outputs": [
    {
     "name": "stdout",
     "output_type": "stream",
     "text": [
      "IMDb reviews (combined): train = 25000, test = 25000\n"
     ]
    }
   ],
   "source": [
    "train_X, test_X, train_y, test_y = prepare_imdb_data(data, labels)\n",
    "print(\"IMDb reviews (combined): train = {}, test = {}\".format(len(train_X), len(test_X)))"
   ]
  },
  {
   "cell_type": "code",
   "execution_count": 44,
   "metadata": {},
   "outputs": [
    {
     "data": {
      "text/plain": [
       "\"Page 3 is a great movie. The story is so refreshing and interesting. Not once throughout the movie did i find myself staring off into space. Konkana Sen did a good job in the movie, although i think someone with more glamour or enthusiasm would have been better, but she did do a great job. All the supporting actors were also very good and helped the movie along. Boman Irani did a great job. There is one thing that stands out in this movie THE STORY it is great, and very realistic, it doesn't beat around the bush it is very straight forward in sending out its message. I think more movie like this should be made, i am sick of watching the same candy floss movies over and over, they are getting hard to digest now. Everyone should watch Page 3, it is a great film. -Just my 2 cents :)\""
      ]
     },
     "execution_count": 44,
     "metadata": {},
     "output_type": "execute_result"
    }
   ],
   "source": [
    "train_X[100]"
   ]
  },
  {
   "cell_type": "markdown",
   "metadata": {},
   "source": [
    "## Step 3: Processing the data\n",
    "\n",
    "Now that we have our training and testing datasets merged and ready to use, we need to start processing the raw data into something that will be useable by our machine learning algorithm. To begin with, we remove any html formatting that may appear in the reviews and perform some standard natural language processing in order to homogenize the data."
   ]
  },
  {
   "cell_type": "code",
   "execution_count": 45,
   "metadata": {},
   "outputs": [
    {
     "name": "stderr",
     "output_type": "stream",
     "text": [
      "[nltk_data] Downloading package stopwords to\n",
      "[nltk_data]     /home/ec2-user/nltk_data...\n",
      "[nltk_data]   Package stopwords is already up-to-date!\n"
     ]
    }
   ],
   "source": [
    "import nltk\n",
    "nltk.download(\"stopwords\")\n",
    "from nltk.corpus import stopwords\n",
    "from nltk.stem.porter import *\n",
    "stemmer = PorterStemmer()"
   ]
  },
  {
   "cell_type": "code",
   "execution_count": 46,
   "metadata": {},
   "outputs": [],
   "source": [
    "import re\n",
    "from bs4 import BeautifulSoup\n",
    "\n",
    "def review_to_words(review):\n",
    "    text = BeautifulSoup(review, \"html.parser\").get_text() # Remove HTML tags\n",
    "    text = re.sub(r\"[^a-zA-Z0-9]\", \" \", text.lower()) # Convert to lower case\n",
    "    words = text.split() # Split string into words\n",
    "    words = [w for w in words if w not in stopwords.words(\"english\")] # Remove stopwords\n",
    "    words = [PorterStemmer().stem(w) for w in words] # stem\n",
    "    \n",
    "    return words"
   ]
  },
  {
   "cell_type": "code",
   "execution_count": 47,
   "metadata": {},
   "outputs": [],
   "source": [
    "import pickle\n",
    "\n",
    "cache_dir = os.path.join(\"../cache\", \"sentiment_analysis\")  # where to store cache files\n",
    "os.makedirs(cache_dir, exist_ok=True)  # ensure cache directory exists\n",
    "\n",
    "def preprocess_data(data_train, data_test, labels_train, labels_test,\n",
    "                    cache_dir=cache_dir, cache_file=\"preprocessed_data.pkl\"):\n",
    "    \"\"\"Convert each review to words; read from cache if available.\"\"\"\n",
    "\n",
    "    # If cache_file is not None, try to read from it first\n",
    "    cache_data = None\n",
    "    if cache_file is not None:\n",
    "        try:\n",
    "            with open(os.path.join(cache_dir, cache_file), \"rb\") as f:\n",
    "                cache_data = pickle.load(f)\n",
    "            print(\"Read preprocessed data from cache file:\", cache_file)\n",
    "        except:\n",
    "            pass  # unable to read from cache, but that's okay\n",
    "    \n",
    "    # If cache is missing, then do the heavy lifting\n",
    "    if cache_data is None:\n",
    "        # Preprocess training and test data to obtain words for each review\n",
    "        #words_train = list(map(review_to_words, data_train))\n",
    "        #words_test = list(map(review_to_words, data_test))\n",
    "        words_train = [review_to_words(review) for review in data_train]\n",
    "        words_test = [review_to_words(review) for review in data_test]\n",
    "        \n",
    "        # Write to cache file for future runs\n",
    "        if cache_file is not None:\n",
    "            cache_data = dict(words_train=words_train, words_test=words_test,\n",
    "                              labels_train=labels_train, labels_test=labels_test)\n",
    "            with open(os.path.join(cache_dir, cache_file), \"wb\") as f:\n",
    "                pickle.dump(cache_data, f)\n",
    "            print(\"Wrote preprocessed data to cache file:\", cache_file)\n",
    "    else:\n",
    "        # Unpack data loaded from cache file\n",
    "        words_train, words_test, labels_train, labels_test = (cache_data['words_train'],\n",
    "                cache_data['words_test'], cache_data['labels_train'], cache_data['labels_test'])\n",
    "    \n",
    "    return words_train, words_test, labels_train, labels_test"
   ]
  },
  {
   "cell_type": "code",
   "execution_count": 48,
   "metadata": {},
   "outputs": [
    {
     "name": "stdout",
     "output_type": "stream",
     "text": [
      "Read preprocessed data from cache file: preprocessed_data.pkl\n"
     ]
    }
   ],
   "source": [
    "# Preprocess data\n",
    "train_X, test_X, train_y, test_y = preprocess_data(train_X, test_X, train_y, test_y)"
   ]
  },
  {
   "cell_type": "markdown",
   "metadata": {},
   "source": [
    "### Extract Bag-of-Words features\n",
    "\n",
    "For the model we will be implementing, rather than using the reviews directly, we are going to transform each review into a Bag-of-Words feature representation. Keep in mind that 'in the wild' we will only have access to the training set so our transformer can only use the training set to construct a representation."
   ]
  },
  {
   "cell_type": "code",
   "execution_count": 49,
   "metadata": {},
   "outputs": [],
   "source": [
    "import numpy as np\n",
    "from sklearn.feature_extraction.text import CountVectorizer\n",
    "from sklearn.externals import joblib\n",
    "# joblib is an enhanced version of pickle that is more efficient for storing NumPy arrays\n",
    "\n",
    "def extract_BoW_features(words_train, words_test, vocabulary_size=5000,\n",
    "                         cache_dir=cache_dir, cache_file=\"bow_features.pkl\"):\n",
    "    \"\"\"Extract Bag-of-Words for a given set of documents, already preprocessed into words.\"\"\"\n",
    "    \n",
    "    # If cache_file is not None, try to read from it first\n",
    "    cache_data = None\n",
    "    if cache_file is not None:\n",
    "        try:\n",
    "            with open(os.path.join(cache_dir, cache_file), \"rb\") as f:\n",
    "                cache_data = joblib.load(f)\n",
    "            print(\"Read features from cache file:\", cache_file)\n",
    "        except:\n",
    "            pass  # unable to read from cache, but that's okay\n",
    "    \n",
    "    # If cache is missing, then do the heavy lifting\n",
    "    if cache_data is None:\n",
    "        # Fit a vectorizer to training documents and use it to transform them\n",
    "        # NOTE: Training documents have already been preprocessed and tokenized into words;\n",
    "        #       pass in dummy functions to skip those steps, e.g. preprocessor=lambda x: x\n",
    "        vectorizer = CountVectorizer(max_features=vocabulary_size,\n",
    "                preprocessor=lambda x: x, tokenizer=lambda x: x)  # already preprocessed\n",
    "        features_train = vectorizer.fit_transform(words_train).toarray()\n",
    "\n",
    "        # Apply the same vectorizer to transform the test documents (ignore unknown words)\n",
    "        features_test = vectorizer.transform(words_test).toarray()\n",
    "        \n",
    "        # NOTE: Remember to convert the features using .toarray() for a compact representation\n",
    "        \n",
    "        # Write to cache file for future runs (store vocabulary as well)\n",
    "        if cache_file is not None:\n",
    "            vocabulary = vectorizer.vocabulary_\n",
    "            cache_data = dict(features_train=features_train, features_test=features_test,\n",
    "                             vocabulary=vocabulary)\n",
    "            with open(os.path.join(cache_dir, cache_file), \"wb\") as f:\n",
    "                joblib.dump(cache_data, f)\n",
    "            print(\"Wrote features to cache file:\", cache_file)\n",
    "    else:\n",
    "        # Unpack data loaded from cache file\n",
    "        features_train, features_test, vocabulary = (cache_data['features_train'],\n",
    "                cache_data['features_test'], cache_data['vocabulary'])\n",
    "    \n",
    "    # Return both the extracted features as well as the vocabulary\n",
    "    return features_train, features_test, vocabulary"
   ]
  },
  {
   "cell_type": "code",
   "execution_count": 50,
   "metadata": {},
   "outputs": [
    {
     "name": "stdout",
     "output_type": "stream",
     "text": [
      "Read features from cache file: bow_features.pkl\n"
     ]
    }
   ],
   "source": [
    "# Extract Bag of Words features for both training and test datasets\n",
    "train_X, test_X, vocabulary = extract_BoW_features(train_X, test_X)"
   ]
  },
  {
   "cell_type": "markdown",
   "metadata": {},
   "source": [
    "## Step 4: Classification using XGBoost\n",
    "\n",
    "Now that we have created the feature representation of our training (and testing) data, it is time to start setting up and using the XGBoost classifier provided by SageMaker.\n",
    "\n",
    "### Writing the dataset\n",
    "\n",
    "The XGBoost classifier that we will be using requires the dataset to be written to a file and stored using Amazon S3. To do this, we will start by splitting the training dataset into two parts, the data we will train the model with and a validation set. Then, we will write those datasets to a file and upload the files to S3. In addition, we will write the test set input to a file and upload the file to S3. This is so that we can use SageMakers Batch Transform functionality to test our model once we've fit it."
   ]
  },
  {
   "cell_type": "code",
   "execution_count": 51,
   "metadata": {},
   "outputs": [],
   "source": [
    "import pandas as pd\n",
    "\n",
    "val_X = pd.DataFrame(train_X[:10000])\n",
    "train_X = pd.DataFrame(train_X[10000:])\n",
    "\n",
    "val_y = pd.DataFrame(train_y[:10000])\n",
    "train_y = pd.DataFrame(train_y[10000:])\n",
    "\n",
    "test_y = pd.DataFrame(test_y)\n",
    "test_X = pd.DataFrame(test_X)"
   ]
  },
  {
   "cell_type": "markdown",
   "metadata": {},
   "source": [
    "The documentation for the XGBoost algorithm in SageMaker requires that the saved datasets should contain no headers or index and that for the training and validation data, the label should occur first for each sample.\n",
    "\n",
    "For more information about this and other algorithms, the SageMaker developer documentation can be found on __[Amazon's website.](https://docs.aws.amazon.com/sagemaker/latest/dg/)__"
   ]
  },
  {
   "cell_type": "code",
   "execution_count": 52,
   "metadata": {},
   "outputs": [],
   "source": [
    "# First we make sure that the local directory in which we'd like to store the training and validation csv files exists.\n",
    "data_dir = '../data/xgboost'\n",
    "if not os.path.exists(data_dir):\n",
    "    os.makedirs(data_dir)"
   ]
  },
  {
   "cell_type": "code",
   "execution_count": 53,
   "metadata": {},
   "outputs": [],
   "source": [
    "# First, save the test data to test.csv in the data_dir directory. Note that we do not save the associated ground truth\n",
    "# labels, instead we will use them later to compare with our model output.\n",
    "\n",
    "pd.DataFrame(test_X).to_csv(os.path.join(data_dir, 'test.csv'), header=False, index=False)\n",
    "\n",
    "#pd.concat([test_y, test_X], axis=1).to_csv(os.path.join(data_dir, 'test.csv'), header=False, index=False)\n",
    "pd.concat([val_y, val_X], axis=1).to_csv(os.path.join(data_dir, 'validation.csv'), header=False, index=False)\n",
    "pd.concat([train_y, train_X], axis=1).to_csv(os.path.join(data_dir, 'train.csv'), header=False, index=False)"
   ]
  },
  {
   "cell_type": "code",
   "execution_count": 54,
   "metadata": {},
   "outputs": [],
   "source": [
    "# To save a bit of memory we can set text_X, train_X, val_X, train_y and val_y to None.\n",
    "\n",
    "train_X = val_X = train_y = val_y = None"
   ]
  },
  {
   "cell_type": "markdown",
   "metadata": {},
   "source": [
    "### Uploading Training / Validation files to S3\n",
    "\n",
    "Amazon's S3 service allows us to store files that can be access by both the built-in training models such as the XGBoost model we will be using as well as custom models such as the one we will see a little later.\n",
    "\n",
    "For this, and most other tasks we will be doing using SageMaker, there are two methods we could use. The first is to use the low level functionality of SageMaker which requires knowing each of the objects involved in the SageMaker environment. The second is to use the high level functionality in which certain choices have been made on the user's behalf. The low level approach benefits from allowing the user a great deal of flexibility while the high level approach makes development much quicker. For our purposes we will opt to use the high level approach although using the low-level approach is certainly an option.\n",
    "\n",
    "Recall the method `upload_data()` which is a member of object representing our current SageMaker session. What this method does is upload the data to the default bucket (which is created if it does not exist) into the path described by the key_prefix variable. To see this for yourself, once you have uploaded the data files, go to the S3 console and look to see where the files have been uploaded.\n",
    "\n",
    "For additional resources, see the __[SageMaker API documentation](http://sagemaker.readthedocs.io/en/latest/)__ and in addition the __[SageMaker Developer Guide.](https://docs.aws.amazon.com/sagemaker/latest/dg/)__"
   ]
  },
  {
   "cell_type": "code",
   "execution_count": 55,
   "metadata": {},
   "outputs": [],
   "source": [
    "import sagemaker\n",
    "\n",
    "session = sagemaker.Session() # Store the current SageMaker session\n",
    "\n",
    "# S3 prefix (which folder will we use)\n",
    "prefix = 'sentiment-xgboost'\n",
    "\n",
    "test_location = session.upload_data(os.path.join(data_dir, 'test.csv'), key_prefix=prefix)\n",
    "val_location = session.upload_data(os.path.join(data_dir, 'validation.csv'), key_prefix=prefix)\n",
    "train_location = session.upload_data(os.path.join(data_dir, 'train.csv'), key_prefix=prefix)"
   ]
  },
  {
   "cell_type": "markdown",
   "metadata": {},
   "source": [
    "### (TODO) Creating a hypertuned XGBoost model\n",
    "\n",
    "Now that the data has been uploaded it is time to create the XGBoost model. As in the Boston Housing notebook, the first step is to create an estimator object which will be used as the *base* of your hyperparameter tuning job."
   ]
  },
  {
   "cell_type": "code",
   "execution_count": 56,
   "metadata": {},
   "outputs": [],
   "source": [
    "from sagemaker import get_execution_role\n",
    "\n",
    "# Our current execution role is require when creating the model as the training\n",
    "# and inference code will need to access the model artifacts.\n",
    "role = get_execution_role()"
   ]
  },
  {
   "cell_type": "code",
   "execution_count": 57,
   "metadata": {},
   "outputs": [
    {
     "name": "stderr",
     "output_type": "stream",
     "text": [
      "'get_image_uri' method will be deprecated in favor of 'ImageURIProvider' class in SageMaker Python SDK v2.\n",
      "There is a more up to date SageMaker XGBoost image. To use the newer image, please set 'repo_version'='1.0-1'. For example:\n",
      "\tget_image_uri(region, 'xgboost', '1.0-1').\n"
     ]
    }
   ],
   "source": [
    "# We need to retrieve the location of the container which is provided by Amazon for using XGBoost.\n",
    "# As a matter of convenience, the training and inference code both use the same container.\n",
    "from sagemaker.amazon.amazon_estimator import get_image_uri\n",
    "\n",
    "container = get_image_uri(session.boto_region_name, 'xgboost')"
   ]
  },
  {
   "cell_type": "code",
   "execution_count": 58,
   "metadata": {},
   "outputs": [
    {
     "name": "stderr",
     "output_type": "stream",
     "text": [
      "Parameter image_name will be renamed to image_uri in SageMaker Python SDK v2.\n"
     ]
    }
   ],
   "source": [
    "# TODO: Create a SageMaker estimator using the container location determined in the previous cell.\n",
    "#       It is recommended that you use a single training instance of type ml.m4.xlarge. It is also\n",
    "#       recommended that you use 's3://{}/{}/output'.format(session.default_bucket(), prefix) as the\n",
    "#       output path.\n",
    "\n",
    "xgb = sagemaker.estimator.Estimator(container, # The name of the training container\n",
    "                                    role,      # The IAM role to use (our current role in this case)\n",
    "                                    train_instance_count=1, # The number of instances to use for training\n",
    "                                    train_instance_type='ml.m4.xlarge', # The type of instance ot use for training\n",
    "                                    output_path='s3://{}/{}/output'.format(session.default_bucket(), prefix),\n",
    "                                                                        # Where to save the output (the model artifacts)\n",
    "                                    sagemaker_session=session) # The current SageMaker session\n",
    "\n",
    "# TODO: Set the XGBoost hyperparameters in the xgb object. Don't forget that in this case we have a binary\n",
    "#       label so we should be using the 'binary:logistic' objective.\n",
    "\n",
    "xgb.set_hyperparameters(max_depth=5,\n",
    "                        eta=0.2,\n",
    "                        gamma=4,\n",
    "                        min_child_weight=6,\n",
    "                        subsample=0.8,\n",
    "                        objective='binary:logistic',\n",
    "                        early_stopping_rounds=10,\n",
    "                        num_round=200)"
   ]
  },
  {
   "cell_type": "markdown",
   "metadata": {},
   "source": [
    "### (TODO) Create the hyperparameter tuner\n",
    "\n",
    "Now that the base estimator has been set up we need to construct a hyperparameter tuner object which we will use to request SageMaker construct a hyperparameter tuning job.\n",
    "\n",
    "**Note:** Training a single sentiment analysis XGBoost model takes longer than training a Boston Housing XGBoost model so if you don't want the hyperparameter tuning job to take too long, make sure to not set the total number of models (jobs) too high."
   ]
  },
  {
   "cell_type": "code",
   "execution_count": 59,
   "metadata": {},
   "outputs": [],
   "source": [
    "# First, make sure to import the relevant objects used to construct the tuner\n",
    "from sagemaker.tuner import IntegerParameter, ContinuousParameter, HyperparameterTuner\n",
    "\n",
    "# TODO: Create the hyperparameter tuner object\n",
    "\n",
    "xgb_hyperparameter_tuner = HyperparameterTuner(estimator = xgb, # The estimator object to use as the basis for the training jobs.\n",
    "                                               objective_metric_name = 'validation:rmse', # The metric used to compare trained models.\n",
    "                                               objective_type = 'Minimize', # Whether we wish to minimize or maximize the metric.\n",
    "                                               max_jobs = 3, # The total number of models to train\n",
    "                                               max_parallel_jobs = 3, # The number of models to train in parallel\n",
    "                                               hyperparameter_ranges = {\n",
    "                                                    'max_depth': IntegerParameter(3, 12),\n",
    "                                                    'eta'      : ContinuousParameter(0.05, 0.5),\n",
    "                                                    'min_child_weight': IntegerParameter(2, 8),\n",
    "                                                    'subsample': ContinuousParameter(0.5, 0.9),\n",
    "                                                    'gamma': ContinuousParameter(0, 10),\n",
    "                                               })\n"
   ]
  },
  {
   "cell_type": "markdown",
   "metadata": {},
   "source": [
    "### Fit the hyperparameter tuner\n",
    "\n",
    "Now that the hyperparameter tuner object has been constructed, it is time to fit the various models and find the best performing model."
   ]
  },
  {
   "cell_type": "code",
   "execution_count": 60,
   "metadata": {},
   "outputs": [
    {
     "name": "stderr",
     "output_type": "stream",
     "text": [
      "'s3_input' class will be renamed to 'TrainingInput' in SageMaker Python SDK v2.\n",
      "'s3_input' class will be renamed to 'TrainingInput' in SageMaker Python SDK v2.\n"
     ]
    }
   ],
   "source": [
    "s3_input_train = sagemaker.s3_input(s3_data=train_location, content_type='csv')\n",
    "s3_input_validation = sagemaker.s3_input(s3_data=val_location, content_type='csv')"
   ]
  },
  {
   "cell_type": "code",
   "execution_count": 61,
   "metadata": {},
   "outputs": [],
   "source": [
    "xgb_hyperparameter_tuner.fit({'train': s3_input_train, 'validation': s3_input_validation})"
   ]
  },
  {
   "cell_type": "markdown",
   "metadata": {},
   "source": [
    "Remember that the tuning job is constructed and run in the background so if we want to see the progress of our training job we need to call the `wait()` method."
   ]
  },
  {
   "cell_type": "code",
   "execution_count": 62,
   "metadata": {},
   "outputs": [
    {
     "name": "stdout",
     "output_type": "stream",
     "text": [
      "...........................................................................................................................!\n"
     ]
    }
   ],
   "source": [
    "xgb_hyperparameter_tuner.wait()"
   ]
  },
  {
   "cell_type": "markdown",
   "metadata": {},
   "source": [
    "### (TODO) Testing the model\n",
    "\n",
    "Now that we've run our hyperparameter tuning job, it's time to see how well the best performing model actually performs. To do this we will use SageMaker's Batch Transform functionality. Batch Transform is a convenient way to perform inference on a large dataset in a way that is not realtime. That is, we don't necessarily need to use our model's results immediately and instead we can peform inference on a large number of samples. An example of this in industry might be peforming an end of month report. This method of inference can also be useful to us as it means to can perform inference on our entire test set. \n",
    "\n",
    "Remember that in order to create a transformer object to perform the batch transform job, we need a trained estimator object. We can do that using the `attach()` method, creating an estimator object which is attached to the best trained job."
   ]
  },
  {
   "cell_type": "code",
   "execution_count": 63,
   "metadata": {},
   "outputs": [
    {
     "name": "stderr",
     "output_type": "stream",
     "text": [
      "Parameter image_name will be renamed to image_uri in SageMaker Python SDK v2.\n"
     ]
    },
    {
     "name": "stdout",
     "output_type": "stream",
     "text": [
      "2020-08-10 20:57:44 Starting - Preparing the instances for training\n",
      "2020-08-10 20:57:44 Downloading - Downloading input data\n",
      "2020-08-10 20:57:44 Training - Training image download completed. Training in progress.\n",
      "2020-08-10 20:57:44 Uploading - Uploading generated training model\n",
      "2020-08-10 20:57:44 Completed - Training job completed\u001b[34mArguments: train\u001b[0m\n",
      "\u001b[34m[2020-08-10:20:52:34:INFO] Running standalone xgboost training.\u001b[0m\n",
      "\u001b[34m[2020-08-10:20:52:34:INFO] Setting up HPO optimized metric to be : rmse\u001b[0m\n",
      "\u001b[34m[2020-08-10:20:52:34:INFO] File size need to be processed in the node: 238.47mb. Available memory size in the node: 8475.94mb\u001b[0m\n",
      "\u001b[34m[2020-08-10:20:52:34:INFO] Determined delimiter of CSV input is ','\u001b[0m\n",
      "\u001b[34m[20:52:34] S3DistributionType set as FullyReplicated\u001b[0m\n",
      "\u001b[34m[20:52:35] 15000x5000 matrix with 75000000 entries loaded from /opt/ml/input/data/train?format=csv&label_column=0&delimiter=,\u001b[0m\n",
      "\u001b[34m[2020-08-10:20:52:35:INFO] Determined delimiter of CSV input is ','\u001b[0m\n",
      "\u001b[34m[20:52:35] S3DistributionType set as FullyReplicated\u001b[0m\n",
      "\u001b[34m[20:52:36] 10000x5000 matrix with 50000000 entries loaded from /opt/ml/input/data/validation?format=csv&label_column=0&delimiter=,\u001b[0m\n",
      "\u001b[34m[20:52:41] src/tree/updater_prune.cc:74: tree pruning end, 1 roots, 66 extra nodes, 18 pruned nodes, max_depth=7\u001b[0m\n",
      "\u001b[34m[0]#011train-rmse:0.45976#011validation-rmse:0.462327\u001b[0m\n",
      "\u001b[34mMultiple eval metrics have been passed: 'validation-rmse' will be used for early stopping.\n",
      "\u001b[0m\n",
      "\u001b[34mWill train until validation-rmse hasn't improved in 10 rounds.\u001b[0m\n",
      "\u001b[34m[20:52:43] src/tree/updater_prune.cc:74: tree pruning end, 1 roots, 70 extra nodes, 26 pruned nodes, max_depth=7\u001b[0m\n",
      "\u001b[34m[1]#011train-rmse:0.437771#011validation-rmse:0.44221\u001b[0m\n",
      "\u001b[34m[20:52:45] src/tree/updater_prune.cc:74: tree pruning end, 1 roots, 46 extra nodes, 22 pruned nodes, max_depth=7\u001b[0m\n",
      "\u001b[34m[2]#011train-rmse:0.423033#011validation-rmse:0.428951\u001b[0m\n",
      "\u001b[34m[20:52:47] src/tree/updater_prune.cc:74: tree pruning end, 1 roots, 62 extra nodes, 30 pruned nodes, max_depth=7\u001b[0m\n",
      "\u001b[34m[3]#011train-rmse:0.41041#011validation-rmse:0.418826\u001b[0m\n",
      "\u001b[34m[20:52:49] src/tree/updater_prune.cc:74: tree pruning end, 1 roots, 60 extra nodes, 24 pruned nodes, max_depth=7\u001b[0m\n",
      "\u001b[34m[4]#011train-rmse:0.400509#011validation-rmse:0.410863\u001b[0m\n",
      "\u001b[34m[20:52:50] src/tree/updater_prune.cc:74: tree pruning end, 1 roots, 50 extra nodes, 22 pruned nodes, max_depth=7\u001b[0m\n",
      "\u001b[34m[5]#011train-rmse:0.392035#011validation-rmse:0.40446\u001b[0m\n",
      "\u001b[34m[20:52:52] src/tree/updater_prune.cc:74: tree pruning end, 1 roots, 44 extra nodes, 26 pruned nodes, max_depth=7\u001b[0m\n",
      "\u001b[34m[6]#011train-rmse:0.385305#011validation-rmse:0.399681\u001b[0m\n",
      "\u001b[34m[20:52:54] src/tree/updater_prune.cc:74: tree pruning end, 1 roots, 48 extra nodes, 12 pruned nodes, max_depth=7\u001b[0m\n",
      "\u001b[34m[7]#011train-rmse:0.378098#011validation-rmse:0.394457\u001b[0m\n",
      "\u001b[34m[20:52:56] src/tree/updater_prune.cc:74: tree pruning end, 1 roots, 42 extra nodes, 20 pruned nodes, max_depth=7\u001b[0m\n",
      "\u001b[34m[8]#011train-rmse:0.37284#011validation-rmse:0.390718\u001b[0m\n",
      "\u001b[34m[20:52:58] src/tree/updater_prune.cc:74: tree pruning end, 1 roots, 52 extra nodes, 14 pruned nodes, max_depth=7\u001b[0m\n",
      "\u001b[34m[9]#011train-rmse:0.365656#011validation-rmse:0.385121\u001b[0m\n",
      "\u001b[34m[20:53:00] src/tree/updater_prune.cc:74: tree pruning end, 1 roots, 44 extra nodes, 16 pruned nodes, max_depth=7\u001b[0m\n",
      "\u001b[34m[10]#011train-rmse:0.360085#011validation-rmse:0.381675\u001b[0m\n",
      "\u001b[34m[20:53:02] src/tree/updater_prune.cc:74: tree pruning end, 1 roots, 30 extra nodes, 30 pruned nodes, max_depth=7\u001b[0m\n",
      "\u001b[34m[11]#011train-rmse:0.355728#011validation-rmse:0.3778\u001b[0m\n",
      "\u001b[34m[20:53:03] src/tree/updater_prune.cc:74: tree pruning end, 1 roots, 26 extra nodes, 24 pruned nodes, max_depth=7\u001b[0m\n",
      "\u001b[34m[12]#011train-rmse:0.352394#011validation-rmse:0.375231\u001b[0m\n",
      "\u001b[34m[20:53:05] src/tree/updater_prune.cc:74: tree pruning end, 1 roots, 36 extra nodes, 14 pruned nodes, max_depth=7\u001b[0m\n",
      "\u001b[34m[13]#011train-rmse:0.34858#011validation-rmse:0.372221\u001b[0m\n",
      "\u001b[34m[20:53:07] src/tree/updater_prune.cc:74: tree pruning end, 1 roots, 44 extra nodes, 14 pruned nodes, max_depth=7\u001b[0m\n",
      "\u001b[34m[14]#011train-rmse:0.344882#011validation-rmse:0.369897\u001b[0m\n",
      "\u001b[34m[20:53:09] src/tree/updater_prune.cc:74: tree pruning end, 1 roots, 34 extra nodes, 26 pruned nodes, max_depth=7\u001b[0m\n",
      "\u001b[34m[15]#011train-rmse:0.341659#011validation-rmse:0.367028\u001b[0m\n",
      "\u001b[34m[20:53:11] src/tree/updater_prune.cc:74: tree pruning end, 1 roots, 32 extra nodes, 26 pruned nodes, max_depth=7\u001b[0m\n",
      "\u001b[34m[16]#011train-rmse:0.338846#011validation-rmse:0.365143\u001b[0m\n",
      "\u001b[34m[20:53:13] src/tree/updater_prune.cc:74: tree pruning end, 1 roots, 36 extra nodes, 32 pruned nodes, max_depth=7\u001b[0m\n",
      "\u001b[34m[17]#011train-rmse:0.335817#011validation-rmse:0.363184\u001b[0m\n",
      "\u001b[34m[20:53:15] src/tree/updater_prune.cc:74: tree pruning end, 1 roots, 28 extra nodes, 24 pruned nodes, max_depth=7\u001b[0m\n",
      "\u001b[34m[18]#011train-rmse:0.333478#011validation-rmse:0.361767\u001b[0m\n",
      "\u001b[34m[20:53:17] src/tree/updater_prune.cc:74: tree pruning end, 1 roots, 50 extra nodes, 8 pruned nodes, max_depth=7\u001b[0m\n",
      "\u001b[34m[19]#011train-rmse:0.330066#011validation-rmse:0.359897\u001b[0m\n",
      "\u001b[34m[20:53:18] src/tree/updater_prune.cc:74: tree pruning end, 1 roots, 30 extra nodes, 14 pruned nodes, max_depth=7\u001b[0m\n",
      "\u001b[34m[20]#011train-rmse:0.327479#011validation-rmse:0.358077\u001b[0m\n",
      "\u001b[34m[20:53:20] src/tree/updater_prune.cc:74: tree pruning end, 1 roots, 28 extra nodes, 16 pruned nodes, max_depth=7\u001b[0m\n",
      "\u001b[34m[21]#011train-rmse:0.325009#011validation-rmse:0.356334\u001b[0m\n",
      "\u001b[34m[20:53:22] src/tree/updater_prune.cc:74: tree pruning end, 1 roots, 22 extra nodes, 32 pruned nodes, max_depth=7\u001b[0m\n",
      "\u001b[34m[22]#011train-rmse:0.322567#011validation-rmse:0.354428\u001b[0m\n",
      "\u001b[34m[20:53:24] src/tree/updater_prune.cc:74: tree pruning end, 1 roots, 52 extra nodes, 10 pruned nodes, max_depth=7\u001b[0m\n",
      "\u001b[34m[23]#011train-rmse:0.31912#011validation-rmse:0.352757\u001b[0m\n",
      "\u001b[34m[20:53:26] src/tree/updater_prune.cc:74: tree pruning end, 1 roots, 16 extra nodes, 26 pruned nodes, max_depth=7\u001b[0m\n",
      "\u001b[34m[24]#011train-rmse:0.317414#011validation-rmse:0.351232\u001b[0m\n",
      "\u001b[34m[20:53:28] src/tree/updater_prune.cc:74: tree pruning end, 1 roots, 28 extra nodes, 34 pruned nodes, max_depth=7\u001b[0m\n",
      "\u001b[34m[25]#011train-rmse:0.315616#011validation-rmse:0.350229\u001b[0m\n",
      "\u001b[34m[20:53:30] src/tree/updater_prune.cc:74: tree pruning end, 1 roots, 28 extra nodes, 12 pruned nodes, max_depth=7\u001b[0m\n",
      "\u001b[34m[26]#011train-rmse:0.313466#011validation-rmse:0.349234\u001b[0m\n",
      "\u001b[34m[20:53:31] src/tree/updater_prune.cc:74: tree pruning end, 1 roots, 24 extra nodes, 16 pruned nodes, max_depth=7\u001b[0m\n",
      "\u001b[34m[27]#011train-rmse:0.311652#011validation-rmse:0.348033\u001b[0m\n",
      "\u001b[34m[20:53:33] src/tree/updater_prune.cc:74: tree pruning end, 1 roots, 24 extra nodes, 4 pruned nodes, max_depth=7\u001b[0m\n",
      "\u001b[34m[28]#011train-rmse:0.30981#011validation-rmse:0.346998\u001b[0m\n",
      "\u001b[34m[20:53:35] src/tree/updater_prune.cc:74: tree pruning end, 1 roots, 26 extra nodes, 24 pruned nodes, max_depth=7\u001b[0m\n",
      "\u001b[34m[29]#011train-rmse:0.308104#011validation-rmse:0.345673\u001b[0m\n",
      "\u001b[34m[20:53:37] src/tree/updater_prune.cc:74: tree pruning end, 1 roots, 18 extra nodes, 12 pruned nodes, max_depth=7\u001b[0m\n",
      "\u001b[34m[30]#011train-rmse:0.306755#011validation-rmse:0.344952\u001b[0m\n",
      "\u001b[34m[20:53:39] src/tree/updater_prune.cc:74: tree pruning end, 1 roots, 32 extra nodes, 18 pruned nodes, max_depth=7\u001b[0m\n",
      "\u001b[34m[31]#011train-rmse:0.304859#011validation-rmse:0.343943\u001b[0m\n",
      "\u001b[34m[20:53:41] src/tree/updater_prune.cc:74: tree pruning end, 1 roots, 26 extra nodes, 28 pruned nodes, max_depth=7\u001b[0m\n",
      "\u001b[34m[32]#011train-rmse:0.303009#011validation-rmse:0.34336\u001b[0m\n",
      "\u001b[34m[20:53:43] src/tree/updater_prune.cc:74: tree pruning end, 1 roots, 24 extra nodes, 22 pruned nodes, max_depth=7\u001b[0m\n",
      "\u001b[34m[33]#011train-rmse:0.301476#011validation-rmse:0.342314\u001b[0m\n",
      "\u001b[34m[20:53:44] src/tree/updater_prune.cc:74: tree pruning end, 1 roots, 44 extra nodes, 18 pruned nodes, max_depth=7\u001b[0m\n",
      "\u001b[34m[34]#011train-rmse:0.299332#011validation-rmse:0.34147\u001b[0m\n",
      "\u001b[34m[20:53:46] src/tree/updater_prune.cc:74: tree pruning end, 1 roots, 34 extra nodes, 26 pruned nodes, max_depth=7\u001b[0m\n",
      "\u001b[34m[35]#011train-rmse:0.297585#011validation-rmse:0.340592\u001b[0m\n",
      "\u001b[34m[20:53:48] src/tree/updater_prune.cc:74: tree pruning end, 1 roots, 32 extra nodes, 14 pruned nodes, max_depth=7\u001b[0m\n",
      "\u001b[34m[36]#011train-rmse:0.295849#011validation-rmse:0.339485\u001b[0m\n",
      "\u001b[34m[20:53:50] src/tree/updater_prune.cc:74: tree pruning end, 1 roots, 16 extra nodes, 24 pruned nodes, max_depth=7\u001b[0m\n",
      "\u001b[34m[37]#011train-rmse:0.294858#011validation-rmse:0.338415\u001b[0m\n",
      "\u001b[34m[20:53:52] src/tree/updater_prune.cc:74: tree pruning end, 1 roots, 34 extra nodes, 16 pruned nodes, max_depth=7\u001b[0m\n",
      "\u001b[34m[38]#011train-rmse:0.293337#011validation-rmse:0.33773\u001b[0m\n",
      "\u001b[34m[20:53:54] src/tree/updater_prune.cc:74: tree pruning end, 1 roots, 14 extra nodes, 16 pruned nodes, max_depth=7\u001b[0m\n",
      "\u001b[34m[39]#011train-rmse:0.29249#011validation-rmse:0.33726\u001b[0m\n",
      "\u001b[34m[20:53:56] src/tree/updater_prune.cc:74: tree pruning end, 1 roots, 20 extra nodes, 6 pruned nodes, max_depth=7\u001b[0m\n",
      "\u001b[34m[40]#011train-rmse:0.291327#011validation-rmse:0.336569\u001b[0m\n",
      "\u001b[34m[20:53:57] src/tree/updater_prune.cc:74: tree pruning end, 1 roots, 34 extra nodes, 8 pruned nodes, max_depth=7\u001b[0m\n",
      "\u001b[34m[41]#011train-rmse:0.289778#011validation-rmse:0.335818\u001b[0m\n",
      "\u001b[34m[20:53:59] src/tree/updater_prune.cc:74: tree pruning end, 1 roots, 20 extra nodes, 20 pruned nodes, max_depth=7\u001b[0m\n",
      "\u001b[34m[42]#011train-rmse:0.288767#011validation-rmse:0.334758\u001b[0m\n",
      "\u001b[34m[20:54:01] src/tree/updater_prune.cc:74: tree pruning end, 1 roots, 30 extra nodes, 14 pruned nodes, max_depth=7\u001b[0m\n",
      "\u001b[34m[43]#011train-rmse:0.287448#011validation-rmse:0.334315\u001b[0m\n",
      "\u001b[34m[20:54:03] src/tree/updater_prune.cc:74: tree pruning end, 1 roots, 24 extra nodes, 10 pruned nodes, max_depth=7\u001b[0m\n",
      "\u001b[34m[44]#011train-rmse:0.286263#011validation-rmse:0.33365\u001b[0m\n",
      "\u001b[34m[20:54:05] src/tree/updater_prune.cc:74: tree pruning end, 1 roots, 24 extra nodes, 12 pruned nodes, max_depth=7\u001b[0m\n",
      "\u001b[34m[45]#011train-rmse:0.285039#011validation-rmse:0.332781\u001b[0m\n",
      "\u001b[34m[20:54:07] src/tree/updater_prune.cc:74: tree pruning end, 1 roots, 16 extra nodes, 18 pruned nodes, max_depth=7\u001b[0m\n",
      "\u001b[34m[46]#011train-rmse:0.284446#011validation-rmse:0.332017\u001b[0m\n",
      "\u001b[34m[20:54:09] src/tree/updater_prune.cc:74: tree pruning end, 1 roots, 16 extra nodes, 18 pruned nodes, max_depth=7\u001b[0m\n",
      "\u001b[34m[47]#011train-rmse:0.283356#011validation-rmse:0.331594\u001b[0m\n",
      "\u001b[34m[20:54:10] src/tree/updater_prune.cc:74: tree pruning end, 1 roots, 22 extra nodes, 24 pruned nodes, max_depth=7\u001b[0m\n",
      "\u001b[34m[48]#011train-rmse:0.28195#011validation-rmse:0.331222\u001b[0m\n",
      "\u001b[34m[20:54:12] src/tree/updater_prune.cc:74: tree pruning end, 1 roots, 20 extra nodes, 24 pruned nodes, max_depth=7\u001b[0m\n",
      "\u001b[34m[49]#011train-rmse:0.280937#011validation-rmse:0.330817\u001b[0m\n",
      "\u001b[34m[20:54:14] src/tree/updater_prune.cc:74: tree pruning end, 1 roots, 14 extra nodes, 20 pruned nodes, max_depth=7\u001b[0m\n",
      "\u001b[34m[50]#011train-rmse:0.280266#011validation-rmse:0.330202\u001b[0m\n",
      "\u001b[34m[20:54:16] src/tree/updater_prune.cc:74: tree pruning end, 1 roots, 14 extra nodes, 2 pruned nodes, max_depth=7\u001b[0m\n",
      "\u001b[34m[51]#011train-rmse:0.27944#011validation-rmse:0.329484\u001b[0m\n",
      "\u001b[34m[20:54:18] src/tree/updater_prune.cc:74: tree pruning end, 1 roots, 16 extra nodes, 6 pruned nodes, max_depth=7\u001b[0m\n",
      "\u001b[34m[52]#011train-rmse:0.278496#011validation-rmse:0.329024\u001b[0m\n",
      "\u001b[34m[20:54:20] src/tree/updater_prune.cc:74: tree pruning end, 1 roots, 28 extra nodes, 36 pruned nodes, max_depth=7\u001b[0m\n",
      "\u001b[34m[53]#011train-rmse:0.27705#011validation-rmse:0.328562\u001b[0m\n",
      "\u001b[34m[20:54:22] src/tree/updater_prune.cc:74: tree pruning end, 1 roots, 18 extra nodes, 18 pruned nodes, max_depth=7\u001b[0m\n",
      "\u001b[34m[54]#011train-rmse:0.276147#011validation-rmse:0.328279\u001b[0m\n",
      "\u001b[34m[20:54:24] src/tree/updater_prune.cc:74: tree pruning end, 1 roots, 20 extra nodes, 4 pruned nodes, max_depth=7\u001b[0m\n",
      "\u001b[34m[55]#011train-rmse:0.275191#011validation-rmse:0.327713\u001b[0m\n",
      "\u001b[34m[20:54:25] src/tree/updater_prune.cc:74: tree pruning end, 1 roots, 20 extra nodes, 16 pruned nodes, max_depth=7\u001b[0m\n",
      "\u001b[34m[56]#011train-rmse:0.274364#011validation-rmse:0.326908\u001b[0m\n",
      "\u001b[34m[20:54:27] src/tree/updater_prune.cc:74: tree pruning end, 1 roots, 26 extra nodes, 16 pruned nodes, max_depth=7\u001b[0m\n",
      "\u001b[34m[57]#011train-rmse:0.273075#011validation-rmse:0.32601\u001b[0m\n",
      "\u001b[34m[20:54:29] src/tree/updater_prune.cc:74: tree pruning end, 1 roots, 32 extra nodes, 16 pruned nodes, max_depth=7\u001b[0m\n",
      "\u001b[34m[58]#011train-rmse:0.272008#011validation-rmse:0.325365\u001b[0m\n",
      "\u001b[34m[20:54:31] src/tree/updater_prune.cc:74: tree pruning end, 1 roots, 26 extra nodes, 28 pruned nodes, max_depth=7\u001b[0m\n",
      "\u001b[34m[59]#011train-rmse:0.271138#011validation-rmse:0.324844\u001b[0m\n",
      "\u001b[34m[20:54:33] src/tree/updater_prune.cc:74: tree pruning end, 1 roots, 16 extra nodes, 12 pruned nodes, max_depth=7\u001b[0m\n",
      "\u001b[34m[60]#011train-rmse:0.270508#011validation-rmse:0.324546\u001b[0m\n",
      "\u001b[34m[20:54:35] src/tree/updater_prune.cc:74: tree pruning end, 1 roots, 18 extra nodes, 14 pruned nodes, max_depth=7\u001b[0m\n",
      "\u001b[34m[61]#011train-rmse:0.269712#011validation-rmse:0.324171\u001b[0m\n",
      "\u001b[34m[20:54:37] src/tree/updater_prune.cc:74: tree pruning end, 1 roots, 20 extra nodes, 8 pruned nodes, max_depth=7\u001b[0m\n",
      "\u001b[34m[62]#011train-rmse:0.268872#011validation-rmse:0.32376\u001b[0m\n",
      "\u001b[34m[20:54:38] src/tree/updater_prune.cc:74: tree pruning end, 1 roots, 22 extra nodes, 14 pruned nodes, max_depth=7\u001b[0m\n",
      "\u001b[34m[63]#011train-rmse:0.267696#011validation-rmse:0.323632\u001b[0m\n",
      "\u001b[34m[20:54:40] src/tree/updater_prune.cc:74: tree pruning end, 1 roots, 24 extra nodes, 18 pruned nodes, max_depth=7\u001b[0m\n",
      "\u001b[34m[64]#011train-rmse:0.266686#011validation-rmse:0.322814\u001b[0m\n",
      "\u001b[34m[20:54:42] src/tree/updater_prune.cc:74: tree pruning end, 1 roots, 18 extra nodes, 14 pruned nodes, max_depth=7\u001b[0m\n",
      "\u001b[34m[65]#011train-rmse:0.265941#011validation-rmse:0.322535\u001b[0m\n",
      "\u001b[34m[20:54:44] src/tree/updater_prune.cc:74: tree pruning end, 1 roots, 18 extra nodes, 26 pruned nodes, max_depth=7\u001b[0m\n",
      "\u001b[34m[66]#011train-rmse:0.265183#011validation-rmse:0.322197\u001b[0m\n",
      "\u001b[34m[20:54:46] src/tree/updater_prune.cc:74: tree pruning end, 1 roots, 22 extra nodes, 8 pruned nodes, max_depth=7\u001b[0m\n",
      "\u001b[34m[67]#011train-rmse:0.264338#011validation-rmse:0.321933\u001b[0m\n",
      "\u001b[34m[20:54:48] src/tree/updater_prune.cc:74: tree pruning end, 1 roots, 20 extra nodes, 26 pruned nodes, max_depth=7\u001b[0m\n",
      "\u001b[34m[68]#011train-rmse:0.263606#011validation-rmse:0.321565\u001b[0m\n",
      "\u001b[34m[20:54:50] src/tree/updater_prune.cc:74: tree pruning end, 1 roots, 22 extra nodes, 12 pruned nodes, max_depth=7\u001b[0m\n",
      "\u001b[34m[69]#011train-rmse:0.262643#011validation-rmse:0.321406\u001b[0m\n",
      "\u001b[34m[20:54:52] src/tree/updater_prune.cc:74: tree pruning end, 1 roots, 16 extra nodes, 4 pruned nodes, max_depth=7\u001b[0m\n",
      "\u001b[34m[70]#011train-rmse:0.26206#011validation-rmse:0.320895\u001b[0m\n",
      "\u001b[34m[20:54:53] src/tree/updater_prune.cc:74: tree pruning end, 1 roots, 16 extra nodes, 12 pruned nodes, max_depth=7\u001b[0m\n",
      "\u001b[34m[71]#011train-rmse:0.261428#011validation-rmse:0.320451\u001b[0m\n",
      "\u001b[34m[20:54:55] src/tree/updater_prune.cc:74: tree pruning end, 1 roots, 20 extra nodes, 12 pruned nodes, max_depth=7\u001b[0m\n",
      "\u001b[34m[72]#011train-rmse:0.260772#011validation-rmse:0.320283\u001b[0m\n",
      "\u001b[34m[20:54:57] src/tree/updater_prune.cc:74: tree pruning end, 1 roots, 22 extra nodes, 8 pruned nodes, max_depth=7\u001b[0m\n",
      "\u001b[34m[73]#011train-rmse:0.259887#011validation-rmse:0.31956\u001b[0m\n",
      "\u001b[34m[20:54:59] src/tree/updater_prune.cc:74: tree pruning end, 1 roots, 20 extra nodes, 14 pruned nodes, max_depth=7\u001b[0m\n",
      "\u001b[34m[74]#011train-rmse:0.259104#011validation-rmse:0.319478\u001b[0m\n",
      "\u001b[34m[20:55:01] src/tree/updater_prune.cc:74: tree pruning end, 1 roots, 18 extra nodes, 6 pruned nodes, max_depth=7\u001b[0m\n",
      "\u001b[34m[75]#011train-rmse:0.258467#011validation-rmse:0.319271\u001b[0m\n",
      "\u001b[34m[20:55:03] src/tree/updater_prune.cc:74: tree pruning end, 1 roots, 14 extra nodes, 14 pruned nodes, max_depth=7\u001b[0m\n",
      "\u001b[34m[76]#011train-rmse:0.257996#011validation-rmse:0.319167\u001b[0m\n",
      "\u001b[34m[20:55:05] src/tree/updater_prune.cc:74: tree pruning end, 1 roots, 18 extra nodes, 14 pruned nodes, max_depth=7\u001b[0m\n",
      "\u001b[34m[77]#011train-rmse:0.257358#011validation-rmse:0.318852\u001b[0m\n",
      "\u001b[34m[20:55:06] src/tree/updater_prune.cc:74: tree pruning end, 1 roots, 16 extra nodes, 12 pruned nodes, max_depth=7\u001b[0m\n",
      "\u001b[34m[78]#011train-rmse:0.256803#011validation-rmse:0.318258\u001b[0m\n",
      "\u001b[34m[20:55:08] src/tree/updater_prune.cc:74: tree pruning end, 1 roots, 14 extra nodes, 8 pruned nodes, max_depth=7\u001b[0m\n",
      "\u001b[34m[79]#011train-rmse:0.256451#011validation-rmse:0.318043\u001b[0m\n",
      "\u001b[34m[20:55:10] src/tree/updater_prune.cc:74: tree pruning end, 1 roots, 26 extra nodes, 6 pruned nodes, max_depth=7\u001b[0m\n",
      "\u001b[34m[80]#011train-rmse:0.255553#011validation-rmse:0.317791\u001b[0m\n",
      "\u001b[34m[20:55:12] src/tree/updater_prune.cc:74: tree pruning end, 1 roots, 34 extra nodes, 24 pruned nodes, max_depth=7\u001b[0m\n",
      "\u001b[34m[81]#011train-rmse:0.254364#011validation-rmse:0.318003\u001b[0m\n",
      "\u001b[34m[20:55:14] src/tree/updater_prune.cc:74: tree pruning end, 1 roots, 22 extra nodes, 10 pruned nodes, max_depth=7\u001b[0m\n",
      "\u001b[34m[82]#011train-rmse:0.253472#011validation-rmse:0.317961\u001b[0m\n",
      "\u001b[34m[20:55:16] src/tree/updater_prune.cc:74: tree pruning end, 1 roots, 14 extra nodes, 24 pruned nodes, max_depth=7\u001b[0m\n",
      "\u001b[34m[83]#011train-rmse:0.252884#011validation-rmse:0.317708\u001b[0m\n",
      "\u001b[34m[20:55:18] src/tree/updater_prune.cc:74: tree pruning end, 1 roots, 18 extra nodes, 22 pruned nodes, max_depth=7\u001b[0m\n",
      "\u001b[34m[84]#011train-rmse:0.25222#011validation-rmse:0.317524\u001b[0m\n",
      "\u001b[34m[20:55:20] src/tree/updater_prune.cc:74: tree pruning end, 1 roots, 18 extra nodes, 10 pruned nodes, max_depth=7\u001b[0m\n",
      "\u001b[34m[85]#011train-rmse:0.251549#011validation-rmse:0.317586\u001b[0m\n",
      "\u001b[34m[20:55:21] src/tree/updater_prune.cc:74: tree pruning end, 1 roots, 18 extra nodes, 10 pruned nodes, max_depth=7\u001b[0m\n",
      "\u001b[34m[86]#011train-rmse:0.251009#011validation-rmse:0.31791\u001b[0m\n",
      "\u001b[34m[20:55:23] src/tree/updater_prune.cc:74: tree pruning end, 1 roots, 16 extra nodes, 8 pruned nodes, max_depth=7\u001b[0m\n",
      "\u001b[34m[87]#011train-rmse:0.250434#011validation-rmse:0.317571\u001b[0m\n",
      "\u001b[34m[20:55:25] src/tree/updater_prune.cc:74: tree pruning end, 1 roots, 28 extra nodes, 24 pruned nodes, max_depth=7\u001b[0m\n",
      "\u001b[34m[88]#011train-rmse:0.249537#011validation-rmse:0.317732\u001b[0m\n",
      "\u001b[34m[20:55:27] src/tree/updater_prune.cc:74: tree pruning end, 1 roots, 18 extra nodes, 32 pruned nodes, max_depth=7\u001b[0m\n",
      "\u001b[34m[89]#011train-rmse:0.24902#011validation-rmse:0.317895\u001b[0m\n",
      "\u001b[34m[20:55:29] src/tree/updater_prune.cc:74: tree pruning end, 1 roots, 14 extra nodes, 12 pruned nodes, max_depth=7\u001b[0m\n",
      "\u001b[34m[90]#011train-rmse:0.248558#011validation-rmse:0.317423\u001b[0m\n",
      "\u001b[34m[20:55:31] src/tree/updater_prune.cc:74: tree pruning end, 1 roots, 16 extra nodes, 8 pruned nodes, max_depth=7\u001b[0m\n",
      "\u001b[34m[91]#011train-rmse:0.247828#011validation-rmse:0.31697\u001b[0m\n",
      "\u001b[34m[20:55:33] src/tree/updater_prune.cc:74: tree pruning end, 1 roots, 16 extra nodes, 2 pruned nodes, max_depth=7\u001b[0m\n",
      "\u001b[34m[92]#011train-rmse:0.247248#011validation-rmse:0.316811\u001b[0m\n",
      "\u001b[34m[20:55:35] src/tree/updater_prune.cc:74: tree pruning end, 1 roots, 16 extra nodes, 8 pruned nodes, max_depth=7\u001b[0m\n",
      "\u001b[34m[93]#011train-rmse:0.246883#011validation-rmse:0.316635\u001b[0m\n",
      "\u001b[34m[20:55:36] src/tree/updater_prune.cc:74: tree pruning end, 1 roots, 14 extra nodes, 22 pruned nodes, max_depth=7\u001b[0m\n",
      "\u001b[34m[94]#011train-rmse:0.246558#011validation-rmse:0.316463\u001b[0m\n",
      "\u001b[34m[20:55:38] src/tree/updater_prune.cc:74: tree pruning end, 1 roots, 14 extra nodes, 2 pruned nodes, max_depth=7\u001b[0m\n",
      "\u001b[34m[95]#011train-rmse:0.246027#011validation-rmse:0.316261\u001b[0m\n",
      "\u001b[34m[20:55:40] src/tree/updater_prune.cc:74: tree pruning end, 1 roots, 14 extra nodes, 2 pruned nodes, max_depth=7\u001b[0m\n",
      "\u001b[34m[96]#011train-rmse:0.24552#011validation-rmse:0.316044\u001b[0m\n",
      "\u001b[34m[20:55:42] src/tree/updater_prune.cc:74: tree pruning end, 1 roots, 18 extra nodes, 10 pruned nodes, max_depth=7\u001b[0m\n",
      "\u001b[34m[97]#011train-rmse:0.244977#011validation-rmse:0.315731\u001b[0m\n",
      "\u001b[34m[20:55:44] src/tree/updater_prune.cc:74: tree pruning end, 1 roots, 14 extra nodes, 6 pruned nodes, max_depth=7\u001b[0m\n",
      "\u001b[34m[98]#011train-rmse:0.244634#011validation-rmse:0.315261\u001b[0m\n",
      "\u001b[34m[20:55:46] src/tree/updater_prune.cc:74: tree pruning end, 1 roots, 20 extra nodes, 16 pruned nodes, max_depth=7\u001b[0m\n",
      "\u001b[34m[99]#011train-rmse:0.243953#011validation-rmse:0.315103\u001b[0m\n",
      "\u001b[34m[20:55:48] src/tree/updater_prune.cc:74: tree pruning end, 1 roots, 16 extra nodes, 12 pruned nodes, max_depth=7\u001b[0m\n",
      "\u001b[34m[100]#011train-rmse:0.243387#011validation-rmse:0.315076\u001b[0m\n",
      "\u001b[34m[20:55:49] src/tree/updater_prune.cc:74: tree pruning end, 1 roots, 28 extra nodes, 24 pruned nodes, max_depth=7\u001b[0m\n",
      "\u001b[34m[101]#011train-rmse:0.242591#011validation-rmse:0.314897\u001b[0m\n",
      "\u001b[34m[20:55:51] src/tree/updater_prune.cc:74: tree pruning end, 1 roots, 14 extra nodes, 12 pruned nodes, max_depth=7\u001b[0m\n",
      "\u001b[34m[102]#011train-rmse:0.242217#011validation-rmse:0.314906\u001b[0m\n",
      "\u001b[34m[20:55:53] src/tree/updater_prune.cc:74: tree pruning end, 1 roots, 16 extra nodes, 20 pruned nodes, max_depth=7\u001b[0m\n",
      "\u001b[34m[103]#011train-rmse:0.241717#011validation-rmse:0.314838\u001b[0m\n",
      "\u001b[34m[20:55:55] src/tree/updater_prune.cc:74: tree pruning end, 1 roots, 26 extra nodes, 24 pruned nodes, max_depth=7\u001b[0m\n",
      "\u001b[34m[104]#011train-rmse:0.241011#011validation-rmse:0.314726\u001b[0m\n",
      "\u001b[34m[20:55:57] src/tree/updater_prune.cc:74: tree pruning end, 1 roots, 18 extra nodes, 14 pruned nodes, max_depth=7\u001b[0m\n",
      "\u001b[34m[105]#011train-rmse:0.24044#011validation-rmse:0.3146\u001b[0m\n",
      "\u001b[34m[20:55:59] src/tree/updater_prune.cc:74: tree pruning end, 1 roots, 16 extra nodes, 2 pruned nodes, max_depth=7\u001b[0m\n",
      "\u001b[34m[106]#011train-rmse:0.239954#011validation-rmse:0.31467\u001b[0m\n",
      "\u001b[34m[20:56:01] src/tree/updater_prune.cc:74: tree pruning end, 1 roots, 16 extra nodes, 12 pruned nodes, max_depth=7\u001b[0m\n",
      "\u001b[34m[107]#011train-rmse:0.239519#011validation-rmse:0.314333\u001b[0m\n",
      "\u001b[34m[20:56:03] src/tree/updater_prune.cc:74: tree pruning end, 1 roots, 16 extra nodes, 16 pruned nodes, max_depth=7\u001b[0m\n",
      "\u001b[34m[108]#011train-rmse:0.239125#011validation-rmse:0.314256\u001b[0m\n",
      "\u001b[34m[20:56:04] src/tree/updater_prune.cc:74: tree pruning end, 1 roots, 22 extra nodes, 26 pruned nodes, max_depth=7\u001b[0m\n",
      "\u001b[34m[109]#011train-rmse:0.238362#011validation-rmse:0.313968\u001b[0m\n",
      "\u001b[34m[20:56:06] src/tree/updater_prune.cc:74: tree pruning end, 1 roots, 16 extra nodes, 18 pruned nodes, max_depth=7\u001b[0m\n",
      "\u001b[34m[110]#011train-rmse:0.23793#011validation-rmse:0.313801\u001b[0m\n",
      "\u001b[34m[20:56:08] src/tree/updater_prune.cc:74: tree pruning end, 1 roots, 16 extra nodes, 16 pruned nodes, max_depth=7\u001b[0m\n",
      "\u001b[34m[111]#011train-rmse:0.237449#011validation-rmse:0.31372\u001b[0m\n",
      "\u001b[34m[20:56:10] src/tree/updater_prune.cc:74: tree pruning end, 1 roots, 14 extra nodes, 8 pruned nodes, max_depth=7\u001b[0m\n",
      "\u001b[34m[112]#011train-rmse:0.237184#011validation-rmse:0.313898\u001b[0m\n",
      "\u001b[34m[20:56:12] src/tree/updater_prune.cc:74: tree pruning end, 1 roots, 16 extra nodes, 16 pruned nodes, max_depth=7\u001b[0m\n",
      "\u001b[34m[113]#011train-rmse:0.236674#011validation-rmse:0.313671\u001b[0m\n",
      "\u001b[34m[20:56:14] src/tree/updater_prune.cc:74: tree pruning end, 1 roots, 18 extra nodes, 22 pruned nodes, max_depth=7\u001b[0m\n",
      "\u001b[34m[114]#011train-rmse:0.23614#011validation-rmse:0.313306\u001b[0m\n",
      "\u001b[34m[20:56:16] src/tree/updater_prune.cc:74: tree pruning end, 1 roots, 16 extra nodes, 10 pruned nodes, max_depth=7\u001b[0m\n",
      "\u001b[34m[115]#011train-rmse:0.235651#011validation-rmse:0.312943\u001b[0m\n",
      "\u001b[34m[20:56:17] src/tree/updater_prune.cc:74: tree pruning end, 1 roots, 28 extra nodes, 28 pruned nodes, max_depth=7\u001b[0m\n",
      "\u001b[34m[116]#011train-rmse:0.23483#011validation-rmse:0.312753\u001b[0m\n",
      "\u001b[34m[20:56:19] src/tree/updater_prune.cc:74: tree pruning end, 1 roots, 20 extra nodes, 22 pruned nodes, max_depth=7\u001b[0m\n",
      "\u001b[34m[117]#011train-rmse:0.23445#011validation-rmse:0.312864\u001b[0m\n",
      "\u001b[34m[20:56:21] src/tree/updater_prune.cc:74: tree pruning end, 1 roots, 16 extra nodes, 12 pruned nodes, max_depth=7\u001b[0m\n",
      "\u001b[34m[118]#011train-rmse:0.233932#011validation-rmse:0.312831\u001b[0m\n",
      "\u001b[34m[20:56:23] src/tree/updater_prune.cc:74: tree pruning end, 1 roots, 14 extra nodes, 10 pruned nodes, max_depth=7\u001b[0m\n",
      "\u001b[34m[119]#011train-rmse:0.233566#011validation-rmse:0.312789\u001b[0m\n",
      "\u001b[34m[20:56:25] src/tree/updater_prune.cc:74: tree pruning end, 1 roots, 14 extra nodes, 6 pruned nodes, max_depth=7\u001b[0m\n",
      "\u001b[34m[120]#011train-rmse:0.233168#011validation-rmse:0.31237\u001b[0m\n",
      "\u001b[34m[20:56:27] src/tree/updater_prune.cc:74: tree pruning end, 1 roots, 16 extra nodes, 12 pruned nodes, max_depth=7\u001b[0m\n",
      "\u001b[34m[121]#011train-rmse:0.232762#011validation-rmse:0.312091\u001b[0m\n",
      "\u001b[34m[20:56:29] src/tree/updater_prune.cc:74: tree pruning end, 1 roots, 16 extra nodes, 2 pruned nodes, max_depth=7\u001b[0m\n",
      "\u001b[34m[122]#011train-rmse:0.232203#011validation-rmse:0.311904\u001b[0m\n",
      "\u001b[34m[20:56:31] src/tree/updater_prune.cc:74: tree pruning end, 1 roots, 14 extra nodes, 12 pruned nodes, max_depth=7\u001b[0m\n",
      "\u001b[34m[123]#011train-rmse:0.231833#011validation-rmse:0.312101\u001b[0m\n",
      "\u001b[34m[20:56:33] src/tree/updater_prune.cc:74: tree pruning end, 1 roots, 20 extra nodes, 22 pruned nodes, max_depth=7\u001b[0m\n",
      "\u001b[34m[124]#011train-rmse:0.231454#011validation-rmse:0.312327\u001b[0m\n",
      "\u001b[34m[20:56:34] src/tree/updater_prune.cc:74: tree pruning end, 1 roots, 8 extra nodes, 8 pruned nodes, max_depth=4\u001b[0m\n",
      "\u001b[34m[125]#011train-rmse:0.231252#011validation-rmse:0.312206\u001b[0m\n",
      "\u001b[34m[20:56:36] src/tree/updater_prune.cc:74: tree pruning end, 1 roots, 14 extra nodes, 18 pruned nodes, max_depth=7\u001b[0m\n",
      "\u001b[34m[126]#011train-rmse:0.231#011validation-rmse:0.311977\u001b[0m\n",
      "\u001b[34m[20:56:38] src/tree/updater_prune.cc:74: tree pruning end, 1 roots, 16 extra nodes, 8 pruned nodes, max_depth=7\u001b[0m\n",
      "\u001b[34m[127]#011train-rmse:0.230506#011validation-rmse:0.311999\u001b[0m\n",
      "\u001b[34m[20:56:40] src/tree/updater_prune.cc:74: tree pruning end, 1 roots, 18 extra nodes, 14 pruned nodes, max_depth=7\u001b[0m\n",
      "\u001b[34m[128]#011train-rmse:0.230004#011validation-rmse:0.311794\u001b[0m\n",
      "\u001b[34m[20:56:42] src/tree/updater_prune.cc:74: tree pruning end, 1 roots, 14 extra nodes, 22 pruned nodes, max_depth=7\u001b[0m\n",
      "\u001b[34m[129]#011train-rmse:0.229702#011validation-rmse:0.311675\u001b[0m\n",
      "\u001b[34m[20:56:44] src/tree/updater_prune.cc:74: tree pruning end, 1 roots, 16 extra nodes, 12 pruned nodes, max_depth=7\u001b[0m\n",
      "\u001b[34m[130]#011train-rmse:0.229109#011validation-rmse:0.3119\u001b[0m\n",
      "\u001b[34m[20:56:46] src/tree/updater_prune.cc:74: tree pruning end, 1 roots, 16 extra nodes, 8 pruned nodes, max_depth=7\u001b[0m\n",
      "\u001b[34m[131]#011train-rmse:0.228677#011validation-rmse:0.311938\u001b[0m\n",
      "\u001b[34m[20:56:48] src/tree/updater_prune.cc:74: tree pruning end, 1 roots, 14 extra nodes, 24 pruned nodes, max_depth=7\u001b[0m\n",
      "\u001b[34m[132]#011train-rmse:0.228353#011validation-rmse:0.311934\u001b[0m\n",
      "\u001b[34m[20:56:49] src/tree/updater_prune.cc:74: tree pruning end, 1 roots, 8 extra nodes, 8 pruned nodes, max_depth=4\u001b[0m\n",
      "\u001b[34m[133]#011train-rmse:0.228189#011validation-rmse:0.311779\u001b[0m\n",
      "\u001b[34m[20:56:51] src/tree/updater_prune.cc:74: tree pruning end, 1 roots, 14 extra nodes, 14 pruned nodes, max_depth=6\u001b[0m\n",
      "\u001b[34m[134]#011train-rmse:0.227879#011validation-rmse:0.311852\u001b[0m\n",
      "\u001b[34m[20:56:53] src/tree/updater_prune.cc:74: tree pruning end, 1 roots, 20 extra nodes, 10 pruned nodes, max_depth=7\u001b[0m\n",
      "\u001b[34m[135]#011train-rmse:0.227357#011validation-rmse:0.311977\u001b[0m\n",
      "\u001b[34m[20:56:55] src/tree/updater_prune.cc:74: tree pruning end, 1 roots, 16 extra nodes, 30 pruned nodes, max_depth=7\u001b[0m\n",
      "\u001b[34m[136]#011train-rmse:0.226925#011validation-rmse:0.312045\u001b[0m\n",
      "\u001b[34m[20:56:57] src/tree/updater_prune.cc:74: tree pruning end, 1 roots, 16 extra nodes, 26 pruned nodes, max_depth=7\u001b[0m\n",
      "\u001b[34m[137]#011train-rmse:0.226637#011validation-rmse:0.312007\u001b[0m\n",
      "\u001b[34m[20:56:59] src/tree/updater_prune.cc:74: tree pruning end, 1 roots, 18 extra nodes, 10 pruned nodes, max_depth=7\u001b[0m\n",
      "\u001b[34m[138]#011train-rmse:0.226285#011validation-rmse:0.312108\u001b[0m\n",
      "\u001b[34m[20:57:01] src/tree/updater_prune.cc:74: tree pruning end, 1 roots, 10 extra nodes, 24 pruned nodes, max_depth=5\u001b[0m\n",
      "\u001b[34m[139]#011train-rmse:0.226079#011validation-rmse:0.31208\u001b[0m\n",
      "\u001b[34mStopping. Best iteration:\u001b[0m\n",
      "\u001b[34m[129]#011train-rmse:0.229702#011validation-rmse:0.311675\n",
      "\u001b[0m\n",
      "Training seconds: 357\n",
      "Billable seconds: 357\n"
     ]
    }
   ],
   "source": [
    "# TODO: Create a new estimator object attached to the best training job found during hyperparameter tuning\n",
    "\n",
    "xgb_attached = sagemaker.estimator.Estimator.attach(xgb_hyperparameter_tuner.best_training_job())\n"
   ]
  },
  {
   "cell_type": "markdown",
   "metadata": {},
   "source": [
    "Now that we have an estimator object attached to the correct training job, we can proceed as we normally would and create a transformer object."
   ]
  },
  {
   "cell_type": "code",
   "execution_count": 64,
   "metadata": {},
   "outputs": [
    {
     "name": "stderr",
     "output_type": "stream",
     "text": [
      "Parameter image will be renamed to image_uri in SageMaker Python SDK v2.\n"
     ]
    }
   ],
   "source": [
    "# TODO: Create a transformer object from the attached estimator. Using an instance count of 1 and an instance type of ml.m4.xlarge\n",
    "#       should be more than enough.\n",
    "\n",
    "xgb_transformer = xgb_attached.transformer(instance_count = 1, instance_type = 'ml.m4.xlarge')\n"
   ]
  },
  {
   "cell_type": "markdown",
   "metadata": {},
   "source": [
    "Next we actually perform the transform job. When doing so we need to make sure to specify the type of data we are sending so that it is serialized correctly in the background. In our case we are providing our model with csv data so we specify `text/csv`. Also, if the test data that we have provided is too large to process all at once then we need to specify how the data file should be split up. Since each line is a single entry in our data set we tell SageMaker that it can split the input on each line."
   ]
  },
  {
   "cell_type": "code",
   "execution_count": 65,
   "metadata": {},
   "outputs": [],
   "source": [
    "# TODO: Start the transform job. Make sure to specify the content type and the split type of the test data.\n",
    "xgb_transformer.transform(test_location, content_type='text/csv', split_type='Line')"
   ]
  },
  {
   "cell_type": "markdown",
   "metadata": {},
   "source": [
    "Currently the transform job is running but it is doing so in the background. Since we wish to wait until the transform job is done and we would like a bit of feedback we can run the `wait()` method."
   ]
  },
  {
   "cell_type": "code",
   "execution_count": 66,
   "metadata": {},
   "outputs": [
    {
     "name": "stdout",
     "output_type": "stream",
     "text": [
      ".........................\u001b[32m2020-08-10T21:03:39.608:[sagemaker logs]: MaxConcurrentTransforms=4, MaxPayloadInMB=6, BatchStrategy=MULTI_RECORD\u001b[0m\n",
      "\u001b[34mArguments: serve\u001b[0m\n",
      "\u001b[34m[2020-08-10 21:03:39 +0000] [1] [INFO] Starting gunicorn 19.7.1\u001b[0m\n",
      "\u001b[34m[2020-08-10 21:03:39 +0000] [1] [INFO] Listening at: http://0.0.0.0:8080 (1)\u001b[0m\n",
      "\u001b[34m[2020-08-10 21:03:39 +0000] [1] [INFO] Using worker: gevent\u001b[0m\n",
      "\u001b[34m[2020-08-10 21:03:39 +0000] [37] [INFO] Booting worker with pid: 37\u001b[0m\n",
      "\u001b[34m[2020-08-10:21:03:39:INFO] Model loaded successfully for worker : 37\u001b[0m\n",
      "\u001b[34m[2020-08-10 21:03:39 +0000] [38] [INFO] Booting worker with pid: 38\u001b[0m\n",
      "\u001b[34m[2020-08-10 21:03:39 +0000] [39] [INFO] Booting worker with pid: 39\u001b[0m\n",
      "\u001b[34m[2020-08-10:21:03:39:INFO] Model loaded successfully for worker : 38\u001b[0m\n",
      "\u001b[34m[2020-08-10 21:03:39 +0000] [40] [INFO] Booting worker with pid: 40\u001b[0m\n",
      "\u001b[34m[2020-08-10:21:03:39:INFO] Model loaded successfully for worker : 39\u001b[0m\n",
      "\u001b[35mArguments: serve\u001b[0m\n",
      "\u001b[35m[2020-08-10 21:03:39 +0000] [1] [INFO] Starting gunicorn 19.7.1\u001b[0m\n",
      "\u001b[35m[2020-08-10 21:03:39 +0000] [1] [INFO] Listening at: http://0.0.0.0:8080 (1)\u001b[0m\n",
      "\u001b[35m[2020-08-10 21:03:39 +0000] [1] [INFO] Using worker: gevent\u001b[0m\n",
      "\u001b[35m[2020-08-10 21:03:39 +0000] [37] [INFO] Booting worker with pid: 37\u001b[0m\n",
      "\u001b[35m[2020-08-10:21:03:39:INFO] Model loaded successfully for worker : 37\u001b[0m\n",
      "\u001b[35m[2020-08-10 21:03:39 +0000] [38] [INFO] Booting worker with pid: 38\u001b[0m\n",
      "\u001b[35m[2020-08-10 21:03:39 +0000] [39] [INFO] Booting worker with pid: 39\u001b[0m\n",
      "\u001b[35m[2020-08-10:21:03:39:INFO] Model loaded successfully for worker : 38\u001b[0m\n",
      "\u001b[35m[2020-08-10 21:03:39 +0000] [40] [INFO] Booting worker with pid: 40\u001b[0m\n",
      "\u001b[35m[2020-08-10:21:03:39:INFO] Model loaded successfully for worker : 39\u001b[0m\n",
      "\u001b[34m[2020-08-10:21:03:39:INFO] Model loaded successfully for worker : 40\u001b[0m\n",
      "\u001b[34m[2020-08-10:21:03:39:INFO] Sniff delimiter as ','\u001b[0m\n",
      "\u001b[34m[2020-08-10:21:03:39:INFO] Determined delimiter of CSV input is ','\u001b[0m\n",
      "\u001b[34m[2020-08-10:21:03:40:INFO] Sniff delimiter as ','\u001b[0m\n",
      "\u001b[34m[2020-08-10:21:03:40:INFO] Determined delimiter of CSV input is ','\u001b[0m\n",
      "\u001b[34m[2020-08-10:21:03:40:INFO] Sniff delimiter as ','\u001b[0m\n",
      "\u001b[34m[2020-08-10:21:03:40:INFO] Determined delimiter of CSV input is ','\u001b[0m\n",
      "\u001b[34m[2020-08-10:21:03:40:INFO] Sniff delimiter as ','\u001b[0m\n",
      "\u001b[34m[2020-08-10:21:03:40:INFO] Determined delimiter of CSV input is ','\u001b[0m\n",
      "\u001b[35m[2020-08-10:21:03:39:INFO] Model loaded successfully for worker : 40\u001b[0m\n",
      "\u001b[35m[2020-08-10:21:03:39:INFO] Sniff delimiter as ','\u001b[0m\n",
      "\u001b[35m[2020-08-10:21:03:39:INFO] Determined delimiter of CSV input is ','\u001b[0m\n",
      "\u001b[35m[2020-08-10:21:03:40:INFO] Sniff delimiter as ','\u001b[0m\n",
      "\u001b[35m[2020-08-10:21:03:40:INFO] Determined delimiter of CSV input is ','\u001b[0m\n",
      "\u001b[35m[2020-08-10:21:03:40:INFO] Sniff delimiter as ','\u001b[0m\n",
      "\u001b[35m[2020-08-10:21:03:40:INFO] Determined delimiter of CSV input is ','\u001b[0m\n",
      "\u001b[35m[2020-08-10:21:03:40:INFO] Sniff delimiter as ','\u001b[0m\n",
      "\u001b[35m[2020-08-10:21:03:40:INFO] Determined delimiter of CSV input is ','\u001b[0m\n",
      "\u001b[34m[2020-08-10:21:03:42:INFO] Sniff delimiter as ','\u001b[0m\n",
      "\u001b[34m[2020-08-10:21:03:42:INFO] Determined delimiter of CSV input is ','\u001b[0m\n",
      "\u001b[34m[2020-08-10:21:03:42:INFO] Sniff delimiter as ','\u001b[0m\n",
      "\u001b[34m[2020-08-10:21:03:42:INFO] Determined delimiter of CSV input is ','\u001b[0m\n",
      "\u001b[34m[2020-08-10:21:03:42:INFO] Sniff delimiter as ','\u001b[0m\n",
      "\u001b[34m[2020-08-10:21:03:42:INFO] Determined delimiter of CSV input is ','\u001b[0m\n",
      "\u001b[34m[2020-08-10:21:03:42:INFO] Sniff delimiter as ','\u001b[0m\n",
      "\u001b[34m[2020-08-10:21:03:42:INFO] Determined delimiter of CSV input is ','\u001b[0m\n",
      "\u001b[35m[2020-08-10:21:03:42:INFO] Sniff delimiter as ','\u001b[0m\n",
      "\u001b[35m[2020-08-10:21:03:42:INFO] Determined delimiter of CSV input is ','\u001b[0m\n",
      "\u001b[35m[2020-08-10:21:03:42:INFO] Sniff delimiter as ','\u001b[0m\n",
      "\u001b[35m[2020-08-10:21:03:42:INFO] Determined delimiter of CSV input is ','\u001b[0m\n",
      "\u001b[35m[2020-08-10:21:03:42:INFO] Sniff delimiter as ','\u001b[0m\n",
      "\u001b[35m[2020-08-10:21:03:42:INFO] Determined delimiter of CSV input is ','\u001b[0m\n",
      "\u001b[35m[2020-08-10:21:03:42:INFO] Sniff delimiter as ','\u001b[0m\n",
      "\u001b[35m[2020-08-10:21:03:42:INFO] Determined delimiter of CSV input is ','\u001b[0m\n",
      "\u001b[34m[2020-08-10:21:03:44:INFO] Sniff delimiter as ','\u001b[0m\n",
      "\u001b[34m[2020-08-10:21:03:44:INFO] Determined delimiter of CSV input is ','\u001b[0m\n",
      "\u001b[34m[2020-08-10:21:03:45:INFO] Sniff delimiter as ','\u001b[0m\n",
      "\u001b[34m[2020-08-10:21:03:45:INFO] Determined delimiter of CSV input is ','\u001b[0m\n",
      "\u001b[34m[2020-08-10:21:03:45:INFO] Sniff delimiter as ','\u001b[0m\n",
      "\u001b[34m[2020-08-10:21:03:45:INFO] Determined delimiter of CSV input is ','\u001b[0m\n",
      "\u001b[35m[2020-08-10:21:03:44:INFO] Sniff delimiter as ','\u001b[0m\n",
      "\u001b[35m[2020-08-10:21:03:44:INFO] Determined delimiter of CSV input is ','\u001b[0m\n",
      "\u001b[35m[2020-08-10:21:03:45:INFO] Sniff delimiter as ','\u001b[0m\n",
      "\u001b[35m[2020-08-10:21:03:45:INFO] Determined delimiter of CSV input is ','\u001b[0m\n",
      "\u001b[35m[2020-08-10:21:03:45:INFO] Sniff delimiter as ','\u001b[0m\n",
      "\u001b[35m[2020-08-10:21:03:45:INFO] Determined delimiter of CSV input is ','\u001b[0m\n",
      "\u001b[34m[2020-08-10:21:03:47:INFO] Sniff delimiter as ','\u001b[0m\n",
      "\u001b[34m[2020-08-10:21:03:47:INFO] Determined delimiter of CSV input is ','\u001b[0m\n",
      "\u001b[34m[2020-08-10:21:03:47:INFO] Sniff delimiter as ','\u001b[0m\n",
      "\u001b[34m[2020-08-10:21:03:47:INFO] Determined delimiter of CSV input is ','\u001b[0m\n",
      "\u001b[35m[2020-08-10:21:03:47:INFO] Sniff delimiter as ','\u001b[0m\n",
      "\u001b[35m[2020-08-10:21:03:47:INFO] Determined delimiter of CSV input is ','\u001b[0m\n",
      "\u001b[35m[2020-08-10:21:03:47:INFO] Sniff delimiter as ','\u001b[0m\n",
      "\u001b[35m[2020-08-10:21:03:47:INFO] Determined delimiter of CSV input is ','\u001b[0m\n",
      "\u001b[34m[2020-08-10:21:03:49:INFO] Sniff delimiter as ','\u001b[0m\n",
      "\u001b[34m[2020-08-10:21:03:49:INFO] Determined delimiter of CSV input is ','\u001b[0m\n",
      "\u001b[34m[2020-08-10:21:03:50:INFO] Sniff delimiter as ','\u001b[0m\n",
      "\u001b[34m[2020-08-10:21:03:50:INFO] Determined delimiter of CSV input is ','\u001b[0m\n",
      "\u001b[34m[2020-08-10:21:03:50:INFO] Sniff delimiter as ','\u001b[0m\n",
      "\u001b[34m[2020-08-10:21:03:50:INFO] Determined delimiter of CSV input is ','\u001b[0m\n",
      "\u001b[35m[2020-08-10:21:03:49:INFO] Sniff delimiter as ','\u001b[0m\n",
      "\u001b[35m[2020-08-10:21:03:49:INFO] Determined delimiter of CSV input is ','\u001b[0m\n",
      "\u001b[35m[2020-08-10:21:03:50:INFO] Sniff delimiter as ','\u001b[0m\n",
      "\u001b[35m[2020-08-10:21:03:50:INFO] Determined delimiter of CSV input is ','\u001b[0m\n",
      "\u001b[35m[2020-08-10:21:03:50:INFO] Sniff delimiter as ','\u001b[0m\n",
      "\u001b[35m[2020-08-10:21:03:50:INFO] Determined delimiter of CSV input is ','\u001b[0m\n",
      "\u001b[34m[2020-08-10:21:03:50:INFO] Sniff delimiter as ','\u001b[0m\n",
      "\u001b[34m[2020-08-10:21:03:50:INFO] Determined delimiter of CSV input is ','\u001b[0m\n",
      "\u001b[35m[2020-08-10:21:03:50:INFO] Sniff delimiter as ','\u001b[0m\n",
      "\u001b[35m[2020-08-10:21:03:50:INFO] Determined delimiter of CSV input is ','\u001b[0m\n",
      "\u001b[34m[2020-08-10:21:03:52:INFO] Sniff delimiter as ','\u001b[0m\n",
      "\u001b[34m[2020-08-10:21:03:52:INFO] Determined delimiter of CSV input is ','\u001b[0m\n",
      "\u001b[35m[2020-08-10:21:03:52:INFO] Sniff delimiter as ','\u001b[0m\n",
      "\u001b[35m[2020-08-10:21:03:52:INFO] Determined delimiter of CSV input is ','\u001b[0m\n",
      "\u001b[34m[2020-08-10:21:03:52:INFO] Sniff delimiter as ','\u001b[0m\n",
      "\u001b[34m[2020-08-10:21:03:52:INFO] Determined delimiter of CSV input is ','\u001b[0m\n",
      "\u001b[34m[2020-08-10:21:03:52:INFO] Sniff delimiter as ','\u001b[0m\n",
      "\u001b[35m[2020-08-10:21:03:52:INFO] Sniff delimiter as ','\u001b[0m\n",
      "\u001b[35m[2020-08-10:21:03:52:INFO] Determined delimiter of CSV input is ','\u001b[0m\n",
      "\u001b[35m[2020-08-10:21:03:52:INFO] Sniff delimiter as ','\u001b[0m\n",
      "\u001b[34m[2020-08-10:21:03:52:INFO] Determined delimiter of CSV input is ','\u001b[0m\n",
      "\u001b[34m[2020-08-10:21:03:52:INFO] Sniff delimiter as ','\u001b[0m\n",
      "\u001b[34m[2020-08-10:21:03:52:INFO] Determined delimiter of CSV input is ','\u001b[0m\n",
      "\u001b[35m[2020-08-10:21:03:52:INFO] Determined delimiter of CSV input is ','\u001b[0m\n",
      "\u001b[35m[2020-08-10:21:03:52:INFO] Sniff delimiter as ','\u001b[0m\n",
      "\u001b[35m[2020-08-10:21:03:52:INFO] Determined delimiter of CSV input is ','\u001b[0m\n",
      "\u001b[34m[2020-08-10:21:03:54:INFO] Sniff delimiter as ','\u001b[0m\n",
      "\u001b[34m[2020-08-10:21:03:54:INFO] Determined delimiter of CSV input is ','\u001b[0m\n",
      "\u001b[34m[2020-08-10:21:03:54:INFO] Sniff delimiter as ','\u001b[0m\n",
      "\u001b[35m[2020-08-10:21:03:54:INFO] Sniff delimiter as ','\u001b[0m\n",
      "\u001b[35m[2020-08-10:21:03:54:INFO] Determined delimiter of CSV input is ','\u001b[0m\n",
      "\u001b[35m[2020-08-10:21:03:54:INFO] Sniff delimiter as ','\u001b[0m\n",
      "\u001b[34m[2020-08-10:21:03:54:INFO] Determined delimiter of CSV input is ','\u001b[0m\n",
      "\u001b[34m[2020-08-10:21:03:55:INFO] Sniff delimiter as ','\u001b[0m\n",
      "\u001b[34m[2020-08-10:21:03:55:INFO] Determined delimiter of CSV input is ','\u001b[0m\n",
      "\u001b[34m[2020-08-10:21:03:55:INFO] Sniff delimiter as ','\u001b[0m\n",
      "\u001b[34m[2020-08-10:21:03:55:INFO] Determined delimiter of CSV input is ','\u001b[0m\n",
      "\u001b[35m[2020-08-10:21:03:54:INFO] Determined delimiter of CSV input is ','\u001b[0m\n",
      "\u001b[35m[2020-08-10:21:03:55:INFO] Sniff delimiter as ','\u001b[0m\n",
      "\u001b[35m[2020-08-10:21:03:55:INFO] Determined delimiter of CSV input is ','\u001b[0m\n",
      "\u001b[35m[2020-08-10:21:03:55:INFO] Sniff delimiter as ','\u001b[0m\n",
      "\u001b[35m[2020-08-10:21:03:55:INFO] Determined delimiter of CSV input is ','\u001b[0m\n"
     ]
    },
    {
     "name": "stdout",
     "output_type": "stream",
     "text": [
      "\n",
      "\u001b[34m[2020-08-10:21:03:57:INFO] Determined delimiter of CSV input is ','\u001b[0m\n",
      "\u001b[34m[2020-08-10:21:03:57:INFO] Sniff delimiter as ','\u001b[0m\n",
      "\u001b[34m[2020-08-10:21:03:57:INFO] Determined delimiter of CSV input is ','\u001b[0m\n",
      "\u001b[35m[2020-08-10:21:03:57:INFO] Determined delimiter of CSV input is ','\u001b[0m\n",
      "\u001b[35m[2020-08-10:21:03:57:INFO] Sniff delimiter as ','\u001b[0m\n",
      "\u001b[35m[2020-08-10:21:03:57:INFO] Determined delimiter of CSV input is ','\u001b[0m\n",
      "\u001b[34m[2020-08-10:21:03:59:INFO] Sniff delimiter as ','\u001b[0m\n",
      "\u001b[34m[2020-08-10:21:03:59:INFO] Determined delimiter of CSV input is ','\u001b[0m\n",
      "\u001b[34m[2020-08-10:21:03:59:INFO] Sniff delimiter as ','\u001b[0m\n",
      "\u001b[34m[2020-08-10:21:03:59:INFO] Determined delimiter of CSV input is ','\u001b[0m\n",
      "\u001b[34m[2020-08-10:21:03:59:INFO] Sniff delimiter as ','\u001b[0m\n",
      "\u001b[34m[2020-08-10:21:03:59:INFO] Determined delimiter of CSV input is ','\u001b[0m\n",
      "\u001b[34m[2020-08-10:21:04:00:INFO] Sniff delimiter as ','\u001b[0m\n",
      "\u001b[34m[2020-08-10:21:04:00:INFO] Determined delimiter of CSV input is ','\u001b[0m\n",
      "\u001b[35m[2020-08-10:21:03:59:INFO] Sniff delimiter as ','\u001b[0m\n",
      "\u001b[35m[2020-08-10:21:03:59:INFO] Determined delimiter of CSV input is ','\u001b[0m\n",
      "\u001b[35m[2020-08-10:21:03:59:INFO] Sniff delimiter as ','\u001b[0m\n",
      "\u001b[35m[2020-08-10:21:03:59:INFO] Determined delimiter of CSV input is ','\u001b[0m\n",
      "\u001b[35m[2020-08-10:21:03:59:INFO] Sniff delimiter as ','\u001b[0m\n",
      "\u001b[35m[2020-08-10:21:03:59:INFO] Determined delimiter of CSV input is ','\u001b[0m\n",
      "\u001b[35m[2020-08-10:21:04:00:INFO] Sniff delimiter as ','\u001b[0m\n",
      "\u001b[35m[2020-08-10:21:04:00:INFO] Determined delimiter of CSV input is ','\u001b[0m\n",
      "\u001b[34m[2020-08-10:21:04:01:INFO] Sniff delimiter as ','\u001b[0m\n",
      "\u001b[34m[2020-08-10:21:04:01:INFO] Determined delimiter of CSV input is ','\u001b[0m\n",
      "\u001b[34m[2020-08-10:21:04:02:INFO] Sniff delimiter as ','\u001b[0m\n",
      "\u001b[34m[2020-08-10:21:04:02:INFO] Determined delimiter of CSV input is ','\u001b[0m\n",
      "\u001b[35m[2020-08-10:21:04:01:INFO] Sniff delimiter as ','\u001b[0m\n",
      "\u001b[35m[2020-08-10:21:04:01:INFO] Determined delimiter of CSV input is ','\u001b[0m\n",
      "\u001b[35m[2020-08-10:21:04:02:INFO] Sniff delimiter as ','\u001b[0m\n",
      "\u001b[35m[2020-08-10:21:04:02:INFO] Determined delimiter of CSV input is ','\u001b[0m\n",
      "\u001b[34m[2020-08-10:21:04:02:INFO] Sniff delimiter as ','\u001b[0m\n",
      "\u001b[34m[2020-08-10:21:04:02:INFO] Determined delimiter of CSV input is ','\u001b[0m\n",
      "\u001b[34m[2020-08-10:21:04:02:INFO] Sniff delimiter as ','\u001b[0m\n",
      "\u001b[34m[2020-08-10:21:04:02:INFO] Determined delimiter of CSV input is ','\u001b[0m\n",
      "\u001b[35m[2020-08-10:21:04:02:INFO] Sniff delimiter as ','\u001b[0m\n",
      "\u001b[35m[2020-08-10:21:04:02:INFO] Determined delimiter of CSV input is ','\u001b[0m\n",
      "\u001b[35m[2020-08-10:21:04:02:INFO] Sniff delimiter as ','\u001b[0m\n",
      "\u001b[35m[2020-08-10:21:04:02:INFO] Determined delimiter of CSV input is ','\u001b[0m\n"
     ]
    }
   ],
   "source": [
    "xgb_transformer.wait()"
   ]
  },
  {
   "cell_type": "markdown",
   "metadata": {},
   "source": [
    "Now the transform job has executed and the result, the estimated sentiment of each review, has been saved on S3. Since we would rather work on this file locally we can perform a bit of notebook magic to copy the file to the `data_dir`."
   ]
  },
  {
   "cell_type": "code",
   "execution_count": 67,
   "metadata": {},
   "outputs": [
    {
     "name": "stdout",
     "output_type": "stream",
     "text": [
      "Completed 256.0 KiB/373.5 KiB (3.5 MiB/s) with 1 file(s) remaining\r",
      "Completed 373.5 KiB/373.5 KiB (5.0 MiB/s) with 1 file(s) remaining\r",
      "download: s3://sagemaker-us-east-2-984881703516/xgboost-200810-2049-001-313b3ded-2020-08-10-20-59-36-704/test.csv.out to ../data/xgboost/test.csv.out\r\n"
     ]
    }
   ],
   "source": [
    "!aws s3 cp --recursive $xgb_transformer.output_path $data_dir"
   ]
  },
  {
   "cell_type": "markdown",
   "metadata": {},
   "source": [
    "The last step is now to read in the output from our model, convert the output to something a little more usable, in this case we want the sentiment to be either `1` (positive) or `0` (negative), and then compare to the ground truth labels."
   ]
  },
  {
   "cell_type": "code",
   "execution_count": 68,
   "metadata": {},
   "outputs": [],
   "source": [
    "predictions = pd.read_csv(os.path.join(data_dir, 'test.csv.out'), header=None)\n",
    "predictions = [round(num) for num in predictions.squeeze().values]"
   ]
  },
  {
   "cell_type": "code",
   "execution_count": 69,
   "metadata": {},
   "outputs": [
    {
     "data": {
      "text/plain": [
       "0.86576"
      ]
     },
     "execution_count": 69,
     "metadata": {},
     "output_type": "execute_result"
    }
   ],
   "source": [
    "from sklearn.metrics import accuracy_score\n",
    "accuracy_score(test_y, predictions)"
   ]
  },
  {
   "cell_type": "markdown",
   "metadata": {},
   "source": [
    "## Optional: Clean up\n",
    "\n",
    "The default notebook instance on SageMaker doesn't have a lot of excess disk space available. As you continue to complete and execute notebooks you will eventually fill up this disk space, leading to errors which can be difficult to diagnose. Once you are completely finished using a notebook it is a good idea to remove the files that you created along the way. Of course, you can do this from the terminal or from the notebook hub if you would like. The cell below contains some commands to clean up the created files from within the notebook."
   ]
  },
  {
   "cell_type": "code",
   "execution_count": 70,
   "metadata": {},
   "outputs": [],
   "source": [
    "# First we will remove all of the files contained in the data_dir directory\n",
    "!rm $data_dir/*\n",
    "\n",
    "# And then we delete the directory itself\n",
    "!rmdir $data_dir\n",
    "\n",
    "# Similarly we will remove the files in the cache_dir directory and the directory itself\n",
    "!rm $cache_dir/*\n",
    "!rmdir $cache_dir"
   ]
  },
  {
   "cell_type": "code",
   "execution_count": null,
   "metadata": {},
   "outputs": [],
   "source": []
  }
 ],
 "metadata": {
  "kernelspec": {
   "display_name": "conda_python3",
   "language": "python",
   "name": "conda_python3"
  },
  "language_info": {
   "codemirror_mode": {
    "name": "ipython",
    "version": 3
   },
   "file_extension": ".py",
   "mimetype": "text/x-python",
   "name": "python",
   "nbconvert_exporter": "python",
   "pygments_lexer": "ipython3",
   "version": "3.6.10"
  }
 },
 "nbformat": 4,
 "nbformat_minor": 2
}

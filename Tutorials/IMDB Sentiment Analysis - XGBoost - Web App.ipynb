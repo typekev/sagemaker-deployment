{
 "cells": [
  {
   "cell_type": "markdown",
   "metadata": {},
   "source": [
    "# Sentiment Analysis Web App\n",
    "\n",
    "_Deep Learning Nanodegree Program | Deployment_\n",
    "\n",
    "---\n",
    "\n",
    "In this notebook we will use Amazon's SageMaker service to construct a random tree model to predict the sentiment of a movie review. In addition, we will deploy this model to an endpoint and construct a very simple web app which will interact with our model's deployed endpoint.\n",
    "\n",
    "## General Outline\n",
    "\n",
    "Typically, when using a notebook instance with SageMaker, you will proceed through the following steps. Of course, not every step will need to be done with each project. Also, there is quite a lot of room for variation in many of the steps, as you will see throughout these lessons.\n",
    "\n",
    "1. Download or otherwise retrieve the data.\n",
    "2. Process / Prepare the data.\n",
    "3. Upload the processed data to S3.\n",
    "4. Train a chosen model.\n",
    "5. Test the trained model (typically using a batch transform job).\n",
    "6. Deploy the trained model.\n",
    "7. Use the deployed model.\n",
    "\n",
    "In this notebook we will progress through each of the steps above. We will also see that the final step, using the deployed model, can be quite challenging."
   ]
  },
  {
   "cell_type": "markdown",
   "metadata": {},
   "source": [
    "## Step 1: Downloading the data\n",
    "\n",
    "The dataset we are going to use is very popular among researchers in Natural Language Processing, usually referred to as the [IMDb dataset](http://ai.stanford.edu/~amaas/data/sentiment/). It consists of movie reviews from the website [imdb.com](http://www.imdb.com/), each labeled as either '**pos**itive', if the reviewer enjoyed the film, or '**neg**ative' otherwise.\n",
    "\n",
    "> Maas, Andrew L., et al. [Learning Word Vectors for Sentiment Analysis](http://ai.stanford.edu/~amaas/data/sentiment/). In _Proceedings of the 49th Annual Meeting of the Association for Computational Linguistics: Human Language Technologies_. Association for Computational Linguistics, 2011.\n",
    "\n",
    "We begin by using some Jupyter Notebook magic to download and extract the dataset."
   ]
  },
  {
   "cell_type": "code",
   "execution_count": 1,
   "metadata": {},
   "outputs": [
    {
     "name": "stdout",
     "output_type": "stream",
     "text": [
      "--2020-07-23 20:59:08--  http://ai.stanford.edu/~amaas/data/sentiment/aclImdb_v1.tar.gz\n",
      "Resolving ai.stanford.edu (ai.stanford.edu)... 171.64.68.10\n",
      "Connecting to ai.stanford.edu (ai.stanford.edu)|171.64.68.10|:80... connected.\n",
      "HTTP request sent, awaiting response... 200 OK\n",
      "Length: 84125825 (80M) [application/x-gzip]\n",
      "Saving to: ‘../data/aclImdb_v1.tar.gz’\n",
      "\n",
      "../data/aclImdb_v1. 100%[===================>]  80.23M  24.1MB/s    in 4.1s    \n",
      "\n",
      "2020-07-23 20:59:12 (19.6 MB/s) - ‘../data/aclImdb_v1.tar.gz’ saved [84125825/84125825]\n",
      "\n"
     ]
    }
   ],
   "source": [
    "%mkdir ../data\n",
    "!wget -O ../data/aclImdb_v1.tar.gz http://ai.stanford.edu/~amaas/data/sentiment/aclImdb_v1.tar.gz\n",
    "!tar -zxf ../data/aclImdb_v1.tar.gz -C ../data"
   ]
  },
  {
   "cell_type": "markdown",
   "metadata": {},
   "source": [
    "## Step 2: Preparing and Processing the data\n",
    "\n",
    "The data we have downloaded is split into various files, each of which contains a single review. It will be much easier going forward if we combine these individual files into two large files, one for training and one for testing."
   ]
  },
  {
   "cell_type": "code",
   "execution_count": 2,
   "metadata": {},
   "outputs": [],
   "source": [
    "import os\n",
    "import glob\n",
    "\n",
    "def read_imdb_data(data_dir='../data/aclImdb'):\n",
    "    data = {}\n",
    "    labels = {}\n",
    "    \n",
    "    for data_type in ['train', 'test']:\n",
    "        data[data_type] = {}\n",
    "        labels[data_type] = {}\n",
    "        \n",
    "        for sentiment in ['pos', 'neg']:\n",
    "            data[data_type][sentiment] = []\n",
    "            labels[data_type][sentiment] = []\n",
    "            \n",
    "            path = os.path.join(data_dir, data_type, sentiment, '*.txt')\n",
    "            files = glob.glob(path)\n",
    "            \n",
    "            for f in files:\n",
    "                with open(f) as review:\n",
    "                    data[data_type][sentiment].append(review.read())\n",
    "                    # Here we represent a positive review by '1' and a negative review by '0'\n",
    "                    labels[data_type][sentiment].append(1 if sentiment == 'pos' else 0)\n",
    "                    \n",
    "            assert len(data[data_type][sentiment]) == len(labels[data_type][sentiment]), \\\n",
    "                    \"{}/{} data size does not match labels size\".format(data_type, sentiment)\n",
    "                \n",
    "    return data, labels"
   ]
  },
  {
   "cell_type": "code",
   "execution_count": 3,
   "metadata": {},
   "outputs": [
    {
     "name": "stdout",
     "output_type": "stream",
     "text": [
      "IMDB reviews: train = 12500 pos / 12500 neg, test = 12500 pos / 12500 neg\n"
     ]
    }
   ],
   "source": [
    "data, labels = read_imdb_data()\n",
    "print(\"IMDB reviews: train = {} pos / {} neg, test = {} pos / {} neg\".format(\n",
    "            len(data['train']['pos']), len(data['train']['neg']),\n",
    "            len(data['test']['pos']), len(data['test']['neg'])))"
   ]
  },
  {
   "cell_type": "code",
   "execution_count": 4,
   "metadata": {},
   "outputs": [],
   "source": [
    "from sklearn.utils import shuffle\n",
    "\n",
    "def prepare_imdb_data(data, labels):\n",
    "    \"\"\"Prepare training and test sets from IMDb movie reviews.\"\"\"\n",
    "    \n",
    "    #Combine positive and negative reviews and labels\n",
    "    data_train = data['train']['pos'] + data['train']['neg']\n",
    "    data_test = data['test']['pos'] + data['test']['neg']\n",
    "    labels_train = labels['train']['pos'] + labels['train']['neg']\n",
    "    labels_test = labels['test']['pos'] + labels['test']['neg']\n",
    "    \n",
    "    #Shuffle reviews and corresponding labels within training and test sets\n",
    "    data_train, labels_train = shuffle(data_train, labels_train)\n",
    "    data_test, labels_test = shuffle(data_test, labels_test)\n",
    "    \n",
    "    # Return a unified training data, test data, training labels, test labets\n",
    "    return data_train, data_test, labels_train, labels_test"
   ]
  },
  {
   "cell_type": "code",
   "execution_count": 5,
   "metadata": {},
   "outputs": [
    {
     "name": "stdout",
     "output_type": "stream",
     "text": [
      "IMDb reviews (combined): train = 25000, test = 25000\n"
     ]
    }
   ],
   "source": [
    "train_X, test_X, train_y, test_y = prepare_imdb_data(data, labels)\n",
    "print(\"IMDb reviews (combined): train = {}, test = {}\".format(len(train_X), len(test_X)))"
   ]
  },
  {
   "cell_type": "code",
   "execution_count": 6,
   "metadata": {},
   "outputs": [
    {
     "data": {
      "text/plain": [
       "\"Maybe I loved this movie so much in part because I've been feeling down in the dumps and it's such a lovely little fairytale. Whatever the reason, I thought it was pitch perfect. Great, intelligent story, beautiful effects, excellent acting (especially De Niro, who is awesome). This movie made me happier than I've been for a while.<br /><br />It is a very funny and clever movie. The running joke of the kingdom's history of prince savagery and the aftermath, the way indulging in magic effects the witch and dozens of smart little touches all kept me enthralled. That's much of what makes it so good; it's an elaborate, special-effects-laden movie with more story than most fairytale movies, yet there is an incredible attention to small things.<br /><br />I feel like just going ahead and watching it all over again.\""
      ]
     },
     "execution_count": 6,
     "metadata": {},
     "output_type": "execute_result"
    }
   ],
   "source": [
    "train_X[100]"
   ]
  },
  {
   "cell_type": "markdown",
   "metadata": {},
   "source": [
    "## Processing the data\n",
    "\n",
    "Now that we have our training and testing datasets merged and ready to use, we need to start processing the raw data into something that will be useable by our machine learning algorithm. To begin with, we remove any html formatting and any non-alpha numeric characters that may appear in the reviews. We will do this in a very simplistic way using Python's regular expression module. We will discuss the reason for this rather simplistic pre-processing later on."
   ]
  },
  {
   "cell_type": "code",
   "execution_count": 7,
   "metadata": {},
   "outputs": [],
   "source": [
    "import re\n",
    "\n",
    "REPLACE_NO_SPACE = re.compile(\"(\\.)|(\\;)|(\\:)|(\\!)|(\\')|(\\?)|(\\,)|(\\\")|(\\()|(\\))|(\\[)|(\\])\")\n",
    "REPLACE_WITH_SPACE = re.compile(\"(<br\\s*/><br\\s*/>)|(\\-)|(\\/)\")\n",
    "\n",
    "def review_to_words(review):\n",
    "    words = REPLACE_NO_SPACE.sub(\"\", review.lower())\n",
    "    words = REPLACE_WITH_SPACE.sub(\" \", words)\n",
    "    return words"
   ]
  },
  {
   "cell_type": "code",
   "execution_count": 8,
   "metadata": {},
   "outputs": [
    {
     "data": {
      "text/plain": [
       "'maybe i loved this movie so much in part because ive been feeling down in the dumps and its such a lovely little fairytale whatever the reason i thought it was pitch perfect great intelligent story beautiful effects excellent acting especially de niro who is awesome this movie made me happier than ive been for a while it is a very funny and clever movie the running joke of the kingdoms history of prince savagery and the aftermath the way indulging in magic effects the witch and dozens of smart little touches all kept me enthralled thats much of what makes it so good its an elaborate special effects laden movie with more story than most fairytale movies yet there is an incredible attention to small things i feel like just going ahead and watching it all over again'"
      ]
     },
     "execution_count": 8,
     "metadata": {},
     "output_type": "execute_result"
    }
   ],
   "source": [
    "review_to_words(train_X[100])"
   ]
  },
  {
   "cell_type": "code",
   "execution_count": 9,
   "metadata": {},
   "outputs": [],
   "source": [
    "import pickle\n",
    "\n",
    "cache_dir = os.path.join(\"../cache\", \"sentiment_web_app\")  # where to store cache files\n",
    "os.makedirs(cache_dir, exist_ok=True)  # ensure cache directory exists\n",
    "\n",
    "def preprocess_data(data_train, data_test, labels_train, labels_test,\n",
    "                    cache_dir=cache_dir, cache_file=\"preprocessed_data.pkl\"):\n",
    "    \"\"\"Convert each review to words; read from cache if available.\"\"\"\n",
    "\n",
    "    # If cache_file is not None, try to read from it first\n",
    "    cache_data = None\n",
    "    if cache_file is not None:\n",
    "        try:\n",
    "            with open(os.path.join(cache_dir, cache_file), \"rb\") as f:\n",
    "                cache_data = pickle.load(f)\n",
    "            print(\"Read preprocessed data from cache file:\", cache_file)\n",
    "        except:\n",
    "            pass  # unable to read from cache, but that's okay\n",
    "    \n",
    "    # If cache is missing, then do the heavy lifting\n",
    "    if cache_data is None:\n",
    "        # Preprocess training and test data to obtain words for each review\n",
    "        #words_train = list(map(review_to_words, data_train))\n",
    "        #words_test = list(map(review_to_words, data_test))\n",
    "        words_train = [review_to_words(review) for review in data_train]\n",
    "        words_test = [review_to_words(review) for review in data_test]\n",
    "        \n",
    "        # Write to cache file for future runs\n",
    "        if cache_file is not None:\n",
    "            cache_data = dict(words_train=words_train, words_test=words_test,\n",
    "                              labels_train=labels_train, labels_test=labels_test)\n",
    "            with open(os.path.join(cache_dir, cache_file), \"wb\") as f:\n",
    "                pickle.dump(cache_data, f)\n",
    "            print(\"Wrote preprocessed data to cache file:\", cache_file)\n",
    "    else:\n",
    "        # Unpack data loaded from cache file\n",
    "        words_train, words_test, labels_train, labels_test = (cache_data['words_train'],\n",
    "                cache_data['words_test'], cache_data['labels_train'], cache_data['labels_test'])\n",
    "    \n",
    "    return words_train, words_test, labels_train, labels_test"
   ]
  },
  {
   "cell_type": "code",
   "execution_count": 10,
   "metadata": {},
   "outputs": [
    {
     "name": "stdout",
     "output_type": "stream",
     "text": [
      "Wrote preprocessed data to cache file: preprocessed_data.pkl\n"
     ]
    }
   ],
   "source": [
    "# Preprocess data\n",
    "train_X, test_X, train_y, test_y = preprocess_data(train_X, test_X, train_y, test_y)"
   ]
  },
  {
   "cell_type": "markdown",
   "metadata": {},
   "source": [
    "### Extract Bag-of-Words features\n",
    "\n",
    "For the model we will be implementing, rather than using the reviews directly, we are going to transform each review into a Bag-of-Words feature representation. Keep in mind that 'in the wild' we will only have access to the training set so our transformer can only use the training set to construct a representation."
   ]
  },
  {
   "cell_type": "code",
   "execution_count": 11,
   "metadata": {},
   "outputs": [
    {
     "name": "stderr",
     "output_type": "stream",
     "text": [
      "/home/ec2-user/anaconda3/envs/python3/lib/python3.6/site-packages/sklearn/externals/joblib/__init__.py:15: FutureWarning: sklearn.externals.joblib is deprecated in 0.21 and will be removed in 0.23. Please import this functionality directly from joblib, which can be installed with: pip install joblib. If this warning is raised when loading pickled models, you may need to re-serialize those models with scikit-learn 0.21+.\n",
      "  warnings.warn(msg, category=FutureWarning)\n"
     ]
    }
   ],
   "source": [
    "import numpy as np\n",
    "from sklearn.feature_extraction.text import CountVectorizer\n",
    "from sklearn.externals import joblib\n",
    "# joblib is an enhanced version of pickle that is more efficient for storing NumPy arrays\n",
    "\n",
    "def extract_BoW_features(words_train, words_test, vocabulary_size=5000,\n",
    "                         cache_dir=cache_dir, cache_file=\"bow_features.pkl\"):\n",
    "    \"\"\"Extract Bag-of-Words for a given set of documents, already preprocessed into words.\"\"\"\n",
    "    \n",
    "    # If cache_file is not None, try to read from it first\n",
    "    cache_data = None\n",
    "    if cache_file is not None:\n",
    "        try:\n",
    "            with open(os.path.join(cache_dir, cache_file), \"rb\") as f:\n",
    "                cache_data = joblib.load(f)\n",
    "            print(\"Read features from cache file:\", cache_file)\n",
    "        except:\n",
    "            pass  # unable to read from cache, but that's okay\n",
    "    \n",
    "    # If cache is missing, then do the heavy lifting\n",
    "    if cache_data is None:\n",
    "        # Fit a vectorizer to training documents and use it to transform them\n",
    "        # NOTE: Training documents have already been preprocessed and tokenized into words;\n",
    "        #       pass in dummy functions to skip those steps, e.g. preprocessor=lambda x: x\n",
    "        vectorizer = CountVectorizer(max_features=vocabulary_size)\n",
    "        features_train = vectorizer.fit_transform(words_train).toarray()\n",
    "\n",
    "        # Apply the same vectorizer to transform the test documents (ignore unknown words)\n",
    "        features_test = vectorizer.transform(words_test).toarray()\n",
    "        \n",
    "        # NOTE: Remember to convert the features using .toarray() for a compact representation\n",
    "        \n",
    "        # Write to cache file for future runs (store vocabulary as well)\n",
    "        if cache_file is not None:\n",
    "            vocabulary = vectorizer.vocabulary_\n",
    "            cache_data = dict(features_train=features_train, features_test=features_test,\n",
    "                             vocabulary=vocabulary)\n",
    "            with open(os.path.join(cache_dir, cache_file), \"wb\") as f:\n",
    "                joblib.dump(cache_data, f)\n",
    "            print(\"Wrote features to cache file:\", cache_file)\n",
    "    else:\n",
    "        # Unpack data loaded from cache file\n",
    "        features_train, features_test, vocabulary = (cache_data['features_train'],\n",
    "                cache_data['features_test'], cache_data['vocabulary'])\n",
    "    \n",
    "    # Return both the extracted features as well as the vocabulary\n",
    "    return features_train, features_test, vocabulary"
   ]
  },
  {
   "cell_type": "code",
   "execution_count": 12,
   "metadata": {},
   "outputs": [
    {
     "name": "stdout",
     "output_type": "stream",
     "text": [
      "Wrote features to cache file: bow_features.pkl\n"
     ]
    }
   ],
   "source": [
    "# Extract Bag of Words features for both training and test datasets\n",
    "train_X, test_X, vocabulary = extract_BoW_features(train_X, test_X)"
   ]
  },
  {
   "cell_type": "code",
   "execution_count": 13,
   "metadata": {},
   "outputs": [
    {
     "data": {
      "text/plain": [
       "5000"
      ]
     },
     "execution_count": 13,
     "metadata": {},
     "output_type": "execute_result"
    }
   ],
   "source": [
    "len(train_X[100])"
   ]
  },
  {
   "cell_type": "markdown",
   "metadata": {},
   "source": [
    "## Step 3: Upload data to S3\n",
    "\n",
    "Now that we have created the feature representation of our training (and testing) data, it is time to start setting up and using the XGBoost classifier provided by SageMaker.\n",
    "\n",
    "### Writing the datasets\n",
    "\n",
    "The XGBoost classifier that we will be using requires the dataset to be written to a file and stored using Amazon S3. To do this, we will start by splitting the training dataset into two parts, the data we will train the model with and a validation set. Then, we will write those datasets to a file locally and then upload the files to S3. In addition, we will write the test set to a file and upload that file to S3. This is so that we can use SageMakers Batch Transform functionality to test our model once we've fit it."
   ]
  },
  {
   "cell_type": "code",
   "execution_count": 14,
   "metadata": {},
   "outputs": [],
   "source": [
    "import pandas as pd\n",
    "\n",
    "# Earlier we shuffled the training dataset so to make things simple we can just assign\n",
    "# the first 10 000 reviews to the validation set and use the remaining reviews for training.\n",
    "val_X = pd.DataFrame(train_X[:10000])\n",
    "train_X = pd.DataFrame(train_X[10000:])\n",
    "\n",
    "val_y = pd.DataFrame(train_y[:10000])\n",
    "train_y = pd.DataFrame(train_y[10000:])"
   ]
  },
  {
   "cell_type": "markdown",
   "metadata": {},
   "source": [
    "The documentation for the XGBoost algorithm in SageMaker requires that the training and validation datasets should contain no headers or index and that the label should occur first for each sample.\n",
    "\n",
    "For more information about this and other algorithms, the SageMaker developer documentation can be found on __[Amazon's website.](https://docs.aws.amazon.com/sagemaker/latest/dg/)__"
   ]
  },
  {
   "cell_type": "code",
   "execution_count": 15,
   "metadata": {},
   "outputs": [],
   "source": [
    "# First we make sure that the local directory in which we'd like to store the training and validation csv files exists.\n",
    "data_dir = '../data/sentiment_web_app'\n",
    "if not os.path.exists(data_dir):\n",
    "    os.makedirs(data_dir)"
   ]
  },
  {
   "cell_type": "code",
   "execution_count": 16,
   "metadata": {},
   "outputs": [],
   "source": [
    "pd.DataFrame(test_X).to_csv(os.path.join(data_dir, 'test.csv'), header=False, index=False)\n",
    "\n",
    "pd.concat([val_y, val_X], axis=1).to_csv(os.path.join(data_dir, 'validation.csv'), header=False, index=False)\n",
    "pd.concat([train_y, train_X], axis=1).to_csv(os.path.join(data_dir, 'train.csv'), header=False, index=False)"
   ]
  },
  {
   "cell_type": "code",
   "execution_count": 17,
   "metadata": {},
   "outputs": [],
   "source": [
    "# To save a bit of memory we can set text_X, train_X, val_X, train_y and val_y to None.\n",
    "\n",
    "test_X = train_X = val_X = train_y = val_y = None"
   ]
  },
  {
   "cell_type": "markdown",
   "metadata": {},
   "source": [
    "### Uploading Training / Validation files to S3\n",
    "\n",
    "Amazon's S3 service allows us to store files that can be accessed by both the built-in training models such as the XGBoost model we will be using as well as custom models such as the one we will see a little later.\n",
    "\n",
    "For this and most other tasks we will be doing using SageMaker, there are two methods we could use. The first is to use the low level functionality of SageMaker which requires knowing each of the objects involved in the SageMaker environment. The second is to use the high level functionality in which certain choices have been made on the user's behalf. The low level approach benefits from allowing the user a great deal of flexibility while the high level approach makes development much quicker. For our purposes we will opt to use the high level approach although using the low-level approach is certainly an option.\n",
    "\n",
    "Recall the method `upload_data()` which is a member of the object representing our current SageMaker session. What this method does is upload the data to the default bucket (which is created if it does not exist) into the path described by the key_prefix variable. To see this for yourself, once you have uploaded the data files, go to the S3 console and look to see where the files have been uploaded.\n",
    "\n",
    "For additional resources, see the __[SageMaker API documentation](http://sagemaker.readthedocs.io/en/latest/)__ and in addition the __[SageMaker Developer Guide.](https://docs.aws.amazon.com/sagemaker/latest/dg/)__"
   ]
  },
  {
   "cell_type": "code",
   "execution_count": 18,
   "metadata": {},
   "outputs": [],
   "source": [
    "import sagemaker\n",
    "\n",
    "session = sagemaker.Session() # Store the current SageMaker session\n",
    "\n",
    "# S3 prefix (which folder will we use)\n",
    "prefix = 'sentiment-web-app'\n",
    "\n",
    "test_location = session.upload_data(os.path.join(data_dir, 'test.csv'), key_prefix=prefix)\n",
    "val_location = session.upload_data(os.path.join(data_dir, 'validation.csv'), key_prefix=prefix)\n",
    "train_location = session.upload_data(os.path.join(data_dir, 'train.csv'), key_prefix=prefix)"
   ]
  },
  {
   "cell_type": "markdown",
   "metadata": {},
   "source": [
    "## Step 4: Creating the XGBoost model\n",
    "\n",
    "Now that the data has been uploaded it is time to create the XGBoost model. To begin with, we need to do some setup. At this point it is worth discussing what a model is in SageMaker. It is easiest to think of a model of comprising three different objects in the SageMaker ecosystem, which interact with one another.\n",
    "\n",
    "- Model Artifacts\n",
    "- Training Code (Container)\n",
    "- Inference Code (Container)\n",
    "\n",
    "The Model Artifacts are what you might think of as the actual model itself. For example, if you were building a neural network, the model artifacts would be the weights of the various layers. In our case, for an XGBoost model, the artifacts are the actual trees that are created during training.\n",
    "\n",
    "The other two objects, the training code and the inference code are then used to manipulate the training artifacts. More precisely, the training code uses the training data that is provided and creates the model artifacts, while the inference code uses the model artifacts to make predictions on new data.\n",
    "\n",
    "The way that SageMaker runs the training and inference code is by making use of Docker containers. For now, think of a container as being a way of packaging code up so that dependencies aren't an issue."
   ]
  },
  {
   "cell_type": "code",
   "execution_count": 19,
   "metadata": {},
   "outputs": [],
   "source": [
    "from sagemaker import get_execution_role\n",
    "\n",
    "# Our current execution role is required when creating the model as the training\n",
    "# and inference code will need to access the model artifacts.\n",
    "role = get_execution_role()"
   ]
  },
  {
   "cell_type": "code",
   "execution_count": 20,
   "metadata": {},
   "outputs": [
    {
     "name": "stderr",
     "output_type": "stream",
     "text": [
      "'get_image_uri' method will be deprecated in favor of 'ImageURIProvider' class in SageMaker Python SDK v2.\n",
      "WARNING:root:There is a more up to date SageMaker XGBoost image. To use the newer image, please set 'repo_version'='1.0-1'. For example:\n",
      "\tget_image_uri(region, 'xgboost', '1.0-1').\n"
     ]
    }
   ],
   "source": [
    "# We need to retrieve the location of the container which is provided by Amazon for using XGBoost.\n",
    "# As a matter of convenience, the training and inference code both use the same container.\n",
    "from sagemaker.amazon.amazon_estimator import get_image_uri\n",
    "\n",
    "container = get_image_uri(session.boto_region_name, 'xgboost')"
   ]
  },
  {
   "cell_type": "code",
   "execution_count": 21,
   "metadata": {},
   "outputs": [
    {
     "name": "stderr",
     "output_type": "stream",
     "text": [
      "WARNING:root:Parameter image_name will be renamed to image_uri in SageMaker Python SDK v2.\n"
     ]
    }
   ],
   "source": [
    "# First we create a SageMaker estimator object for our model.\n",
    "xgb = sagemaker.estimator.Estimator(container, # The location of the container we wish to use\n",
    "                                    role,                                    # What is our current IAM Role\n",
    "                                    train_instance_count=1,                  # How many compute instances\n",
    "                                    train_instance_type='ml.m4.xlarge',      # What kind of compute instances\n",
    "                                    output_path='s3://{}/{}/output'.format(session.default_bucket(), prefix),\n",
    "                                    sagemaker_session=session)\n",
    "\n",
    "# And then set the algorithm specific parameters.\n",
    "xgb.set_hyperparameters(max_depth=5,\n",
    "                        eta=0.2,\n",
    "                        gamma=4,\n",
    "                        min_child_weight=6,\n",
    "                        subsample=0.8,\n",
    "                        silent=0,\n",
    "                        objective='binary:logistic',\n",
    "                        early_stopping_rounds=10,\n",
    "                        num_round=500)"
   ]
  },
  {
   "cell_type": "markdown",
   "metadata": {},
   "source": [
    "### Fit the XGBoost model\n",
    "\n",
    "Now that our model has been set up we simply need to attach the training and validation datasets and then ask SageMaker to set up the computation."
   ]
  },
  {
   "cell_type": "code",
   "execution_count": 22,
   "metadata": {},
   "outputs": [
    {
     "name": "stderr",
     "output_type": "stream",
     "text": [
      "WARNING:sagemaker:'s3_input' class will be renamed to 'TrainingInput' in SageMaker Python SDK v2.\n",
      "WARNING:sagemaker:'s3_input' class will be renamed to 'TrainingInput' in SageMaker Python SDK v2.\n"
     ]
    }
   ],
   "source": [
    "s3_input_train = sagemaker.s3_input(s3_data=train_location, content_type='csv')\n",
    "s3_input_validation = sagemaker.s3_input(s3_data=val_location, content_type='csv')"
   ]
  },
  {
   "cell_type": "code",
   "execution_count": 23,
   "metadata": {},
   "outputs": [
    {
     "name": "stdout",
     "output_type": "stream",
     "text": [
      "2020-07-23 21:04:08 Starting - Starting the training job...\n",
      "2020-07-23 21:04:09 Starting - Launching requested ML instances......\n",
      "2020-07-23 21:05:15 Starting - Preparing the instances for training......\n",
      "2020-07-23 21:06:17 Downloading - Downloading input data...\n",
      "2020-07-23 21:06:51 Training - Downloading the training image.\u001b[34mArguments: train\u001b[0m\n",
      "\u001b[34m[2020-07-23:21:07:10:INFO] Running standalone xgboost training.\u001b[0m\n",
      "\u001b[34m[2020-07-23:21:07:10:INFO] File size need to be processed in the node: 238.5mb. Available memory size in the node: 8494.39mb\u001b[0m\n",
      "\u001b[34m[2020-07-23:21:07:10:INFO] Determined delimiter of CSV input is ','\u001b[0m\n",
      "\u001b[34m[21:07:10] S3DistributionType set as FullyReplicated\u001b[0m\n",
      "\u001b[34m[21:07:12] 15000x5000 matrix with 75000000 entries loaded from /opt/ml/input/data/train?format=csv&label_column=0&delimiter=,\u001b[0m\n",
      "\u001b[34m[2020-07-23:21:07:12:INFO] Determined delimiter of CSV input is ','\u001b[0m\n",
      "\u001b[34m[21:07:12] S3DistributionType set as FullyReplicated\u001b[0m\n",
      "\u001b[34m[21:07:13] 10000x5000 matrix with 50000000 entries loaded from /opt/ml/input/data/validation?format=csv&label_column=0&delimiter=,\u001b[0m\n",
      "\u001b[34m[21:07:17] src/tree/updater_prune.cc:74: tree pruning end, 1 roots, 36 extra nodes, 6 pruned nodes, max_depth=5\u001b[0m\n",
      "\u001b[34m[0]#011train-error:0.304867#011validation-error:0.31\u001b[0m\n",
      "\u001b[34mMultiple eval metrics have been passed: 'validation-error' will be used for early stopping.\n",
      "\u001b[0m\n",
      "\u001b[34mWill train until validation-error hasn't improved in 10 rounds.\u001b[0m\n",
      "\u001b[34m[21:07:18] src/tree/updater_prune.cc:74: tree pruning end, 1 roots, 38 extra nodes, 12 pruned nodes, max_depth=5\u001b[0m\n",
      "\u001b[34m[1]#011train-error:0.3026#011validation-error:0.308\u001b[0m\n",
      "\u001b[34m[21:07:19] src/tree/updater_prune.cc:74: tree pruning end, 1 roots, 46 extra nodes, 2 pruned nodes, max_depth=5\u001b[0m\n",
      "\u001b[34m[2]#011train-error:0.281667#011validation-error:0.2874\u001b[0m\n",
      "\u001b[34m[21:07:21] src/tree/updater_prune.cc:74: tree pruning end, 1 roots, 32 extra nodes, 2 pruned nodes, max_depth=5\u001b[0m\n",
      "\u001b[34m[3]#011train-error:0.2656#011validation-error:0.276\u001b[0m\n",
      "\n",
      "2020-07-23 21:07:09 Training - Training image download completed. Training in progress.\u001b[34m[21:07:22] src/tree/updater_prune.cc:74: tree pruning end, 1 roots, 40 extra nodes, 16 pruned nodes, max_depth=5\u001b[0m\n",
      "\u001b[34m[4]#011train-error:0.261533#011validation-error:0.2742\u001b[0m\n",
      "\u001b[34m[21:07:24] src/tree/updater_prune.cc:74: tree pruning end, 1 roots, 24 extra nodes, 8 pruned nodes, max_depth=5\u001b[0m\n",
      "\u001b[34m[5]#011train-error:0.2576#011validation-error:0.2701\u001b[0m\n",
      "\u001b[34m[21:07:25] src/tree/updater_prune.cc:74: tree pruning end, 1 roots, 30 extra nodes, 4 pruned nodes, max_depth=5\u001b[0m\n",
      "\u001b[34m[6]#011train-error:0.251667#011validation-error:0.2653\u001b[0m\n",
      "\u001b[34m[21:07:26] src/tree/updater_prune.cc:74: tree pruning end, 1 roots, 46 extra nodes, 2 pruned nodes, max_depth=5\u001b[0m\n",
      "\u001b[34m[7]#011train-error:0.246267#011validation-error:0.26\u001b[0m\n",
      "\u001b[34m[21:07:27] src/tree/updater_prune.cc:74: tree pruning end, 1 roots, 48 extra nodes, 2 pruned nodes, max_depth=5\u001b[0m\n",
      "\u001b[34m[8]#011train-error:0.237533#011validation-error:0.2519\u001b[0m\n",
      "\u001b[34m[21:07:29] src/tree/updater_prune.cc:74: tree pruning end, 1 roots, 22 extra nodes, 10 pruned nodes, max_depth=5\u001b[0m\n",
      "\u001b[34m[9]#011train-error:0.231933#011validation-error:0.2467\u001b[0m\n",
      "\u001b[34m[21:07:30] src/tree/updater_prune.cc:74: tree pruning end, 1 roots, 46 extra nodes, 4 pruned nodes, max_depth=5\u001b[0m\n",
      "\u001b[34m[10]#011train-error:0.222267#011validation-error:0.2371\u001b[0m\n",
      "\u001b[34m[21:07:31] src/tree/updater_prune.cc:74: tree pruning end, 1 roots, 24 extra nodes, 6 pruned nodes, max_depth=5\u001b[0m\n",
      "\u001b[34m[11]#011train-error:0.2186#011validation-error:0.2339\u001b[0m\n",
      "\u001b[34m[21:07:33] src/tree/updater_prune.cc:74: tree pruning end, 1 roots, 24 extra nodes, 6 pruned nodes, max_depth=5\u001b[0m\n",
      "\u001b[34m[12]#011train-error:0.215533#011validation-error:0.2305\u001b[0m\n",
      "\u001b[34m[21:07:34] src/tree/updater_prune.cc:74: tree pruning end, 1 roots, 30 extra nodes, 4 pruned nodes, max_depth=5\u001b[0m\n",
      "\u001b[34m[13]#011train-error:0.212133#011validation-error:0.2293\u001b[0m\n",
      "\u001b[34m[21:07:35] src/tree/updater_prune.cc:74: tree pruning end, 1 roots, 26 extra nodes, 8 pruned nodes, max_depth=5\u001b[0m\n",
      "\u001b[34m[14]#011train-error:0.208#011validation-error:0.224\u001b[0m\n",
      "\u001b[34m[21:07:36] src/tree/updater_prune.cc:74: tree pruning end, 1 roots, 24 extra nodes, 16 pruned nodes, max_depth=5\u001b[0m\n",
      "\u001b[34m[15]#011train-error:0.206#011validation-error:0.224\u001b[0m\n",
      "\u001b[34m[21:07:38] src/tree/updater_prune.cc:74: tree pruning end, 1 roots, 38 extra nodes, 14 pruned nodes, max_depth=5\u001b[0m\n",
      "\u001b[34m[16]#011train-error:0.201667#011validation-error:0.2194\u001b[0m\n",
      "\u001b[34m[21:07:39] src/tree/updater_prune.cc:74: tree pruning end, 1 roots, 26 extra nodes, 6 pruned nodes, max_depth=5\u001b[0m\n",
      "\u001b[34m[17]#011train-error:0.197867#011validation-error:0.2184\u001b[0m\n",
      "\u001b[34m[21:07:40] src/tree/updater_prune.cc:74: tree pruning end, 1 roots, 26 extra nodes, 6 pruned nodes, max_depth=5\u001b[0m\n",
      "\u001b[34m[18]#011train-error:0.197667#011validation-error:0.2141\u001b[0m\n",
      "\u001b[34m[21:07:41] src/tree/updater_prune.cc:74: tree pruning end, 1 roots, 22 extra nodes, 8 pruned nodes, max_depth=5\u001b[0m\n",
      "\u001b[34m[19]#011train-error:0.194867#011validation-error:0.2137\u001b[0m\n",
      "\u001b[34m[21:07:43] src/tree/updater_prune.cc:74: tree pruning end, 1 roots, 42 extra nodes, 6 pruned nodes, max_depth=5\u001b[0m\n",
      "\u001b[34m[20]#011train-error:0.191867#011validation-error:0.2137\u001b[0m\n",
      "\u001b[34m[21:07:44] src/tree/updater_prune.cc:74: tree pruning end, 1 roots, 30 extra nodes, 6 pruned nodes, max_depth=5\u001b[0m\n",
      "\u001b[34m[21]#011train-error:0.1882#011validation-error:0.2106\u001b[0m\n",
      "\u001b[34m[21:07:45] src/tree/updater_prune.cc:74: tree pruning end, 1 roots, 28 extra nodes, 6 pruned nodes, max_depth=5\u001b[0m\n",
      "\u001b[34m[22]#011train-error:0.185333#011validation-error:0.2089\u001b[0m\n",
      "\u001b[34m[21:07:47] src/tree/updater_prune.cc:74: tree pruning end, 1 roots, 20 extra nodes, 14 pruned nodes, max_depth=5\u001b[0m\n",
      "\u001b[34m[23]#011train-error:0.183733#011validation-error:0.2058\u001b[0m\n",
      "\u001b[34m[21:07:48] src/tree/updater_prune.cc:74: tree pruning end, 1 roots, 14 extra nodes, 10 pruned nodes, max_depth=5\u001b[0m\n",
      "\u001b[34m[24]#011train-error:0.1816#011validation-error:0.2039\u001b[0m\n",
      "\u001b[34m[21:07:49] src/tree/updater_prune.cc:74: tree pruning end, 1 roots, 32 extra nodes, 10 pruned nodes, max_depth=5\u001b[0m\n",
      "\u001b[34m[25]#011train-error:0.178267#011validation-error:0.2037\u001b[0m\n",
      "\u001b[34m[21:07:50] src/tree/updater_prune.cc:74: tree pruning end, 1 roots, 34 extra nodes, 8 pruned nodes, max_depth=5\u001b[0m\n",
      "\u001b[34m[26]#011train-error:0.175533#011validation-error:0.2007\u001b[0m\n",
      "\u001b[34m[21:07:52] src/tree/updater_prune.cc:74: tree pruning end, 1 roots, 36 extra nodes, 6 pruned nodes, max_depth=5\u001b[0m\n",
      "\u001b[34m[27]#011train-error:0.1734#011validation-error:0.2001\u001b[0m\n",
      "\u001b[34m[21:07:53] src/tree/updater_prune.cc:74: tree pruning end, 1 roots, 30 extra nodes, 2 pruned nodes, max_depth=5\u001b[0m\n",
      "\u001b[34m[28]#011train-error:0.172#011validation-error:0.1983\u001b[0m\n",
      "\u001b[34m[21:07:54] src/tree/updater_prune.cc:74: tree pruning end, 1 roots, 24 extra nodes, 8 pruned nodes, max_depth=5\u001b[0m\n",
      "\u001b[34m[29]#011train-error:0.169533#011validation-error:0.1977\u001b[0m\n",
      "\u001b[34m[21:07:55] src/tree/updater_prune.cc:74: tree pruning end, 1 roots, 26 extra nodes, 4 pruned nodes, max_depth=5\u001b[0m\n",
      "\u001b[34m[30]#011train-error:0.1672#011validation-error:0.1975\u001b[0m\n",
      "\u001b[34m[21:07:57] src/tree/updater_prune.cc:74: tree pruning end, 1 roots, 20 extra nodes, 14 pruned nodes, max_depth=5\u001b[0m\n",
      "\u001b[34m[31]#011train-error:0.167#011validation-error:0.1957\u001b[0m\n",
      "\u001b[34m[21:07:58] src/tree/updater_prune.cc:74: tree pruning end, 1 roots, 24 extra nodes, 6 pruned nodes, max_depth=5\u001b[0m\n",
      "\u001b[34m[32]#011train-error:0.163933#011validation-error:0.1951\u001b[0m\n",
      "\u001b[34m[21:07:59] src/tree/updater_prune.cc:74: tree pruning end, 1 roots, 14 extra nodes, 6 pruned nodes, max_depth=5\u001b[0m\n",
      "\u001b[34m[33]#011train-error:0.1634#011validation-error:0.1933\u001b[0m\n",
      "\u001b[34m[21:08:00] src/tree/updater_prune.cc:74: tree pruning end, 1 roots, 40 extra nodes, 6 pruned nodes, max_depth=5\u001b[0m\n",
      "\u001b[34m[34]#011train-error:0.161333#011validation-error:0.1928\u001b[0m\n",
      "\u001b[34m[21:08:02] src/tree/updater_prune.cc:74: tree pruning end, 1 roots, 30 extra nodes, 2 pruned nodes, max_depth=5\u001b[0m\n",
      "\u001b[34m[35]#011train-error:0.1602#011validation-error:0.1918\u001b[0m\n",
      "\u001b[34m[21:08:03] src/tree/updater_prune.cc:74: tree pruning end, 1 roots, 42 extra nodes, 4 pruned nodes, max_depth=5\u001b[0m\n",
      "\u001b[34m[36]#011train-error:0.1586#011validation-error:0.1899\u001b[0m\n",
      "\u001b[34m[21:08:04] src/tree/updater_prune.cc:74: tree pruning end, 1 roots, 16 extra nodes, 10 pruned nodes, max_depth=5\u001b[0m\n",
      "\u001b[34m[37]#011train-error:0.157733#011validation-error:0.189\u001b[0m\n",
      "\u001b[34m[21:08:06] src/tree/updater_prune.cc:74: tree pruning end, 1 roots, 14 extra nodes, 16 pruned nodes, max_depth=5\u001b[0m\n",
      "\u001b[34m[38]#011train-error:0.156867#011validation-error:0.1884\u001b[0m\n",
      "\u001b[34m[21:08:07] src/tree/updater_prune.cc:74: tree pruning end, 1 roots, 18 extra nodes, 8 pruned nodes, max_depth=5\u001b[0m\n",
      "\u001b[34m[39]#011train-error:0.155667#011validation-error:0.1876\u001b[0m\n",
      "\u001b[34m[21:08:08] src/tree/updater_prune.cc:74: tree pruning end, 1 roots, 24 extra nodes, 6 pruned nodes, max_depth=5\u001b[0m\n",
      "\u001b[34m[40]#011train-error:0.153667#011validation-error:0.1858\u001b[0m\n",
      "\u001b[34m[21:08:09] src/tree/updater_prune.cc:74: tree pruning end, 1 roots, 32 extra nodes, 2 pruned nodes, max_depth=5\u001b[0m\n",
      "\u001b[34m[41]#011train-error:0.149733#011validation-error:0.1862\u001b[0m\n",
      "\u001b[34m[21:08:11] src/tree/updater_prune.cc:74: tree pruning end, 1 roots, 40 extra nodes, 4 pruned nodes, max_depth=5\u001b[0m\n",
      "\u001b[34m[42]#011train-error:0.148133#011validation-error:0.1843\u001b[0m\n",
      "\u001b[34m[21:08:12] src/tree/updater_prune.cc:74: tree pruning end, 1 roots, 20 extra nodes, 4 pruned nodes, max_depth=5\u001b[0m\n",
      "\u001b[34m[43]#011train-error:0.1474#011validation-error:0.1829\u001b[0m\n"
     ]
    },
    {
     "name": "stdout",
     "output_type": "stream",
     "text": [
      "\u001b[34m[21:08:13] src/tree/updater_prune.cc:74: tree pruning end, 1 roots, 20 extra nodes, 10 pruned nodes, max_depth=5\u001b[0m\n",
      "\u001b[34m[44]#011train-error:0.146867#011validation-error:0.1827\u001b[0m\n",
      "\u001b[34m[21:08:15] src/tree/updater_prune.cc:74: tree pruning end, 1 roots, 18 extra nodes, 6 pruned nodes, max_depth=5\u001b[0m\n",
      "\u001b[34m[45]#011train-error:0.146#011validation-error:0.1815\u001b[0m\n",
      "\u001b[34m[21:08:16] src/tree/updater_prune.cc:74: tree pruning end, 1 roots, 20 extra nodes, 10 pruned nodes, max_depth=5\u001b[0m\n",
      "\u001b[34m[46]#011train-error:0.144067#011validation-error:0.1797\u001b[0m\n",
      "\u001b[34m[21:08:17] src/tree/updater_prune.cc:74: tree pruning end, 1 roots, 32 extra nodes, 8 pruned nodes, max_depth=5\u001b[0m\n",
      "\u001b[34m[47]#011train-error:0.142067#011validation-error:0.1793\u001b[0m\n",
      "\u001b[34m[21:08:18] src/tree/updater_prune.cc:74: tree pruning end, 1 roots, 32 extra nodes, 14 pruned nodes, max_depth=5\u001b[0m\n",
      "\u001b[34m[48]#011train-error:0.1408#011validation-error:0.1779\u001b[0m\n",
      "\u001b[34m[21:08:20] src/tree/updater_prune.cc:74: tree pruning end, 1 roots, 18 extra nodes, 10 pruned nodes, max_depth=5\u001b[0m\n",
      "\u001b[34m[49]#011train-error:0.140133#011validation-error:0.178\u001b[0m\n",
      "\u001b[34m[21:08:21] src/tree/updater_prune.cc:74: tree pruning end, 1 roots, 22 extra nodes, 12 pruned nodes, max_depth=5\u001b[0m\n",
      "\u001b[34m[50]#011train-error:0.138133#011validation-error:0.1761\u001b[0m\n",
      "\u001b[34m[21:08:22] src/tree/updater_prune.cc:74: tree pruning end, 1 roots, 16 extra nodes, 4 pruned nodes, max_depth=5\u001b[0m\n",
      "\u001b[34m[51]#011train-error:0.136133#011validation-error:0.176\u001b[0m\n",
      "\u001b[34m[21:08:23] src/tree/updater_prune.cc:74: tree pruning end, 1 roots, 30 extra nodes, 4 pruned nodes, max_depth=5\u001b[0m\n",
      "\u001b[34m[52]#011train-error:0.135533#011validation-error:0.1758\u001b[0m\n",
      "\u001b[34m[21:08:25] src/tree/updater_prune.cc:74: tree pruning end, 1 roots, 30 extra nodes, 10 pruned nodes, max_depth=5\u001b[0m\n",
      "\u001b[34m[53]#011train-error:0.133867#011validation-error:0.176\u001b[0m\n",
      "\u001b[34m[21:08:26] src/tree/updater_prune.cc:74: tree pruning end, 1 roots, 18 extra nodes, 8 pruned nodes, max_depth=5\u001b[0m\n",
      "\u001b[34m[54]#011train-error:0.1324#011validation-error:0.176\u001b[0m\n",
      "\u001b[34m[21:08:27] src/tree/updater_prune.cc:74: tree pruning end, 1 roots, 12 extra nodes, 10 pruned nodes, max_depth=5\u001b[0m\n",
      "\u001b[34m[55]#011train-error:0.131067#011validation-error:0.175\u001b[0m\n",
      "\u001b[34m[21:08:29] src/tree/updater_prune.cc:74: tree pruning end, 1 roots, 20 extra nodes, 10 pruned nodes, max_depth=5\u001b[0m\n",
      "\u001b[34m[56]#011train-error:0.129867#011validation-error:0.1752\u001b[0m\n",
      "\u001b[34m[21:08:30] src/tree/updater_prune.cc:74: tree pruning end, 1 roots, 26 extra nodes, 12 pruned nodes, max_depth=5\u001b[0m\n",
      "\u001b[34m[57]#011train-error:0.129933#011validation-error:0.1746\u001b[0m\n",
      "\u001b[34m[21:08:31] src/tree/updater_prune.cc:74: tree pruning end, 1 roots, 18 extra nodes, 4 pruned nodes, max_depth=5\u001b[0m\n",
      "\u001b[34m[58]#011train-error:0.1292#011validation-error:0.1742\u001b[0m\n",
      "\u001b[34m[21:08:32] src/tree/updater_prune.cc:74: tree pruning end, 1 roots, 30 extra nodes, 12 pruned nodes, max_depth=5\u001b[0m\n",
      "\u001b[34m[59]#011train-error:0.127867#011validation-error:0.1713\u001b[0m\n",
      "\u001b[34m[21:08:34] src/tree/updater_prune.cc:74: tree pruning end, 1 roots, 18 extra nodes, 14 pruned nodes, max_depth=5\u001b[0m\n",
      "\u001b[34m[60]#011train-error:0.128067#011validation-error:0.1705\u001b[0m\n",
      "\u001b[34m[21:08:35] src/tree/updater_prune.cc:74: tree pruning end, 1 roots, 34 extra nodes, 6 pruned nodes, max_depth=5\u001b[0m\n",
      "\u001b[34m[61]#011train-error:0.126#011validation-error:0.1699\u001b[0m\n",
      "\u001b[34m[21:08:36] src/tree/updater_prune.cc:74: tree pruning end, 1 roots, 32 extra nodes, 4 pruned nodes, max_depth=5\u001b[0m\n",
      "\u001b[34m[62]#011train-error:0.1252#011validation-error:0.1696\u001b[0m\n",
      "\u001b[34m[21:08:37] src/tree/updater_prune.cc:74: tree pruning end, 1 roots, 28 extra nodes, 14 pruned nodes, max_depth=5\u001b[0m\n",
      "\u001b[34m[63]#011train-error:0.123733#011validation-error:0.1692\u001b[0m\n",
      "\u001b[34m[21:08:39] src/tree/updater_prune.cc:74: tree pruning end, 1 roots, 14 extra nodes, 8 pruned nodes, max_depth=5\u001b[0m\n",
      "\u001b[34m[64]#011train-error:0.123467#011validation-error:0.1684\u001b[0m\n",
      "\u001b[34m[21:08:40] src/tree/updater_prune.cc:74: tree pruning end, 1 roots, 16 extra nodes, 4 pruned nodes, max_depth=5\u001b[0m\n",
      "\u001b[34m[65]#011train-error:0.1234#011validation-error:0.1687\u001b[0m\n",
      "\u001b[34m[21:08:41] src/tree/updater_prune.cc:74: tree pruning end, 1 roots, 28 extra nodes, 2 pruned nodes, max_depth=5\u001b[0m\n",
      "\u001b[34m[66]#011train-error:0.122467#011validation-error:0.1676\u001b[0m\n",
      "\u001b[34m[21:08:43] src/tree/updater_prune.cc:74: tree pruning end, 1 roots, 10 extra nodes, 8 pruned nodes, max_depth=5\u001b[0m\n",
      "\u001b[34m[67]#011train-error:0.122133#011validation-error:0.1666\u001b[0m\n",
      "\u001b[34m[21:08:44] src/tree/updater_prune.cc:74: tree pruning end, 1 roots, 22 extra nodes, 6 pruned nodes, max_depth=5\u001b[0m\n",
      "\u001b[34m[68]#011train-error:0.120933#011validation-error:0.1669\u001b[0m\n",
      "\u001b[34m[21:08:45] src/tree/updater_prune.cc:74: tree pruning end, 1 roots, 14 extra nodes, 6 pruned nodes, max_depth=5\u001b[0m\n",
      "\u001b[34m[69]#011train-error:0.1208#011validation-error:0.1661\u001b[0m\n",
      "\u001b[34m[21:08:46] src/tree/updater_prune.cc:74: tree pruning end, 1 roots, 24 extra nodes, 2 pruned nodes, max_depth=5\u001b[0m\n",
      "\u001b[34m[70]#011train-error:0.1202#011validation-error:0.1665\u001b[0m\n",
      "\u001b[34m[21:08:48] src/tree/updater_prune.cc:74: tree pruning end, 1 roots, 20 extra nodes, 6 pruned nodes, max_depth=5\u001b[0m\n",
      "\u001b[34m[71]#011train-error:0.119467#011validation-error:0.1652\u001b[0m\n",
      "\u001b[34m[21:08:49] src/tree/updater_prune.cc:74: tree pruning end, 1 roots, 32 extra nodes, 6 pruned nodes, max_depth=5\u001b[0m\n",
      "\u001b[34m[72]#011train-error:0.118133#011validation-error:0.1645\u001b[0m\n",
      "\u001b[34m[21:08:50] src/tree/updater_prune.cc:74: tree pruning end, 1 roots, 22 extra nodes, 14 pruned nodes, max_depth=5\u001b[0m\n",
      "\u001b[34m[73]#011train-error:0.117867#011validation-error:0.1654\u001b[0m\n",
      "\u001b[34m[21:08:51] src/tree/updater_prune.cc:74: tree pruning end, 1 roots, 30 extra nodes, 4 pruned nodes, max_depth=5\u001b[0m\n",
      "\u001b[34m[74]#011train-error:0.117#011validation-error:0.1647\u001b[0m\n",
      "\u001b[34m[21:08:53] src/tree/updater_prune.cc:74: tree pruning end, 1 roots, 16 extra nodes, 12 pruned nodes, max_depth=5\u001b[0m\n",
      "\u001b[34m[75]#011train-error:0.116333#011validation-error:0.1643\u001b[0m\n",
      "\u001b[34m[21:08:54] src/tree/updater_prune.cc:74: tree pruning end, 1 roots, 30 extra nodes, 14 pruned nodes, max_depth=5\u001b[0m\n",
      "\u001b[34m[76]#011train-error:0.115933#011validation-error:0.163\u001b[0m\n",
      "\u001b[34m[21:08:55] src/tree/updater_prune.cc:74: tree pruning end, 1 roots, 22 extra nodes, 8 pruned nodes, max_depth=5\u001b[0m\n",
      "\u001b[34m[77]#011train-error:0.114#011validation-error:0.1631\u001b[0m\n",
      "\u001b[34m[21:08:56] src/tree/updater_prune.cc:74: tree pruning end, 1 roots, 14 extra nodes, 2 pruned nodes, max_depth=5\u001b[0m\n",
      "\u001b[34m[78]#011train-error:0.113867#011validation-error:0.1626\u001b[0m\n",
      "\u001b[34m[21:08:58] src/tree/updater_prune.cc:74: tree pruning end, 1 roots, 40 extra nodes, 6 pruned nodes, max_depth=5\u001b[0m\n",
      "\u001b[34m[79]#011train-error:0.112933#011validation-error:0.1615\u001b[0m\n",
      "\u001b[34m[21:08:59] src/tree/updater_prune.cc:74: tree pruning end, 1 roots, 24 extra nodes, 10 pruned nodes, max_depth=5\u001b[0m\n",
      "\u001b[34m[80]#011train-error:0.111933#011validation-error:0.1618\u001b[0m\n",
      "\u001b[34m[21:09:00] src/tree/updater_prune.cc:74: tree pruning end, 1 roots, 20 extra nodes, 10 pruned nodes, max_depth=5\u001b[0m\n",
      "\u001b[34m[81]#011train-error:0.111333#011validation-error:0.1611\u001b[0m\n",
      "\u001b[34m[21:09:02] src/tree/updater_prune.cc:74: tree pruning end, 1 roots, 16 extra nodes, 6 pruned nodes, max_depth=5\u001b[0m\n",
      "\u001b[34m[82]#011train-error:0.111#011validation-error:0.1616\u001b[0m\n",
      "\u001b[34m[21:09:03] src/tree/updater_prune.cc:74: tree pruning end, 1 roots, 28 extra nodes, 2 pruned nodes, max_depth=5\u001b[0m\n",
      "\u001b[34m[83]#011train-error:0.1106#011validation-error:0.1611\u001b[0m\n",
      "\u001b[34m[21:09:04] src/tree/updater_prune.cc:74: tree pruning end, 1 roots, 14 extra nodes, 8 pruned nodes, max_depth=5\u001b[0m\n",
      "\u001b[34m[84]#011train-error:0.110533#011validation-error:0.161\u001b[0m\n",
      "\u001b[34m[21:09:05] src/tree/updater_prune.cc:74: tree pruning end, 1 roots, 26 extra nodes, 14 pruned nodes, max_depth=5\u001b[0m\n",
      "\u001b[34m[85]#011train-error:0.1094#011validation-error:0.1601\u001b[0m\n",
      "\u001b[34m[21:09:07] src/tree/updater_prune.cc:74: tree pruning end, 1 roots, 26 extra nodes, 16 pruned nodes, max_depth=5\u001b[0m\n",
      "\u001b[34m[86]#011train-error:0.107867#011validation-error:0.1593\u001b[0m\n",
      "\u001b[34m[21:09:08] src/tree/updater_prune.cc:74: tree pruning end, 1 roots, 14 extra nodes, 8 pruned nodes, max_depth=5\u001b[0m\n",
      "\u001b[34m[87]#011train-error:0.107733#011validation-error:0.1593\u001b[0m\n",
      "\u001b[34m[21:09:09] src/tree/updater_prune.cc:74: tree pruning end, 1 roots, 20 extra nodes, 10 pruned nodes, max_depth=5\u001b[0m\n",
      "\u001b[34m[88]#011train-error:0.1074#011validation-error:0.1589\u001b[0m\n",
      "\u001b[34m[21:09:10] src/tree/updater_prune.cc:74: tree pruning end, 1 roots, 18 extra nodes, 8 pruned nodes, max_depth=5\u001b[0m\n",
      "\u001b[34m[89]#011train-error:0.106933#011validation-error:0.1583\u001b[0m\n",
      "\u001b[34m[21:09:12] src/tree/updater_prune.cc:74: tree pruning end, 1 roots, 10 extra nodes, 14 pruned nodes, max_depth=5\u001b[0m\n",
      "\u001b[34m[90]#011train-error:0.1068#011validation-error:0.1588\u001b[0m\n",
      "\u001b[34m[21:09:13] src/tree/updater_prune.cc:74: tree pruning end, 1 roots, 12 extra nodes, 2 pruned nodes, max_depth=5\u001b[0m\n",
      "\u001b[34m[91]#011train-error:0.1064#011validation-error:0.1585\u001b[0m\n"
     ]
    },
    {
     "name": "stdout",
     "output_type": "stream",
     "text": [
      "\u001b[34m[21:09:14] src/tree/updater_prune.cc:74: tree pruning end, 1 roots, 10 extra nodes, 4 pruned nodes, max_depth=5\u001b[0m\n",
      "\u001b[34m[92]#011train-error:0.105733#011validation-error:0.1577\u001b[0m\n",
      "\u001b[34m[21:09:16] src/tree/updater_prune.cc:74: tree pruning end, 1 roots, 22 extra nodes, 8 pruned nodes, max_depth=5\u001b[0m\n",
      "\u001b[34m[93]#011train-error:0.103733#011validation-error:0.1567\u001b[0m\n",
      "\u001b[34m[21:09:17] src/tree/updater_prune.cc:74: tree pruning end, 1 roots, 12 extra nodes, 2 pruned nodes, max_depth=5\u001b[0m\n",
      "\u001b[34m[94]#011train-error:0.1036#011validation-error:0.1565\u001b[0m\n",
      "\u001b[34m[21:09:18] src/tree/updater_prune.cc:74: tree pruning end, 1 roots, 18 extra nodes, 2 pruned nodes, max_depth=5\u001b[0m\n",
      "\u001b[34m[95]#011train-error:0.103#011validation-error:0.1565\u001b[0m\n",
      "\u001b[34m[21:09:19] src/tree/updater_prune.cc:74: tree pruning end, 1 roots, 24 extra nodes, 6 pruned nodes, max_depth=5\u001b[0m\n",
      "\u001b[34m[96]#011train-error:0.103533#011validation-error:0.1565\u001b[0m\n",
      "\u001b[34m[21:09:21] src/tree/updater_prune.cc:74: tree pruning end, 1 roots, 22 extra nodes, 2 pruned nodes, max_depth=5\u001b[0m\n",
      "\u001b[34m[97]#011train-error:0.1022#011validation-error:0.1559\u001b[0m\n",
      "\u001b[34m[21:09:22] src/tree/updater_prune.cc:74: tree pruning end, 1 roots, 12 extra nodes, 10 pruned nodes, max_depth=5\u001b[0m\n",
      "\u001b[34m[98]#011train-error:0.1016#011validation-error:0.1547\u001b[0m\n",
      "\u001b[34m[21:09:23] src/tree/updater_prune.cc:74: tree pruning end, 1 roots, 10 extra nodes, 10 pruned nodes, max_depth=5\u001b[0m\n",
      "\u001b[34m[99]#011train-error:0.101333#011validation-error:0.1544\u001b[0m\n",
      "\u001b[34m[21:09:24] src/tree/updater_prune.cc:74: tree pruning end, 1 roots, 10 extra nodes, 8 pruned nodes, max_depth=5\u001b[0m\n",
      "\u001b[34m[100]#011train-error:0.1012#011validation-error:0.1533\u001b[0m\n",
      "\u001b[34m[21:09:26] src/tree/updater_prune.cc:74: tree pruning end, 1 roots, 14 extra nodes, 4 pruned nodes, max_depth=5\u001b[0m\n",
      "\u001b[34m[101]#011train-error:0.100733#011validation-error:0.1542\u001b[0m\n",
      "\u001b[34m[21:09:27] src/tree/updater_prune.cc:74: tree pruning end, 1 roots, 30 extra nodes, 10 pruned nodes, max_depth=5\u001b[0m\n",
      "\u001b[34m[102]#011train-error:0.0996#011validation-error:0.1533\u001b[0m\n",
      "\u001b[34m[21:09:28] src/tree/updater_prune.cc:74: tree pruning end, 1 roots, 16 extra nodes, 8 pruned nodes, max_depth=5\u001b[0m\n",
      "\u001b[34m[103]#011train-error:0.099333#011validation-error:0.1528\u001b[0m\n",
      "\u001b[34m[21:09:30] src/tree/updater_prune.cc:74: tree pruning end, 1 roots, 16 extra nodes, 2 pruned nodes, max_depth=5\u001b[0m\n",
      "\u001b[34m[104]#011train-error:0.0988#011validation-error:0.1541\u001b[0m\n",
      "\u001b[34m[21:09:31] src/tree/updater_prune.cc:74: tree pruning end, 1 roots, 20 extra nodes, 6 pruned nodes, max_depth=5\u001b[0m\n",
      "\u001b[34m[105]#011train-error:0.097867#011validation-error:0.1539\u001b[0m\n",
      "\u001b[34m[21:09:32] src/tree/updater_prune.cc:74: tree pruning end, 1 roots, 22 extra nodes, 8 pruned nodes, max_depth=5\u001b[0m\n",
      "\u001b[34m[106]#011train-error:0.097533#011validation-error:0.1538\u001b[0m\n",
      "\u001b[34m[21:09:33] src/tree/updater_prune.cc:74: tree pruning end, 1 roots, 18 extra nodes, 8 pruned nodes, max_depth=5\u001b[0m\n",
      "\u001b[34m[107]#011train-error:0.097667#011validation-error:0.1544\u001b[0m\n",
      "\u001b[34m[21:09:35] src/tree/updater_prune.cc:74: tree pruning end, 1 roots, 16 extra nodes, 6 pruned nodes, max_depth=5\u001b[0m\n",
      "\u001b[34m[108]#011train-error:0.096733#011validation-error:0.154\u001b[0m\n",
      "\u001b[34m[21:09:36] src/tree/updater_prune.cc:74: tree pruning end, 1 roots, 10 extra nodes, 8 pruned nodes, max_depth=5\u001b[0m\n",
      "\u001b[34m[109]#011train-error:0.096467#011validation-error:0.1538\u001b[0m\n",
      "\u001b[34m[21:09:37] src/tree/updater_prune.cc:74: tree pruning end, 1 roots, 16 extra nodes, 6 pruned nodes, max_depth=5\u001b[0m\n",
      "\u001b[34m[110]#011train-error:0.0974#011validation-error:0.1531\u001b[0m\n",
      "\u001b[34m[21:09:38] src/tree/updater_prune.cc:74: tree pruning end, 1 roots, 10 extra nodes, 16 pruned nodes, max_depth=5\u001b[0m\n",
      "\u001b[34m[111]#011train-error:0.0968#011validation-error:0.1529\u001b[0m\n",
      "\u001b[34m[21:09:40] src/tree/updater_prune.cc:74: tree pruning end, 1 roots, 18 extra nodes, 6 pruned nodes, max_depth=5\u001b[0m\n",
      "\u001b[34m[112]#011train-error:0.096133#011validation-error:0.1529\u001b[0m\n",
      "\u001b[34m[21:09:41] src/tree/updater_prune.cc:74: tree pruning end, 1 roots, 14 extra nodes, 8 pruned nodes, max_depth=5\u001b[0m\n",
      "\u001b[34m[113]#011train-error:0.0962#011validation-error:0.1526\u001b[0m\n",
      "\u001b[34m[21:09:42] src/tree/updater_prune.cc:74: tree pruning end, 1 roots, 10 extra nodes, 8 pruned nodes, max_depth=5\u001b[0m\n",
      "\u001b[34m[114]#011train-error:0.096267#011validation-error:0.1527\u001b[0m\n",
      "\u001b[34m[21:09:44] src/tree/updater_prune.cc:74: tree pruning end, 1 roots, 12 extra nodes, 12 pruned nodes, max_depth=5\u001b[0m\n",
      "\u001b[34m[115]#011train-error:0.096467#011validation-error:0.1533\u001b[0m\n",
      "\u001b[34m[21:09:45] src/tree/updater_prune.cc:74: tree pruning end, 1 roots, 28 extra nodes, 8 pruned nodes, max_depth=5\u001b[0m\n",
      "\u001b[34m[116]#011train-error:0.095933#011validation-error:0.153\u001b[0m\n",
      "\u001b[34m[21:09:46] src/tree/updater_prune.cc:74: tree pruning end, 1 roots, 20 extra nodes, 8 pruned nodes, max_depth=5\u001b[0m\n",
      "\u001b[34m[117]#011train-error:0.0952#011validation-error:0.1526\u001b[0m\n",
      "\u001b[34m[21:09:47] src/tree/updater_prune.cc:74: tree pruning end, 1 roots, 26 extra nodes, 8 pruned nodes, max_depth=5\u001b[0m\n",
      "\u001b[34m[118]#011train-error:0.0944#011validation-error:0.1524\u001b[0m\n",
      "\u001b[34m[21:09:49] src/tree/updater_prune.cc:74: tree pruning end, 1 roots, 12 extra nodes, 8 pruned nodes, max_depth=5\u001b[0m\n",
      "\u001b[34m[119]#011train-error:0.094267#011validation-error:0.1508\u001b[0m\n",
      "\u001b[34m[21:09:50] src/tree/updater_prune.cc:74: tree pruning end, 1 roots, 12 extra nodes, 10 pruned nodes, max_depth=5\u001b[0m\n",
      "\u001b[34m[120]#011train-error:0.094267#011validation-error:0.1512\u001b[0m\n",
      "\u001b[34m[21:09:51] src/tree/updater_prune.cc:74: tree pruning end, 1 roots, 16 extra nodes, 12 pruned nodes, max_depth=5\u001b[0m\n",
      "\u001b[34m[121]#011train-error:0.0928#011validation-error:0.1509\u001b[0m\n",
      "\u001b[34m[21:09:53] src/tree/updater_prune.cc:74: tree pruning end, 1 roots, 14 extra nodes, 14 pruned nodes, max_depth=5\u001b[0m\n",
      "\u001b[34m[122]#011train-error:0.092133#011validation-error:0.1509\u001b[0m\n",
      "\u001b[34m[21:09:54] src/tree/updater_prune.cc:74: tree pruning end, 1 roots, 16 extra nodes, 8 pruned nodes, max_depth=5\u001b[0m\n",
      "\u001b[34m[123]#011train-error:0.091467#011validation-error:0.1512\u001b[0m\n",
      "\u001b[34m[21:09:55] src/tree/updater_prune.cc:74: tree pruning end, 1 roots, 12 extra nodes, 8 pruned nodes, max_depth=5\u001b[0m\n",
      "\u001b[34m[124]#011train-error:0.091333#011validation-error:0.151\u001b[0m\n",
      "\u001b[34m[21:09:56] src/tree/updater_prune.cc:74: tree pruning end, 1 roots, 14 extra nodes, 10 pruned nodes, max_depth=5\u001b[0m\n",
      "\u001b[34m[125]#011train-error:0.0908#011validation-error:0.1512\u001b[0m\n",
      "\u001b[34m[21:09:58] src/tree/updater_prune.cc:74: tree pruning end, 1 roots, 10 extra nodes, 10 pruned nodes, max_depth=5\u001b[0m\n",
      "\u001b[34m[126]#011train-error:0.0904#011validation-error:0.1511\u001b[0m\n",
      "\u001b[34m[21:09:59] src/tree/updater_prune.cc:74: tree pruning end, 1 roots, 14 extra nodes, 14 pruned nodes, max_depth=5\u001b[0m\n",
      "\u001b[34m[127]#011train-error:0.090267#011validation-error:0.1506\u001b[0m\n",
      "\u001b[34m[21:10:00] src/tree/updater_prune.cc:74: tree pruning end, 1 roots, 12 extra nodes, 12 pruned nodes, max_depth=5\u001b[0m\n",
      "\u001b[34m[128]#011train-error:0.089933#011validation-error:0.1505\u001b[0m\n",
      "\u001b[34m[21:10:01] src/tree/updater_prune.cc:74: tree pruning end, 1 roots, 10 extra nodes, 8 pruned nodes, max_depth=5\u001b[0m\n",
      "\u001b[34m[129]#011train-error:0.089533#011validation-error:0.1506\u001b[0m\n",
      "\u001b[34m[21:10:03] src/tree/updater_prune.cc:74: tree pruning end, 1 roots, 14 extra nodes, 16 pruned nodes, max_depth=5\u001b[0m\n",
      "\u001b[34m[130]#011train-error:0.089333#011validation-error:0.1509\u001b[0m\n",
      "\u001b[34m[21:10:04] src/tree/updater_prune.cc:74: tree pruning end, 1 roots, 16 extra nodes, 2 pruned nodes, max_depth=5\u001b[0m\n",
      "\u001b[34m[131]#011train-error:0.088733#011validation-error:0.15\u001b[0m\n",
      "\u001b[34m[21:10:05] src/tree/updater_prune.cc:74: tree pruning end, 1 roots, 10 extra nodes, 6 pruned nodes, max_depth=5\u001b[0m\n",
      "\u001b[34m[132]#011train-error:0.0888#011validation-error:0.1496\u001b[0m\n",
      "\u001b[34m[21:10:07] src/tree/updater_prune.cc:74: tree pruning end, 1 roots, 22 extra nodes, 4 pruned nodes, max_depth=5\u001b[0m\n",
      "\u001b[34m[133]#011train-error:0.0886#011validation-error:0.1501\u001b[0m\n",
      "\u001b[34m[21:10:08] src/tree/updater_prune.cc:74: tree pruning end, 1 roots, 14 extra nodes, 4 pruned nodes, max_depth=5\u001b[0m\n",
      "\u001b[34m[134]#011train-error:0.0886#011validation-error:0.1497\u001b[0m\n",
      "\u001b[34m[21:10:09] src/tree/updater_prune.cc:74: tree pruning end, 1 roots, 26 extra nodes, 6 pruned nodes, max_depth=5\u001b[0m\n",
      "\u001b[34m[135]#011train-error:0.087533#011validation-error:0.15\u001b[0m\n",
      "\u001b[34m[21:10:10] src/tree/updater_prune.cc:74: tree pruning end, 1 roots, 12 extra nodes, 8 pruned nodes, max_depth=5\u001b[0m\n",
      "\u001b[34m[136]#011train-error:0.087733#011validation-error:0.1496\u001b[0m\n",
      "\u001b[34m[21:10:12] src/tree/updater_prune.cc:74: tree pruning end, 1 roots, 10 extra nodes, 14 pruned nodes, max_depth=5\u001b[0m\n",
      "\u001b[34m[137]#011train-error:0.087867#011validation-error:0.1494\u001b[0m\n",
      "\u001b[34m[21:10:13] src/tree/updater_prune.cc:74: tree pruning end, 1 roots, 10 extra nodes, 12 pruned nodes, max_depth=5\u001b[0m\n",
      "\u001b[34m[138]#011train-error:0.088133#011validation-error:0.149\u001b[0m\n",
      "\u001b[34m[21:10:14] src/tree/updater_prune.cc:74: tree pruning end, 1 roots, 16 extra nodes, 4 pruned nodes, max_depth=5\u001b[0m\n",
      "\u001b[34m[139]#011train-error:0.087067#011validation-error:0.1493\u001b[0m\n"
     ]
    },
    {
     "name": "stdout",
     "output_type": "stream",
     "text": [
      "\u001b[34m[21:10:15] src/tree/updater_prune.cc:74: tree pruning end, 1 roots, 12 extra nodes, 14 pruned nodes, max_depth=5\u001b[0m\n",
      "\u001b[34m[140]#011train-error:0.087#011validation-error:0.1493\u001b[0m\n",
      "\u001b[34m[21:10:17] src/tree/updater_prune.cc:74: tree pruning end, 1 roots, 14 extra nodes, 4 pruned nodes, max_depth=5\u001b[0m\n",
      "\u001b[34m[141]#011train-error:0.086933#011validation-error:0.1493\u001b[0m\n",
      "\u001b[34m[21:10:18] src/tree/updater_prune.cc:74: tree pruning end, 1 roots, 12 extra nodes, 10 pruned nodes, max_depth=5\u001b[0m\n",
      "\u001b[34m[142]#011train-error:0.086533#011validation-error:0.1488\u001b[0m\n",
      "\u001b[34m[21:10:19] src/tree/updater_prune.cc:74: tree pruning end, 1 roots, 16 extra nodes, 10 pruned nodes, max_depth=5\u001b[0m\n",
      "\u001b[34m[143]#011train-error:0.086067#011validation-error:0.1487\u001b[0m\n",
      "\u001b[34m[21:10:20] src/tree/updater_prune.cc:74: tree pruning end, 1 roots, 14 extra nodes, 10 pruned nodes, max_depth=5\u001b[0m\n",
      "\u001b[34m[144]#011train-error:0.086067#011validation-error:0.1482\u001b[0m\n",
      "\u001b[34m[21:10:22] src/tree/updater_prune.cc:74: tree pruning end, 1 roots, 14 extra nodes, 6 pruned nodes, max_depth=5\u001b[0m\n",
      "\u001b[34m[145]#011train-error:0.0856#011validation-error:0.1478\u001b[0m\n",
      "\u001b[34m[21:10:23] src/tree/updater_prune.cc:74: tree pruning end, 1 roots, 12 extra nodes, 14 pruned nodes, max_depth=5\u001b[0m\n",
      "\u001b[34m[146]#011train-error:0.085667#011validation-error:0.1476\u001b[0m\n",
      "\u001b[34m[21:10:24] src/tree/updater_prune.cc:74: tree pruning end, 1 roots, 18 extra nodes, 20 pruned nodes, max_depth=5\u001b[0m\n",
      "\u001b[34m[147]#011train-error:0.085#011validation-error:0.1474\u001b[0m\n",
      "\u001b[34m[21:10:26] src/tree/updater_prune.cc:74: tree pruning end, 1 roots, 20 extra nodes, 14 pruned nodes, max_depth=5\u001b[0m\n",
      "\u001b[34m[148]#011train-error:0.084933#011validation-error:0.147\u001b[0m\n",
      "\u001b[34m[21:10:27] src/tree/updater_prune.cc:74: tree pruning end, 1 roots, 12 extra nodes, 10 pruned nodes, max_depth=5\u001b[0m\n",
      "\u001b[34m[149]#011train-error:0.0846#011validation-error:0.1467\u001b[0m\n",
      "\u001b[34m[21:10:28] src/tree/updater_prune.cc:74: tree pruning end, 1 roots, 16 extra nodes, 12 pruned nodes, max_depth=5\u001b[0m\n",
      "\u001b[34m[150]#011train-error:0.0838#011validation-error:0.1456\u001b[0m\n",
      "\u001b[34m[21:10:29] src/tree/updater_prune.cc:74: tree pruning end, 1 roots, 10 extra nodes, 8 pruned nodes, max_depth=5\u001b[0m\n",
      "\u001b[34m[151]#011train-error:0.0842#011validation-error:0.1456\u001b[0m\n",
      "\u001b[34m[21:10:31] src/tree/updater_prune.cc:74: tree pruning end, 1 roots, 22 extra nodes, 4 pruned nodes, max_depth=5\u001b[0m\n",
      "\u001b[34m[152]#011train-error:0.084#011validation-error:0.1458\u001b[0m\n",
      "\u001b[34m[21:10:32] src/tree/updater_prune.cc:74: tree pruning end, 1 roots, 34 extra nodes, 14 pruned nodes, max_depth=5\u001b[0m\n",
      "\u001b[34m[153]#011train-error:0.083667#011validation-error:0.1452\u001b[0m\n",
      "\u001b[34m[21:10:33] src/tree/updater_prune.cc:74: tree pruning end, 1 roots, 10 extra nodes, 8 pruned nodes, max_depth=5\u001b[0m\n",
      "\u001b[34m[154]#011train-error:0.083333#011validation-error:0.1444\u001b[0m\n",
      "\u001b[34m[21:10:34] src/tree/updater_prune.cc:74: tree pruning end, 1 roots, 18 extra nodes, 10 pruned nodes, max_depth=5\u001b[0m\n",
      "\u001b[34m[155]#011train-error:0.082933#011validation-error:0.1436\u001b[0m\n",
      "\u001b[34m[21:10:36] src/tree/updater_prune.cc:74: tree pruning end, 1 roots, 16 extra nodes, 18 pruned nodes, max_depth=5\u001b[0m\n",
      "\u001b[34m[156]#011train-error:0.082733#011validation-error:0.144\u001b[0m\n",
      "\u001b[34m[21:10:37] src/tree/updater_prune.cc:74: tree pruning end, 1 roots, 12 extra nodes, 2 pruned nodes, max_depth=5\u001b[0m\n",
      "\u001b[34m[157]#011train-error:0.082667#011validation-error:0.1442\u001b[0m\n",
      "\u001b[34m[21:10:38] src/tree/updater_prune.cc:74: tree pruning end, 1 roots, 24 extra nodes, 0 pruned nodes, max_depth=5\u001b[0m\n",
      "\u001b[34m[158]#011train-error:0.082267#011validation-error:0.1449\u001b[0m\n",
      "\u001b[34m[21:10:39] src/tree/updater_prune.cc:74: tree pruning end, 1 roots, 16 extra nodes, 8 pruned nodes, max_depth=5\u001b[0m\n",
      "\u001b[34m[159]#011train-error:0.082133#011validation-error:0.1448\u001b[0m\n",
      "\u001b[34m[21:10:41] src/tree/updater_prune.cc:74: tree pruning end, 1 roots, 18 extra nodes, 2 pruned nodes, max_depth=5\u001b[0m\n",
      "\u001b[34m[160]#011train-error:0.0814#011validation-error:0.1445\u001b[0m\n",
      "\u001b[34m[21:10:42] src/tree/updater_prune.cc:74: tree pruning end, 1 roots, 10 extra nodes, 2 pruned nodes, max_depth=5\u001b[0m\n",
      "\u001b[34m[161]#011train-error:0.080733#011validation-error:0.1442\u001b[0m\n",
      "\u001b[34m[21:10:43] src/tree/updater_prune.cc:74: tree pruning end, 1 roots, 12 extra nodes, 2 pruned nodes, max_depth=5\u001b[0m\n",
      "\u001b[34m[162]#011train-error:0.080867#011validation-error:0.144\u001b[0m\n",
      "\u001b[34m[21:10:45] src/tree/updater_prune.cc:74: tree pruning end, 1 roots, 14 extra nodes, 2 pruned nodes, max_depth=5\u001b[0m\n",
      "\u001b[34m[163]#011train-error:0.0804#011validation-error:0.1432\u001b[0m\n",
      "\u001b[34m[21:10:46] src/tree/updater_prune.cc:74: tree pruning end, 1 roots, 16 extra nodes, 14 pruned nodes, max_depth=5\u001b[0m\n",
      "\u001b[34m[164]#011train-error:0.080133#011validation-error:0.1435\u001b[0m\n",
      "\u001b[34m[21:10:47] src/tree/updater_prune.cc:74: tree pruning end, 1 roots, 14 extra nodes, 6 pruned nodes, max_depth=5\u001b[0m\n",
      "\u001b[34m[165]#011train-error:0.079533#011validation-error:0.1427\u001b[0m\n",
      "\u001b[34m[21:10:48] src/tree/updater_prune.cc:74: tree pruning end, 1 roots, 18 extra nodes, 8 pruned nodes, max_depth=5\u001b[0m\n",
      "\u001b[34m[166]#011train-error:0.0792#011validation-error:0.1426\u001b[0m\n",
      "\u001b[34m[21:10:50] src/tree/updater_prune.cc:74: tree pruning end, 1 roots, 24 extra nodes, 14 pruned nodes, max_depth=5\u001b[0m\n",
      "\u001b[34m[167]#011train-error:0.078467#011validation-error:0.143\u001b[0m\n",
      "\u001b[34m[21:10:51] src/tree/updater_prune.cc:74: tree pruning end, 1 roots, 16 extra nodes, 16 pruned nodes, max_depth=5\u001b[0m\n",
      "\u001b[34m[168]#011train-error:0.078133#011validation-error:0.1435\u001b[0m\n",
      "\u001b[34m[21:10:52] src/tree/updater_prune.cc:74: tree pruning end, 1 roots, 14 extra nodes, 18 pruned nodes, max_depth=5\u001b[0m\n",
      "\u001b[34m[169]#011train-error:0.0782#011validation-error:0.1435\u001b[0m\n",
      "\u001b[34m[21:10:53] src/tree/updater_prune.cc:74: tree pruning end, 1 roots, 12 extra nodes, 6 pruned nodes, max_depth=5\u001b[0m\n",
      "\u001b[34m[170]#011train-error:0.0786#011validation-error:0.1434\u001b[0m\n",
      "\u001b[34m[21:10:55] src/tree/updater_prune.cc:74: tree pruning end, 1 roots, 10 extra nodes, 2 pruned nodes, max_depth=5\u001b[0m\n",
      "\u001b[34m[171]#011train-error:0.078267#011validation-error:0.1434\u001b[0m\n",
      "\n",
      "2020-07-23 21:11:10 Uploading - Uploading generated training model\n",
      "2020-07-23 21:11:10 Completed - Training job completed\n",
      "\u001b[34m[21:10:56] src/tree/updater_prune.cc:74: tree pruning end, 1 roots, 14 extra nodes, 6 pruned nodes, max_depth=5\u001b[0m\n",
      "\u001b[34m[172]#011train-error:0.0778#011validation-error:0.1429\u001b[0m\n",
      "\u001b[34m[21:10:57] src/tree/updater_prune.cc:74: tree pruning end, 1 roots, 16 extra nodes, 6 pruned nodes, max_depth=5\u001b[0m\n",
      "\u001b[34m[173]#011train-error:0.0774#011validation-error:0.143\u001b[0m\n",
      "\u001b[34m[21:10:59] src/tree/updater_prune.cc:74: tree pruning end, 1 roots, 18 extra nodes, 14 pruned nodes, max_depth=5\u001b[0m\n",
      "\u001b[34m[174]#011train-error:0.077933#011validation-error:0.1441\u001b[0m\n",
      "\u001b[34m[21:11:00] src/tree/updater_prune.cc:74: tree pruning end, 1 roots, 18 extra nodes, 14 pruned nodes, max_depth=5\u001b[0m\n",
      "\u001b[34m[175]#011train-error:0.077733#011validation-error:0.1438\u001b[0m\n",
      "\u001b[34m[21:11:01] src/tree/updater_prune.cc:74: tree pruning end, 1 roots, 30 extra nodes, 8 pruned nodes, max_depth=5\u001b[0m\n",
      "\u001b[34m[176]#011train-error:0.076867#011validation-error:0.1437\u001b[0m\n",
      "\u001b[34mStopping. Best iteration:\u001b[0m\n",
      "\u001b[34m[166]#011train-error:0.0792#011validation-error:0.1426\n",
      "\u001b[0m\n",
      "Training seconds: 293\n",
      "Billable seconds: 293\n"
     ]
    }
   ],
   "source": [
    "xgb.fit({'train': s3_input_train, 'validation': s3_input_validation})"
   ]
  },
  {
   "cell_type": "markdown",
   "metadata": {},
   "source": [
    "## Step 5: Testing the model\n",
    "\n",
    "Now that we've fit our XGBoost model, it's time to see how well it performs. To do this we will use SageMakers Batch Transform functionality. Batch Transform is a convenient way to perform inference on a large dataset in a way that is not realtime. That is, we don't necessarily need to use our model's results immediately and instead we can perform inference on a large number of samples. An example of this in industry might be performing an end of month report. This method of inference can also be useful to us as it means that we can perform inference on our entire test set. \n",
    "\n",
    "To perform a Batch Transformation we need to first create a transformer objects from our trained estimator object."
   ]
  },
  {
   "cell_type": "code",
   "execution_count": 24,
   "metadata": {},
   "outputs": [
    {
     "name": "stderr",
     "output_type": "stream",
     "text": [
      "WARNING:sagemaker:Parameter image will be renamed to image_uri in SageMaker Python SDK v2.\n"
     ]
    }
   ],
   "source": [
    "xgb_transformer = xgb.transformer(instance_count = 1, instance_type = 'ml.m4.xlarge')"
   ]
  },
  {
   "cell_type": "markdown",
   "metadata": {},
   "source": [
    "Next we actually perform the transform job. When doing so we need to make sure to specify the type of data we are sending so that it is serialized correctly in the background. In our case we are providing our model with csv data so we specify `text/csv`. Also, if the test data that we have provided is too large to process all at once then we need to specify how the data file should be split up. Since each line is a single entry in our data set we tell SageMaker that it can split the input on each line."
   ]
  },
  {
   "cell_type": "code",
   "execution_count": 25,
   "metadata": {},
   "outputs": [],
   "source": [
    "xgb_transformer.transform(test_location, content_type='text/csv', split_type='Line')"
   ]
  },
  {
   "cell_type": "markdown",
   "metadata": {},
   "source": [
    "Currently the transform job is running but it is doing so in the background. Since we wish to wait until the transform job is done and we would like a bit of feedback we can run the `wait()` method."
   ]
  },
  {
   "cell_type": "code",
   "execution_count": 26,
   "metadata": {},
   "outputs": [
    {
     "name": "stdout",
     "output_type": "stream",
     "text": [
      ".....................\u001b[34mArguments: serve\u001b[0m\n",
      "\u001b[34m[2020-07-23 21:16:23 +0000] [1] [INFO] Starting gunicorn 19.7.1\u001b[0m\n",
      "\u001b[34m[2020-07-23 21:16:23 +0000] [1] [INFO] Listening at: http://0.0.0.0:8080 (1)\u001b[0m\n",
      "\u001b[34m[2020-07-23 21:16:23 +0000] [1] [INFO] Using worker: gevent\u001b[0m\n",
      "\u001b[34m[2020-07-23 21:16:23 +0000] [36] [INFO] Booting worker with pid: 36\u001b[0m\n",
      "\u001b[34m[2020-07-23 21:16:23 +0000] [37] [INFO] Booting worker with pid: 37\u001b[0m\n",
      "\u001b[34m[2020-07-23 21:16:23 +0000] [38] [INFO] Booting worker with pid: 38\u001b[0m\n",
      "\u001b[34m[2020-07-23 21:16:23 +0000] [39] [INFO] Booting worker with pid: 39\u001b[0m\n",
      "\u001b[34m[2020-07-23:21:16:23:INFO] Model loaded successfully for worker : 37\u001b[0m\n",
      "\u001b[34m[2020-07-23:21:16:23:INFO] Model loaded successfully for worker : 36\u001b[0m\n",
      "\u001b[34m[2020-07-23:21:16:23:INFO] Model loaded successfully for worker : 38\u001b[0m\n",
      "\u001b[34m[2020-07-23:21:16:23:INFO] Model loaded successfully for worker : 39\u001b[0m\n",
      "\u001b[32m2020-07-23T21:16:32.720:[sagemaker logs]: MaxConcurrentTransforms=4, MaxPayloadInMB=6, BatchStrategy=MULTI_RECORD\u001b[0m\n",
      "\u001b[34m[2020-07-23:21:16:35:INFO] Sniff delimiter as ','\u001b[0m\n",
      "\u001b[34m[2020-07-23:21:16:35:INFO] Determined delimiter of CSV input is ','\u001b[0m\n",
      "\u001b[35m[2020-07-23:21:16:35:INFO] Sniff delimiter as ','\u001b[0m\n",
      "\u001b[35m[2020-07-23:21:16:35:INFO] Determined delimiter of CSV input is ','\u001b[0m\n",
      "\u001b[34m[2020-07-23:21:16:35:INFO] Sniff delimiter as ','\u001b[0m\n",
      "\u001b[34m[2020-07-23:21:16:35:INFO] Determined delimiter of CSV input is ','\u001b[0m\n",
      "\u001b[34m[2020-07-23:21:16:35:INFO] Sniff delimiter as ','\u001b[0m\n",
      "\u001b[34m[2020-07-23:21:16:35:INFO] Determined delimiter of CSV input is ','\u001b[0m\n",
      "\u001b[34m[2020-07-23:21:16:35:INFO] Sniff delimiter as ','\u001b[0m\n",
      "\u001b[34m[2020-07-23:21:16:35:INFO] Determined delimiter of CSV input is ','\u001b[0m\n",
      "\u001b[35m[2020-07-23:21:16:35:INFO] Sniff delimiter as ','\u001b[0m\n",
      "\u001b[35m[2020-07-23:21:16:35:INFO] Determined delimiter of CSV input is ','\u001b[0m\n",
      "\u001b[35m[2020-07-23:21:16:35:INFO] Sniff delimiter as ','\u001b[0m\n",
      "\u001b[35m[2020-07-23:21:16:35:INFO] Determined delimiter of CSV input is ','\u001b[0m\n",
      "\u001b[35m[2020-07-23:21:16:35:INFO] Sniff delimiter as ','\u001b[0m\n",
      "\u001b[35m[2020-07-23:21:16:35:INFO] Determined delimiter of CSV input is ','\u001b[0m\n",
      "\u001b[34m[2020-07-23:21:16:38:INFO] Sniff delimiter as ','\u001b[0m\n",
      "\u001b[34m[2020-07-23:21:16:38:INFO] Determined delimiter of CSV input is ','\u001b[0m\n",
      "\u001b[34m[2020-07-23:21:16:38:INFO] Sniff delimiter as ','\u001b[0m\n",
      "\u001b[34m[2020-07-23:21:16:38:INFO] Determined delimiter of CSV input is ','\u001b[0m\n",
      "\u001b[34m[2020-07-23:21:16:38:INFO] Sniff delimiter as ','\u001b[0m\n",
      "\u001b[34m[2020-07-23:21:16:38:INFO] Determined delimiter of CSV input is ','\u001b[0m\n",
      "\u001b[34m[2020-07-23:21:16:38:INFO] Sniff delimiter as ','\u001b[0m\n",
      "\u001b[34m[2020-07-23:21:16:38:INFO] Determined delimiter of CSV input is ','\u001b[0m\n",
      "\u001b[35m[2020-07-23:21:16:38:INFO] Sniff delimiter as ','\u001b[0m\n",
      "\u001b[35m[2020-07-23:21:16:38:INFO] Determined delimiter of CSV input is ','\u001b[0m\n",
      "\u001b[35m[2020-07-23:21:16:38:INFO] Sniff delimiter as ','\u001b[0m\n",
      "\u001b[35m[2020-07-23:21:16:38:INFO] Determined delimiter of CSV input is ','\u001b[0m\n",
      "\u001b[35m[2020-07-23:21:16:38:INFO] Sniff delimiter as ','\u001b[0m\n",
      "\u001b[35m[2020-07-23:21:16:38:INFO] Determined delimiter of CSV input is ','\u001b[0m\n",
      "\u001b[35m[2020-07-23:21:16:38:INFO] Sniff delimiter as ','\u001b[0m\n",
      "\u001b[35m[2020-07-23:21:16:38:INFO] Determined delimiter of CSV input is ','\u001b[0m\n",
      "\u001b[34m[2020-07-23:21:16:40:INFO] Sniff delimiter as ','\u001b[0m\n",
      "\u001b[35m[2020-07-23:21:16:40:INFO] Sniff delimiter as ','\u001b[0m\n",
      "\u001b[34m[2020-07-23:21:16:40:INFO] Determined delimiter of CSV input is ','\u001b[0m\n",
      "\u001b[35m[2020-07-23:21:16:40:INFO] Determined delimiter of CSV input is ','\u001b[0m\n",
      "\u001b[34m[2020-07-23:21:16:40:INFO] Sniff delimiter as ','\u001b[0m\n",
      "\u001b[34m[2020-07-23:21:16:40:INFO] Determined delimiter of CSV input is ','\u001b[0m\n",
      "\u001b[34m[2020-07-23:21:16:40:INFO] Sniff delimiter as ','\u001b[0m\n",
      "\u001b[34m[2020-07-23:21:16:40:INFO] Determined delimiter of CSV input is ','\u001b[0m\n",
      "\u001b[34m[2020-07-23:21:16:40:INFO] Sniff delimiter as ','\u001b[0m\n",
      "\u001b[34m[2020-07-23:21:16:40:INFO] Determined delimiter of CSV input is ','\u001b[0m\n",
      "\u001b[35m[2020-07-23:21:16:40:INFO] Sniff delimiter as ','\u001b[0m\n",
      "\u001b[35m[2020-07-23:21:16:40:INFO] Determined delimiter of CSV input is ','\u001b[0m\n",
      "\u001b[35m[2020-07-23:21:16:40:INFO] Sniff delimiter as ','\u001b[0m\n",
      "\u001b[35m[2020-07-23:21:16:40:INFO] Determined delimiter of CSV input is ','\u001b[0m\n",
      "\u001b[35m[2020-07-23:21:16:40:INFO] Sniff delimiter as ','\u001b[0m\n",
      "\u001b[35m[2020-07-23:21:16:40:INFO] Determined delimiter of CSV input is ','\u001b[0m\n",
      "\u001b[34m[2020-07-23:21:16:42:INFO] Sniff delimiter as ','\u001b[0m\n",
      "\u001b[34m[2020-07-23:21:16:42:INFO] Determined delimiter of CSV input is ','\u001b[0m\n",
      "\u001b[34m[2020-07-23:21:16:42:INFO] Sniff delimiter as ','\u001b[0m\n",
      "\u001b[34m[2020-07-23:21:16:42:INFO] Determined delimiter of CSV input is ','\u001b[0m\n",
      "\u001b[34m[2020-07-23:21:16:43:INFO] Sniff delimiter as ','\u001b[0m\n",
      "\u001b[34m[2020-07-23:21:16:43:INFO] Determined delimiter of CSV input is ','\u001b[0m\n",
      "\u001b[34m[2020-07-23:21:16:43:INFO] Sniff delimiter as ','\u001b[0m\n",
      "\u001b[34m[2020-07-23:21:16:43:INFO] Determined delimiter of CSV input is ','\u001b[0m\n",
      "\u001b[35m[2020-07-23:21:16:42:INFO] Sniff delimiter as ','\u001b[0m\n",
      "\u001b[35m[2020-07-23:21:16:42:INFO] Determined delimiter of CSV input is ','\u001b[0m\n",
      "\u001b[35m[2020-07-23:21:16:42:INFO] Sniff delimiter as ','\u001b[0m\n",
      "\u001b[35m[2020-07-23:21:16:42:INFO] Determined delimiter of CSV input is ','\u001b[0m\n",
      "\u001b[35m[2020-07-23:21:16:43:INFO] Sniff delimiter as ','\u001b[0m\n",
      "\u001b[35m[2020-07-23:21:16:43:INFO] Determined delimiter of CSV input is ','\u001b[0m\n",
      "\u001b[35m[2020-07-23:21:16:43:INFO] Sniff delimiter as ','\u001b[0m\n",
      "\u001b[35m[2020-07-23:21:16:43:INFO] Determined delimiter of CSV input is ','\u001b[0m\n",
      "\n",
      "\u001b[34m[2020-07-23:21:16:47:INFO] Sniff delimiter as ','\u001b[0m\n",
      "\u001b[34m[2020-07-23:21:16:47:INFO] Determined delimiter of CSV input is ','\u001b[0m\n",
      "\u001b[34m[2020-07-23:21:16:47:INFO] Sniff delimiter as ','\u001b[0m\n",
      "\u001b[34m[2020-07-23:21:16:47:INFO] Determined delimiter of CSV input is ','\u001b[0m\n",
      "\u001b[34m[2020-07-23:21:16:48:INFO] Sniff delimiter as ','\u001b[0m\n",
      "\u001b[34m[2020-07-23:21:16:48:INFO] Determined delimiter of CSV input is ','\u001b[0m\n",
      "\u001b[34m[2020-07-23:21:16:48:INFO] Sniff delimiter as ','\u001b[0m\n",
      "\u001b[34m[2020-07-23:21:16:48:INFO] Determined delimiter of CSV input is ','\u001b[0m\n",
      "\u001b[35m[2020-07-23:21:16:47:INFO] Sniff delimiter as ','\u001b[0m\n",
      "\u001b[35m[2020-07-23:21:16:47:INFO] Determined delimiter of CSV input is ','\u001b[0m\n",
      "\u001b[35m[2020-07-23:21:16:47:INFO] Sniff delimiter as ','\u001b[0m\n",
      "\u001b[35m[2020-07-23:21:16:47:INFO] Determined delimiter of CSV input is ','\u001b[0m\n",
      "\u001b[35m[2020-07-23:21:16:48:INFO] Sniff delimiter as ','\u001b[0m\n",
      "\u001b[35m[2020-07-23:21:16:48:INFO] Determined delimiter of CSV input is ','\u001b[0m\n",
      "\u001b[35m[2020-07-23:21:16:48:INFO] Sniff delimiter as ','\u001b[0m\n",
      "\u001b[35m[2020-07-23:21:16:48:INFO] Determined delimiter of CSV input is ','\u001b[0m\n",
      "\u001b[34m[2020-07-23:21:16:50:INFO] Sniff delimiter as ','\u001b[0m\n",
      "\u001b[34m[2020-07-23:21:16:50:INFO] Determined delimiter of CSV input is ','\u001b[0m\n",
      "\u001b[34m[2020-07-23:21:16:50:INFO] Sniff delimiter as ','\u001b[0m\n",
      "\u001b[34m[2020-07-23:21:16:50:INFO] Determined delimiter of CSV input is ','\u001b[0m\n",
      "\u001b[34m[2020-07-23:21:16:50:INFO] Sniff delimiter as ','\u001b[0m\n",
      "\u001b[34m[2020-07-23:21:16:50:INFO] Determined delimiter of CSV input is ','\u001b[0m\n",
      "\u001b[35m[2020-07-23:21:16:50:INFO] Sniff delimiter as ','\u001b[0m\n",
      "\u001b[35m[2020-07-23:21:16:50:INFO] Determined delimiter of CSV input is ','\u001b[0m\n",
      "\u001b[35m[2020-07-23:21:16:50:INFO] Sniff delimiter as ','\u001b[0m\n",
      "\u001b[35m[2020-07-23:21:16:50:INFO] Determined delimiter of CSV input is ','\u001b[0m\n",
      "\u001b[35m[2020-07-23:21:16:50:INFO] Sniff delimiter as ','\u001b[0m\n",
      "\u001b[35m[2020-07-23:21:16:50:INFO] Determined delimiter of CSV input is ','\u001b[0m\n",
      "\u001b[34m[2020-07-23:21:16:50:INFO] Sniff delimiter as ','\u001b[0m\n",
      "\u001b[34m[2020-07-23:21:16:50:INFO] Determined delimiter of CSV input is ','\u001b[0m\n",
      "\u001b[35m[2020-07-23:21:16:50:INFO] Sniff delimiter as ','\u001b[0m\n",
      "\u001b[35m[2020-07-23:21:16:50:INFO] Determined delimiter of CSV input is ','\u001b[0m\n",
      "\u001b[34m[2020-07-23:21:16:52:INFO] Sniff delimiter as ','\u001b[0m\n",
      "\u001b[34m[2020-07-23:21:16:52:INFO] Determined delimiter of CSV input is ','\u001b[0m\n",
      "\u001b[34m[2020-07-23:21:16:52:INFO] Sniff delimiter as ','\u001b[0m\n",
      "\u001b[34m[2020-07-23:21:16:52:INFO] Determined delimiter of CSV input is ','\u001b[0m\n",
      "\u001b[34m[2020-07-23:21:16:52:INFO] Sniff delimiter as ','\u001b[0m\n",
      "\u001b[34m[2020-07-23:21:16:52:INFO] Determined delimiter of CSV input is ','\u001b[0m\n",
      "\u001b[34m[2020-07-23:21:16:53:INFO] Sniff delimiter as ','\u001b[0m\n",
      "\u001b[34m[2020-07-23:21:16:53:INFO] Determined delimiter of CSV input is ','\u001b[0m\n",
      "\u001b[35m[2020-07-23:21:16:52:INFO] Sniff delimiter as ','\u001b[0m\n",
      "\u001b[35m[2020-07-23:21:16:52:INFO] Determined delimiter of CSV input is ','\u001b[0m\n",
      "\u001b[35m[2020-07-23:21:16:52:INFO] Sniff delimiter as ','\u001b[0m\n",
      "\u001b[35m[2020-07-23:21:16:52:INFO] Determined delimiter of CSV input is ','\u001b[0m\n",
      "\u001b[35m[2020-07-23:21:16:52:INFO] Sniff delimiter as ','\u001b[0m\n",
      "\u001b[35m[2020-07-23:21:16:52:INFO] Determined delimiter of CSV input is ','\u001b[0m\n",
      "\u001b[35m[2020-07-23:21:16:53:INFO] Sniff delimiter as ','\u001b[0m\n",
      "\u001b[35m[2020-07-23:21:16:53:INFO] Determined delimiter of CSV input is ','\u001b[0m\n",
      "\u001b[34m[2020-07-23:21:16:55:INFO] Sniff delimiter as ','\u001b[0m\n",
      "\u001b[34m[2020-07-23:21:16:55:INFO] Determined delimiter of CSV input is ','\u001b[0m\n",
      "\u001b[34m[2020-07-23:21:16:55:INFO] Sniff delimiter as ','\u001b[0m\n",
      "\u001b[34m[2020-07-23:21:16:55:INFO] Determined delimiter of CSV input is ','\u001b[0m\n",
      "\u001b[34m[2020-07-23:21:16:55:INFO] Sniff delimiter as ','\u001b[0m\n",
      "\u001b[34m[2020-07-23:21:16:55:INFO] Determined delimiter of CSV input is ','\u001b[0m\n",
      "\u001b[35m[2020-07-23:21:16:55:INFO] Sniff delimiter as ','\u001b[0m\n",
      "\u001b[35m[2020-07-23:21:16:55:INFO] Determined delimiter of CSV input is ','\u001b[0m\n",
      "\u001b[35m[2020-07-23:21:16:55:INFO] Sniff delimiter as ','\u001b[0m\n",
      "\u001b[35m[2020-07-23:21:16:55:INFO] Determined delimiter of CSV input is ','\u001b[0m\n",
      "\u001b[35m[2020-07-23:21:16:55:INFO] Sniff delimiter as ','\u001b[0m\n",
      "\u001b[35m[2020-07-23:21:16:55:INFO] Determined delimiter of CSV input is ','\u001b[0m\n",
      "\u001b[34m[2020-07-23:21:16:55:INFO] Sniff delimiter as ','\u001b[0m\n",
      "\u001b[35m[2020-07-23:21:16:55:INFO] Sniff delimiter as ','\u001b[0m\n",
      "\u001b[34m[2020-07-23:21:16:55:INFO] Determined delimiter of CSV input is ','\u001b[0m\n",
      "\u001b[35m[2020-07-23:21:16:55:INFO] Determined delimiter of CSV input is ','\u001b[0m\n",
      "\u001b[34m[2020-07-23:21:16:57:INFO] Sniff delimiter as ','\u001b[0m\n",
      "\u001b[34m[2020-07-23:21:16:57:INFO] Determined delimiter of CSV input is ','\u001b[0m\n",
      "\u001b[35m[2020-07-23:21:16:57:INFO] Sniff delimiter as ','\u001b[0m\n",
      "\u001b[35m[2020-07-23:21:16:57:INFO] Determined delimiter of CSV input is ','\u001b[0m\n",
      "\u001b[34m[2020-07-23:21:16:57:INFO] Sniff delimiter as ','\u001b[0m\n",
      "\u001b[35m[2020-07-23:21:16:57:INFO] Sniff delimiter as ','\u001b[0m\n",
      "\u001b[34m[2020-07-23:21:16:57:INFO] Determined delimiter of CSV input is ','\u001b[0m\n",
      "\u001b[34m[2020-07-23:21:16:57:INFO] Sniff delimiter as ','\u001b[0m\n",
      "\u001b[34m[2020-07-23:21:16:57:INFO] Determined delimiter of CSV input is ','\u001b[0m\n",
      "\u001b[34m[2020-07-23:21:16:58:INFO] Sniff delimiter as ','\u001b[0m\n",
      "\u001b[34m[2020-07-23:21:16:58:INFO] Determined delimiter of CSV input is ','\u001b[0m\n",
      "\u001b[35m[2020-07-23:21:16:57:INFO] Determined delimiter of CSV input is ','\u001b[0m\n",
      "\u001b[35m[2020-07-23:21:16:57:INFO] Sniff delimiter as ','\u001b[0m\n",
      "\u001b[35m[2020-07-23:21:16:57:INFO] Determined delimiter of CSV input is ','\u001b[0m\n",
      "\u001b[35m[2020-07-23:21:16:58:INFO] Sniff delimiter as ','\u001b[0m\n",
      "\u001b[35m[2020-07-23:21:16:58:INFO] Determined delimiter of CSV input is ','\u001b[0m\n"
     ]
    }
   ],
   "source": [
    "xgb_transformer.wait()"
   ]
  },
  {
   "cell_type": "markdown",
   "metadata": {},
   "source": [
    "Now the transform job has executed and the result, the estimated sentiment of each review, has been saved on S3. Since we would rather work on this file locally we can perform a bit of notebook magic to copy the file to the `data_dir`."
   ]
  },
  {
   "cell_type": "code",
   "execution_count": 27,
   "metadata": {},
   "outputs": [
    {
     "name": "stdout",
     "output_type": "stream",
     "text": [
      "Completed 256.0 KiB/369.8 KiB (4.6 MiB/s) with 1 file(s) remaining\r",
      "Completed 369.8 KiB/369.8 KiB (6.5 MiB/s) with 1 file(s) remaining\r",
      "download: s3://sagemaker-us-east-2-984881703516/xgboost-2020-07-23-21-12-56-648/test.csv.out to ../data/sentiment_web_app/test.csv.out\r\n"
     ]
    }
   ],
   "source": [
    "!aws s3 cp --recursive $xgb_transformer.output_path $data_dir"
   ]
  },
  {
   "cell_type": "markdown",
   "metadata": {},
   "source": [
    "The last step is now to read in the output from our model, convert the output to something a little more usable, in this case we want the sentiment to be either `1` (positive) or `0` (negative), and then compare to the ground truth labels."
   ]
  },
  {
   "cell_type": "code",
   "execution_count": 28,
   "metadata": {},
   "outputs": [],
   "source": [
    "predictions = pd.read_csv(os.path.join(data_dir, 'test.csv.out'), header=None)\n",
    "predictions = [round(num) for num in predictions.squeeze().values]"
   ]
  },
  {
   "cell_type": "code",
   "execution_count": 29,
   "metadata": {},
   "outputs": [
    {
     "data": {
      "text/plain": [
       "0.8632"
      ]
     },
     "execution_count": 29,
     "metadata": {},
     "output_type": "execute_result"
    }
   ],
   "source": [
    "from sklearn.metrics import accuracy_score\n",
    "accuracy_score(test_y, predictions)"
   ]
  },
  {
   "cell_type": "markdown",
   "metadata": {},
   "source": [
    "## Step 6: Deploying the model\n",
    "\n",
    "Once we construct and fit our model, SageMaker stores the resulting model artifacts and we can use those to deploy an endpoint (inference code). To see this, look in the SageMaker console and you should see that a model has been created along with a link to the S3 location where the model artifacts have been stored.\n",
    "\n",
    "Deploying an endpoint is a lot like training the model with a few important differences. The first is that a deployed model doesn't change the model artifacts, so as you send it various testing instances the model won't change. Another difference is that since we aren't performing a fixed computation, as we were in the training step or while performing a batch transform, the compute instance that gets started stays running until we tell it to stop. This is important to note as if we forget and leave it running we will be charged the entire time.\n",
    "\n",
    "In other words **If you are no longer using a deployed endpoint, shut it down!**"
   ]
  },
  {
   "cell_type": "code",
   "execution_count": 30,
   "metadata": {},
   "outputs": [
    {
     "name": "stderr",
     "output_type": "stream",
     "text": [
      "WARNING:sagemaker:Parameter image will be renamed to image_uri in SageMaker Python SDK v2.\n",
      "WARNING:sagemaker:Using already existing model: xgboost-2020-07-23-21-04-07-876\n"
     ]
    },
    {
     "name": "stdout",
     "output_type": "stream",
     "text": [
      "-------------!"
     ]
    }
   ],
   "source": [
    "xgb_predictor = xgb.deploy(initial_instance_count = 1, instance_type = 'ml.m4.xlarge')"
   ]
  },
  {
   "cell_type": "markdown",
   "metadata": {},
   "source": [
    "### Testing the model (again)\n",
    "\n",
    "Now that we have deployed our endpoint, we can send the testing data to it and get back the inference results. We already did this earlier using the batch transform functionality of SageMaker, however, we will test our model again using the newly deployed endpoint so that we can make sure that it works properly and to get a bit of a feel for how the endpoint works.\n",
    "\n",
    "When using the created endpoint it is important to know that we are limited in the amount of information we can send in each call so we need to break the testing data up into chunks and then send each chunk. Also, we need to serialize our data before we send it to the endpoint to ensure that our data is transmitted properly. Fortunately, SageMaker can do the serialization part for us provided we tell it the format of our data."
   ]
  },
  {
   "cell_type": "code",
   "execution_count": 31,
   "metadata": {},
   "outputs": [],
   "source": [
    "from sagemaker.predictor import csv_serializer\n",
    "\n",
    "# We need to tell the endpoint what format the data we are sending is in so that SageMaker can perform the serialization.\n",
    "xgb_predictor.content_type = 'text/csv'\n",
    "xgb_predictor.serializer = csv_serializer"
   ]
  },
  {
   "cell_type": "code",
   "execution_count": 32,
   "metadata": {},
   "outputs": [],
   "source": [
    "# We split the data into chunks and send each chunk seperately, accumulating the results.\n",
    "\n",
    "def predict(data, rows=512):\n",
    "    split_array = np.array_split(data, int(data.shape[0] / float(rows) + 1))\n",
    "    predictions = ''\n",
    "    for array in split_array:\n",
    "        predictions = ','.join([predictions, xgb_predictor.predict(array).decode('utf-8')])\n",
    "    \n",
    "    return np.fromstring(predictions[1:], sep=',')"
   ]
  },
  {
   "cell_type": "code",
   "execution_count": 33,
   "metadata": {},
   "outputs": [],
   "source": [
    "test_X = pd.read_csv(os.path.join(data_dir, 'test.csv'), header=None).values\n",
    "\n",
    "predictions = predict(test_X)\n",
    "predictions = [round(num) for num in predictions]"
   ]
  },
  {
   "cell_type": "markdown",
   "metadata": {},
   "source": [
    "Lastly, we check to see what the accuracy of our model is."
   ]
  },
  {
   "cell_type": "code",
   "execution_count": 34,
   "metadata": {},
   "outputs": [
    {
     "data": {
      "text/plain": [
       "0.8632"
      ]
     },
     "execution_count": 34,
     "metadata": {},
     "output_type": "execute_result"
    }
   ],
   "source": [
    "from sklearn.metrics import accuracy_score\n",
    "accuracy_score(test_y, predictions)"
   ]
  },
  {
   "cell_type": "markdown",
   "metadata": {},
   "source": [
    "And the results here should agree with the model testing that we did earlier using the batch transform job.\n",
    "\n",
    "### Cleaning up\n",
    "\n",
    "Now that we've determined that deploying our model works as expected, we are going to shut it down. Remember that the longer the endpoint is left running, the greater the cost and since we have a bit more work to do before we are able to use our endpoint with our simple web app, we should shut everything down."
   ]
  },
  {
   "cell_type": "code",
   "execution_count": null,
   "metadata": {},
   "outputs": [],
   "source": [
    "xgb_predictor.delete_endpoint()"
   ]
  },
  {
   "cell_type": "markdown",
   "metadata": {},
   "source": [
    "## Step 7: Putting our model to work\n",
    "\n",
    "As we've mentioned a few times now, our goal is to have our model deployed and then access it using a very simple web app. The intent is for this web app to take some user submitted data (a review), send it off to our endpoint (the model) and then display the result.\n",
    "\n",
    "However, there is a small catch. Currently the only way we can access the endpoint to send it data is using the SageMaker API. We can, if we wish, expose the actual URL that our model's endpoint is receiving data from, however, if we just send it data ourselves we will not get anything in return. This is because the endpoint created by SageMaker requires the entity accessing it have the correct permissions. So, we would need to somehow authenticate our web app with AWS.\n",
    "\n",
    "Having a website that authenticates to AWS seems a bit beyond the scope of this lesson so we will opt for an alternative approach. Namely, we will create a new endpoint which does not require authentication and which acts as a proxy for the SageMaker endpoint.\n",
    "\n",
    "As an additional constraint, we will try to avoid doing any data processing in the web app itself. Remember that when we constructed and tested our model we started with a movie review, then we simplified it by removing any html formatting and punctuation, then we constructed a bag of words embedding and the resulting vector is what we sent to our model. All of this needs to be done to our user input as well.\n",
    "\n",
    "Fortunately we can do all of this data processing in the backend, using Amazon's Lambda service.\n",
    "\n",
    "<img src=\"Web App Diagram.svg\">\n",
    "\n",
    "The diagram above gives an overview of how the various services will work together. On the far right is the model which we trained above and which will be deployed using SageMaker. On the far left is our web app that collects a user's movie review, sends it off and expects a positive or negative sentiment in return.\n",
    "\n",
    "In the middle is where some of the magic happens. We will construct a Lambda function, which you can think of as a straightforward Python function that can be executed whenever a specified event occurs. This Python function will do the data processing we need to perform on a user submitted review. In addition, we will give this function permission to send and recieve data from a SageMaker endpoint.\n",
    "\n",
    "Lastly, the method we will use to execute the Lambda function is a new endpoint that we will create using API Gateway. This endpoint will be a url that listens for data to be sent to it. Once it gets some data it will pass that data on to the Lambda function and then return whatever the Lambda function returns. Essentially it will act as an interface that lets our web app communicate with the Lambda function.\n",
    "\n",
    "### Processing a single review\n",
    "\n",
    "For now, suppose we are given a movie review by our user in the form of a string, like so:"
   ]
  },
  {
   "cell_type": "code",
   "execution_count": 35,
   "metadata": {},
   "outputs": [],
   "source": [
    "test_review = \"Nothing but a disgusting materialistic pageant of glistening abed remote control greed zombies, totally devoid of any heart or heat. A romantic comedy that has zero romantic chemestry and zero laughs!\""
   ]
  },
  {
   "cell_type": "markdown",
   "metadata": {},
   "source": [
    "How do we go from this string to the bag of words feature vector that is expected by our model?\n",
    "\n",
    "If we recall at the beginning of this notebook, the first step is to remove any unnecessary characters using the `review_to_words` method. Remember that we intentionally did this in a very simplistic way. This is because we are going to have to copy this method to our (eventual) Lambda function (we will go into more detail later) and this means it needs to be rather simplistic."
   ]
  },
  {
   "cell_type": "code",
   "execution_count": 36,
   "metadata": {},
   "outputs": [
    {
     "name": "stdout",
     "output_type": "stream",
     "text": [
      "nothing but a disgusting materialistic pageant of glistening abed remote control greed zombies totally devoid of any heart or heat a romantic comedy that has zero romantic chemestry and zero laughs\n"
     ]
    }
   ],
   "source": [
    "test_words = review_to_words(test_review)\n",
    "print(test_words)"
   ]
  },
  {
   "cell_type": "markdown",
   "metadata": {},
   "source": [
    "Next, we need to construct a bag of words embedding of the `test_words` string. To do this, remember that a bag of words embedding uses a `vocabulary` consisting of the most frequently appearing words in a set of documents. Then, for each word in the vocabulary we record the number of times that word appears in `test_words`. We constructed the `vocabulary` earlier using the training set for our problem so encoding `test_words` is relatively straightforward."
   ]
  },
  {
   "cell_type": "code",
   "execution_count": 37,
   "metadata": {},
   "outputs": [],
   "source": [
    "def bow_encoding(words, vocabulary):\n",
    "    bow = [0] * len(vocabulary) # Start by setting the count for each word in the vocabulary to zero.\n",
    "    for word in words.split():  # For each word in the string\n",
    "        if word in vocabulary:  # If the word is one that occurs in the vocabulary, increase its count.\n",
    "            bow[vocabulary[word]] += 1\n",
    "    return bow"
   ]
  },
  {
   "cell_type": "code",
   "execution_count": 38,
   "metadata": {},
   "outputs": [
    {
     "name": "stdout",
     "output_type": "stream",
     "text": [
      "[0, 0, 0, 0, 0, 0, 0, 0, 0, 0, 0, 0, 0, 0, 0, 0, 0, 0, 0, 0, 0, 0, 0, 0, 0, 0, 0, 0, 0, 0, 0, 0, 0, 0, 0, 0, 0, 0, 0, 0, 0, 0, 0, 0, 0, 0, 0, 0, 0, 0, 0, 0, 0, 0, 0, 0, 0, 0, 0, 0, 0, 0, 0, 0, 0, 0, 0, 0, 0, 0, 0, 0, 0, 0, 0, 0, 0, 0, 0, 0, 0, 0, 0, 0, 0, 0, 0, 0, 0, 0, 0, 0, 0, 0, 0, 0, 0, 0, 0, 0, 0, 0, 0, 0, 0, 0, 0, 0, 0, 0, 0, 0, 0, 0, 0, 0, 0, 0, 0, 0, 0, 0, 0, 0, 0, 0, 0, 0, 0, 0, 0, 0, 0, 0, 0, 0, 0, 0, 0, 0, 0, 0, 0, 0, 0, 0, 0, 0, 0, 0, 0, 0, 0, 0, 0, 0, 0, 0, 0, 0, 0, 0, 0, 0, 0, 0, 0, 0, 0, 0, 0, 0, 0, 0, 0, 0, 0, 0, 0, 0, 0, 0, 0, 0, 0, 0, 0, 0, 0, 0, 0, 0, 0, 0, 0, 0, 0, 0, 0, 0, 0, 0, 0, 0, 0, 0, 0, 0, 0, 0, 0, 0, 0, 0, 0, 0, 0, 0, 0, 0, 0, 0, 0, 0, 0, 0, 1, 0, 0, 0, 0, 0, 0, 0, 0, 0, 0, 0, 0, 0, 0, 0, 0, 0, 0, 0, 0, 0, 0, 0, 0, 0, 0, 0, 0, 0, 1, 0, 0, 0, 0, 0, 0, 0, 0, 0, 0, 0, 0, 0, 0, 0, 0, 0, 0, 0, 0, 0, 0, 0, 0, 0, 0, 0, 0, 0, 0, 0, 0, 0, 0, 0, 0, 0, 0, 0, 0, 0, 0, 0, 0, 0, 0, 0, 0, 0, 0, 0, 0, 0, 0, 0, 0, 0, 0, 0, 0, 0, 0, 0, 0, 0, 0, 0, 0, 0, 0, 0, 0, 0, 0, 0, 0, 0, 0, 0, 0, 0, 0, 0, 0, 0, 0, 0, 0, 0, 0, 0, 0, 0, 0, 0, 0, 0, 0, 0, 0, 0, 0, 0, 0, 0, 0, 0, 0, 0, 0, 0, 0, 0, 0, 0, 0, 0, 0, 0, 0, 0, 0, 0, 0, 0, 0, 0, 0, 0, 0, 0, 0, 0, 0, 0, 0, 0, 0, 0, 0, 0, 0, 0, 0, 0, 0, 0, 0, 0, 0, 0, 0, 0, 0, 0, 0, 0, 0, 0, 0, 0, 0, 0, 0, 0, 0, 0, 0, 0, 0, 0, 0, 0, 0, 0, 0, 0, 0, 0, 0, 0, 0, 0, 0, 0, 0, 0, 0, 0, 0, 0, 0, 0, 0, 0, 0, 0, 0, 0, 0, 0, 0, 0, 0, 0, 0, 0, 0, 0, 0, 0, 0, 0, 0, 0, 0, 0, 0, 0, 0, 0, 0, 0, 0, 0, 0, 0, 0, 0, 0, 0, 0, 0, 0, 0, 0, 0, 0, 0, 0, 0, 0, 0, 0, 0, 0, 0, 0, 0, 0, 0, 0, 0, 0, 0, 0, 0, 0, 0, 0, 0, 0, 0, 0, 0, 0, 0, 0, 0, 0, 0, 0, 0, 0, 0, 0, 0, 0, 0, 0, 0, 0, 0, 0, 0, 0, 0, 0, 0, 0, 0, 0, 0, 0, 0, 0, 0, 0, 0, 0, 0, 0, 0, 0, 0, 0, 0, 0, 0, 0, 0, 0, 0, 0, 0, 0, 0, 0, 0, 0, 0, 0, 0, 0, 0, 0, 0, 0, 0, 0, 0, 0, 0, 0, 0, 0, 0, 0, 0, 0, 0, 0, 0, 0, 0, 0, 0, 0, 0, 0, 0, 0, 0, 0, 0, 0, 0, 0, 0, 0, 0, 0, 0, 0, 0, 0, 0, 0, 0, 0, 0, 0, 0, 0, 0, 0, 0, 0, 0, 1, 0, 0, 0, 0, 0, 0, 0, 0, 0, 0, 0, 0, 0, 0, 0, 0, 0, 0, 0, 0, 0, 0, 0, 0, 0, 0, 0, 0, 0, 0, 0, 0, 0, 0, 0, 0, 0, 0, 0, 0, 0, 0, 0, 0, 0, 0, 0, 0, 0, 0, 0, 0, 0, 0, 0, 0, 0, 0, 0, 0, 0, 0, 0, 0, 0, 0, 0, 0, 0, 0, 0, 0, 0, 0, 0, 0, 0, 0, 0, 0, 0, 0, 0, 0, 0, 0, 0, 0, 0, 0, 0, 0, 0, 0, 0, 0, 0, 0, 0, 0, 0, 0, 0, 0, 0, 0, 0, 0, 0, 0, 0, 0, 0, 0, 0, 0, 0, 0, 0, 0, 0, 0, 0, 0, 0, 0, 0, 0, 0, 0, 0, 0, 0, 0, 0, 0, 0, 0, 0, 0, 0, 0, 0, 0, 0, 0, 0, 0, 0, 0, 0, 0, 0, 0, 0, 0, 0, 0, 0, 0, 0, 0, 0, 0, 0, 0, 0, 0, 0, 0, 0, 0, 0, 0, 0, 0, 0, 0, 0, 0, 0, 0, 0, 0, 0, 0, 0, 0, 0, 0, 0, 0, 0, 0, 0, 0, 0, 0, 0, 0, 0, 0, 0, 0, 0, 0, 0, 0, 0, 0, 0, 0, 0, 0, 0, 0, 0, 0, 0, 0, 0, 0, 0, 0, 0, 0, 0, 0, 0, 0, 0, 0, 0, 0, 0, 0, 0, 0, 0, 0, 0, 0, 0, 0, 0, 0, 0, 0, 0, 0, 0, 0, 0, 1, 0, 0, 0, 0, 0, 0, 0, 0, 0, 0, 0, 0, 0, 0, 0, 0, 0, 0, 0, 0, 0, 0, 0, 0, 0, 0, 0, 0, 0, 0, 0, 0, 0, 0, 0, 0, 0, 0, 0, 0, 0, 0, 0, 0, 0, 0, 0, 0, 0, 0, 0, 0, 0, 0, 0, 0, 0, 0, 0, 0, 0, 0, 0, 0, 0, 0, 0, 0, 0, 0, 0, 0, 0, 0, 0, 0, 0, 0, 0, 0, 0, 0, 0, 0, 0, 0, 1, 0, 0, 0, 0, 0, 0, 0, 0, 0, 0, 0, 0, 0, 0, 0, 0, 0, 0, 0, 0, 0, 0, 0, 0, 0, 0, 0, 0, 0, 0, 0, 0, 0, 0, 0, 0, 0, 0, 0, 0, 0, 0, 0, 0, 0, 0, 0, 0, 0, 0, 0, 0, 0, 0, 0, 0, 0, 0, 0, 0, 0, 0, 0, 0, 0, 0, 0, 0, 0, 0, 0, 0, 0, 0, 0, 0, 0, 0, 0, 0, 0, 0, 0, 0, 0, 0, 0, 0, 0, 0, 0, 0, 0, 0, 0, 0, 0, 0, 0, 0, 0, 0, 0, 0, 0, 0, 0, 0, 0, 0, 0, 0, 0, 0, 0, 0, 0, 0, 0, 0, 0, 0, 0, 0, 0, 0, 0, 0, 0, 0, 0, 0, 0, 0, 0, 0, 0, 0, 0, 0, 0, 0, 0, 0, 0, 0, 0, 0, 0, 0, 0, 0, 0, 0, 0, 0, 0, 0, 0, 0, 0, 0, 0, 0, 0, 0, 0, 0, 0, 0, 0, 0, 0, 0, 0, 0, 0, 0, 0, 0, 0, 0, 0, 0, 0, 0, 0, 0, 0, 0, 0, 0, 0, 0, 0, 0, 0, 0, 0, 0, 0, 0, 0, 0, 0, 0, 0, 0, 0, 0, 0, 0, 0, 0, 0, 0, 0, 0, 0, 0, 0, 0, 0, 0, 0, 0, 0, 0, 0, 0, 0, 0, 0, 0, 0, 0, 0, 0, 0, 0, 0, 0, 0, 0, 0, 0, 0, 0, 0, 0, 0, 0, 1, 0, 0, 0, 0, 0, 0, 0, 0, 0, 0, 0, 0, 0, 0, 0, 0, 0, 0, 0, 0, 0, 0, 0, 0, 0, 0, 0, 0, 0, 0, 0, 0, 0, 0, 0, 0, 0, 0, 0, 0, 0, 0, 0, 0, 0, 0, 0, 0, 0, 0, 0, 0, 0, 0, 0, 1, 0, 0, 0, 0, 0, 0, 0, 0, 0, 0, 0, 0, 0, 0, 0, 0, 0, 0, 0, 0, 0, 0, 0, 0, 0, 0, 0, 0, 0, 0, 0, 0, 0, 0, 0, 0, 0, 0, 0, 0, 0, 0, 0, 0, 0, 0, 0, 0, 0, 0, 0, 0, 0, 0, 0, 0, 0, 0, 0, 0, 0, 0, 0, 0, 0, 0, 0, 0, 0, 0, 0, 0, 0, 0, 0, 0, 0, 0, 0, 0, 0, 0, 0, 0, 0, 0, 0, 0, 0, 0, 0, 0, 0, 0, 0, 0, 0, 0, 0, 0, 0, 0, 0, 0, 0, 0, 0, 0, 0, 0, 0, 0, 0, 0, 0, 0, 0, 0, 0, 0, 0, 0, 0, 0, 0, 0, 0, 0, 0, 0, 0, 0, 0, 0, 0, 0, 0, 0, 0, 0, 0, 0, 0, 0, 0, 0, 0, 0, 0, 0, 0, 0, 0, 0, 0, 0, 0, 0, 0, 0, 0, 0, 0, 0, 0, 0, 0, 0, 0, 0, 0, 0, 0, 0, 0, 0, 0, 0, 0, 0, 0, 0, 0, 0, 0, 0, 0, 0, 0, 0, 0, 0, 0, 0, 0, 0, 0, 0, 0, 0, 0, 0, 0, 0, 0, 0, 0, 0, 0, 0, 0, 0, 0, 0, 0, 0, 0, 0, 0, 0, 0, 0, 0, 0, 0, 0, 0, 0, 0, 0, 0, 0, 0, 0, 0, 0, 0, 0, 0, 0, 0, 0, 0, 0, 0, 0, 0, 0, 0, 0, 0, 0, 0, 0, 0, 0, 0, 0, 0, 0, 0, 0, 0, 0, 0, 0, 0, 0, 0, 0, 0, 0, 0, 0, 0, 0, 0, 0, 0, 0, 0, 0, 0, 0, 0, 0, 0, 0, 0, 0, 0, 0, 0, 0, 0, 0, 0, 0, 0, 0, 0, 0, 0, 0, 0, 0, 0, 0, 0, 0, 0, 0, 0, 0, 0, 0, 0, 0, 0, 0, 0, 0, 0, 0, 0, 0, 0, 0, 0, 0, 0, 0, 0, 0, 0, 0, 0, 0, 0, 0, 0, 0, 0, 0, 0, 0, 0, 0, 0, 0, 0, 0, 0, 0, 0, 0, 0, 0, 0, 0, 0, 0, 0, 0, 0, 0, 0, 0, 0, 0, 0, 0, 0, 0, 0, 0, 0, 0, 0, 0, 0, 0, 0, 0, 0, 0, 0, 0, 0, 0, 0, 0, 0, 0, 0, 0, 0, 0, 0, 0, 0, 0, 0, 0, 0, 0, 0, 0, 0, 0, 0, 0, 0, 0, 0, 0, 0, 0, 0, 0, 0, 0, 0, 0, 0, 0, 0, 0, 0, 0, 0, 0, 0, 0, 0, 0, 0, 0, 0, 0, 0, 0, 0, 0, 0, 0, 0, 0, 0, 0, 0, 0, 0, 0, 0, 0, 0, 0, 0, 0, 0, 0, 0, 0, 0, 0, 0, 0, 0, 0, 0, 0, 0, 0, 0, 0, 0, 0, 0, 0, 0, 0, 0, 0, 0, 0, 0, 0, 0, 0, 0, 0, 0, 0, 0, 0, 0, 0, 0, 0, 0, 0, 0, 0, 0, 0, 0, 0, 0, 0, 0, 0, 0, 0, 0, 0, 0, 0, 0, 0, 0, 0, 0, 0, 0, 0, 0, 0, 0, 0, 0, 0, 0, 0, 0, 0, 0, 0, 0, 0, 0, 0, 0, 0, 0, 0, 0, 0, 0, 0, 0, 0, 0, 0, 0, 0, 0, 0, 0, 0, 0, 0, 0, 0, 0, 0, 0, 0, 0, 0, 0, 0, 0, 0, 0, 0, 0, 0, 0, 0, 0, 0, 0, 0, 0, 0, 0, 0, 0, 0, 0, 0, 0, 0, 0, 0, 0, 0, 0, 0, 0, 0, 0, 0, 0, 0, 0, 0, 0, 0, 0, 0, 0, 0, 0, 0, 0, 0, 0, 0, 0, 0, 0, 0, 0, 0, 0, 0, 0, 0, 0, 0, 0, 0, 0, 0, 0, 0, 0, 0, 0, 0, 0, 0, 0, 0, 0, 0, 0, 0, 0, 0, 0, 0, 0, 0, 0, 0, 0, 0, 0, 0, 0, 0, 0, 0, 0, 0, 0, 0, 0, 0, 0, 0, 0, 0, 0, 0, 0, 0, 0, 1, 0, 0, 0, 0, 0, 0, 0, 0, 0, 0, 0, 0, 0, 0, 0, 0, 0, 0, 0, 0, 0, 0, 0, 0, 0, 0, 0, 0, 0, 0, 0, 0, 0, 0, 0, 0, 0, 0, 0, 0, 0, 0, 0, 0, 0, 0, 0, 0, 0, 0, 0, 0, 0, 0, 0, 0, 0, 0, 0, 0, 0, 0, 0, 0, 0, 0, 0, 0, 0, 0, 0, 0, 0, 0, 1, 0, 0, 0, 0, 0, 0, 0, 0, 0, 0, 0, 0, 0, 0, 0, 0, 0, 0, 0, 0, 1, 0, 0, 1, 0, 0, 0, 0, 0, 0, 0, 0, 0, 0, 0, 0, 0, 0, 0, 0, 0, 0, 0, 0, 0, 0, 0, 0, 0, 0, 0, 0, 0, 0, 0, 0, 0, 0, 0, 0, 0, 0, 0, 0, 0, 0, 0, 0, 0, 0, 0, 0, 0, 0, 0, 0, 0, 0, 0, 0, 0, 0, 0, 0, 0, 0, 0, 0, 0, 0, 0, 0, 0, 0, 0, 0, 0, 0, 0, 0, 0, 0, 0, 0, 0, 0, 0, 0, 0, 0, 0, 0, 0, 0, 0, 0, 0, 0, 0, 0, 0, 0, 0, 0, 0, 0, 0, 0, 0, 0, 0, 0, 0, 0, 0, 0, 0, 0, 0, 0, 0, 0, 0, 0, 0, 0, 0, 0, 0, 0, 0, 0, 0, 0, 0, 0, 0, 0, 0, 0, 0, 0, 0, 0, 0, 0, 0, 0, 0, 0, 0, 0, 0, 0, 0, 0, 0, 0, 0, 0, 0, 0, 0, 0, 0, 0, 0, 0, 0, 0, 0, 0, 0, 0, 0, 0, 0, 0, 0, 0, 0, 0, 0, 0, 0, 0, 0, 0, 0, 0, 0, 0, 0, 0, 0, 0, 0, 0, 0, 0, 0, 0, 0, 0, 0, 0, 0, 0, 0, 0, 0, 0, 0, 0, 0, 0, 0, 0, 0, 0, 0, 0, 0, 0, 0, 0, 0, 0, 0, 0, 0, 0, 0, 0, 0, 0, 0, 0, 0, 0, 0, 0, 0, 0, 0, 0, 0, 0, 0, 0, 0, 0, 0, 0, 0, 0, 0, 0, 0, 0, 0, 0, 0, 0, 0, 0, 0, 0, 0, 0, 0, 0, 0, 0, 0, 0, 0, 0, 0, 0, 0, 0, 0, 0, 0, 0, 0, 0, 0, 0, 0, 0, 0, 0, 0, 0, 0, 0, 0, 0, 0, 0, 0, 0, 0, 0, 0, 0, 0, 0, 0, 0, 0, 0, 0, 0, 0, 0, 0, 0, 0, 0, 0, 0, 0, 0, 0, 0, 0, 0, 0, 0, 0, 0, 0, 0, 0, 0, 0, 0, 0, 0, 0, 0, 0, 0, 0, 0, 0, 0, 0, 0, 0, 0, 0, 0, 0, 0, 0, 0, 0, 0, 0, 0, 0, 0, 0, 0, 0, 0, 0, 0, 0, 0, 0, 0, 0, 0, 0, 0, 0, 0, 0, 0, 0, 0, 0, 0, 0, 0, 0, 0, 0, 0, 0, 0, 0, 0, 0, 0, 0, 0, 0, 0, 0, 0, 0, 0, 0, 0, 0, 0, 0, 0, 0, 0, 0, 0, 0, 0, 0, 0, 0, 0, 0, 0, 0, 0, 0, 0, 0, 0, 0, 0, 0, 0, 0, 0, 0, 0, 0, 0, 0, 0, 0, 0, 0, 0, 0, 0, 0, 0, 0, 0, 0, 0, 0, 0, 0, 0, 0, 0, 0, 0, 0, 0, 0, 0, 0, 0, 1, 0, 0, 0, 0, 0, 0, 0, 0, 0, 0, 0, 0, 0, 0, 0, 0, 0, 0, 0, 0, 0, 0, 0, 0, 0, 0, 0, 0, 0, 0, 0, 0, 0, 0, 0, 0, 0, 0, 0, 0, 0, 0, 0, 0, 0, 0, 0, 0, 0, 0, 0, 0, 0, 0, 0, 0, 0, 0, 0, 0, 0, 0, 0, 0, 0, 0, 0, 0, 0, 0, 0, 0, 0, 0, 0, 0, 0, 0, 0, 0, 0, 0, 0, 0, 0, 0, 0, 0, 0, 0, 0, 0, 0, 0, 0, 0, 0, 0, 0, 0, 0, 0, 0, 0, 0, 0, 0, 0, 0, 0, 0, 0, 0, 0, 0, 0, 0, 0, 0, 0, 0, 0, 0, 0, 0, 0, 0, 0, 0, 0, 0, 0, 0, 0, 0, 0, 0, 0, 0, 0, 0, 0, 0, 0, 0, 0, 0, 0, 0, 0, 0, 0, 0, 0, 0, 0, 0, 0, 0, 0, 0, 0, 0, 0, 0, 0, 0, 0, 0, 0, 0, 0, 0, 0, 0, 0, 0, 0, 0, 0, 0, 0, 0, 0, 0, 0, 0, 0, 0, 0, 0, 0, 0, 0, 0, 0, 0, 0, 0, 0, 0, 0, 0, 0, 0, 0, 0, 0, 0, 0, 0, 0, 0, 0, 0, 0, 0, 0, 0, 0, 0, 0, 0, 0, 0, 0, 0, 0, 0, 0, 0, 0, 0, 0, 0, 0, 0, 0, 0, 0, 0, 0, 0, 0, 0, 0, 0, 0, 0, 0, 0, 0, 0, 0, 0, 0, 0, 0, 0, 0, 0, 0, 0, 0, 0, 0, 0, 0, 0, 0, 0, 0, 0, 0, 0, 0, 0, 0, 0, 0, 0, 0, 0, 0, 0, 0, 0, 0, 0, 0, 0, 0, 0, 0, 0, 0, 0, 0, 0, 0, 0, 0, 0, 0, 0, 0, 0, 0, 0, 0, 0, 0, 0, 0, 0, 0, 0, 0, 0, 0, 0, 0, 0, 0, 0, 0, 0, 0, 0, 0, 0, 0, 0, 0, 0, 0, 0, 0, 0, 0, 0, 0, 0, 0, 0, 0, 0, 0, 0, 0, 0, 0, 0, 0, 0, 0, 0, 0, 0, 0, 0, 0, 0, 0, 0, 0, 0, 0, 0, 0, 0, 0, 0, 0, 0, 0, 0, 0, 0, 0, 0, 0, 0, 0, 0, 0, 0, 0, 0, 0, 0, 0, 0, 0, 0, 0, 0, 0, 0, 0, 0, 0, 0, 0, 0, 0, 0, 0, 0, 0, 0, 0, 0, 0, 0, 0, 0, 0, 0, 0, 0, 0, 0, 0, 0, 0, 0, 0, 0, 0, 0, 0, 0, 0, 0, 0, 0, 0, 0, 0, 0, 0, 0, 0, 0, 0, 0, 0, 0, 0, 0, 0, 0, 0, 0, 0, 0, 0, 0, 0, 0, 0, 0, 0, 0, 0, 0, 0, 0, 0, 0, 0, 0, 0, 0, 0, 0, 0, 0, 0, 0, 0, 0, 0, 0, 0, 0, 0, 0, 0, 0, 0, 0, 0, 0, 0, 0, 0, 0, 0, 0, 0, 0, 0, 0, 0, 0, 0, 0, 0, 0, 0, 1, 0, 0, 0, 0, 0, 0, 0, 0, 0, 0, 0, 0, 0, 0, 0, 0, 0, 0, 0, 0, 0, 0, 0, 0, 0, 0, 0, 0, 0, 0, 0, 0, 0, 0, 0, 2, 0, 0, 0, 0, 0, 0, 0, 0, 0, 0, 0, 0, 0, 0, 0, 0, 0, 0, 0, 0, 0, 0, 0, 0, 0, 0, 0, 0, 0, 0, 0, 0, 0, 0, 0, 0, 0, 0, 0, 0, 1, 0, 0, 0, 0, 0, 0, 0, 0, 0, 0, 0, 0, 0, 0, 0, 0, 0, 0, 0, 0, 0, 0, 0, 0, 0, 0, 0, 0, 0, 0, 0, 0, 0, 0, 0, 0, 0, 0, 0, 0, 0, 0, 0, 0, 0, 0, 0, 0, 0, 0, 0, 0, 0, 0, 0, 0, 0, 0, 0, 0, 0, 0, 0, 0, 0, 0, 0, 0, 0, 0, 0, 0, 0, 0, 0, 0, 0, 0, 0, 0, 0, 0, 0, 0, 0, 0, 0, 0, 0, 0, 0, 0, 0, 0, 0, 0, 0, 0, 0, 0, 0, 0, 0, 0, 0, 0, 0, 0, 0, 0, 0, 0, 0, 0, 0, 0, 0, 0, 0, 0, 0, 0, 0, 0, 0, 0, 0, 0, 0, 0, 0, 0, 0, 0, 0, 0, 0, 0, 0, 0, 0, 0, 0, 0, 0, 0, 0, 0, 0, 0, 0, 0, 0, 0, 0, 0, 0, 0, 0, 0, 0, 0, 0, 0, 0, 0, 0, 0, 0, 0, 0, 0, 0, 0, 0, 0, 0, 0, 0, 0, 0, 0, 0, 0, 0, 0, 0, 0, 0, 0, 0, 0, 0, 0, 0, 0, 0, 0, 0, 0, 0, 0, 0, 0, 0, 0, 0, 0, 0, 0, 0, 0, 0, 0, 0, 0, 0, 0, 0, 0, 0, 0, 0, 0, 0, 0, 0, 0, 0, 0, 0, 0, 0, 0, 0, 0, 0, 0, 0, 0, 0, 0, 0, 0, 0, 0, 0, 0, 0, 0, 0, 0, 0, 0, 0, 0, 0, 0, 0, 0, 0, 0, 0, 0, 0, 0, 0, 0, 0, 0, 0, 0, 0, 0, 0, 0, 0, 0, 0, 0, 0, 0, 0, 0, 0, 0, 0, 0, 0, 0, 0, 0, 0, 0, 0, 0, 0, 0, 0, 0, 0, 0, 0, 0, 0, 0, 0, 0, 0, 0, 0, 0, 0, 0, 0, 0, 0, 0, 0, 0, 0, 0, 0, 0, 0, 0, 0, 0, 0, 0, 0, 0, 0, 0, 0, 0, 0, 0, 0, 0, 0, 0, 0, 0, 0, 0, 0, 0, 0, 0, 0, 0, 0, 0, 0, 0, 0, 0, 0, 0, 0, 0, 0, 0, 0, 0, 0, 0, 0, 0, 0, 0, 0, 0, 0, 0, 0, 0, 0, 0, 0, 0, 0, 0, 0, 0, 0, 0, 0, 0, 0, 0, 0, 0, 0, 0, 0, 0, 0, 0, 0, 0, 0, 0, 0, 0, 0, 0, 0, 0, 0, 0, 0, 0, 0, 0, 0, 0, 0, 0, 0, 0, 0, 0, 0, 0, 0, 0, 0, 0, 0, 0, 0, 0, 0, 0, 0, 0, 0, 0, 0, 0, 0, 0, 0, 0, 0, 0, 0, 0, 0, 0, 0, 0, 0, 0, 0, 0, 0, 0, 0, 0, 0, 0, 0, 0, 0, 0, 0, 0, 0, 0, 0, 0, 0, 0, 0, 0, 0, 0, 0, 0, 0, 0, 0, 0, 0, 0, 0, 0, 0, 0, 0, 0, 0, 0, 0, 1, 0, 0, 0, 0, 0, 0, 0, 0, 0, 0, 0, 0, 0, 0, 0, 0, 0, 0, 0, 0, 0, 0, 0, 0, 0, 0, 0, 0, 0, 0, 0, 0, 0, 0, 0, 0, 0, 0, 0, 0, 0, 0, 0, 0, 0, 0, 0, 0, 0, 0, 0, 0, 0, 0, 0, 0, 0, 0, 0, 0, 0, 0, 0, 0, 0, 0, 0, 0, 0, 0, 0, 0, 0, 0, 0, 0, 0, 0, 0, 0, 0, 0, 0, 0, 0, 0, 0, 0, 0, 0, 0, 0, 0, 0, 0, 0, 0, 0, 0, 0, 0, 0, 0, 0, 0, 0, 0, 0, 0, 0, 2, 0, 0, 0, 0, 0, 0, 0, 0, 0, 0, 0, 0, 0, 0, 0, 0, 0, 0, 0, 0, 0, 0, 0, 0, 0, 0, 0, 0, 0, 0, 0, 0, 0, 0, 0, 0, 0, 0, 0, 0, 0, 0, 0, 0, 0, 0, 0, 0, 0, 0, 0, 0, 0, 0, 0, 0, 0, 0, 0, 0, 0, 0, 0, 0, 0, 0, 0, 0, 0, 0, 0, 0, 0, 0, 0, 0, 0, 0, 0, 0, 0, 0, 0, 0, 0, 0, 0, 0, 0, 0, 0, 0, 0, 0, 0, 0, 0, 0, 0, 0, 0, 0, 0, 0, 0, 0, 0, 0, 0, 0, 0, 0, 0, 0, 0, 0, 0, 0, 0, 0, 0, 0, 0, 0, 0, 0, 0, 0, 0, 0, 0, 0, 0, 0, 0, 0, 0, 0, 0, 0, 0, 0, 0, 0, 0, 0, 0, 0, 0, 0, 0, 0, 0, 0, 0, 0, 0, 0, 0, 0, 0, 0, 0, 0, 0, 0, 0, 0, 0, 0, 0, 0, 0, 0, 0, 0, 0, 0, 0, 0, 0, 0, 0, 0, 0, 0, 0, 0, 0, 0, 0, 0, 0, 0, 0, 0, 0, 0, 0, 0, 0, 0, 0, 0, 0, 0, 0, 0, 0, 0, 0, 0, 0, 0, 0, 0, 0, 0, 0, 0, 0, 0, 0, 0, 0, 0, 0, 0, 0, 0, 0, 0, 0, 0, 0, 0, 0, 0, 0, 0, 0, 0, 0, 0, 0, 0, 0, 0, 0, 0, 0, 0, 0, 0, 0, 0, 0, 0, 0, 0, 0, 0, 0, 0, 0, 0, 0, 0, 0, 0, 0, 0, 0, 0, 0, 0, 0, 0, 0, 0, 0, 0, 0, 0, 0, 0, 0, 0, 0, 0, 0, 0, 0, 0, 0, 0, 0, 0, 0, 0, 0, 0, 0, 0, 0, 0, 0, 0, 0, 0, 0, 0, 0, 0, 0, 0, 0, 0, 0, 0, 0, 0, 0, 0, 0, 0, 0, 0, 0, 0, 0, 0, 0, 0, 0, 0, 0, 0, 0, 0, 0, 0, 0, 0, 0, 0, 0, 0, 0, 0, 0, 0, 0, 0, 0, 0, 0, 0, 0, 0, 0, 0, 0, 0, 0, 0, 0, 0, 0, 0, 0, 0, 0, 0, 0, 0, 0, 0, 0, 0, 0, 0, 0, 0, 0, 0, 0, 0, 0, 0, 0, 0, 0, 0, 0, 0, 0, 0, 0, 0, 0, 0, 0, 0, 0, 0, 0, 0, 0, 0, 0, 0, 0, 0, 0, 0, 0, 0, 0, 0, 0, 0, 0, 0, 0, 0, 0, 0, 0, 0, 0, 0, 0, 0, 0, 0, 0, 0, 0, 0, 0, 0, 0, 0, 0, 0, 0, 0, 0, 0, 0, 0, 0, 0, 0, 0, 0, 0, 0, 0, 0, 0, 0, 0, 0, 0, 0, 0, 0, 0, 0, 0, 0, 0, 0, 0, 0, 0, 0, 0, 0, 0, 0, 0, 0, 0, 0, 0, 0, 0, 0, 0, 0, 0, 0, 0, 0, 0, 0, 0, 0, 0, 0, 0, 0, 0, 0, 0, 0, 0, 0, 0, 0, 0, 0, 0, 0, 0, 0, 0, 0, 0, 0, 0, 0, 0, 0, 0, 0, 0, 0, 0, 0, 0, 0, 0, 0, 0, 0, 0, 0, 0, 0, 0, 0, 0, 0, 0, 0, 0, 0, 0, 0, 0, 0, 0, 0, 0, 0, 0, 0, 0, 0, 0, 0, 0, 0, 0, 0, 0, 0, 0, 0, 0, 0, 0, 0, 0, 0, 0, 0, 0, 0, 0, 0, 0, 0, 0, 0, 0, 0, 0, 0, 0, 0, 0, 0, 0, 0, 0, 0, 0, 0, 0, 0, 0, 0, 0, 0, 0, 0, 0, 0, 0, 0, 0, 0, 0, 0, 0, 0, 0, 0, 0, 0, 0, 0, 0, 0, 0, 0, 0, 0, 0, 0, 0, 0, 0, 0, 0, 0, 0, 0, 0, 0, 0, 0, 0, 0, 0, 0, 0, 0, 0, 0, 0, 0, 0, 0, 0, 0, 0, 0, 0, 0, 0, 0, 0, 0, 0, 0, 0, 0, 0, 0, 0, 0, 0, 0, 0, 0, 0, 0, 0, 0, 0, 0, 0, 0, 0, 1, 0, 0, 0, 0, 0, 0, 0, 0, 0, 0, 0, 0, 0, 0, 0, 0, 0, 0, 0, 0, 0, 0, 0, 0, 0, 0, 0, 0, 0, 0, 0, 0, 0, 0, 0, 0, 0, 0, 0, 0, 0, 0, 0, 0, 0, 0, 0, 0, 0, 0, 0, 0, 0, 0, 0, 0, 0, 0, 0, 0, 0, 0, 0, 0, 0, 0, 0, 0, 0, 0, 0, 0, 0, 0, 0, 0, 0, 0, 0, 0, 0, 0, 0, 0, 0, 0, 0, 0, 0, 0, 0, 0, 0, 0, 0, 0, 0, 0, 0, 0, 0, 0, 0, 0, 0, 0, 0, 1, 0, 0, 0, 0, 0, 0, 0, 0, 0, 0, 0, 0, 0, 0, 0, 0, 0, 0, 0, 0, 0, 0, 0, 0, 0, 0, 0, 0, 0, 0, 0, 0, 0, 0, 0, 0, 0, 0, 0, 0, 0, 0, 0, 0, 0, 0, 0, 0, 0, 0, 0, 0, 0, 0, 0, 0, 0, 0, 0, 0, 0, 0, 0, 0, 0, 0, 0, 0, 0, 0, 0, 0, 0, 0, 0, 0, 0, 0, 0, 0, 0, 0, 0, 0, 0, 0, 0, 0, 0, 0, 0, 0, 0, 0, 0, 0, 0, 0, 0, 0, 0, 0, 0, 0, 0, 0, 0, 0, 0, 0, 0, 0, 0, 0, 0, 0, 0, 0, 0, 0, 0, 0, 0, 0, 0, 0, 0, 0, 0, 0, 0, 0, 0, 0, 0, 0, 0, 0, 0, 0, 0, 0, 0, 0, 0, 0, 0, 0, 0, 0, 0, 0, 0, 0, 0, 0, 0, 0, 0, 0, 0, 0, 0, 0, 0, 0, 0, 0, 0, 0, 0, 0, 0, 0, 0, 0, 0, 0, 0, 0, 0, 0, 0, 0, 0, 0, 0, 0, 0, 0, 0, 0, 0, 0, 0, 0, 0, 0, 0, 0, 0, 0, 0, 0, 0, 0, 0, 0, 0, 0, 0, 0, 0, 0, 0, 0, 0, 0, 0, 0, 0, 0, 0, 0, 0, 0, 0, 0, 0, 0, 0, 0, 0, 0, 0, 0, 0, 0, 0, 0, 0, 0, 0, 0, 0, 0, 0, 0, 0, 0, 0, 0, 0, 0, 0, 0, 0, 0, 0, 0, 0, 0, 0, 0, 0, 0, 0, 0, 0, 0, 0, 0, 0, 0, 0, 0, 0, 0, 0, 0, 0, 0, 0, 0, 0, 0, 0, 0, 0, 0, 0, 0, 0, 0, 0, 0, 0, 0, 0, 0, 0, 0, 0, 0, 0, 0, 0, 0, 0, 0, 0, 0, 0, 0, 0, 0, 0, 0, 0, 0, 0, 0, 0, 0, 0, 0, 0, 0, 0, 0, 0, 0, 0, 0, 0, 0, 0, 0, 0, 0, 0, 0, 0, 0, 0, 0, 0, 0, 0, 0, 0, 0, 0, 0, 0, 0, 0, 0, 0, 0, 0, 0, 0, 0, 0, 0, 0, 0, 0, 0, 0, 0, 0, 0, 0, 0, 0, 0, 0, 0, 0, 0, 0, 0, 0, 0, 0, 0, 0, 0, 0, 0, 0, 0, 0, 0, 0, 0, 0, 0, 0, 0, 0, 0, 0, 0, 0, 0, 0, 0, 0, 0, 0, 0, 0, 0, 0, 0, 0, 0, 0, 0, 0, 0, 0, 0, 0, 0, 0, 0, 0, 0, 0, 0, 0, 0, 0, 0, 0, 0, 0, 0, 0, 0, 0, 0, 0, 0, 0, 0, 0, 0, 0, 0, 0, 0, 0, 0, 0, 0, 0, 0, 0, 2, 0, 1, 0]\n"
     ]
    }
   ],
   "source": [
    "test_bow = bow_encoding(test_words, vocabulary)\n",
    "print(test_bow)"
   ]
  },
  {
   "cell_type": "code",
   "execution_count": 39,
   "metadata": {},
   "outputs": [
    {
     "data": {
      "text/plain": [
       "5000"
      ]
     },
     "execution_count": 39,
     "metadata": {},
     "output_type": "execute_result"
    }
   ],
   "source": [
    "len(test_bow)"
   ]
  },
  {
   "cell_type": "markdown",
   "metadata": {},
   "source": [
    "So now we know how to construct a bag of words encoding of a user provided review, how to we send it to our endpoint? First, we need to start the endpoint back up."
   ]
  },
  {
   "cell_type": "code",
   "execution_count": null,
   "metadata": {},
   "outputs": [],
   "source": [
    "xgb_predictor = xgb.deploy(initial_instance_count = 1, instance_type = 'ml.m4.xlarge')"
   ]
  },
  {
   "cell_type": "markdown",
   "metadata": {},
   "source": [
    "At this point we could just do the same thing that we did earlier when we tested our deployed model and send `test_bow` to our endpoint using the `xgb_predictor` object. However, when we eventually construct our Lambda function we won't have access to this object, so how do we call a SageMaker endpoint?\n",
    "\n",
    "It turns out that Python functions that are used in Lambda have access to another Amazon library called `boto3`. This library provides an API for working with Amazon services, including SageMaker. To start with, we need to get a handle to the SageMaker runtime."
   ]
  },
  {
   "cell_type": "code",
   "execution_count": 40,
   "metadata": {},
   "outputs": [],
   "source": [
    "import boto3\n",
    "\n",
    "runtime = boto3.Session().client('sagemaker-runtime')"
   ]
  },
  {
   "cell_type": "markdown",
   "metadata": {},
   "source": [
    "And now that we have access to the SageMaker runtime, we can ask it to make use of (invoke) an endpoint that has already been created. However, we need to provide SageMaker with the name of the deployed endpoint. To find this out we can print it out using the `xgb_predictor` object."
   ]
  },
  {
   "cell_type": "code",
   "execution_count": 41,
   "metadata": {},
   "outputs": [
    {
     "data": {
      "text/plain": [
       "'xgboost-2020-07-23-21-04-07-876'"
      ]
     },
     "execution_count": 41,
     "metadata": {},
     "output_type": "execute_result"
    }
   ],
   "source": [
    "xgb_predictor.endpoint"
   ]
  },
  {
   "cell_type": "markdown",
   "metadata": {},
   "source": [
    "Using the SageMaker runtime and the name of our endpoint, we can invoke the endpoint and send it the `test_bow` data."
   ]
  },
  {
   "cell_type": "code",
   "execution_count": 42,
   "metadata": {},
   "outputs": [
    {
     "ename": "ParamValidationError",
     "evalue": "Parameter validation failed:\nInvalid type for parameter Body, value: [0, 0, 0, 0, 0, 0, 0, 0, 0, 0, 0, 0, 0, 0, 0, 0, 0, 0, 0, 0, 0, 0, 0, 0, 0, 0, 0, 0, 0, 0, 0, 0, 0, 0, 0, 0, 0, 0, 0, 0, 0, 0, 0, 0, 0, 0, 0, 0, 0, 0, 0, 0, 0, 0, 0, 0, 0, 0, 0, 0, 0, 0, 0, 0, 0, 0, 0, 0, 0, 0, 0, 0, 0, 0, 0, 0, 0, 0, 0, 0, 0, 0, 0, 0, 0, 0, 0, 0, 0, 0, 0, 0, 0, 0, 0, 0, 0, 0, 0, 0, 0, 0, 0, 0, 0, 0, 0, 0, 0, 0, 0, 0, 0, 0, 0, 0, 0, 0, 0, 0, 0, 0, 0, 0, 0, 0, 0, 0, 0, 0, 0, 0, 0, 0, 0, 0, 0, 0, 0, 0, 0, 0, 0, 0, 0, 0, 0, 0, 0, 0, 0, 0, 0, 0, 0, 0, 0, 0, 0, 0, 0, 0, 0, 0, 0, 0, 0, 0, 0, 0, 0, 0, 0, 0, 0, 0, 0, 0, 0, 0, 0, 0, 0, 0, 0, 0, 0, 0, 0, 0, 0, 0, 0, 0, 0, 0, 0, 0, 0, 0, 0, 0, 0, 0, 0, 0, 0, 0, 0, 0, 0, 0, 0, 0, 0, 0, 0, 0, 0, 0, 0, 0, 0, 0, 0, 0, 1, 0, 0, 0, 0, 0, 0, 0, 0, 0, 0, 0, 0, 0, 0, 0, 0, 0, 0, 0, 0, 0, 0, 0, 0, 0, 0, 0, 0, 0, 1, 0, 0, 0, 0, 0, 0, 0, 0, 0, 0, 0, 0, 0, 0, 0, 0, 0, 0, 0, 0, 0, 0, 0, 0, 0, 0, 0, 0, 0, 0, 0, 0, 0, 0, 0, 0, 0, 0, 0, 0, 0, 0, 0, 0, 0, 0, 0, 0, 0, 0, 0, 0, 0, 0, 0, 0, 0, 0, 0, 0, 0, 0, 0, 0, 0, 0, 0, 0, 0, 0, 0, 0, 0, 0, 0, 0, 0, 0, 0, 0, 0, 0, 0, 0, 0, 0, 0, 0, 0, 0, 0, 0, 0, 0, 0, 0, 0, 0, 0, 0, 0, 0, 0, 0, 0, 0, 0, 0, 0, 0, 0, 0, 0, 0, 0, 0, 0, 0, 0, 0, 0, 0, 0, 0, 0, 0, 0, 0, 0, 0, 0, 0, 0, 0, 0, 0, 0, 0, 0, 0, 0, 0, 0, 0, 0, 0, 0, 0, 0, 0, 0, 0, 0, 0, 0, 0, 0, 0, 0, 0, 0, 0, 0, 0, 0, 0, 0, 0, 0, 0, 0, 0, 0, 0, 0, 0, 0, 0, 0, 0, 0, 0, 0, 0, 0, 0, 0, 0, 0, 0, 0, 0, 0, 0, 0, 0, 0, 0, 0, 0, 0, 0, 0, 0, 0, 0, 0, 0, 0, 0, 0, 0, 0, 0, 0, 0, 0, 0, 0, 0, 0, 0, 0, 0, 0, 0, 0, 0, 0, 0, 0, 0, 0, 0, 0, 0, 0, 0, 0, 0, 0, 0, 0, 0, 0, 0, 0, 0, 0, 0, 0, 0, 0, 0, 0, 0, 0, 0, 0, 0, 0, 0, 0, 0, 0, 0, 0, 0, 0, 0, 0, 0, 0, 0, 0, 0, 0, 0, 0, 0, 0, 0, 0, 0, 0, 0, 0, 0, 0, 0, 0, 0, 0, 0, 0, 0, 0, 0, 0, 0, 0, 0, 0, 0, 0, 0, 0, 0, 0, 0, 0, 0, 0, 0, 0, 0, 0, 0, 0, 0, 0, 0, 0, 0, 0, 0, 0, 0, 0, 0, 0, 0, 0, 0, 0, 0, 0, 0, 0, 0, 0, 0, 0, 0, 0, 0, 0, 0, 0, 0, 0, 0, 0, 0, 0, 0, 0, 0, 0, 0, 0, 0, 0, 0, 0, 0, 0, 0, 0, 0, 0, 0, 0, 0, 0, 0, 0, 0, 0, 1, 0, 0, 0, 0, 0, 0, 0, 0, 0, 0, 0, 0, 0, 0, 0, 0, 0, 0, 0, 0, 0, 0, 0, 0, 0, 0, 0, 0, 0, 0, 0, 0, 0, 0, 0, 0, 0, 0, 0, 0, 0, 0, 0, 0, 0, 0, 0, 0, 0, 0, 0, 0, 0, 0, 0, 0, 0, 0, 0, 0, 0, 0, 0, 0, 0, 0, 0, 0, 0, 0, 0, 0, 0, 0, 0, 0, 0, 0, 0, 0, 0, 0, 0, 0, 0, 0, 0, 0, 0, 0, 0, 0, 0, 0, 0, 0, 0, 0, 0, 0, 0, 0, 0, 0, 0, 0, 0, 0, 0, 0, 0, 0, 0, 0, 0, 0, 0, 0, 0, 0, 0, 0, 0, 0, 0, 0, 0, 0, 0, 0, 0, 0, 0, 0, 0, 0, 0, 0, 0, 0, 0, 0, 0, 0, 0, 0, 0, 0, 0, 0, 0, 0, 0, 0, 0, 0, 0, 0, 0, 0, 0, 0, 0, 0, 0, 0, 0, 0, 0, 0, 0, 0, 0, 0, 0, 0, 0, 0, 0, 0, 0, 0, 0, 0, 0, 0, 0, 0, 0, 0, 0, 0, 0, 0, 0, 0, 0, 0, 0, 0, 0, 0, 0, 0, 0, 0, 0, 0, 0, 0, 0, 0, 0, 0, 0, 0, 0, 0, 0, 0, 0, 0, 0, 0, 0, 0, 0, 0, 0, 0, 0, 0, 0, 0, 0, 0, 0, 0, 0, 0, 0, 0, 0, 0, 0, 0, 0, 0, 0, 0, 0, 0, 0, 1, 0, 0, 0, 0, 0, 0, 0, 0, 0, 0, 0, 0, 0, 0, 0, 0, 0, 0, 0, 0, 0, 0, 0, 0, 0, 0, 0, 0, 0, 0, 0, 0, 0, 0, 0, 0, 0, 0, 0, 0, 0, 0, 0, 0, 0, 0, 0, 0, 0, 0, 0, 0, 0, 0, 0, 0, 0, 0, 0, 0, 0, 0, 0, 0, 0, 0, 0, 0, 0, 0, 0, 0, 0, 0, 0, 0, 0, 0, 0, 0, 0, 0, 0, 0, 0, 0, 1, 0, 0, 0, 0, 0, 0, 0, 0, 0, 0, 0, 0, 0, 0, 0, 0, 0, 0, 0, 0, 0, 0, 0, 0, 0, 0, 0, 0, 0, 0, 0, 0, 0, 0, 0, 0, 0, 0, 0, 0, 0, 0, 0, 0, 0, 0, 0, 0, 0, 0, 0, 0, 0, 0, 0, 0, 0, 0, 0, 0, 0, 0, 0, 0, 0, 0, 0, 0, 0, 0, 0, 0, 0, 0, 0, 0, 0, 0, 0, 0, 0, 0, 0, 0, 0, 0, 0, 0, 0, 0, 0, 0, 0, 0, 0, 0, 0, 0, 0, 0, 0, 0, 0, 0, 0, 0, 0, 0, 0, 0, 0, 0, 0, 0, 0, 0, 0, 0, 0, 0, 0, 0, 0, 0, 0, 0, 0, 0, 0, 0, 0, 0, 0, 0, 0, 0, 0, 0, 0, 0, 0, 0, 0, 0, 0, 0, 0, 0, 0, 0, 0, 0, 0, 0, 0, 0, 0, 0, 0, 0, 0, 0, 0, 0, 0, 0, 0, 0, 0, 0, 0, 0, 0, 0, 0, 0, 0, 0, 0, 0, 0, 0, 0, 0, 0, 0, 0, 0, 0, 0, 0, 0, 0, 0, 0, 0, 0, 0, 0, 0, 0, 0, 0, 0, 0, 0, 0, 0, 0, 0, 0, 0, 0, 0, 0, 0, 0, 0, 0, 0, 0, 0, 0, 0, 0, 0, 0, 0, 0, 0, 0, 0, 0, 0, 0, 0, 0, 0, 0, 0, 0, 0, 0, 0, 0, 0, 0, 0, 0, 0, 0, 0, 1, 0, 0, 0, 0, 0, 0, 0, 0, 0, 0, 0, 0, 0, 0, 0, 0, 0, 0, 0, 0, 0, 0, 0, 0, 0, 0, 0, 0, 0, 0, 0, 0, 0, 0, 0, 0, 0, 0, 0, 0, 0, 0, 0, 0, 0, 0, 0, 0, 0, 0, 0, 0, 0, 0, 0, 1, 0, 0, 0, 0, 0, 0, 0, 0, 0, 0, 0, 0, 0, 0, 0, 0, 0, 0, 0, 0, 0, 0, 0, 0, 0, 0, 0, 0, 0, 0, 0, 0, 0, 0, 0, 0, 0, 0, 0, 0, 0, 0, 0, 0, 0, 0, 0, 0, 0, 0, 0, 0, 0, 0, 0, 0, 0, 0, 0, 0, 0, 0, 0, 0, 0, 0, 0, 0, 0, 0, 0, 0, 0, 0, 0, 0, 0, 0, 0, 0, 0, 0, 0, 0, 0, 0, 0, 0, 0, 0, 0, 0, 0, 0, 0, 0, 0, 0, 0, 0, 0, 0, 0, 0, 0, 0, 0, 0, 0, 0, 0, 0, 0, 0, 0, 0, 0, 0, 0, 0, 0, 0, 0, 0, 0, 0, 0, 0, 0, 0, 0, 0, 0, 0, 0, 0, 0, 0, 0, 0, 0, 0, 0, 0, 0, 0, 0, 0, 0, 0, 0, 0, 0, 0, 0, 0, 0, 0, 0, 0, 0, 0, 0, 0, 0, 0, 0, 0, 0, 0, 0, 0, 0, 0, 0, 0, 0, 0, 0, 0, 0, 0, 0, 0, 0, 0, 0, 0, 0, 0, 0, 0, 0, 0, 0, 0, 0, 0, 0, 0, 0, 0, 0, 0, 0, 0, 0, 0, 0, 0, 0, 0, 0, 0, 0, 0, 0, 0, 0, 0, 0, 0, 0, 0, 0, 0, 0, 0, 0, 0, 0, 0, 0, 0, 0, 0, 0, 0, 0, 0, 0, 0, 0, 0, 0, 0, 0, 0, 0, 0, 0, 0, 0, 0, 0, 0, 0, 0, 0, 0, 0, 0, 0, 0, 0, 0, 0, 0, 0, 0, 0, 0, 0, 0, 0, 0, 0, 0, 0, 0, 0, 0, 0, 0, 0, 0, 0, 0, 0, 0, 0, 0, 0, 0, 0, 0, 0, 0, 0, 0, 0, 0, 0, 0, 0, 0, 0, 0, 0, 0, 0, 0, 0, 0, 0, 0, 0, 0, 0, 0, 0, 0, 0, 0, 0, 0, 0, 0, 0, 0, 0, 0, 0, 0, 0, 0, 0, 0, 0, 0, 0, 0, 0, 0, 0, 0, 0, 0, 0, 0, 0, 0, 0, 0, 0, 0, 0, 0, 0, 0, 0, 0, 0, 0, 0, 0, 0, 0, 0, 0, 0, 0, 0, 0, 0, 0, 0, 0, 0, 0, 0, 0, 0, 0, 0, 0, 0, 0, 0, 0, 0, 0, 0, 0, 0, 0, 0, 0, 0, 0, 0, 0, 0, 0, 0, 0, 0, 0, 0, 0, 0, 0, 0, 0, 0, 0, 0, 0, 0, 0, 0, 0, 0, 0, 0, 0, 0, 0, 0, 0, 0, 0, 0, 0, 0, 0, 0, 0, 0, 0, 0, 0, 0, 0, 0, 0, 0, 0, 0, 0, 0, 0, 0, 0, 0, 0, 0, 0, 0, 0, 0, 0, 0, 0, 0, 0, 0, 0, 0, 0, 0, 0, 0, 0, 0, 0, 0, 0, 0, 0, 0, 0, 0, 0, 0, 0, 0, 0, 0, 0, 0, 0, 0, 0, 0, 0, 0, 0, 0, 0, 0, 0, 0, 0, 0, 0, 0, 0, 0, 0, 0, 0, 0, 0, 0, 0, 0, 0, 0, 0, 0, 0, 0, 0, 0, 0, 0, 0, 0, 0, 0, 0, 0, 0, 0, 0, 0, 0, 0, 0, 0, 0, 0, 0, 0, 0, 0, 0, 0, 0, 0, 0, 0, 0, 0, 0, 0, 0, 0, 0, 0, 0, 0, 0, 0, 0, 0, 0, 0, 0, 0, 0, 0, 0, 0, 0, 0, 0, 0, 0, 0, 0, 0, 0, 0, 0, 0, 0, 0, 0, 0, 0, 0, 0, 0, 0, 0, 0, 0, 0, 0, 0, 0, 0, 0, 0, 0, 0, 0, 0, 0, 0, 0, 0, 0, 0, 0, 0, 0, 0, 0, 0, 0, 0, 0, 0, 0, 0, 0, 0, 0, 0, 0, 0, 0, 0, 0, 0, 0, 0, 0, 0, 0, 0, 0, 0, 0, 0, 0, 0, 0, 0, 0, 0, 0, 0, 0, 0, 0, 0, 0, 0, 0, 0, 0, 0, 0, 0, 0, 0, 0, 0, 0, 0, 0, 0, 0, 0, 0, 0, 0, 1, 0, 0, 0, 0, 0, 0, 0, 0, 0, 0, 0, 0, 0, 0, 0, 0, 0, 0, 0, 0, 0, 0, 0, 0, 0, 0, 0, 0, 0, 0, 0, 0, 0, 0, 0, 0, 0, 0, 0, 0, 0, 0, 0, 0, 0, 0, 0, 0, 0, 0, 0, 0, 0, 0, 0, 0, 0, 0, 0, 0, 0, 0, 0, 0, 0, 0, 0, 0, 0, 0, 0, 0, 0, 0, 1, 0, 0, 0, 0, 0, 0, 0, 0, 0, 0, 0, 0, 0, 0, 0, 0, 0, 0, 0, 0, 1, 0, 0, 1, 0, 0, 0, 0, 0, 0, 0, 0, 0, 0, 0, 0, 0, 0, 0, 0, 0, 0, 0, 0, 0, 0, 0, 0, 0, 0, 0, 0, 0, 0, 0, 0, 0, 0, 0, 0, 0, 0, 0, 0, 0, 0, 0, 0, 0, 0, 0, 0, 0, 0, 0, 0, 0, 0, 0, 0, 0, 0, 0, 0, 0, 0, 0, 0, 0, 0, 0, 0, 0, 0, 0, 0, 0, 0, 0, 0, 0, 0, 0, 0, 0, 0, 0, 0, 0, 0, 0, 0, 0, 0, 0, 0, 0, 0, 0, 0, 0, 0, 0, 0, 0, 0, 0, 0, 0, 0, 0, 0, 0, 0, 0, 0, 0, 0, 0, 0, 0, 0, 0, 0, 0, 0, 0, 0, 0, 0, 0, 0, 0, 0, 0, 0, 0, 0, 0, 0, 0, 0, 0, 0, 0, 0, 0, 0, 0, 0, 0, 0, 0, 0, 0, 0, 0, 0, 0, 0, 0, 0, 0, 0, 0, 0, 0, 0, 0, 0, 0, 0, 0, 0, 0, 0, 0, 0, 0, 0, 0, 0, 0, 0, 0, 0, 0, 0, 0, 0, 0, 0, 0, 0, 0, 0, 0, 0, 0, 0, 0, 0, 0, 0, 0, 0, 0, 0, 0, 0, 0, 0, 0, 0, 0, 0, 0, 0, 0, 0, 0, 0, 0, 0, 0, 0, 0, 0, 0, 0, 0, 0, 0, 0, 0, 0, 0, 0, 0, 0, 0, 0, 0, 0, 0, 0, 0, 0, 0, 0, 0, 0, 0, 0, 0, 0, 0, 0, 0, 0, 0, 0, 0, 0, 0, 0, 0, 0, 0, 0, 0, 0, 0, 0, 0, 0, 0, 0, 0, 0, 0, 0, 0, 0, 0, 0, 0, 0, 0, 0, 0, 0, 0, 0, 0, 0, 0, 0, 0, 0, 0, 0, 0, 0, 0, 0, 0, 0, 0, 0, 0, 0, 0, 0, 0, 0, 0, 0, 0, 0, 0, 0, 0, 0, 0, 0, 0, 0, 0, 0, 0, 0, 0, 0, 0, 0, 0, 0, 0, 0, 0, 0, 0, 0, 0, 0, 0, 0, 0, 0, 0, 0, 0, 0, 0, 0, 0, 0, 0, 0, 0, 0, 0, 0, 0, 0, 0, 0, 0, 0, 0, 0, 0, 0, 0, 0, 0, 0, 0, 0, 0, 0, 0, 0, 0, 0, 0, 0, 0, 0, 0, 0, 0, 0, 0, 0, 0, 0, 0, 0, 0, 0, 0, 0, 0, 0, 0, 0, 0, 0, 0, 0, 0, 0, 0, 0, 0, 0, 0, 0, 0, 0, 0, 0, 0, 0, 0, 0, 0, 0, 0, 0, 0, 0, 0, 0, 0, 0, 0, 0, 0, 0, 0, 0, 0, 0, 0, 0, 0, 0, 0, 0, 0, 0, 0, 0, 0, 0, 0, 0, 0, 0, 0, 0, 0, 0, 0, 0, 0, 0, 1, 0, 0, 0, 0, 0, 0, 0, 0, 0, 0, 0, 0, 0, 0, 0, 0, 0, 0, 0, 0, 0, 0, 0, 0, 0, 0, 0, 0, 0, 0, 0, 0, 0, 0, 0, 0, 0, 0, 0, 0, 0, 0, 0, 0, 0, 0, 0, 0, 0, 0, 0, 0, 0, 0, 0, 0, 0, 0, 0, 0, 0, 0, 0, 0, 0, 0, 0, 0, 0, 0, 0, 0, 0, 0, 0, 0, 0, 0, 0, 0, 0, 0, 0, 0, 0, 0, 0, 0, 0, 0, 0, 0, 0, 0, 0, 0, 0, 0, 0, 0, 0, 0, 0, 0, 0, 0, 0, 0, 0, 0, 0, 0, 0, 0, 0, 0, 0, 0, 0, 0, 0, 0, 0, 0, 0, 0, 0, 0, 0, 0, 0, 0, 0, 0, 0, 0, 0, 0, 0, 0, 0, 0, 0, 0, 0, 0, 0, 0, 0, 0, 0, 0, 0, 0, 0, 0, 0, 0, 0, 0, 0, 0, 0, 0, 0, 0, 0, 0, 0, 0, 0, 0, 0, 0, 0, 0, 0, 0, 0, 0, 0, 0, 0, 0, 0, 0, 0, 0, 0, 0, 0, 0, 0, 0, 0, 0, 0, 0, 0, 0, 0, 0, 0, 0, 0, 0, 0, 0, 0, 0, 0, 0, 0, 0, 0, 0, 0, 0, 0, 0, 0, 0, 0, 0, 0, 0, 0, 0, 0, 0, 0, 0, 0, 0, 0, 0, 0, 0, 0, 0, 0, 0, 0, 0, 0, 0, 0, 0, 0, 0, 0, 0, 0, 0, 0, 0, 0, 0, 0, 0, 0, 0, 0, 0, 0, 0, 0, 0, 0, 0, 0, 0, 0, 0, 0, 0, 0, 0, 0, 0, 0, 0, 0, 0, 0, 0, 0, 0, 0, 0, 0, 0, 0, 0, 0, 0, 0, 0, 0, 0, 0, 0, 0, 0, 0, 0, 0, 0, 0, 0, 0, 0, 0, 0, 0, 0, 0, 0, 0, 0, 0, 0, 0, 0, 0, 0, 0, 0, 0, 0, 0, 0, 0, 0, 0, 0, 0, 0, 0, 0, 0, 0, 0, 0, 0, 0, 0, 0, 0, 0, 0, 0, 0, 0, 0, 0, 0, 0, 0, 0, 0, 0, 0, 0, 0, 0, 0, 0, 0, 0, 0, 0, 0, 0, 0, 0, 0, 0, 0, 0, 0, 0, 0, 0, 0, 0, 0, 0, 0, 0, 0, 0, 0, 0, 0, 0, 0, 0, 0, 0, 0, 0, 0, 0, 0, 0, 0, 0, 0, 0, 0, 0, 0, 0, 0, 0, 0, 0, 0, 0, 0, 0, 0, 0, 0, 0, 0, 0, 0, 0, 0, 0, 0, 0, 0, 0, 0, 0, 0, 0, 0, 0, 0, 0, 0, 0, 0, 0, 0, 0, 0, 0, 0, 0, 0, 0, 0, 0, 0, 0, 0, 0, 0, 0, 0, 0, 0, 0, 0, 0, 0, 0, 0, 0, 0, 0, 0, 0, 0, 0, 0, 0, 0, 0, 0, 0, 0, 0, 0, 0, 0, 0, 0, 0, 0, 0, 0, 0, 0, 0, 0, 0, 0, 0, 0, 0, 0, 0, 0, 0, 0, 0, 1, 0, 0, 0, 0, 0, 0, 0, 0, 0, 0, 0, 0, 0, 0, 0, 0, 0, 0, 0, 0, 0, 0, 0, 0, 0, 0, 0, 0, 0, 0, 0, 0, 0, 0, 0, 2, 0, 0, 0, 0, 0, 0, 0, 0, 0, 0, 0, 0, 0, 0, 0, 0, 0, 0, 0, 0, 0, 0, 0, 0, 0, 0, 0, 0, 0, 0, 0, 0, 0, 0, 0, 0, 0, 0, 0, 0, 1, 0, 0, 0, 0, 0, 0, 0, 0, 0, 0, 0, 0, 0, 0, 0, 0, 0, 0, 0, 0, 0, 0, 0, 0, 0, 0, 0, 0, 0, 0, 0, 0, 0, 0, 0, 0, 0, 0, 0, 0, 0, 0, 0, 0, 0, 0, 0, 0, 0, 0, 0, 0, 0, 0, 0, 0, 0, 0, 0, 0, 0, 0, 0, 0, 0, 0, 0, 0, 0, 0, 0, 0, 0, 0, 0, 0, 0, 0, 0, 0, 0, 0, 0, 0, 0, 0, 0, 0, 0, 0, 0, 0, 0, 0, 0, 0, 0, 0, 0, 0, 0, 0, 0, 0, 0, 0, 0, 0, 0, 0, 0, 0, 0, 0, 0, 0, 0, 0, 0, 0, 0, 0, 0, 0, 0, 0, 0, 0, 0, 0, 0, 0, 0, 0, 0, 0, 0, 0, 0, 0, 0, 0, 0, 0, 0, 0, 0, 0, 0, 0, 0, 0, 0, 0, 0, 0, 0, 0, 0, 0, 0, 0, 0, 0, 0, 0, 0, 0, 0, 0, 0, 0, 0, 0, 0, 0, 0, 0, 0, 0, 0, 0, 0, 0, 0, 0, 0, 0, 0, 0, 0, 0, 0, 0, 0, 0, 0, 0, 0, 0, 0, 0, 0, 0, 0, 0, 0, 0, 0, 0, 0, 0, 0, 0, 0, 0, 0, 0, 0, 0, 0, 0, 0, 0, 0, 0, 0, 0, 0, 0, 0, 0, 0, 0, 0, 0, 0, 0, 0, 0, 0, 0, 0, 0, 0, 0, 0, 0, 0, 0, 0, 0, 0, 0, 0, 0, 0, 0, 0, 0, 0, 0, 0, 0, 0, 0, 0, 0, 0, 0, 0, 0, 0, 0, 0, 0, 0, 0, 0, 0, 0, 0, 0, 0, 0, 0, 0, 0, 0, 0, 0, 0, 0, 0, 0, 0, 0, 0, 0, 0, 0, 0, 0, 0, 0, 0, 0, 0, 0, 0, 0, 0, 0, 0, 0, 0, 0, 0, 0, 0, 0, 0, 0, 0, 0, 0, 0, 0, 0, 0, 0, 0, 0, 0, 0, 0, 0, 0, 0, 0, 0, 0, 0, 0, 0, 0, 0, 0, 0, 0, 0, 0, 0, 0, 0, 0, 0, 0, 0, 0, 0, 0, 0, 0, 0, 0, 0, 0, 0, 0, 0, 0, 0, 0, 0, 0, 0, 0, 0, 0, 0, 0, 0, 0, 0, 0, 0, 0, 0, 0, 0, 0, 0, 0, 0, 0, 0, 0, 0, 0, 0, 0, 0, 0, 0, 0, 0, 0, 0, 0, 0, 0, 0, 0, 0, 0, 0, 0, 0, 0, 0, 0, 0, 0, 0, 0, 0, 0, 0, 0, 0, 0, 0, 0, 0, 0, 0, 0, 0, 0, 0, 0, 0, 0, 0, 0, 0, 0, 0, 0, 0, 0, 0, 0, 0, 0, 0, 0, 0, 0, 0, 0, 0, 0, 0, 0, 0, 0, 0, 0, 0, 0, 0, 0, 0, 0, 0, 0, 0, 0, 0, 0, 0, 0, 0, 0, 0, 0, 0, 0, 0, 0, 0, 0, 0, 0, 0, 1, 0, 0, 0, 0, 0, 0, 0, 0, 0, 0, 0, 0, 0, 0, 0, 0, 0, 0, 0, 0, 0, 0, 0, 0, 0, 0, 0, 0, 0, 0, 0, 0, 0, 0, 0, 0, 0, 0, 0, 0, 0, 0, 0, 0, 0, 0, 0, 0, 0, 0, 0, 0, 0, 0, 0, 0, 0, 0, 0, 0, 0, 0, 0, 0, 0, 0, 0, 0, 0, 0, 0, 0, 0, 0, 0, 0, 0, 0, 0, 0, 0, 0, 0, 0, 0, 0, 0, 0, 0, 0, 0, 0, 0, 0, 0, 0, 0, 0, 0, 0, 0, 0, 0, 0, 0, 0, 0, 0, 0, 0, 2, 0, 0, 0, 0, 0, 0, 0, 0, 0, 0, 0, 0, 0, 0, 0, 0, 0, 0, 0, 0, 0, 0, 0, 0, 0, 0, 0, 0, 0, 0, 0, 0, 0, 0, 0, 0, 0, 0, 0, 0, 0, 0, 0, 0, 0, 0, 0, 0, 0, 0, 0, 0, 0, 0, 0, 0, 0, 0, 0, 0, 0, 0, 0, 0, 0, 0, 0, 0, 0, 0, 0, 0, 0, 0, 0, 0, 0, 0, 0, 0, 0, 0, 0, 0, 0, 0, 0, 0, 0, 0, 0, 0, 0, 0, 0, 0, 0, 0, 0, 0, 0, 0, 0, 0, 0, 0, 0, 0, 0, 0, 0, 0, 0, 0, 0, 0, 0, 0, 0, 0, 0, 0, 0, 0, 0, 0, 0, 0, 0, 0, 0, 0, 0, 0, 0, 0, 0, 0, 0, 0, 0, 0, 0, 0, 0, 0, 0, 0, 0, 0, 0, 0, 0, 0, 0, 0, 0, 0, 0, 0, 0, 0, 0, 0, 0, 0, 0, 0, 0, 0, 0, 0, 0, 0, 0, 0, 0, 0, 0, 0, 0, 0, 0, 0, 0, 0, 0, 0, 0, 0, 0, 0, 0, 0, 0, 0, 0, 0, 0, 0, 0, 0, 0, 0, 0, 0, 0, 0, 0, 0, 0, 0, 0, 0, 0, 0, 0, 0, 0, 0, 0, 0, 0, 0, 0, 0, 0, 0, 0, 0, 0, 0, 0, 0, 0, 0, 0, 0, 0, 0, 0, 0, 0, 0, 0, 0, 0, 0, 0, 0, 0, 0, 0, 0, 0, 0, 0, 0, 0, 0, 0, 0, 0, 0, 0, 0, 0, 0, 0, 0, 0, 0, 0, 0, 0, 0, 0, 0, 0, 0, 0, 0, 0, 0, 0, 0, 0, 0, 0, 0, 0, 0, 0, 0, 0, 0, 0, 0, 0, 0, 0, 0, 0, 0, 0, 0, 0, 0, 0, 0, 0, 0, 0, 0, 0, 0, 0, 0, 0, 0, 0, 0, 0, 0, 0, 0, 0, 0, 0, 0, 0, 0, 0, 0, 0, 0, 0, 0, 0, 0, 0, 0, 0, 0, 0, 0, 0, 0, 0, 0, 0, 0, 0, 0, 0, 0, 0, 0, 0, 0, 0, 0, 0, 0, 0, 0, 0, 0, 0, 0, 0, 0, 0, 0, 0, 0, 0, 0, 0, 0, 0, 0, 0, 0, 0, 0, 0, 0, 0, 0, 0, 0, 0, 0, 0, 0, 0, 0, 0, 0, 0, 0, 0, 0, 0, 0, 0, 0, 0, 0, 0, 0, 0, 0, 0, 0, 0, 0, 0, 0, 0, 0, 0, 0, 0, 0, 0, 0, 0, 0, 0, 0, 0, 0, 0, 0, 0, 0, 0, 0, 0, 0, 0, 0, 0, 0, 0, 0, 0, 0, 0, 0, 0, 0, 0, 0, 0, 0, 0, 0, 0, 0, 0, 0, 0, 0, 0, 0, 0, 0, 0, 0, 0, 0, 0, 0, 0, 0, 0, 0, 0, 0, 0, 0, 0, 0, 0, 0, 0, 0, 0, 0, 0, 0, 0, 0, 0, 0, 0, 0, 0, 0, 0, 0, 0, 0, 0, 0, 0, 0, 0, 0, 0, 0, 0, 0, 0, 0, 0, 0, 0, 0, 0, 0, 0, 0, 0, 0, 0, 0, 0, 0, 0, 0, 0, 0, 0, 0, 0, 0, 0, 0, 0, 0, 0, 0, 0, 0, 0, 0, 0, 0, 0, 0, 0, 0, 0, 0, 0, 0, 0, 0, 0, 0, 0, 0, 0, 0, 0, 0, 0, 0, 0, 0, 0, 0, 0, 0, 0, 0, 0, 0, 0, 0, 0, 0, 0, 0, 0, 0, 0, 0, 0, 0, 0, 0, 0, 0, 0, 0, 0, 0, 0, 0, 0, 0, 0, 0, 0, 0, 0, 0, 0, 0, 0, 0, 0, 0, 0, 0, 0, 0, 0, 0, 0, 0, 0, 0, 0, 0, 0, 0, 0, 0, 0, 0, 0, 0, 0, 0, 0, 0, 0, 0, 0, 0, 0, 0, 0, 0, 0, 0, 0, 0, 0, 0, 0, 0, 0, 0, 0, 0, 0, 0, 0, 0, 0, 0, 0, 0, 0, 0, 0, 0, 0, 0, 0, 0, 0, 0, 0, 0, 0, 0, 0, 0, 0, 0, 0, 0, 1, 0, 0, 0, 0, 0, 0, 0, 0, 0, 0, 0, 0, 0, 0, 0, 0, 0, 0, 0, 0, 0, 0, 0, 0, 0, 0, 0, 0, 0, 0, 0, 0, 0, 0, 0, 0, 0, 0, 0, 0, 0, 0, 0, 0, 0, 0, 0, 0, 0, 0, 0, 0, 0, 0, 0, 0, 0, 0, 0, 0, 0, 0, 0, 0, 0, 0, 0, 0, 0, 0, 0, 0, 0, 0, 0, 0, 0, 0, 0, 0, 0, 0, 0, 0, 0, 0, 0, 0, 0, 0, 0, 0, 0, 0, 0, 0, 0, 0, 0, 0, 0, 0, 0, 0, 0, 0, 0, 1, 0, 0, 0, 0, 0, 0, 0, 0, 0, 0, 0, 0, 0, 0, 0, 0, 0, 0, 0, 0, 0, 0, 0, 0, 0, 0, 0, 0, 0, 0, 0, 0, 0, 0, 0, 0, 0, 0, 0, 0, 0, 0, 0, 0, 0, 0, 0, 0, 0, 0, 0, 0, 0, 0, 0, 0, 0, 0, 0, 0, 0, 0, 0, 0, 0, 0, 0, 0, 0, 0, 0, 0, 0, 0, 0, 0, 0, 0, 0, 0, 0, 0, 0, 0, 0, 0, 0, 0, 0, 0, 0, 0, 0, 0, 0, 0, 0, 0, 0, 0, 0, 0, 0, 0, 0, 0, 0, 0, 0, 0, 0, 0, 0, 0, 0, 0, 0, 0, 0, 0, 0, 0, 0, 0, 0, 0, 0, 0, 0, 0, 0, 0, 0, 0, 0, 0, 0, 0, 0, 0, 0, 0, 0, 0, 0, 0, 0, 0, 0, 0, 0, 0, 0, 0, 0, 0, 0, 0, 0, 0, 0, 0, 0, 0, 0, 0, 0, 0, 0, 0, 0, 0, 0, 0, 0, 0, 0, 0, 0, 0, 0, 0, 0, 0, 0, 0, 0, 0, 0, 0, 0, 0, 0, 0, 0, 0, 0, 0, 0, 0, 0, 0, 0, 0, 0, 0, 0, 0, 0, 0, 0, 0, 0, 0, 0, 0, 0, 0, 0, 0, 0, 0, 0, 0, 0, 0, 0, 0, 0, 0, 0, 0, 0, 0, 0, 0, 0, 0, 0, 0, 0, 0, 0, 0, 0, 0, 0, 0, 0, 0, 0, 0, 0, 0, 0, 0, 0, 0, 0, 0, 0, 0, 0, 0, 0, 0, 0, 0, 0, 0, 0, 0, 0, 0, 0, 0, 0, 0, 0, 0, 0, 0, 0, 0, 0, 0, 0, 0, 0, 0, 0, 0, 0, 0, 0, 0, 0, 0, 0, 0, 0, 0, 0, 0, 0, 0, 0, 0, 0, 0, 0, 0, 0, 0, 0, 0, 0, 0, 0, 0, 0, 0, 0, 0, 0, 0, 0, 0, 0, 0, 0, 0, 0, 0, 0, 0, 0, 0, 0, 0, 0, 0, 0, 0, 0, 0, 0, 0, 0, 0, 0, 0, 0, 0, 0, 0, 0, 0, 0, 0, 0, 0, 0, 0, 0, 0, 0, 0, 0, 0, 0, 0, 0, 0, 0, 0, 0, 0, 0, 0, 0, 0, 0, 0, 0, 0, 0, 0, 0, 0, 0, 0, 0, 0, 0, 0, 0, 0, 0, 0, 0, 0, 0, 0, 0, 0, 0, 0, 0, 0, 0, 0, 0, 0, 0, 0, 0, 0, 0, 0, 0, 0, 0, 0, 0, 0, 0, 0, 0, 0, 0, 0, 0, 0, 0, 0, 0, 0, 0, 0, 0, 0, 0, 0, 0, 0, 0, 0, 0, 0, 0, 0, 0, 0, 0, 0, 0, 0, 0, 0, 0, 0, 0, 2, 0, 1, 0], type: <class 'list'>, valid types: <class 'bytes'>, <class 'bytearray'>, file-like object",
     "output_type": "error",
     "traceback": [
      "\u001b[0;31m---------------------------------------------------------------------------\u001b[0m",
      "\u001b[0;31mParamValidationError\u001b[0m                      Traceback (most recent call last)",
      "\u001b[0;32m<ipython-input-42-c9ab54ae3a48>\u001b[0m in \u001b[0;36m<module>\u001b[0;34m\u001b[0m\n\u001b[1;32m      1\u001b[0m response = runtime.invoke_endpoint(EndpointName = xgb_predictor.endpoint, # The name of the endpoint we created\n\u001b[1;32m      2\u001b[0m                                        \u001b[0mContentType\u001b[0m \u001b[0;34m=\u001b[0m \u001b[0;34m'text/csv'\u001b[0m\u001b[0;34m,\u001b[0m                     \u001b[0;31m# The data format that is expected\u001b[0m\u001b[0;34m\u001b[0m\u001b[0;34m\u001b[0m\u001b[0m\n\u001b[0;32m----> 3\u001b[0;31m                                        Body = test_bow)\n\u001b[0m",
      "\u001b[0;32m~/anaconda3/envs/python3/lib/python3.6/site-packages/botocore/client.py\u001b[0m in \u001b[0;36m_api_call\u001b[0;34m(self, *args, **kwargs)\u001b[0m\n\u001b[1;32m    314\u001b[0m                     \"%s() only accepts keyword arguments.\" % py_operation_name)\n\u001b[1;32m    315\u001b[0m             \u001b[0;31m# The \"self\" in this scope is referring to the BaseClient.\u001b[0m\u001b[0;34m\u001b[0m\u001b[0;34m\u001b[0m\u001b[0;34m\u001b[0m\u001b[0m\n\u001b[0;32m--> 316\u001b[0;31m             \u001b[0;32mreturn\u001b[0m \u001b[0mself\u001b[0m\u001b[0;34m.\u001b[0m\u001b[0m_make_api_call\u001b[0m\u001b[0;34m(\u001b[0m\u001b[0moperation_name\u001b[0m\u001b[0;34m,\u001b[0m \u001b[0mkwargs\u001b[0m\u001b[0;34m)\u001b[0m\u001b[0;34m\u001b[0m\u001b[0;34m\u001b[0m\u001b[0m\n\u001b[0m\u001b[1;32m    317\u001b[0m \u001b[0;34m\u001b[0m\u001b[0m\n\u001b[1;32m    318\u001b[0m         \u001b[0m_api_call\u001b[0m\u001b[0;34m.\u001b[0m\u001b[0m__name__\u001b[0m \u001b[0;34m=\u001b[0m \u001b[0mstr\u001b[0m\u001b[0;34m(\u001b[0m\u001b[0mpy_operation_name\u001b[0m\u001b[0;34m)\u001b[0m\u001b[0;34m\u001b[0m\u001b[0;34m\u001b[0m\u001b[0m\n",
      "\u001b[0;32m~/anaconda3/envs/python3/lib/python3.6/site-packages/botocore/client.py\u001b[0m in \u001b[0;36m_make_api_call\u001b[0;34m(self, operation_name, api_params)\u001b[0m\n\u001b[1;32m    606\u001b[0m         }\n\u001b[1;32m    607\u001b[0m         request_dict = self._convert_to_request_dict(\n\u001b[0;32m--> 608\u001b[0;31m             api_params, operation_model, context=request_context)\n\u001b[0m\u001b[1;32m    609\u001b[0m \u001b[0;34m\u001b[0m\u001b[0m\n\u001b[1;32m    610\u001b[0m         \u001b[0mservice_id\u001b[0m \u001b[0;34m=\u001b[0m \u001b[0mself\u001b[0m\u001b[0;34m.\u001b[0m\u001b[0m_service_model\u001b[0m\u001b[0;34m.\u001b[0m\u001b[0mservice_id\u001b[0m\u001b[0;34m.\u001b[0m\u001b[0mhyphenize\u001b[0m\u001b[0;34m(\u001b[0m\u001b[0;34m)\u001b[0m\u001b[0;34m\u001b[0m\u001b[0;34m\u001b[0m\u001b[0m\n",
      "\u001b[0;32m~/anaconda3/envs/python3/lib/python3.6/site-packages/botocore/client.py\u001b[0m in \u001b[0;36m_convert_to_request_dict\u001b[0;34m(self, api_params, operation_model, context)\u001b[0m\n\u001b[1;32m    654\u001b[0m             api_params, operation_model, context)\n\u001b[1;32m    655\u001b[0m         request_dict = self._serializer.serialize_to_request(\n\u001b[0;32m--> 656\u001b[0;31m             api_params, operation_model)\n\u001b[0m\u001b[1;32m    657\u001b[0m         \u001b[0;32mif\u001b[0m \u001b[0;32mnot\u001b[0m \u001b[0mself\u001b[0m\u001b[0;34m.\u001b[0m\u001b[0m_client_config\u001b[0m\u001b[0;34m.\u001b[0m\u001b[0minject_host_prefix\u001b[0m\u001b[0;34m:\u001b[0m\u001b[0;34m\u001b[0m\u001b[0;34m\u001b[0m\u001b[0m\n\u001b[1;32m    658\u001b[0m             \u001b[0mrequest_dict\u001b[0m\u001b[0;34m.\u001b[0m\u001b[0mpop\u001b[0m\u001b[0;34m(\u001b[0m\u001b[0;34m'host_prefix'\u001b[0m\u001b[0;34m,\u001b[0m \u001b[0;32mNone\u001b[0m\u001b[0;34m)\u001b[0m\u001b[0;34m\u001b[0m\u001b[0;34m\u001b[0m\u001b[0m\n",
      "\u001b[0;32m~/anaconda3/envs/python3/lib/python3.6/site-packages/botocore/validate.py\u001b[0m in \u001b[0;36mserialize_to_request\u001b[0;34m(self, parameters, operation_model)\u001b[0m\n\u001b[1;32m    295\u001b[0m                                                     operation_model.input_shape)\n\u001b[1;32m    296\u001b[0m             \u001b[0;32mif\u001b[0m \u001b[0mreport\u001b[0m\u001b[0;34m.\u001b[0m\u001b[0mhas_errors\u001b[0m\u001b[0;34m(\u001b[0m\u001b[0;34m)\u001b[0m\u001b[0;34m:\u001b[0m\u001b[0;34m\u001b[0m\u001b[0;34m\u001b[0m\u001b[0m\n\u001b[0;32m--> 297\u001b[0;31m                 \u001b[0;32mraise\u001b[0m \u001b[0mParamValidationError\u001b[0m\u001b[0;34m(\u001b[0m\u001b[0mreport\u001b[0m\u001b[0;34m=\u001b[0m\u001b[0mreport\u001b[0m\u001b[0;34m.\u001b[0m\u001b[0mgenerate_report\u001b[0m\u001b[0;34m(\u001b[0m\u001b[0;34m)\u001b[0m\u001b[0;34m)\u001b[0m\u001b[0;34m\u001b[0m\u001b[0;34m\u001b[0m\u001b[0m\n\u001b[0m\u001b[1;32m    298\u001b[0m         return self._serializer.serialize_to_request(parameters,\n\u001b[1;32m    299\u001b[0m                                                      operation_model)\n",
      "\u001b[0;31mParamValidationError\u001b[0m: Parameter validation failed:\nInvalid type for parameter Body, value: [0, 0, 0, 0, 0, 0, 0, 0, 0, 0, 0, 0, 0, 0, 0, 0, 0, 0, 0, 0, 0, 0, 0, 0, 0, 0, 0, 0, 0, 0, 0, 0, 0, 0, 0, 0, 0, 0, 0, 0, 0, 0, 0, 0, 0, 0, 0, 0, 0, 0, 0, 0, 0, 0, 0, 0, 0, 0, 0, 0, 0, 0, 0, 0, 0, 0, 0, 0, 0, 0, 0, 0, 0, 0, 0, 0, 0, 0, 0, 0, 0, 0, 0, 0, 0, 0, 0, 0, 0, 0, 0, 0, 0, 0, 0, 0, 0, 0, 0, 0, 0, 0, 0, 0, 0, 0, 0, 0, 0, 0, 0, 0, 0, 0, 0, 0, 0, 0, 0, 0, 0, 0, 0, 0, 0, 0, 0, 0, 0, 0, 0, 0, 0, 0, 0, 0, 0, 0, 0, 0, 0, 0, 0, 0, 0, 0, 0, 0, 0, 0, 0, 0, 0, 0, 0, 0, 0, 0, 0, 0, 0, 0, 0, 0, 0, 0, 0, 0, 0, 0, 0, 0, 0, 0, 0, 0, 0, 0, 0, 0, 0, 0, 0, 0, 0, 0, 0, 0, 0, 0, 0, 0, 0, 0, 0, 0, 0, 0, 0, 0, 0, 0, 0, 0, 0, 0, 0, 0, 0, 0, 0, 0, 0, 0, 0, 0, 0, 0, 0, 0, 0, 0, 0, 0, 0, 0, 1, 0, 0, 0, 0, 0, 0, 0, 0, 0, 0, 0, 0, 0, 0, 0, 0, 0, 0, 0, 0, 0, 0, 0, 0, 0, 0, 0, 0, 0, 1, 0, 0, 0, 0, 0, 0, 0, 0, 0, 0, 0, 0, 0, 0, 0, 0, 0, 0, 0, 0, 0, 0, 0, 0, 0, 0, 0, 0, 0, 0, 0, 0, 0, 0, 0, 0, 0, 0, 0, 0, 0, 0, 0, 0, 0, 0, 0, 0, 0, 0, 0, 0, 0, 0, 0, 0, 0, 0, 0, 0, 0, 0, 0, 0, 0, 0, 0, 0, 0, 0, 0, 0, 0, 0, 0, 0, 0, 0, 0, 0, 0, 0, 0, 0, 0, 0, 0, 0, 0, 0, 0, 0, 0, 0, 0, 0, 0, 0, 0, 0, 0, 0, 0, 0, 0, 0, 0, 0, 0, 0, 0, 0, 0, 0, 0, 0, 0, 0, 0, 0, 0, 0, 0, 0, 0, 0, 0, 0, 0, 0, 0, 0, 0, 0, 0, 0, 0, 0, 0, 0, 0, 0, 0, 0, 0, 0, 0, 0, 0, 0, 0, 0, 0, 0, 0, 0, 0, 0, 0, 0, 0, 0, 0, 0, 0, 0, 0, 0, 0, 0, 0, 0, 0, 0, 0, 0, 0, 0, 0, 0, 0, 0, 0, 0, 0, 0, 0, 0, 0, 0, 0, 0, 0, 0, 0, 0, 0, 0, 0, 0, 0, 0, 0, 0, 0, 0, 0, 0, 0, 0, 0, 0, 0, 0, 0, 0, 0, 0, 0, 0, 0, 0, 0, 0, 0, 0, 0, 0, 0, 0, 0, 0, 0, 0, 0, 0, 0, 0, 0, 0, 0, 0, 0, 0, 0, 0, 0, 0, 0, 0, 0, 0, 0, 0, 0, 0, 0, 0, 0, 0, 0, 0, 0, 0, 0, 0, 0, 0, 0, 0, 0, 0, 0, 0, 0, 0, 0, 0, 0, 0, 0, 0, 0, 0, 0, 0, 0, 0, 0, 0, 0, 0, 0, 0, 0, 0, 0, 0, 0, 0, 0, 0, 0, 0, 0, 0, 0, 0, 0, 0, 0, 0, 0, 0, 0, 0, 0, 0, 0, 0, 0, 0, 0, 0, 0, 0, 0, 0, 0, 0, 0, 0, 0, 0, 0, 0, 0, 0, 0, 0, 0, 0, 0, 0, 0, 0, 0, 0, 0, 0, 0, 0, 0, 0, 0, 0, 0, 0, 0, 0, 0, 0, 0, 0, 0, 0, 0, 0, 0, 0, 0, 0, 0, 0, 0, 0, 0, 0, 0, 1, 0, 0, 0, 0, 0, 0, 0, 0, 0, 0, 0, 0, 0, 0, 0, 0, 0, 0, 0, 0, 0, 0, 0, 0, 0, 0, 0, 0, 0, 0, 0, 0, 0, 0, 0, 0, 0, 0, 0, 0, 0, 0, 0, 0, 0, 0, 0, 0, 0, 0, 0, 0, 0, 0, 0, 0, 0, 0, 0, 0, 0, 0, 0, 0, 0, 0, 0, 0, 0, 0, 0, 0, 0, 0, 0, 0, 0, 0, 0, 0, 0, 0, 0, 0, 0, 0, 0, 0, 0, 0, 0, 0, 0, 0, 0, 0, 0, 0, 0, 0, 0, 0, 0, 0, 0, 0, 0, 0, 0, 0, 0, 0, 0, 0, 0, 0, 0, 0, 0, 0, 0, 0, 0, 0, 0, 0, 0, 0, 0, 0, 0, 0, 0, 0, 0, 0, 0, 0, 0, 0, 0, 0, 0, 0, 0, 0, 0, 0, 0, 0, 0, 0, 0, 0, 0, 0, 0, 0, 0, 0, 0, 0, 0, 0, 0, 0, 0, 0, 0, 0, 0, 0, 0, 0, 0, 0, 0, 0, 0, 0, 0, 0, 0, 0, 0, 0, 0, 0, 0, 0, 0, 0, 0, 0, 0, 0, 0, 0, 0, 0, 0, 0, 0, 0, 0, 0, 0, 0, 0, 0, 0, 0, 0, 0, 0, 0, 0, 0, 0, 0, 0, 0, 0, 0, 0, 0, 0, 0, 0, 0, 0, 0, 0, 0, 0, 0, 0, 0, 0, 0, 0, 0, 0, 0, 0, 0, 0, 0, 0, 0, 0, 0, 0, 1, 0, 0, 0, 0, 0, 0, 0, 0, 0, 0, 0, 0, 0, 0, 0, 0, 0, 0, 0, 0, 0, 0, 0, 0, 0, 0, 0, 0, 0, 0, 0, 0, 0, 0, 0, 0, 0, 0, 0, 0, 0, 0, 0, 0, 0, 0, 0, 0, 0, 0, 0, 0, 0, 0, 0, 0, 0, 0, 0, 0, 0, 0, 0, 0, 0, 0, 0, 0, 0, 0, 0, 0, 0, 0, 0, 0, 0, 0, 0, 0, 0, 0, 0, 0, 0, 0, 1, 0, 0, 0, 0, 0, 0, 0, 0, 0, 0, 0, 0, 0, 0, 0, 0, 0, 0, 0, 0, 0, 0, 0, 0, 0, 0, 0, 0, 0, 0, 0, 0, 0, 0, 0, 0, 0, 0, 0, 0, 0, 0, 0, 0, 0, 0, 0, 0, 0, 0, 0, 0, 0, 0, 0, 0, 0, 0, 0, 0, 0, 0, 0, 0, 0, 0, 0, 0, 0, 0, 0, 0, 0, 0, 0, 0, 0, 0, 0, 0, 0, 0, 0, 0, 0, 0, 0, 0, 0, 0, 0, 0, 0, 0, 0, 0, 0, 0, 0, 0, 0, 0, 0, 0, 0, 0, 0, 0, 0, 0, 0, 0, 0, 0, 0, 0, 0, 0, 0, 0, 0, 0, 0, 0, 0, 0, 0, 0, 0, 0, 0, 0, 0, 0, 0, 0, 0, 0, 0, 0, 0, 0, 0, 0, 0, 0, 0, 0, 0, 0, 0, 0, 0, 0, 0, 0, 0, 0, 0, 0, 0, 0, 0, 0, 0, 0, 0, 0, 0, 0, 0, 0, 0, 0, 0, 0, 0, 0, 0, 0, 0, 0, 0, 0, 0, 0, 0, 0, 0, 0, 0, 0, 0, 0, 0, 0, 0, 0, 0, 0, 0, 0, 0, 0, 0, 0, 0, 0, 0, 0, 0, 0, 0, 0, 0, 0, 0, 0, 0, 0, 0, 0, 0, 0, 0, 0, 0, 0, 0, 0, 0, 0, 0, 0, 0, 0, 0, 0, 0, 0, 0, 0, 0, 0, 0, 0, 0, 0, 0, 0, 0, 0, 1, 0, 0, 0, 0, 0, 0, 0, 0, 0, 0, 0, 0, 0, 0, 0, 0, 0, 0, 0, 0, 0, 0, 0, 0, 0, 0, 0, 0, 0, 0, 0, 0, 0, 0, 0, 0, 0, 0, 0, 0, 0, 0, 0, 0, 0, 0, 0, 0, 0, 0, 0, 0, 0, 0, 0, 1, 0, 0, 0, 0, 0, 0, 0, 0, 0, 0, 0, 0, 0, 0, 0, 0, 0, 0, 0, 0, 0, 0, 0, 0, 0, 0, 0, 0, 0, 0, 0, 0, 0, 0, 0, 0, 0, 0, 0, 0, 0, 0, 0, 0, 0, 0, 0, 0, 0, 0, 0, 0, 0, 0, 0, 0, 0, 0, 0, 0, 0, 0, 0, 0, 0, 0, 0, 0, 0, 0, 0, 0, 0, 0, 0, 0, 0, 0, 0, 0, 0, 0, 0, 0, 0, 0, 0, 0, 0, 0, 0, 0, 0, 0, 0, 0, 0, 0, 0, 0, 0, 0, 0, 0, 0, 0, 0, 0, 0, 0, 0, 0, 0, 0, 0, 0, 0, 0, 0, 0, 0, 0, 0, 0, 0, 0, 0, 0, 0, 0, 0, 0, 0, 0, 0, 0, 0, 0, 0, 0, 0, 0, 0, 0, 0, 0, 0, 0, 0, 0, 0, 0, 0, 0, 0, 0, 0, 0, 0, 0, 0, 0, 0, 0, 0, 0, 0, 0, 0, 0, 0, 0, 0, 0, 0, 0, 0, 0, 0, 0, 0, 0, 0, 0, 0, 0, 0, 0, 0, 0, 0, 0, 0, 0, 0, 0, 0, 0, 0, 0, 0, 0, 0, 0, 0, 0, 0, 0, 0, 0, 0, 0, 0, 0, 0, 0, 0, 0, 0, 0, 0, 0, 0, 0, 0, 0, 0, 0, 0, 0, 0, 0, 0, 0, 0, 0, 0, 0, 0, 0, 0, 0, 0, 0, 0, 0, 0, 0, 0, 0, 0, 0, 0, 0, 0, 0, 0, 0, 0, 0, 0, 0, 0, 0, 0, 0, 0, 0, 0, 0, 0, 0, 0, 0, 0, 0, 0, 0, 0, 0, 0, 0, 0, 0, 0, 0, 0, 0, 0, 0, 0, 0, 0, 0, 0, 0, 0, 0, 0, 0, 0, 0, 0, 0, 0, 0, 0, 0, 0, 0, 0, 0, 0, 0, 0, 0, 0, 0, 0, 0, 0, 0, 0, 0, 0, 0, 0, 0, 0, 0, 0, 0, 0, 0, 0, 0, 0, 0, 0, 0, 0, 0, 0, 0, 0, 0, 0, 0, 0, 0, 0, 0, 0, 0, 0, 0, 0, 0, 0, 0, 0, 0, 0, 0, 0, 0, 0, 0, 0, 0, 0, 0, 0, 0, 0, 0, 0, 0, 0, 0, 0, 0, 0, 0, 0, 0, 0, 0, 0, 0, 0, 0, 0, 0, 0, 0, 0, 0, 0, 0, 0, 0, 0, 0, 0, 0, 0, 0, 0, 0, 0, 0, 0, 0, 0, 0, 0, 0, 0, 0, 0, 0, 0, 0, 0, 0, 0, 0, 0, 0, 0, 0, 0, 0, 0, 0, 0, 0, 0, 0, 0, 0, 0, 0, 0, 0, 0, 0, 0, 0, 0, 0, 0, 0, 0, 0, 0, 0, 0, 0, 0, 0, 0, 0, 0, 0, 0, 0, 0, 0, 0, 0, 0, 0, 0, 0, 0, 0, 0, 0, 0, 0, 0, 0, 0, 0, 0, 0, 0, 0, 0, 0, 0, 0, 0, 0, 0, 0, 0, 0, 0, 0, 0, 0, 0, 0, 0, 0, 0, 0, 0, 0, 0, 0, 0, 0, 0, 0, 0, 0, 0, 0, 0, 0, 0, 0, 0, 0, 0, 0, 0, 0, 0, 0, 0, 0, 0, 0, 0, 0, 0, 0, 0, 0, 0, 0, 0, 0, 0, 0, 0, 0, 0, 0, 0, 0, 0, 0, 0, 0, 0, 0, 0, 0, 0, 0, 0, 0, 0, 0, 0, 0, 0, 0, 0, 0, 0, 0, 0, 0, 0, 0, 0, 0, 0, 0, 0, 0, 0, 0, 0, 0, 0, 0, 0, 0, 0, 0, 0, 0, 0, 0, 0, 0, 0, 0, 0, 0, 0, 0, 0, 0, 0, 0, 0, 0, 0, 0, 0, 0, 0, 0, 0, 0, 0, 0, 0, 0, 0, 0, 0, 0, 0, 0, 0, 0, 0, 0, 0, 0, 0, 0, 0, 0, 0, 0, 0, 0, 0, 0, 0, 0, 0, 0, 0, 0, 0, 0, 0, 0, 0, 0, 0, 0, 0, 0, 0, 0, 0, 0, 0, 0, 0, 0, 0, 0, 0, 0, 0, 0, 0, 1, 0, 0, 0, 0, 0, 0, 0, 0, 0, 0, 0, 0, 0, 0, 0, 0, 0, 0, 0, 0, 0, 0, 0, 0, 0, 0, 0, 0, 0, 0, 0, 0, 0, 0, 0, 0, 0, 0, 0, 0, 0, 0, 0, 0, 0, 0, 0, 0, 0, 0, 0, 0, 0, 0, 0, 0, 0, 0, 0, 0, 0, 0, 0, 0, 0, 0, 0, 0, 0, 0, 0, 0, 0, 0, 1, 0, 0, 0, 0, 0, 0, 0, 0, 0, 0, 0, 0, 0, 0, 0, 0, 0, 0, 0, 0, 1, 0, 0, 1, 0, 0, 0, 0, 0, 0, 0, 0, 0, 0, 0, 0, 0, 0, 0, 0, 0, 0, 0, 0, 0, 0, 0, 0, 0, 0, 0, 0, 0, 0, 0, 0, 0, 0, 0, 0, 0, 0, 0, 0, 0, 0, 0, 0, 0, 0, 0, 0, 0, 0, 0, 0, 0, 0, 0, 0, 0, 0, 0, 0, 0, 0, 0, 0, 0, 0, 0, 0, 0, 0, 0, 0, 0, 0, 0, 0, 0, 0, 0, 0, 0, 0, 0, 0, 0, 0, 0, 0, 0, 0, 0, 0, 0, 0, 0, 0, 0, 0, 0, 0, 0, 0, 0, 0, 0, 0, 0, 0, 0, 0, 0, 0, 0, 0, 0, 0, 0, 0, 0, 0, 0, 0, 0, 0, 0, 0, 0, 0, 0, 0, 0, 0, 0, 0, 0, 0, 0, 0, 0, 0, 0, 0, 0, 0, 0, 0, 0, 0, 0, 0, 0, 0, 0, 0, 0, 0, 0, 0, 0, 0, 0, 0, 0, 0, 0, 0, 0, 0, 0, 0, 0, 0, 0, 0, 0, 0, 0, 0, 0, 0, 0, 0, 0, 0, 0, 0, 0, 0, 0, 0, 0, 0, 0, 0, 0, 0, 0, 0, 0, 0, 0, 0, 0, 0, 0, 0, 0, 0, 0, 0, 0, 0, 0, 0, 0, 0, 0, 0, 0, 0, 0, 0, 0, 0, 0, 0, 0, 0, 0, 0, 0, 0, 0, 0, 0, 0, 0, 0, 0, 0, 0, 0, 0, 0, 0, 0, 0, 0, 0, 0, 0, 0, 0, 0, 0, 0, 0, 0, 0, 0, 0, 0, 0, 0, 0, 0, 0, 0, 0, 0, 0, 0, 0, 0, 0, 0, 0, 0, 0, 0, 0, 0, 0, 0, 0, 0, 0, 0, 0, 0, 0, 0, 0, 0, 0, 0, 0, 0, 0, 0, 0, 0, 0, 0, 0, 0, 0, 0, 0, 0, 0, 0, 0, 0, 0, 0, 0, 0, 0, 0, 0, 0, 0, 0, 0, 0, 0, 0, 0, 0, 0, 0, 0, 0, 0, 0, 0, 0, 0, 0, 0, 0, 0, 0, 0, 0, 0, 0, 0, 0, 0, 0, 0, 0, 0, 0, 0, 0, 0, 0, 0, 0, 0, 0, 0, 0, 0, 0, 0, 0, 0, 0, 0, 0, 0, 0, 0, 0, 0, 0, 0, 0, 0, 0, 0, 0, 0, 0, 0, 0, 0, 0, 0, 0, 0, 0, 0, 0, 0, 0, 0, 0, 0, 0, 0, 0, 0, 0, 0, 0, 0, 0, 0, 0, 0, 0, 0, 0, 0, 0, 0, 0, 0, 0, 0, 0, 0, 0, 0, 0, 0, 0, 0, 0, 0, 0, 0, 0, 0, 0, 0, 0, 0, 0, 0, 0, 0, 0, 0, 0, 0, 0, 0, 0, 0, 0, 0, 0, 0, 0, 0, 0, 0, 0, 0, 0, 1, 0, 0, 0, 0, 0, 0, 0, 0, 0, 0, 0, 0, 0, 0, 0, 0, 0, 0, 0, 0, 0, 0, 0, 0, 0, 0, 0, 0, 0, 0, 0, 0, 0, 0, 0, 0, 0, 0, 0, 0, 0, 0, 0, 0, 0, 0, 0, 0, 0, 0, 0, 0, 0, 0, 0, 0, 0, 0, 0, 0, 0, 0, 0, 0, 0, 0, 0, 0, 0, 0, 0, 0, 0, 0, 0, 0, 0, 0, 0, 0, 0, 0, 0, 0, 0, 0, 0, 0, 0, 0, 0, 0, 0, 0, 0, 0, 0, 0, 0, 0, 0, 0, 0, 0, 0, 0, 0, 0, 0, 0, 0, 0, 0, 0, 0, 0, 0, 0, 0, 0, 0, 0, 0, 0, 0, 0, 0, 0, 0, 0, 0, 0, 0, 0, 0, 0, 0, 0, 0, 0, 0, 0, 0, 0, 0, 0, 0, 0, 0, 0, 0, 0, 0, 0, 0, 0, 0, 0, 0, 0, 0, 0, 0, 0, 0, 0, 0, 0, 0, 0, 0, 0, 0, 0, 0, 0, 0, 0, 0, 0, 0, 0, 0, 0, 0, 0, 0, 0, 0, 0, 0, 0, 0, 0, 0, 0, 0, 0, 0, 0, 0, 0, 0, 0, 0, 0, 0, 0, 0, 0, 0, 0, 0, 0, 0, 0, 0, 0, 0, 0, 0, 0, 0, 0, 0, 0, 0, 0, 0, 0, 0, 0, 0, 0, 0, 0, 0, 0, 0, 0, 0, 0, 0, 0, 0, 0, 0, 0, 0, 0, 0, 0, 0, 0, 0, 0, 0, 0, 0, 0, 0, 0, 0, 0, 0, 0, 0, 0, 0, 0, 0, 0, 0, 0, 0, 0, 0, 0, 0, 0, 0, 0, 0, 0, 0, 0, 0, 0, 0, 0, 0, 0, 0, 0, 0, 0, 0, 0, 0, 0, 0, 0, 0, 0, 0, 0, 0, 0, 0, 0, 0, 0, 0, 0, 0, 0, 0, 0, 0, 0, 0, 0, 0, 0, 0, 0, 0, 0, 0, 0, 0, 0, 0, 0, 0, 0, 0, 0, 0, 0, 0, 0, 0, 0, 0, 0, 0, 0, 0, 0, 0, 0, 0, 0, 0, 0, 0, 0, 0, 0, 0, 0, 0, 0, 0, 0, 0, 0, 0, 0, 0, 0, 0, 0, 0, 0, 0, 0, 0, 0, 0, 0, 0, 0, 0, 0, 0, 0, 0, 0, 0, 0, 0, 0, 0, 0, 0, 0, 0, 0, 0, 0, 0, 0, 0, 0, 0, 0, 0, 0, 0, 0, 0, 0, 0, 0, 0, 0, 0, 0, 0, 0, 0, 0, 0, 0, 0, 0, 0, 0, 0, 0, 0, 0, 0, 0, 0, 0, 0, 0, 0, 0, 0, 0, 0, 0, 0, 0, 0, 0, 0, 0, 0, 0, 0, 0, 0, 0, 0, 0, 0, 0, 0, 0, 0, 0, 0, 0, 0, 0, 0, 0, 0, 0, 0, 0, 0, 0, 0, 0, 0, 0, 0, 0, 0, 0, 0, 0, 0, 0, 0, 0, 0, 0, 0, 0, 0, 0, 0, 0, 0, 0, 0, 0, 0, 0, 0, 0, 0, 0, 0, 0, 1, 0, 0, 0, 0, 0, 0, 0, 0, 0, 0, 0, 0, 0, 0, 0, 0, 0, 0, 0, 0, 0, 0, 0, 0, 0, 0, 0, 0, 0, 0, 0, 0, 0, 0, 0, 2, 0, 0, 0, 0, 0, 0, 0, 0, 0, 0, 0, 0, 0, 0, 0, 0, 0, 0, 0, 0, 0, 0, 0, 0, 0, 0, 0, 0, 0, 0, 0, 0, 0, 0, 0, 0, 0, 0, 0, 0, 1, 0, 0, 0, 0, 0, 0, 0, 0, 0, 0, 0, 0, 0, 0, 0, 0, 0, 0, 0, 0, 0, 0, 0, 0, 0, 0, 0, 0, 0, 0, 0, 0, 0, 0, 0, 0, 0, 0, 0, 0, 0, 0, 0, 0, 0, 0, 0, 0, 0, 0, 0, 0, 0, 0, 0, 0, 0, 0, 0, 0, 0, 0, 0, 0, 0, 0, 0, 0, 0, 0, 0, 0, 0, 0, 0, 0, 0, 0, 0, 0, 0, 0, 0, 0, 0, 0, 0, 0, 0, 0, 0, 0, 0, 0, 0, 0, 0, 0, 0, 0, 0, 0, 0, 0, 0, 0, 0, 0, 0, 0, 0, 0, 0, 0, 0, 0, 0, 0, 0, 0, 0, 0, 0, 0, 0, 0, 0, 0, 0, 0, 0, 0, 0, 0, 0, 0, 0, 0, 0, 0, 0, 0, 0, 0, 0, 0, 0, 0, 0, 0, 0, 0, 0, 0, 0, 0, 0, 0, 0, 0, 0, 0, 0, 0, 0, 0, 0, 0, 0, 0, 0, 0, 0, 0, 0, 0, 0, 0, 0, 0, 0, 0, 0, 0, 0, 0, 0, 0, 0, 0, 0, 0, 0, 0, 0, 0, 0, 0, 0, 0, 0, 0, 0, 0, 0, 0, 0, 0, 0, 0, 0, 0, 0, 0, 0, 0, 0, 0, 0, 0, 0, 0, 0, 0, 0, 0, 0, 0, 0, 0, 0, 0, 0, 0, 0, 0, 0, 0, 0, 0, 0, 0, 0, 0, 0, 0, 0, 0, 0, 0, 0, 0, 0, 0, 0, 0, 0, 0, 0, 0, 0, 0, 0, 0, 0, 0, 0, 0, 0, 0, 0, 0, 0, 0, 0, 0, 0, 0, 0, 0, 0, 0, 0, 0, 0, 0, 0, 0, 0, 0, 0, 0, 0, 0, 0, 0, 0, 0, 0, 0, 0, 0, 0, 0, 0, 0, 0, 0, 0, 0, 0, 0, 0, 0, 0, 0, 0, 0, 0, 0, 0, 0, 0, 0, 0, 0, 0, 0, 0, 0, 0, 0, 0, 0, 0, 0, 0, 0, 0, 0, 0, 0, 0, 0, 0, 0, 0, 0, 0, 0, 0, 0, 0, 0, 0, 0, 0, 0, 0, 0, 0, 0, 0, 0, 0, 0, 0, 0, 0, 0, 0, 0, 0, 0, 0, 0, 0, 0, 0, 0, 0, 0, 0, 0, 0, 0, 0, 0, 0, 0, 0, 0, 0, 0, 0, 0, 0, 0, 0, 0, 0, 0, 0, 0, 0, 0, 0, 0, 0, 0, 0, 0, 0, 0, 0, 0, 0, 0, 0, 0, 0, 0, 0, 0, 0, 0, 0, 0, 0, 0, 0, 0, 0, 0, 0, 0, 0, 0, 0, 0, 0, 0, 0, 0, 0, 0, 0, 0, 0, 0, 0, 0, 0, 0, 0, 0, 0, 0, 0, 0, 0, 0, 0, 0, 0, 0, 0, 0, 0, 0, 0, 0, 0, 0, 0, 0, 0, 0, 0, 0, 0, 0, 0, 0, 0, 0, 0, 0, 0, 0, 0, 0, 0, 0, 0, 0, 0, 1, 0, 0, 0, 0, 0, 0, 0, 0, 0, 0, 0, 0, 0, 0, 0, 0, 0, 0, 0, 0, 0, 0, 0, 0, 0, 0, 0, 0, 0, 0, 0, 0, 0, 0, 0, 0, 0, 0, 0, 0, 0, 0, 0, 0, 0, 0, 0, 0, 0, 0, 0, 0, 0, 0, 0, 0, 0, 0, 0, 0, 0, 0, 0, 0, 0, 0, 0, 0, 0, 0, 0, 0, 0, 0, 0, 0, 0, 0, 0, 0, 0, 0, 0, 0, 0, 0, 0, 0, 0, 0, 0, 0, 0, 0, 0, 0, 0, 0, 0, 0, 0, 0, 0, 0, 0, 0, 0, 0, 0, 0, 2, 0, 0, 0, 0, 0, 0, 0, 0, 0, 0, 0, 0, 0, 0, 0, 0, 0, 0, 0, 0, 0, 0, 0, 0, 0, 0, 0, 0, 0, 0, 0, 0, 0, 0, 0, 0, 0, 0, 0, 0, 0, 0, 0, 0, 0, 0, 0, 0, 0, 0, 0, 0, 0, 0, 0, 0, 0, 0, 0, 0, 0, 0, 0, 0, 0, 0, 0, 0, 0, 0, 0, 0, 0, 0, 0, 0, 0, 0, 0, 0, 0, 0, 0, 0, 0, 0, 0, 0, 0, 0, 0, 0, 0, 0, 0, 0, 0, 0, 0, 0, 0, 0, 0, 0, 0, 0, 0, 0, 0, 0, 0, 0, 0, 0, 0, 0, 0, 0, 0, 0, 0, 0, 0, 0, 0, 0, 0, 0, 0, 0, 0, 0, 0, 0, 0, 0, 0, 0, 0, 0, 0, 0, 0, 0, 0, 0, 0, 0, 0, 0, 0, 0, 0, 0, 0, 0, 0, 0, 0, 0, 0, 0, 0, 0, 0, 0, 0, 0, 0, 0, 0, 0, 0, 0, 0, 0, 0, 0, 0, 0, 0, 0, 0, 0, 0, 0, 0, 0, 0, 0, 0, 0, 0, 0, 0, 0, 0, 0, 0, 0, 0, 0, 0, 0, 0, 0, 0, 0, 0, 0, 0, 0, 0, 0, 0, 0, 0, 0, 0, 0, 0, 0, 0, 0, 0, 0, 0, 0, 0, 0, 0, 0, 0, 0, 0, 0, 0, 0, 0, 0, 0, 0, 0, 0, 0, 0, 0, 0, 0, 0, 0, 0, 0, 0, 0, 0, 0, 0, 0, 0, 0, 0, 0, 0, 0, 0, 0, 0, 0, 0, 0, 0, 0, 0, 0, 0, 0, 0, 0, 0, 0, 0, 0, 0, 0, 0, 0, 0, 0, 0, 0, 0, 0, 0, 0, 0, 0, 0, 0, 0, 0, 0, 0, 0, 0, 0, 0, 0, 0, 0, 0, 0, 0, 0, 0, 0, 0, 0, 0, 0, 0, 0, 0, 0, 0, 0, 0, 0, 0, 0, 0, 0, 0, 0, 0, 0, 0, 0, 0, 0, 0, 0, 0, 0, 0, 0, 0, 0, 0, 0, 0, 0, 0, 0, 0, 0, 0, 0, 0, 0, 0, 0, 0, 0, 0, 0, 0, 0, 0, 0, 0, 0, 0, 0, 0, 0, 0, 0, 0, 0, 0, 0, 0, 0, 0, 0, 0, 0, 0, 0, 0, 0, 0, 0, 0, 0, 0, 0, 0, 0, 0, 0, 0, 0, 0, 0, 0, 0, 0, 0, 0, 0, 0, 0, 0, 0, 0, 0, 0, 0, 0, 0, 0, 0, 0, 0, 0, 0, 0, 0, 0, 0, 0, 0, 0, 0, 0, 0, 0, 0, 0, 0, 0, 0, 0, 0, 0, 0, 0, 0, 0, 0, 0, 0, 0, 0, 0, 0, 0, 0, 0, 0, 0, 0, 0, 0, 0, 0, 0, 0, 0, 0, 0, 0, 0, 0, 0, 0, 0, 0, 0, 0, 0, 0, 0, 0, 0, 0, 0, 0, 0, 0, 0, 0, 0, 0, 0, 0, 0, 0, 0, 0, 0, 0, 0, 0, 0, 0, 0, 0, 0, 0, 0, 0, 0, 0, 0, 0, 0, 0, 0, 0, 0, 0, 0, 0, 0, 0, 0, 0, 0, 0, 0, 0, 0, 0, 0, 0, 0, 0, 0, 0, 0, 0, 0, 0, 0, 0, 0, 0, 0, 0, 0, 0, 0, 0, 0, 0, 0, 0, 0, 0, 0, 0, 0, 0, 0, 0, 0, 0, 0, 0, 0, 0, 0, 0, 0, 0, 0, 0, 0, 0, 0, 0, 0, 0, 0, 0, 0, 0, 0, 0, 0, 0, 0, 0, 0, 0, 0, 0, 0, 0, 0, 0, 0, 0, 0, 0, 0, 0, 0, 0, 0, 0, 0, 0, 0, 0, 0, 0, 0, 0, 0, 0, 0, 0, 0, 0, 0, 0, 0, 0, 0, 0, 0, 0, 0, 0, 0, 0, 0, 0, 0, 0, 0, 0, 0, 0, 0, 0, 0, 0, 0, 0, 0, 0, 0, 0, 0, 0, 0, 0, 0, 0, 0, 0, 0, 0, 0, 0, 0, 0, 0, 0, 0, 0, 0, 0, 0, 0, 0, 0, 0, 0, 0, 0, 0, 0, 0, 0, 1, 0, 0, 0, 0, 0, 0, 0, 0, 0, 0, 0, 0, 0, 0, 0, 0, 0, 0, 0, 0, 0, 0, 0, 0, 0, 0, 0, 0, 0, 0, 0, 0, 0, 0, 0, 0, 0, 0, 0, 0, 0, 0, 0, 0, 0, 0, 0, 0, 0, 0, 0, 0, 0, 0, 0, 0, 0, 0, 0, 0, 0, 0, 0, 0, 0, 0, 0, 0, 0, 0, 0, 0, 0, 0, 0, 0, 0, 0, 0, 0, 0, 0, 0, 0, 0, 0, 0, 0, 0, 0, 0, 0, 0, 0, 0, 0, 0, 0, 0, 0, 0, 0, 0, 0, 0, 0, 0, 1, 0, 0, 0, 0, 0, 0, 0, 0, 0, 0, 0, 0, 0, 0, 0, 0, 0, 0, 0, 0, 0, 0, 0, 0, 0, 0, 0, 0, 0, 0, 0, 0, 0, 0, 0, 0, 0, 0, 0, 0, 0, 0, 0, 0, 0, 0, 0, 0, 0, 0, 0, 0, 0, 0, 0, 0, 0, 0, 0, 0, 0, 0, 0, 0, 0, 0, 0, 0, 0, 0, 0, 0, 0, 0, 0, 0, 0, 0, 0, 0, 0, 0, 0, 0, 0, 0, 0, 0, 0, 0, 0, 0, 0, 0, 0, 0, 0, 0, 0, 0, 0, 0, 0, 0, 0, 0, 0, 0, 0, 0, 0, 0, 0, 0, 0, 0, 0, 0, 0, 0, 0, 0, 0, 0, 0, 0, 0, 0, 0, 0, 0, 0, 0, 0, 0, 0, 0, 0, 0, 0, 0, 0, 0, 0, 0, 0, 0, 0, 0, 0, 0, 0, 0, 0, 0, 0, 0, 0, 0, 0, 0, 0, 0, 0, 0, 0, 0, 0, 0, 0, 0, 0, 0, 0, 0, 0, 0, 0, 0, 0, 0, 0, 0, 0, 0, 0, 0, 0, 0, 0, 0, 0, 0, 0, 0, 0, 0, 0, 0, 0, 0, 0, 0, 0, 0, 0, 0, 0, 0, 0, 0, 0, 0, 0, 0, 0, 0, 0, 0, 0, 0, 0, 0, 0, 0, 0, 0, 0, 0, 0, 0, 0, 0, 0, 0, 0, 0, 0, 0, 0, 0, 0, 0, 0, 0, 0, 0, 0, 0, 0, 0, 0, 0, 0, 0, 0, 0, 0, 0, 0, 0, 0, 0, 0, 0, 0, 0, 0, 0, 0, 0, 0, 0, 0, 0, 0, 0, 0, 0, 0, 0, 0, 0, 0, 0, 0, 0, 0, 0, 0, 0, 0, 0, 0, 0, 0, 0, 0, 0, 0, 0, 0, 0, 0, 0, 0, 0, 0, 0, 0, 0, 0, 0, 0, 0, 0, 0, 0, 0, 0, 0, 0, 0, 0, 0, 0, 0, 0, 0, 0, 0, 0, 0, 0, 0, 0, 0, 0, 0, 0, 0, 0, 0, 0, 0, 0, 0, 0, 0, 0, 0, 0, 0, 0, 0, 0, 0, 0, 0, 0, 0, 0, 0, 0, 0, 0, 0, 0, 0, 0, 0, 0, 0, 0, 0, 0, 0, 0, 0, 0, 0, 0, 0, 0, 0, 0, 0, 0, 0, 0, 0, 0, 0, 0, 0, 0, 0, 0, 0, 0, 0, 0, 0, 0, 0, 0, 0, 0, 0, 0, 0, 0, 0, 0, 0, 0, 0, 0, 0, 0, 0, 0, 0, 0, 0, 0, 0, 0, 0, 0, 0, 0, 0, 0, 0, 0, 0, 0, 0, 0, 0, 0, 0, 0, 0, 0, 0, 0, 0, 0, 0, 0, 0, 0, 0, 0, 0, 0, 0, 0, 0, 0, 0, 2, 0, 1, 0], type: <class 'list'>, valid types: <class 'bytes'>, <class 'bytearray'>, file-like object"
     ]
    }
   ],
   "source": [
    "response = runtime.invoke_endpoint(EndpointName = xgb_predictor.endpoint, # The name of the endpoint we created\n",
    "                                       ContentType = 'text/csv',                     # The data format that is expected\n",
    "                                       Body = test_bow)"
   ]
  },
  {
   "cell_type": "markdown",
   "metadata": {},
   "source": [
    "So why did we get an error?\n",
    "\n",
    "Because we tried to send the endpoint a list of integers but it expected us to send data of type `text/csv`. So, we need to convert it."
   ]
  },
  {
   "cell_type": "code",
   "execution_count": 43,
   "metadata": {},
   "outputs": [],
   "source": [
    "response = runtime.invoke_endpoint(EndpointName = xgb_predictor.endpoint, # The name of the endpoint we created\n",
    "                                       ContentType = 'text/csv',                     # The data format that is expected\n",
    "                                       Body = ','.join([str(val) for val in test_bow]).encode('utf-8'))"
   ]
  },
  {
   "cell_type": "code",
   "execution_count": 44,
   "metadata": {},
   "outputs": [
    {
     "name": "stdout",
     "output_type": "stream",
     "text": [
      "{'ResponseMetadata': {'RequestId': '16b7efdb-7590-42d9-97f1-b88ae774d605', 'HTTPStatusCode': 200, 'HTTPHeaders': {'x-amzn-requestid': '16b7efdb-7590-42d9-97f1-b88ae774d605', 'x-amzn-invoked-production-variant': 'AllTraffic', 'date': 'Thu, 23 Jul 2020 21:27:03 GMT', 'content-type': 'text/csv; charset=utf-8', 'content-length': '14'}, 'RetryAttempts': 0}, 'ContentType': 'text/csv; charset=utf-8', 'InvokedProductionVariant': 'AllTraffic', 'Body': <botocore.response.StreamingBody object at 0x7f16a8141048>}\n"
     ]
    }
   ],
   "source": [
    "print(response)"
   ]
  },
  {
   "cell_type": "markdown",
   "metadata": {},
   "source": [
    "As we can see, the response from our model is a somewhat complicated looking dict that contains a bunch of information. The bit that we are most interested in is `'Body'` object which is a streaming object that we need to `read` in order to make use of."
   ]
  },
  {
   "cell_type": "code",
   "execution_count": 45,
   "metadata": {},
   "outputs": [
    {
     "name": "stdout",
     "output_type": "stream",
     "text": [
      "0.479087084532\n"
     ]
    }
   ],
   "source": [
    "response = response['Body'].read().decode('utf-8')\n",
    "print(response)"
   ]
  },
  {
   "cell_type": "markdown",
   "metadata": {},
   "source": [
    "Now that we know how to process the incoming user data we can start setting up the infrastructure to make our simple web app work. To do this we will make use of two different services. Amazon's Lambda and API Gateway services.\n",
    "\n",
    "Lambda is a service which allows someone to write some relatively simple code and have it executed whenever a chosen trigger occurs. For example, you may want to update a database whenever new data is uploaded to a folder stored on S3.\n",
    "\n",
    "API Gateway is a service that allows you to create HTTP endpoints (url addresses) which are connected to other AWS services. One of the benefits to this is that you get to decide what credentials, if any, are required to access these endpoints.\n",
    "\n",
    "In our case we are going to set up an HTTP endpoint through API Gateway which is open to the public. Then, whenever anyone sends data to our public endpoint we will trigger a Lambda function which will send the input (in our case a review) to our model's endpoint and then return the result."
   ]
  },
  {
   "cell_type": "markdown",
   "metadata": {},
   "source": [
    "### Setting up a Lambda function\n",
    "\n",
    "The first thing we are going to do is set up a Lambda function. This Lambda function will be executed whenever our public API has data sent to it. When it is executed it will receive the data, perform any sort of processing that is required, send the data (the review) to the SageMaker endpoint we've created and then return the result.\n",
    "\n",
    "#### Part A: Create an IAM Role for the Lambda function\n",
    "\n",
    "Since we want the Lambda function to call a SageMaker endpoint, we need to make sure that it has permission to do so. To do this, we will construct a role that we can later give the Lambda function.\n",
    "\n",
    "Using the AWS Console, navigate to the **IAM** page and click on **Roles**. Then, click on **Create role**. Make sure that the **AWS service** is the type of trusted entity selected and choose **Lambda** as the service that will use this role, then click **Next: Permissions**.\n",
    "\n",
    "In the search box type `sagemaker` and select the check box next to the **AmazonSageMakerFullAccess** policy. Then, click on **Next: Review**.\n",
    "\n",
    "Lastly, give this role a name. Make sure you use a name that you will remember later on, for example `LambdaSageMakerRole`. Then, click on **Create role**."
   ]
  },
  {
   "cell_type": "markdown",
   "metadata": {},
   "source": [
    "#### Part B: Create a Lambda function\n",
    "\n",
    "Now it is time to actually create the Lambda function. Remember from earlier that in order to process the user provided input and send it to our endpoint we need to gather two pieces of information:\n",
    "\n",
    " - The name of the endpoint, and\n",
    " - the vocabulary object.\n",
    "\n",
    "We will copy these pieces of information to our Lambda function after we create it.\n",
    "\n",
    "To start, using the AWS Console, navigate to the AWS Lambda page and click on **Create a function**. When you get to the next page, make sure that **Author from scratch** is selected. Now, name your Lambda function, using a name that you will remember later on, for example `sentiment_analysis_xgboost_func`. Make sure that the **Python 3.6** runtime is selected and then choose the role that you created in the previous part. Then, click on **Create Function**.\n",
    "\n",
    "On the next page you will see some information about the Lambda function you've just created. If you scroll down you should see an editor in which you can write the code that will be executed when your Lambda function is triggered. Collecting the code we wrote above to process a single review and adding it to the provided example `lambda_handler` we arrive at the following.\n",
    "\n",
    "```python\n",
    "# We need to use the low-level library to interact with SageMaker since the SageMaker API\n",
    "# is not available natively through Lambda.\n",
    "import boto3\n",
    "\n",
    "# And we need the regular expression library to do some of the data processing\n",
    "import re\n",
    "\n",
    "REPLACE_NO_SPACE = re.compile(\"(\\.)|(\\;)|(\\:)|(\\!)|(\\')|(\\?)|(\\,)|(\\\")|(\\()|(\\))|(\\[)|(\\])\")\n",
    "REPLACE_WITH_SPACE = re.compile(\"(<br\\s*/><br\\s*/>)|(\\-)|(\\/)\")\n",
    "\n",
    "def review_to_words(review):\n",
    "    words = REPLACE_NO_SPACE.sub(\"\", review.lower())\n",
    "    words = REPLACE_WITH_SPACE.sub(\" \", words)\n",
    "    return words\n",
    "    \n",
    "def bow_encoding(words, vocabulary):\n",
    "    bow = [0] * len(vocabulary) # Start by setting the count for each word in the vocabulary to zero.\n",
    "    for word in words.split():  # For each word in the string\n",
    "        if word in vocabulary:  # If the word is one that occurs in the vocabulary, increase its count.\n",
    "            bow[vocabulary[word]] += 1\n",
    "    return bow\n",
    "\n",
    "\n",
    "def lambda_handler(event, context):\n",
    "    \n",
    "    vocab = \"*** ACTUAL VOCABULARY GOES HERE ***\"\n",
    "    \n",
    "    words = review_to_words(event['body'])\n",
    "    bow = bow_encoding(words, vocab)\n",
    "\n",
    "    # The SageMaker runtime is what allows us to invoke the endpoint that we've created.\n",
    "    runtime = boto3.Session().client('sagemaker-runtime')\n",
    "\n",
    "    # Now we use the SageMaker runtime to invoke our endpoint, sending the review we were given\n",
    "    response = runtime.invoke_endpoint(EndpointName = '***ENDPOINT NAME HERE***',# The name of the endpoint we created\n",
    "                                       ContentType = 'text/csv',                 # The data format that is expected\n",
    "                                       Body = ','.join([str(val) for val in bow]).encode('utf-8')) # The actual review\n",
    "\n",
    "    # The response is an HTTP response whose body contains the result of our inference\n",
    "    result = response['Body'].read().decode('utf-8')\n",
    "    \n",
    "    # Round the result so that our web app only gets '1' or '0' as a response.\n",
    "    result = round(float(result))\n",
    "\n",
    "    return {\n",
    "        'statusCode' : 200,\n",
    "        'headers' : { 'Content-Type' : 'text/plain', 'Access-Control-Allow-Origin' : '*' },\n",
    "        'body' : str(result)\n",
    "    }\n",
    "```"
   ]
  },
  {
   "cell_type": "markdown",
   "metadata": {},
   "source": [
    "Once you have copy and pasted the code above into the Lambda code editor, replace the `**ENDPOINT NAME HERE**` portion with the name of the endpoint that we deployed earlier. You can determine the name of the endpoint using the code cell below."
   ]
  },
  {
   "cell_type": "code",
   "execution_count": 46,
   "metadata": {},
   "outputs": [
    {
     "data": {
      "text/plain": [
       "'xgboost-2020-07-23-21-04-07-876'"
      ]
     },
     "execution_count": 46,
     "metadata": {},
     "output_type": "execute_result"
    }
   ],
   "source": [
    "xgb_predictor.endpoint"
   ]
  },
  {
   "cell_type": "markdown",
   "metadata": {},
   "source": [
    "In addition, you will need to copy the vocabulary dict to the appropriate place in the code at the beginning of the `lambda_handler` method. The cell below prints out the vocabulary dict in a way that is easy to copy and paste."
   ]
  },
  {
   "cell_type": "code",
   "execution_count": 47,
   "metadata": {},
   "outputs": [
    {
     "name": "stdout",
     "output_type": "stream",
     "text": [
      "{'not': 3040, 'bad': 382, 'film': 1716, 'somehow': 4063, 'was': 4805, 'made': 2697, 'to': 4507, 'actually': 109, 'root': 3737, 'for': 1784, 'the': 4426, 'win': 4892, 'game': 1864, 'played': 3297, 'in': 2257, 'movie': 2926, 'even': 1533, 'though': 4461, 'dont': 1324, 'know': 2489, 'anything': 260, 'about': 67, 'soccer': 4048, 'and': 226, 'am': 204, 'fan': 1648, 'ending': 1471, 'on': 3105, 'bus': 631, 'itself': 2371, 'deals': 1137, 'with': 4911, 'issue': 2364, 'of': 3083, 'women': 4923, 'iran': 2350, 'how': 2181, 'they': 4442, 'are': 285, 'allowed': 190, 'go': 1924, 'into': 2332, 'amongst': 218, 'men': 2805, 'because': 432, 'their': 4431, 'is': 2360, 'inappropriate': 2259, 'hear': 2061, 'despite': 1211, 'this': 4457, 'law': 2538, 'some': 4061, 'try': 4600, 'sneak': 4043, 'but': 636, 'many': 2732, 'them': 4432, 'get': 1899, 'caught': 722, 'its': 2370, 'really': 3556, 'that': 4424, 'any': 256, 'society': 4050, 'could': 1007, 'still': 4188, 'have': 2052, 'such': 4268, 'gender': 1878, 'an': 223, 'interview': 2329, 'says': 3801, 'his': 2118, 'films': 1721, 'history': 2121, 'one': 3107, 'day': 1129, 'future': 1856, 'we': 4823, 'can': 665, 'watch': 4811, 'these': 4441, 'movies': 2927, 'see': 3855, 'once': 3106, 'lived': 2626, 'hopes': 2159, 'will': 4886, 'come': 886, 'rather': 3528, 'than': 4420, 'later': 2525, 'exception': 1557, 'sound': 4081, 'none': 3028, 'above': 68, 'type': 4621, 'no': 3020, 'budget': 610, 'truly': 4597, 'independent': 2272, 'horror': 2168, 'make': 2713, 'up': 4683, 'effects': 1431, 'gore': 1941, 'very': 4723, 'good': 1937, 'lead': 2545, 'actor': 103, 'effective': 1429, 'actress': 105, 'although': 201, 'attractive': 351, 'needs': 2990, 'as': 311, 'she': 3923, 'particularly': 3195, 'poor': 3328, 'major': 2711, 'problem': 3408, 'length': 2569, 'at': 331, 'minutes': 2859, 'half': 2007, 'hour': 2176, 'too': 4522, 'long': 2644, 'be': 418, 'slasher': 4020, 'plot': 3309, 'wise': 4903, 'only': 3110, 'ten': 4399, 'minute': 2858, 'first': 1736, 'relevant': 3604, 'places': 3284, 'it': 2366, 'visually': 4758, 'engaging': 1481, 'sometimes': 4067, 'lack': 2502, 'lighting': 2596, 'works': 4945, 'however': 2183, 'when': 4862, 'combined': 885, 'case': 707, 'most': 2909, 'large': 2517, 'difficult': 1249, 'certainly': 738, 'entertaining': 1499, 'if': 2222, 'unoriginal': 4673, 'serial': 3889, 'killer': 2470, 'back': 378, 'from': 1840, 'dead': 1132, 'ruthless': 3764, 'editing': 1421, 'current': 1084, 'form': 1798, 'plays': 3301, 'like': 2599, 'rough': 3741, 'cut': 1089, 'all': 187, 'starts': 4159, 'suicide': 4283, 'or': 3124, 'car': 680, 'crash': 1033, 'guess': 1989, 'whether': 4866, 'you': 4986, 'choose': 799, 'start': 4156, 'beginning': 443, 'end': 1468, 'director': 1264, 'gives': 1914, 'ability': 65, 'enter': 1494, 'new': 3003, 'seven': 3903, 'way': 4820, 'prefer': 3368, 'he': 2056, 'showing': 3958, 'us': 4690, 'course': 1019, 'events': 1536, 'led': 2558, 'call': 651, 'powerful': 3360, 'maybe': 2776, 'im': 2232, 'comes': 891, 'dramas': 1347, 'moments': 2887, 'full': 1846, 'performances': 3229, 'either': 1438, 'best': 469, 'touches': 4535, 'me': 2778, 'my': 2951, 'head': 2057, 'hours': 2177, 'after': 143, 'leaving': 2557, 'theatre': 4429, 'team': 4378, 'brought': 600, 'overrated': 3156, 'sappy': 3784, 'redeeming': 3577, 'pursuit': 3476, 'happiness': 2031, 'so': 4046, 'ill': 2228, 'just': 2437, 'say': 3799, 'closely': 855, 'big': 478, 'opening': 3114, 'frame': 1815, 'until': 4680, 'credits': 1050, 'rolled': 3729, 'figure': 1711, 'out': 3141, 'what': 4858, 'character': 758, 'doing': 1312, 'secret': 3849, 'mission': 2870, 'trying': 4601, 'complete': 921, 'which': 4867, 'shines': 3932, 'bright': 581, 'leaves': 2556, 'tear': 4379, 'filled': 1715, 'smile': 4036, 'our': 3139, 'entry': 1504, 'point': 3316, 'bit': 488, 'off': 3084, 'going': 1931, 'thomas': 4458, 'has': 2043, 'names': 2963, 'people': 3221, 'appears': 278, 'attempting': 342, 'follow': 1772, 'working': 4944, 'allows': 192, 'him': 2110, 'access': 83, 'strangers': 4214, 'glimpse': 1919, 'lives': 2628, 'order': 3126, 'worthy': 4956, 'gift': 1906, 'power': 3359, 'give': 1912, 'completely': 922, 'circumstances': 822, 'calls': 654, 'old': 3100, 'childhood': 790, 'friend': 1835, 'barry': 401, 'reminds': 3620, 'do': 1302, 'promised': 3431, 'second': 3846, 'decision': 1151, 'there': 4438, 'changing': 752, 'mind': 2849, 'role': 3726, 'small': 4033, 'cant': 671, 'help': 2079, 'feel': 1684, 'utter': 4701, 'held': 2074, 'background': 380, 'hanging': 2023, 'everyones': 1543, 'seen': 3865, 'three': 4469, 'times': 4497, 'level': 2584, 'emotion': 1458, 'being': 448, 'dealt': 1138, 'composed': 926, 'hands': 2020, 'show': 3953, 'bond': 532, 'two': 4620, 'stands': 4147, 'test': 4416, 'time': 4495, 'phone': 3255, 'begins': 444, 'journey': 2421, 'meet': 2793, 'sort': 4077, 'troubles': 4594, 'folk': 1770, 'stay': 4166, 'heavy': 2070, 'medical': 2790, 'survival': 4320, 'takes': 4351, 'turns': 4609, 'blind': 506, 'meat': 2787, 'heart': 2064, 'patient': 3211, 'unable': 4631, 'print': 3399, 'her': 2085, 'line': 2610, 'run': 3755, 'great': 1964, 'duke': 1383, 'scared': 3805, 'mother': 2911, 'afraid': 140, 'leave': 2555, 'boyfriend': 558, 'dying': 1393, 'coach': 868, 'faith': 1633, 'youth': 4994, 'community': 908, 'little': 2624, 'boy': 557, 'need': 2987, 'bone': 533, 'who': 4871, 'live': 2625, 'pain': 3170, 'inevitable': 2282, 'hope': 2155, 'wanting': 4790, 'each': 1395, 'those': 4460, 'beat': 423, 'by': 642, 'cutting': 1092, 'spending': 4106, 'money': 2888, 'style': 4249, 'why': 4878, 'through': 4477, 'mix': 2876, 'find': 1726, 'deserve': 1199, 'unknown': 4668, 'man': 2721, 'flashbacks': 1747, 'beautiful': 428, 'wife': 4884, 'huge': 2185, 'home': 2142, 'now': 3054, 'living': 2629, 'driving': 1368, 'door': 1328, 'kind': 2476, 'job': 2405, 'quest': 3486, 'painful': 3171, 'honest': 2146, 'means': 2783, 'seriously': 3892, 'believes': 456, 'degree': 1164, 'must': 2950, 'fun': 1848, 'every': 1539, 'step': 4175, 'suffering': 4277, 'eyes': 1613, 'eating': 1413, 'away': 369, 'soul': 4079, 'taking': 4352, 'towards': 4540, 'fate': 1665, 'redemption': 3578, 'wants': 4791, 'himself': 2111, 'well': 4843, 'award': 366, 'performance': 3228, 'wish': 4904, 'smith': 4038, 'would': 4957, 'more': 2904, 'instead': 2307, 'blockbuster': 509, 'action': 100, 'summer': 4291, 'while': 4868, 'guy': 2000, 'better': 472, 'oscar': 3133, 'before': 440, 'done': 1322, 'travesty': 4570, 'least': 2554, 'rest': 3657, 'cast': 710, 'stellar': 4174, 'across': 96, 'board': 522, 'woody': 4936, 'pitch': 3279, 'perfect': 3224, 'joy': 2422, 'life': 2592, 'shy': 3962, 'belief': 451, 'humanity': 2189, 'throughout': 4478, 'sitting': 4007, 'pie': 3271, 'piano': 3264, 'park': 3190, 'playing': 3300, 'listen': 2619, 'fantastic': 1651, 'hard': 2033, 'stranger': 4213, 'allowing': 191, 'family': 1645, 'finally': 1724, 'safe': 3771, 'dawson': 1128, 'hot': 2174, 'young': 4989, 'woman': 4921, 'beaten': 424, 'broken': 594, 'lengthy': 2570, 'hospital': 2172, 'stays': 4169, 'given': 1913, 'love': 2669, 'introduction': 2339, 'opens': 3115, 'again': 146, 'free': 1827, 'spirited': 4114, 'sexual': 3908, 'creature': 1045, 'without': 4913, 'fear': 1676, 'wondering': 4930, 'last': 2521, 'makes': 2716, 'think': 4452, 'real': 3547, 'american': 213, 'same': 3778, 'frankly': 1823, 'hed': 2072, 'been': 438, 'right': 3696, 'italian': 2367, 'cannot': 670, 'proud': 3444, 'country': 1014, 'reasons': 3560, 'wouldnt': 4958, 'another': 250, 'french': 1830, 'example': 1553, 'simply': 3986, 'besides': 468, 'protagonist': 3441, 'doesnt': 1309, 'fall': 1637, 'desire': 1205, 'british': 589, 'girl': 1909, 'fellow': 1691, 'against': 147, 'far': 1653, 'acting': 99, 'concerned': 932, 'players': 3299, 'act': 97, 'poorly': 3329, 'then': 4436, 'hated': 2047, 'atmosphere': 333, 'fact': 1621, 'thats': 4425, 'hate': 2046, 'saw': 3798, 'ago': 154, 'terrible': 4407, 'crappy': 1032, 'scarecrow': 3804, 'stupid': 4247, 'incredibly': 2270, 'corny': 997, 'villain': 4744, 'enjoys': 1489, 'screaming': 3827, 'awful': 372, 'kills': 2474, 'worse': 4951, 'contained': 963, 'sentence': 3881, 'luck': 2681, 'story': 4207, 'uses': 4697, 'justify': 2439, 'killings': 2473, 'everyone': 1542, 'picks': 3268, 'thinks': 4454, 'trailer': 4554, 'trash': 4565, 'likes': 2602, 'guys': 2001, 'pick': 3265, 'want': 4788, 'kill': 2468, 'everybody': 1540, 'ok': 3098, 'premise': 3370, 'alone': 194, 'enough': 1491, 'put': 3480, 'near': 2979, 'bottom': 551, 'list': 2617, 'adding': 117, 'said': 3774, 'kids': 2467, 'mom': 2885, 'walks': 4780, 'getting': 1901, 'tells': 4397, 'kid': 2464, 'refuses': 3587, 'isnt': 2362, 'own': 3158, 'house': 2178, 'chases': 771, 'field': 1704, 'front': 1841, 'screams': 3828, 'terror': 4412, 'didnt': 1242, 'mean': 2779, 'police': 3322, 'killed': 2469, 'under': 4639, 'gets': 1900, 'murdered': 2940, 'vengeance': 4719, 'victims': 4730, 'havent': 2053, 'official': 3094, 'tag': 4348, 'matters': 2770, 'filmed': 1717, 'days': 1130, 'spite': 4117, 'theyre': 4445, 'spoilers': 4124, 'wont': 4932, 'spoil': 4121, 'crap': 1031, 'somewhat': 4068, 'horrible': 2163, 'special': 4097, 'abysmal': 76, 'script': 3834, 'camera': 659, 'work': 4940, 'respect': 3652, 'effort': 1432, 'nearly': 2981, 'making': 2718, 'enjoy': 1484, 'watching': 4815, 'your': 4991, 'risk': 3704, 'else': 1448, 'should': 3951, 'distance': 1294, 'doubt': 1332, 'novels': 3053, 'john': 2409, 'le': 2544, 'classic': 835, 'peter': 3247, 'spy': 4135, 'name': 2960, 'alexander': 180, 'intelligence': 2313, 'ray': 3533, 'con': 928, 'father': 1666, 'alan': 171, 'howard': 2182, 'jack': 2373, 'together': 4511, 'characters': 760, 'natural': 2973, 'person': 3238, 'responsible': 3656, 'casting': 711, 'parts': 3199, 'performed': 3230, 'perfection': 3225, 'lot': 2661, 'strength': 4219, 'novel': 3052, 'closer': 856, 'grant': 1956, 'read': 3543, 'book': 535, 'dozen': 1338, 'watched': 4813, 'almost': 193, 'continue': 969, 'both': 547, 'had': 2003, 'take': 4349, 'desert': 1198, 'island': 2361, 'choice': 797, 'others': 3136, 'original': 3129, 'destroy': 1213, 'dreadful': 1353, 'remake': 3612, 'alex': 179, 'late': 2523, 'steve': 4181, 'word': 4937, 'flop': 1760, 'finish': 1732, 'charisma': 762, 'never': 3001, 'star': 4150, 'kim': 2475, 'looked': 2647, 'dangerous': 1110, 'menacing': 2807, 'believable': 453, 'doc': 1303, 'excitement': 1562, 'company': 910, 'laughed': 2532, 'miserable': 2863, 'michael': 2829, 'todays': 4509, 'exciting': 1563, 'actors': 104, 'did': 1241, 'makeup': 2717, 'were': 4848, 'sam': 3777, 'direction': 1261, 'play': 3296, 'extra': 1606, 'loved': 2670, 'williams': 4888, 'also': 199, 'jason': 2383, 'voice': 4761, 'setting': 3900, 'except': 1556, '50': 51, 'pretty': 3384, 'overall': 3150, 'stars': 4155, 'added': 116, 'few': 1700, 'cool': 989, 'david': 1124, 'artistic': 308, 'nude': 3058, 'border': 539, 'erotic': 1515, 'someone': 4064, 'liked': 2600, 'hamilton': 2012, 'books': 536, 'stolen': 4195, 'pictures': 3270, 'obviously': 3072, 'intimate': 2331, 'older': 3101, 'strong': 4229, 'territory': 4411, 'proved': 3446, 'perhaps': 3235, 'photos': 3261, 'taken': 4350, 'set': 3898, 'art': 304, 'photography': 3260, 'unfortunately': 4654, 'does': 1308, 'cinematography': 820, 'soft': 4051, 'focus': 1766, 'becomes': 434, 'angles': 237, 'become': 433, 'confusing': 942, 'motion': 2913, 'considered': 951, 'miss': 2866, 'theres': 4440, 'supposed': 4306, 'farce': 1654, 'funny': 1852, 'things': 4451, 'happen': 2026, 'hang': 2022, 'develops': 1226, 'slowly': 4032, 'may': 2775, 'wonder': 4926, 'whats': 4860, 'eventually': 1537, '14': 6, 'year': 4978, 'cousin': 1021, 'core': 995, 'contact': 961, 'shown': 3959, 'since': 3990, 'disappointing': 1274, 'virgin': 4749, 'embarrassing': 1454, 'gag': 1861, 'having': 2054, 'experience': 1580, 'cinematic': 818, 'forms': 1801, 'subtle': 4260, 'americans': 214, 'english': 1483, 'subtitles': 4259, 'along': 195, 'suggested': 4281, 'child': 789, 'results': 3662, 'where': 4864, 'exploitation': 1592, 'children': 792, 'clearly': 840, 'serious': 3891, 'nobody': 3022, 'appear': 273, 'abuse': 74, 'practically': 3362, 'room': 3735, 'left': 2561, 'context': 968, 'immediately': 2242, 'over': 3148, 'violence': 4747, 'lucky': 2683, 'agree': 155, 'sex': 3907, 'thing': 4450, 'wishing': 4907, 'age': 148, 'similar': 3978, 'thoughts': 4464, 'pushed': 3478, 'ones': 3108, 'worst': 4952, 'avoided': 364, 'human': 2188, 'grow': 1982, 'beings': 449, 'fit': 1740, 'subject': 4253, 'cinema': 816, 'included': 2262, 'threat': 4467, 'topic': 4526, '1980': 20, 'successful': 4266, 'sensitive': 3879, 'unlikely': 4671, 'son': 4070, 'eastern': 1408, 'favourite': 1673, 'hung': 2197, 'fat': 1663, 'dragon': 1344, 'hes': 2093, 'less': 2575, 'sure': 4308, 'top': 4525, 'delivers': 1172, 'brutal': 603, 'amazing': 209, 'sequences': 3888, 'manages': 2725, 'tell': 4395, 'sweet': 4336, 'romance': 3732, 'directors': 1266, 'here': 2086, 'serve': 3893, 'curious': 1083, 'viewers': 4739, 'hit': 2122, 'fast': 1661, 'forward': 1808, 'button': 639, 'between': 475, 'physical': 3262, 'scene': 3809, 'features': 1680, 'light': 2595, 'sets': 3899, 'solid': 4057, 'tone': 4517, 'sequence': 3887, 'chased': 770, 'beautifully': 429, 'staged': 4140, 'sharp': 3922, 'comic': 893, 'stick': 4185, 'fight': 1707, 'model': 2880, 'choreography': 802, 'superb': 4296, 'easily': 1406, 'ever': 1538, 'climactic': 848, 'showdown': 3955, 'production': 3419, 'assault': 324, 'billy': 482, 'angry': 238, 'physically': 3263, 'delight': 1167, 'terrific': 4409, 'martial': 2747, 'arts': 310, 'score': 3822, 'attempt': 340, 'using': 4698, 'classical': 836, 'theme': 4433, 'used': 4693, 'superman': 4301, 'shoot': 3942, 'myself': 2953, 'outrageous': 3145, 'equal': 1509, 'zero': 4996, 'earth': 1403, 'scientists': 3819, 'discovered': 1280, 'pieces': 3273, 'planet': 3289, 'space': 4090, 'girlfriend': 1910, 'years': 4979, 'look': 2646, 'humble': 2191, 'opinion': 3118, 'sell': 3871, 'land': 2511, 'please': 3304, 'vote': 4766, '10': 0, 'tv': 4610, 'idea': 2213, 'female': 1693, 'knew': 2486, 'four': 1812, 'brothers': 599, 'teacher': 4375, 'enemies': 1476, 'named': 2961, 'artists': 309, 'meaning': 2780, 'important': 2247, 'part': 3193, 'believe': 454, 'series': 3890, 'much': 2934, 'contains': 964, 'add': 115, 'weak': 4824, 'capital': 673, 'got': 1944, 'anti': 254, 'bush': 632, 'president': 3378, 'absolutely': 72, 'nothing': 3047, 'youll': 4988, 'piece': 3272, 'jokes': 2415, 'welcome': 4842, 'camp': 662, 'al': 170, 'joke': 2414, 'commercials': 903, 'weeks': 4839, 'leading': 2547, 'funnier': 1850, 'sad': 3767, 'hopefully': 2157, 'season': 3843, 'shouldnt': 3952, 'wow': 4962, 'greatest': 1966, 'screen': 3829, 'sci': 3815, 'fi': 1701, 'thriller': 4472, 'edge': 1418, 'seat': 3845, 'incredible': 2269, 'lucy': 2684, 'anyone': 259, 'jeremy': 2394, 'war': 4792, 'games': 1865, 'track': 4544, 'down': 1335, 'lady': 2507, 'red': 3576, 'hair': 2005, 'producer': 3415, 'notorious': 3051, 'mrs': 2930, 'leslie': 2574, 'carter': 703, 'international': 2326, 'stage': 4139, 'league': 2549, 'other': 3135, 'enjoyable': 1485, 'quite': 3495, 'common': 906, 'cagney': 646, 'business': 633, 'among': 217, 'feature': 1678, 'theatrical': 4430, 'scenes': 3811, 'supporting': 4304, 'familiar': 1643, 'beloved': 461, 'period': 3236, 'notch': 3043, 'remember': 3616, 'let': 2579, 'truth': 4599, 'telling': 4396, 'manage': 2722, 'convey': 982, 'giant': 1905, 'larger': 2519, 'personality': 3242, 'knows': 2493, 'brilliant': 583, 'portrayal': 3341, 'realize': 3552, 'service': 3896, 'perfectly': 3226, 'captures': 678, 'legendary': 2565, 'glory': 1922, 'superbly': 4297, 'remarkably': 3614, 'true': 4596, 'broadway': 592, 'called': 652, 'wizard': 4919, 'looking': 2648, 'shot': 3949, 'wait': 4770, 'shake': 3914, 'main': 2707, 'blow': 514, 'literally': 2622, 'terrorist': 4413, 'train': 4556, 'writers': 4969, 'producers': 3416, 'stinker': 4191, 'turn': 4605, 'dull': 1384, 'glenn': 1918, 'ford': 1789, 'expert': 1585, 'upon': 4684, 'bomb': 531, 'writing': 4971, 'material': 2766, 'naturally': 2974, 'anne': 246, 'heard': 2062, 'career': 686, 'elderly': 1440, 'version': 4720, 'thought': 4462, 'highly': 2105, 'insulting': 2310, 'interesting': 2325, 'tedious': 4387, 'directing': 1260, 'tension': 4404, 'sports': 4130, 'lovers': 2673, 'alike': 185, 'drew': 1360, 'nice': 3008, 'shine': 3931, 'several': 3905, 'doubts': 1333, 'jimmy': 2403, 'totally': 4532, 'delivered': 1170, 'ben': 463, 'comical': 894, 'comedy': 890, 'laugh': 2529, 'loud': 2664, 'date': 1118, 'started': 4157, 'rocky': 3723, 'showed': 3956, 'apartment': 265, 'sick': 3963, 'stomach': 4196, 'place': 3282, 'earlier': 1399, 'helps': 2082, 'care': 684, 'helping': 2081, 'change': 749, 'toilet': 4512, 'bathroom': 412, 'everything': 1544, 'goes': 1930, 'whole': 4873, 'winter': 4900, 'baseball': 403, 'obsessed': 3069, 'seemingly': 3863, 'single': 3996, 'tries': 4585, 'busy': 635, 'guilty': 1995, 'including': 2264, 'curse': 1086, 'false': 1641, 'missed': 2867, 'question': 3487, 'touching': 4536, 'shows': 3960, 'sadly': 3769, 'putting': 3482, 'baby': 376, 'bought': 552, 'pregnant': 3369, 'decides': 1150, 'friends': 1837, 'birthday': 487, 'party': 3200, 'check': 777, 'night': 3013, 'shortly': 3947, 'pal': 3177, 'went': 4847, 'gave': 1875, 'told': 4513, 'missing': 2869, 'ends': 1474, 'saying': 3800, 'separate': 3883, 'realizes': 3554, 'obsession': 3070, 'uncle': 4636, 'remind': 3618, 'finds': 1728, 'stop': 4201, 'realizing': 3555, 'deeper': 1155, 'attend': 344, 'final': 1722, 'world': 4946, 'st': 4137, 'louis': 2665, 'happy': 2032, 'around': 297, 'thumbs': 4485, 'suspenseful': 4331, 'dark': 1115, 'severe': 3906, 'genuinely': 1892, 'mistake': 2871, 'murder': 2939, 'keep': 2449, 'strange': 4211, 'expect': 1575, 'futuristic': 1857, 'adaptation': 113, 'mysterious': 2955, 'dialogue': 1234, 'voices': 4763, 'recorded': 3574, 'recording': 3575, 'amateur': 206, 'reading': 3544, 'comment': 898, 'flaws': 1752, 'giving': 1915, 'directions': 1262, 'stand': 4143, 'talks': 4361, 'blue': 518, 'alien': 183, 'deep': 1154, 'fighting': 1709, 'early': 1400, 'crying': 1074, 'creatures': 1046, 'animation': 242, 'imaginative': 2237, 'music': 2946, 'dinosaurs': 1256, 'epic': 1506, 'shoes': 3941, 'string': 4227, 'makers': 2715, 'omen': 3104, '80s': 59, 'drug': 1373, 'during': 1387, '90s': 61, 'reason': 3557, 'explain': 1586, 'bother': 548, 'came': 656, 'catch': 714, 'trilogy': 4586, 'couple': 1016, 'bucks': 606, 'disc': 1278, 'basically': 407, 'average': 362, 'punk': 3468, 'spooky': 4128, 'whos': 4876, 'total': 4531, 'stronger': 4230, 'skills': 4014, 'past': 3207, 'occurred': 3077, 'parents': 3188, 'foot': 1781, 'recommended': 3572, 'avoid': 363, 'cost': 1003, 'sequel': 3885, 'success': 4265, 'expected': 1577, 'absurd': 73, 'inept': 2281, 'situations': 4009, 'dumb': 1385, 'beyond': 476, 'arent': 288, 'likable': 2598, 'unlike': 4670, 'happens': 2029, 'minimal': 2855, 'shame': 3918, 'hunting': 2201, 'cannibal': 669, 'surely': 4309, 'something': 4066, 'different': 1248, 'wanted': 4789, 'anyways': 262, 'clear': 839, 'rushed': 3760, 'mess': 2818, 'quality': 3484, 'aspects': 322, 'fans': 1650, 'sequels': 3886, 'admittedly': 123, 'picked': 3266, 'twelve': 4611, 'library': 2589, 'desperately': 1209, 'section': 3853, 'reads': 3545, 'took': 4523, 'wasnt': 4807, 'anywhere': 263, 'five': 1743, 'months': 2897, '16': 8, 'anime': 243, 'remembered': 3617, 'couldnt': 1008, 'author': 359, 'creator': 1043, 'episodes': 1508, 'thrown': 4481, '1990': 24, 'graphics': 1959, 'matter': 2769, '45': 50, 'within': 4912, 'grew': 1972, 'crazy': 1035, 'sounds': 4084, 'found': 1811, 'satisfied': 3789, 'dad': 1095, 'intense': 2316, 'ancient': 225, 'training': 4558, 'china': 795, 'became': 431, 'shape': 3919, 'whatever': 4859, 'cold': 872, 'water': 4816, 'loving': 2675, 'promises': 3432, 'marry': 2745, 'daughters': 1122, 'alive': 186, 'matched': 2763, 'hates': 2048, 'guts': 1999, 'feelings': 1686, 'admit': 122, 'girls': 1911, 'trust': 4598, 'worth': 4953, 'humorous': 2193, 'view': 4736, 'died': 1244, 'woods': 4935, 'achieved': 93, 'yes': 4982, 'government': 1948, 'writes': 4970, 'shock': 3938, 'black': 493, 'white': 4870, 'drawing': 1350, 'washington': 4806, 'portrayed': 3342, 'key': 2458, 'trade': 4547, 'central': 735, 'bank': 394, 'technical': 4381, 'wide': 4880, 'range': 3516, 'hand': 2015, 'control': 977, 'supposedly': 4307, 'national': 2970, 'horrifying': 2167, 'accomplished': 87, 'aids': 161, 'viewing': 4740, 'cry': 1073, 'freedom': 1828, 'deeply': 1156, 'ironic': 2355, 'tragic': 4552, 'solution': 4059, 'primary': 3394, 'jean': 2389, 'simmons': 3981, 'convinced': 984, 'aunt': 355, 'jones': 2418, 'shes': 3930, 'losing': 2658, 'condition': 937, 'requires': 3642, 'outside': 3146, 'possible': 3350, 'sees': 3866, 'estate': 1525, 'reed': 3580, 'whose': 4877, 'eye': 1611, 'middle': 2833, 'aged': 149, 'darker': 1116, 'sinister': 3998, 'sends': 3876, 'fired': 1735, 'agent': 150, 'countryside': 1015, 'catching': 716, 'closing': 859, 'page': 3167, 'photo': 3257, 'wonderfully': 4929, 'face': 1616, 'greedy': 1969, 'murderous': 2942, 'personally': 3243, 'james': 2378, 'cameron': 661, 'master': 2757, 'aliens': 184, 'science': 3816, 'fiction': 1702, 'adds': 119, 'titanic': 4503, 'brilliance': 582, 'exceptionally': 1559, 'moving': 2928, 'surprises': 4314, 'development': 1225, 'legend': 2564, 'challenge': 743, 'wonderful': 4928, 'kate': 2446, 'rose': 3739, 'release': 3602, 'annoyed': 248, 'quickly': 3491, 'apparent': 269, 'emotionally': 1460, 'entirely': 1503, 'satisfying': 3791, 'dry': 1377, 'theater': 4427, 'finest': 1730, 'soundtrack': 4085, 'audience': 352, 'song': 4071, 'annoying': 249, 'appreciate': 279, 'usual': 4699, 'memorable': 2802, 'cheesy': 781, 'points': 3319, 'aside': 315, 'masterpiece': 2759, 'romantic': 3733, 'lifetime': 2594, 'victoria': 4732, 'lame': 2510, 'emphasis': 1463, 'racial': 3501, 'handled': 2019, 'relatives': 3601, 'mostly': 2910, 'stereotypes': 4179, 'hardly': 2036, 'local': 2634, 'paper': 3183, 'review': 3676, 'imdb': 2240, 'disappointed': 1273, 'mad': 2696, 'based': 404, 'connection': 946, 'garden': 1872, 'state': 4160, 'inventive': 2341, 'especially': 1520, 'mention': 2810, 'emotional': 1459, 'climax': 849, 'church': 813, 'wooden': 4934, 'numbers': 3061, 'followed': 1773, 'silly': 3976, 'coming': 896, 'happened': 2027, 'spend': 4105, 'locations': 2636, 'bring': 585, 'flynn': 1765, 'jim': 2402, 'pilot': 3276, 'picture': 3269, 'seems': 3864, 'awfully': 373, 'contrived': 976, 'cliche': 843, 'standards': 4145, 'seem': 3861, 'compared': 912, 'similarities': 3979, 'hey': 2095, 'inspired': 2301, 'countless': 1012, 'fashioned': 1660, 'stories': 4205, 'might': 2835, 'otherwise': 3137, 'id': 2212, 'recommend': 3571, 'hollywoods': 2138, 'classics': 837, 'always': 203, 'favorite': 1671, 'bumbling': 622, 'lovable': 2668, 'recall': 3562, 'comments': 901, 'seeing': 3857, 'walter': 4784, 'matthau': 2771, 'title': 4504, 'swedish': 4335, 'radio': 3504, 'station': 4164, 'southern': 4088, 'california': 650, 'brings': 587, 'memories': 2803, 'image': 2233, 'mr': 2929, 'walking': 4779, 'certain': 737, 'minds': 2852, 'correct': 1000, 'anymore': 258, 'edgar': 1417, 'wallace': 4782, 'represents': 3639, 'typical': 4623, 'german': 1896, 'low': 2676, 'hold': 2129, 'attention': 345, 'badly': 383, 'center': 732, 'misery': 2865, 'overly': 3155, 'exaggerated': 1552, 'known': 2492, 'rescue': 3643, 'ive': 2372, 'following': 1774, 'conclusion': 936, 'lazy': 2543, 'afternoon': 144, 'groups': 1981, 'usually': 4700, 'attack': 337, 'understand': 4643, 'charm': 767, 'perspective': 3245, 'tense': 4403, 'kept': 2456, 'shelf': 3926, 'dvd': 1391, 'yet': 4984, 'urban': 4688, 'odd': 3080, 'comedies': 889, 'released': 3603, 'gene': 1879, 'worlds': 4947, 'lover': 2672, 'fox': 1814, 'sat': 3786, 'justin': 2440, 'kelly': 2452, 'video': 4733, 'store': 4204, 'justice': 2438, 'lose': 2654, 'sense': 3877, 'humor': 2192, 'stale': 4141, 'ward': 4793, 'yourself': 4993, 'present': 3374, 'particular': 3194, 'actual': 108, 'types': 4622, 'conceived': 929, 'often': 3095, 'talk': 4358, 'jumping': 2431, 'twists': 4619, 'progress': 3425, 'logical': 2639, 'fashion': 1659, 'jump': 2429, 'ring': 3698, 'ludicrous': 2685, 'speaking': 4095, 'carrying': 701, 'screenplay': 3831, 'horribly': 2164, 'offensive': 3086, 'irrelevant': 2358, 'save': 3794, 'brando': 566, 'jet': 2400, 'shooting': 3943, 'korean': 2495, 'discovers': 1281, 'falls': 1640, 'racism': 3502, 'conservative': 948, 'cultural': 1078, 'relations': 3596, 'excellent': 1555, 'twist': 4617, 'racist': 3503, 'musical': 2947, 'memory': 2804, 'lights': 2597, 'normally': 3034, 'include': 2261, 'reference': 3582, 'orson': 3132, 'welles': 4844, 'broadcast': 591, 'gold': 1932, 'concept': 930, 'bunch': 623, 'mistaken': 2872, 'halloween': 2010, 'dress': 1357, 'magnificent': 2705, 'fooled': 1780, 'notion': 3050, 'hidden': 2096, 'treasure': 4571, 'gem': 1877, 'passed': 3202, 'figured': 1712, 'dated': 1119, 'sentimental': 3882, 'themes': 4434, 'office': 3091, 'politics': 3326, 'exactly': 1551, 'headed': 2058, 'element': 1442, 'keeps': 2451, 'interest': 2323, 'wit': 4908, 'touch': 4533, 'consider': 949, 'hood': 2151, 'directed': 1259, 'buddies': 608, 'talent': 4354, 'bored': 541, 'lines': 2612, 'unconvincing': 4638, '90': 60, 'footage': 1782, 'comparison': 914, 'lets': 2580, 'buy': 640, 'involved': 2346, 'harsh': 2040, 'fake': 1635, 'reviews': 3679, 'purchased': 3470, 'extremely': 1610, 'susan': 4326, 'forget': 1793, 'ended': 1470, 'forth': 1804, 'bodies': 526, 'seemed': 3862, 'carry': 700, 'news': 3005, 'military': 2844, 'zombies': 4998, 'media': 2789, 'george': 1893, 'zombie': 4997, 'worked': 4941, 'satire': 3788, 'bullet': 620, 'scenario': 3808, 'death': 1141, 'destruction': 1216, 'various': 4715, 'furthermore': 1854, 'thoroughly': 4459, 'inane': 2258, 'incompetent': 2266, 'hideous': 2098, 'grade': 1951, 'village': 4743, 'hilarious': 2106, 'witty': 4917, 'hearted': 2065, 'moves': 2925, 'enjoyed': 1486, 'fred': 1825, 'armed': 293, 'forces': 1788, 'wishes': 4906, 'ho': 2127, 'okay': 3099, 'lively': 2627, 'army': 295, 'soldiers': 4054, 'warm': 4794, 'june': 2433, 'joan': 2404, 'wearing': 4831, 'lots': 2662, 'enemy': 1477, 'singing': 3995, 'amusing': 221, 'drinking': 1362, 'waters': 4817, 'yellow': 4981, 'steps': 4177, 'fabulous': 1615, 'suspicious': 4332, 'general': 1880, 'lyrics': 2692, 'navy': 2976, 'winds': 4895, 'fantasy': 1652, 'presented': 3376, 'grand': 1953, 'opera': 3116, 'west': 4852, 'meant': 2784, 'expensive': 1579, 'suppose': 4305, 'provides': 3450, 'queen': 3485, 'sight': 3969, 'remarks': 3615, 'looks': 2649, 'anyway': 261, 'drunk': 1375, 'cute': 1090, 'smoke': 4039, 'magic': 2703, 'adults': 126, 'kick': 2460, 'challenging': 744, 'elements': 1443, 'unless': 4669, 'college': 875, 'awesome': 371, 'wanna': 4786, 'damn': 1100, 'return': 3665, 'anybody': 257, 'oh': 3096, 'rated': 3527, 'laughing': 2533, 'gonna': 1936, 'mainly': 2708, 'brady': 561, 'pleased': 3305, 'computer': 927, 'needed': 2988, 'blood': 512, 'pg': 3250, '13': 4, 'definitely': 1162, 'teens': 4392, 'teen': 4388, 'close': 853, 'poster': 3353, 'yesterday': 4983, 'dutch': 1389, 'television': 4394, 'backgrounds': 381, 'germans': 1897, 'accent': 78, 'suddenly': 4273, 'shocking': 3940, 'horrific': 2166, 'minimum': 2856, 'exposed': 1598, 'ridiculous': 3693, 'purely': 3472, 'improve': 2254, 'impact': 2244, 'ordinary': 3128, 'cheap': 774, 'unbelievably': 4635, 'easy': 1410, 'move': 2921, 'inspiring': 2302, 'tortured': 4530, 'images': 2235, 'skin': 4015, 'hasnt': 2044, 'god': 1926, 'biggest': 480, 'advantage': 129, 'speed': 4103, 'pass': 3201, 'songs': 4072, 'due': 1382, 'brain': 562, 'probably': 3407, 'winning': 4898, 'inspector': 2299, 'tom': 4514, 'nick': 3012, 'robinson': 3716, 'develop': 1222, 'friendship': 1838, 'worried': 4949, 'william': 4887, 'london': 2641, 'nominated': 3025, 'won': 4925, 'popular': 3333, 'drama': 1346, 'number': 3060, 'high': 2100, 'widmark': 4882, 'public': 3460, 'health': 2060, 'doctor': 1304, 'criminals': 1058, 'plague': 3285, 'scale': 3802, 'breaks': 571, 'smaller': 4034, 'introduce': 2336, 'captain': 674, 'whom': 4875, 'valuable': 4708, 'underlying': 4641, 'served': 3894, 'danger': 1109, 'hiding': 2099, 'situation': 4008, 'panic': 3181, 'choreographed': 801, 'location': 2635, 'stunning': 4244, 'rat': 3525, 'city': 825, 'commentary': 899, 'shots': 3950, 'design': 1202, 'non': 3027, 'professional': 3421, 'roles': 3727, '1950s': 14, 'techniques': 4384, 'noir': 3023, 'generally': 1881, 'interested': 2324, 'learn': 2550, 'creep': 1051, 'straight': 4210, 'attacked': 338, 'empty': 1465, 'christopher': 811, 'draws': 1352, 'locked': 2637, 'deliberately': 1166, 'vague': 4705, 'experiments': 1584, 'happening': 2028, '60s': 54, 'underground': 4640, 'mystery': 2956, 'toward': 4539, 'holding': 2130, 'clichéd': 845, 'fine': 1729, 'stood': 4199, 'chance': 747, 'cruel': 1070, 'poverty': 3357, 'existence': 1571, 'robin': 3715, 'wild': 4885, 'according': 88, 'taught': 4370, 'murderer': 2941, 'hurt': 2202, 'energy': 1478, 'acted': 98, 'unbelievable': 4634, 'unrealistic': 4677, 'use': 4692, 'birth': 486, 'attitude': 346, 'era': 1513, 'lion': 2614, 'pure': 3471, 'class': 833, 'jr': 2423, 'king': 2479, 'matches': 2764, '15': 7, 'battle': 414, 'royal': 3746, 'pop': 3330, 'predictable': 3367, '1st': 28, 'obvious': 3071, 'championship': 745, 'vs': 4767, 'surprising': 4315, 'flying': 1764, 'stuff': 4243, 'wins': 4899, 'driver': 1366, 'european': 1530, 'hart': 2041, 'slaughter': 4021, 'mixed': 2877, 'reaction': 3541, 'underrated': 4642, 'match': 2762, 'ranks': 3519, 'favorites': 1672, 'crowd': 1067, 'constant': 957, 'antics': 255, 'hits': 2125, 'ken': 2453, 'rock': 3720, 'note': 3044, 'potential': 3355, 'jennifer': 2392, 'heat': 2067, 'short': 3946, 'kinda': 2477, 'nuts': 3064, 'terry': 4415, 'hardcore': 2034, 'bits': 490, 'titles': 4506, 'kane': 2442, '20': 29, 'table': 4346, 'smart': 4035, 'defeat': 1157, 'puts': 3481, '3rd': 47, 'guest': 1992, 'mike': 2838, 'ape': 266, 'pops': 3332, 'breath': 573, 'rarely': 3524, 'absolute': 71, 'garbage': 1870, 'formula': 1802, 'pathetic': 3210, 'solve': 4060, 'neither': 2996, 'routine': 3743, 'utterly': 4702, 'till': 4493, 'hoping': 2160, 'disappointment': 1275, 'relative': 3599, 'personal': 3240, 'involvement': 2347, 'signs': 3973, 'genius': 1887, 'conversation': 980, 'husband': 2204, 'gradually': 1952, 'involving': 2349, 'tape': 4365, 'shower': 3957, 'bride': 577, 'body': 527, 'clues': 865, 'waste': 4808, 'england': 1482, 'nowhere': 3056, 'studios': 4241, 'moved': 2922, 'america': 212, 'notable': 3041, 'remains': 3611, 'co': 867, 'debut': 1143, 'ahead': 159, 'closest': 857, 'week': 4837, 'luckily': 2682, 'guilt': 1994, 'crude': 1069, 'tale': 4353, 'pace': 3161, 'viewer': 4738, 'fully': 1847, 'convincing': 985, 'cop': 991, 'finale': 1723, 'winner': 4897, 'delivery': 1173, 'mark': 2739, 'cable': 644, 'highlights': 2104, 'constantly': 958, 'gun': 1996, 'green': 1971, 'disgusting': 1286, 'steals': 4172, 'recognize': 3569, 'renting': 3629, 'imagine': 2238, 'pleasure': 3306, 'flicks': 1755, 'formulaic': 1803, 'nudity': 3059, 'flash': 1745, 'flick': 1754, 'scream': 3826, 'inspiration': 2300, 'themselves': 4435, 'hip': 2114, 'tongue': 4518, 'cheek': 779, 'recent': 3566, 'blend': 504, 'parody': 3192, 'neo': 2998, 'direct': 1258, 'relies': 3606, 'fictional': 1703, 'genre': 1888, 'finished': 1733, 'mask': 2752, 'mouth': 2920, '12': 3, 'group': 1980, 'students': 4239, 'professor': 3422, 'decided': 1149, 'tap': 4364, 'surviving': 4323, 'returns': 3668, 'dies': 1245, 'quote': 3496, 'revealed': 3671, 'daughter': 1121, 'apparently': 270, 'ruined': 3751, 'wouldve': 4959, 'detail': 1217, 'mentioned': 2811, 'whoever': 4872, 'cuts': 1091, 'write': 4967, 'par': 3184, 'roots': 3738, 'adult': 125, 'rival': 3706, 'andrew': 228, 'blake': 498, 'thru': 4483, 'ladies': 2506, 'construction': 960, 'worker': 4942, 'felt': 1692, 'minor': 2857, 'wrong': 4973, 'turner': 4607, 'robert': 3713, 'suspense': 4330, 'kicked': 2461, 'honestly': 2147, 'fx': 1858, 'impressed': 2251, 'suck': 4269, 'shining': 3933, 'expecting': 1578, 'decent': 1147, 'stanley': 4148, 'ridiculously': 3694, 'disturbing': 1300, 'stephen': 4176, 'kings': 2481, 'mini': 2854, 'nicholson': 3011, 'thinking': 4453, 'appalling': 268, 'force': 1786, 'chances': 748, 'seagal': 3839, 'flight': 1757, 'fury': 1855, 'improvement': 2256, 'scheme': 3812, 'mediocre': 2791, 'achievement': 94, 'insight': 2298, 'careers': 687, 'filming': 1718, 'post': 3352, 'simple': 3983, 'fighter': 1708, 'planning': 3291, 'fire': 1734, 'weapons': 4829, 'discover': 1279, 'plane': 3288, 'sub': 4252, 'plots': 3310, 'storytelling': 4209, 'side': 3965, 'terms': 4406, 'tears': 4380, 'forced': 1787, 'perform': 3227, 'school': 3813, 'performs': 3234, 'air': 164, 'blame': 499, 'un': 4630, 'ambitious': 211, 'multi': 2935, 'deal': 1135, 'bothered': 549, 'remotely': 3623, 'promising': 3433, 'million': 2847, 'dollar': 1314, 'remaining': 3610, 'elvis': 1451, 'already': 197, 'distribution': 1298, 'argue': 290, 'continued': 970, 'dub': 1378, 'further': 1853, 'directs': 1267, 'areas': 287, 'standard': 4144, 'stunt': 4245, 'rise': 3702, 'focusing': 1769, 'violent': 4748, 'occasion': 3073, 'treated': 4573, 'nasty': 2968, 'partly': 3197, 'crew': 1053, 'complex': 923, 'shadow': 3912, 'incoherent': 2265, 'disappeared': 1271, 're': 3535, 'explanation': 1590, 'stock': 4193, 'horrendous': 2162, 'ships': 3935, 'plus': 3311, 'continuity': 972, 'road': 3709, 'needless': 2989, 'gratuitous': 1961, 'chicks': 787, 'briefly': 580, 'bear': 420, 'fay': 1674, 'grim': 1974, 'storyline': 4208, 'entertainment': 1500, 'value': 4709, 'create': 1036, 'follows': 1775, 'raise': 3507, 'ran': 3513, 'soon': 4074, 'cia': 814, 'desperate': 1208, 'countries': 1013, 'sent': 3880, 'brother': 598, 'prison': 3401, 'cat': 713, 'mouse': 2919, 'chase': 769, 'europe': 1529, 'secrets': 3852, 'husbands': 2205, 'parker': 3191, 'comedic': 888, 'previous': 3387, 'writer': 4968, 'hal': 2006, 'decide': 1148, 'next': 3007, 'rent': 3626, 'purchase': 3469, 'urge': 4689, 'immensely': 2243, 'disneys': 1290, 'morris': 2908, 'former': 1800, '1999': 27, '35': 45, 'brief': 579, 'synopsis': 4344, 'football': 1783, 'texas': 4418, 'passion': 3205, 'segment': 3867, 'jumps': 2432, 'dennis': 1179, 'chemistry': 782, 'lake': 2509, 'attempted': 341, 'player': 3298, 'struggling': 4236, 'dreams': 1355, 'practice': 3363, 'express': 1600, 'throws': 4482, 'agrees': 157, 'bay': 416, 'devil': 1228, 'miles': 2843, 'faster': 1662, 'threw': 4470, 'outstanding': 3147, 'offered': 3088, 'contract': 973, 'tough': 4537, 'comfortable': 892, 'dream': 1354, 'below': 462, 'increasingly': 2268, 'pulling': 3463, 'portraying': 3343, 'levels': 2585, 'timeless': 4496, 'message': 2819, 'tight': 4492, 'distant': 1295, 'impossible': 2249, 'achieve': 92, 'accurate': 90, 'examples': 1554, 'christian': 808, 'considering': 952, 'wing': 4896, 'presumably': 3380, 'dramatic': 1348, 'documentary': 1307, 'information': 2288, 'initial': 2290, 'lost': 2660, 'thus': 4486, 'throwing': 4480, 'dvds': 1392, 'aforementioned': 139, 'link': 2613, 'titled': 4505, 'testament': 4417, 'triumph': 4590, 'hbo': 2055, 'pay': 3216, 'channel': 753, 'behavior': 446, 'breaking': 570, 'houses': 2180, 'subjects': 4254, '70s': 56, 'rating': 3529, 'misses': 2868, 'behind': 447, 'dog': 1310, 'fly': 1763, 'moon': 2900, 'runs': 3757, 'cheese': 780, 'adventure': 130, 'reminiscent': 3621, 'box': 555, 'clean': 838, 'traditional': 4550, 'generation': 1883, 'younger': 4990, 'aware': 368, 'shall': 3916, 'driven': 1365, 'seek': 3858, 'popularity': 3334, 'result': 3660, 'technically': 4382, 'impressive': 2253, 'lacks': 2505, 'angle': 236, 'fairly': 1631, 'greater': 1965, 'pseudo': 3454, 'caused': 724, 'accident': 84, 'witch': 4909, 'opposed': 3122, 'witches': 4910, 'carrie': 697, 'developing': 1224, 'university': 4667, 'wasting': 4810, 'cases': 708, 'assume': 328, 'theory': 4437, 'nature': 2975, 'unpredictable': 4675, 'villains': 4745, 'normal': 3033, 'identity': 2217, 'wrote': 4974, 'herself': 2092, 'burned': 626, 'touched': 4534, 'focused': 1767, 'solely': 4056, 'nonsensical': 3031, 'brown': 601, 'presents': 3377, 'possibly': 3351, 'related': 3594, 'male': 2719, 'written': 4972, 'mile': 2842, 'actions': 101, 'floating': 1758, 'sky': 4017, 'sister': 4001, 'sarah': 3785, 'frank': 1821, 'sinatra': 3989, 'engaged': 1480, 'saved': 3795, 'dance': 1103, 'realized': 3553, 'nicely': 3009, 'johnson': 2411, 'ups': 4686, 'modern': 2882, '40': 48, 'boring': 543, 'excessive': 1560, 'topless': 4527, 'youre': 4992, 'naked': 2959, 'die': 1243, 'anna': 245, 'boss': 546, 'richard': 3686, 'proceeds': 3411, 'cheating': 776, 'richards': 3687, 'marriage': 2743, 'quick': 3490, 'student': 4238, 'prince': 3396, 'evil': 1548, 'fame': 1642, 'proves': 3447, 'kitchen': 2485, 'menace': 2806, 'masterful': 2758, 'building': 615, 'hatred': 2049, 'knowing': 2490, 'hype': 2207, 'soldier': 4053, 'lifestyle': 2593, 'unreal': 4676, 'research': 3644, 'combat': 882, 'chain': 741, 'command': 897, 'buildings': 616, 'buck': 605, 'break': 569, 'resemblance': 3645, 'unit': 4663, 'contrary': 974, 'seeking': 3859, 'universal': 4665, 'structure': 4233, 'object': 3066, 'capturing': 679, 'cell': 730, 'target': 4366, 'area': 286, 'necessary': 2984, 'paul': 3214, 'doll': 1313, 'pat': 3208, 'hill': 2108, 'mary': 2751, 'chris': 806, 'mitchell': 2875, 'allen': 188, 'experiment': 1583, 'noted': 3045, 'scientist': 3818, 'gordon': 1940, 'machine': 2693, 'fails': 1628, 'secretary': 3850, 'revenge': 3675, 'idiots': 2220, 'security': 3854, 'de': 1131, 'lab': 2501, 'dr': 1340, 'norman': 3035, 'able': 66, 'steal': 4170, 'pair': 3176, 'rubber': 3747, 'clown': 862, 'equipment': 1511, 'pointless': 3318, 'depressing': 1188, 'color': 877, 'gory': 1943, 'claims': 830, 'twisted': 4618, 'ripped': 3701, 'born': 544, 'dolls': 1316, 'rape': 3521, 'intention': 2319, 'splatter': 4118, 'naive': 2958, 'dear': 1140, 'kevin': 2457, 'issues': 2365, 'firstly': 1737, 'commercial': 902, 'bar': 396, 'clark': 832, 'secondly': 3847, 'acceptable': 81, 'dialogs': 1233, 'somebody': 4062, 'fed': 1682, 'laws': 2540, 'raped': 3522, 'jesus': 2399, 'dealing': 1136, 'lane': 2515, 'hollywood': 2137, 'trashy': 4566, 'harder': 2035, 'strike': 4224, 'forever': 1792, 'cares': 690, 'feeling': 1685, 'paid': 3169, 'product': 3418, 'deliver': 1169, 'ask': 316, 'surprise': 4312, 'singer': 3993, 'suspects': 4328, 'mood': 2898, 'hero': 2088, 'developed': 1223, 'motivations': 2915, 'fears': 1677, 'depth': 1190, 'creators': 1044, 'soap': 4047, 'montana': 2895, 'gorgeous': 1942, 'waiting': 4772, 'apart': 264, 'narration': 2965, 'scenery': 3810, 'connect': 944, 'pointed': 3317, 'childrens': 793, 'nowadays': 3055, 'toy': 4542, 'etc': 1527, 'introduced': 2337, 'beauty': 430, 'ages': 152, 'balance': 387, 'delivering': 1171, 'humour': 2194, 'emotions': 1461, 'julie': 2428, 'marvelous': 2750, 'eccentric': 1414, 'paris': 3189, 'meets': 2795, 'dancing': 1107, 'capture': 676, 'holds': 2131, 'wilson': 4891, 'luke': 2687, 'fault': 1668, 'shirley': 3936, 'jackson': 2375, 'attempts': 343, 'thrill': 4471, 'gray': 1963, 'unaware': 4632, 'york': 4985, 'jewish': 2401, 'fix': 1744, 'equally': 1510, 'attracted': 349, 'charlie': 765, 'revelation': 3674, 'secretly': 3851, 'gay': 1876, 'wedding': 4836, 'everywhere': 1545, 'molly': 2884, 'credit': 1049, 'disaster': 1276, 'bizarre': 492, 'rolling': 3730, 'wears': 4832, 'hat': 2045, 'lesbian': 2573, 'costs': 1004, 'rip': 3700, 'youve': 4995, 'promise': 3430, 'obnoxious': 3067, 'miserably': 2864, 'chick': 786, 'blonde': 511, 'ass': 323, 'endearing': 1469, 'attraction': 350, 'kirk': 2482, 'barely': 399, 'relationship': 3597, 'awkward': 374, 'kiss': 2483, 'occurs': 3078, 'failed': 1626, 'super': 4295, 'semi': 3874, 'appealing': 272, 'compare': 911, 'bruce': 602, 'currently': 1085, 'explicit': 1591, 'hadnt': 2004, 'prior': 3400, 'mst3k': 2932, 'dislike': 1288, 'joe': 2407, 'inducing': 2279, 'don': 1320, 'relief': 3605, 'difference': 1246, 'repeat': 3630, 'repeatedly': 3632, 'jail': 2376, 'yeah': 4977, 'decades': 1145, 'failure': 1629, 'edward': 1426, 'wood': 4933, 'filmmakers': 1720, 'scripts': 3836, 'argument': 291, 'pre': 3365, 'screening': 3830, 'process': 3412, 'endure': 1475, 'reactions': 3542, '75': 57, 'running': 3756, 'edited': 1420, 'dialog': 1232, 'digital': 1251, 'effect': 1428, 'indeed': 2271, 'mere': 2814, 'filmmaker': 1719, 'critics': 1064, 'benefit': 465, 'latest': 2526, 'importance': 2246, 'causes': 725, 'compelled': 915, 'produce': 3413, 'educational': 1425, 'craft': 1028, 'lucas': 2680, 'spielberg': 4110, 'environment': 1505, 'pull': 3461, 'dressed': 1358, 'familys': 1646, 'pet': 3246, 'accept': 80, 'tiny': 4500, 'saves': 3796, 'embarrassment': 1455, 'boat': 523, 'race': 3499, 'julia': 2427, 'intrigue': 2333, 'offers': 3090, 'willing': 4889, 'caring': 691, 'flat': 1748, 'search': 3841, 'skip': 4016, 'screenwriter': 3833, 'longer': 2645, 'kudos': 2497, 'mildly': 2840, 'slow': 4031, 'melodramatic': 2798, 'christians': 809, 'united': 4664, 'nations': 2971, 'nuclear': 3057, 'code': 869, 'honor': 2150, 'cover': 1022, 'lol': 2640, 'incident': 2260, 'began': 441, 'manipulative': 2727, 'propaganda': 3435, 'bold': 528, 'mindless': 2851, 'killing': 2472, 'elsewhere': 1449, 'purple': 3473, 'rain': 3506, 'rocks': 3722, 'realistic': 3550, 'relationships': 3598, 'problems': 3409, 'depicted': 1183, 'growing': 1983, 'relate': 3593, 'teenager': 4390, 'gone': 1935, 'band': 391, 'sexy': 3911, 'crime': 1055, 'executed': 1565, 'officer': 3092, 'episode': 1507, 'columbo': 881, 'journalist': 2420, 'vast': 4716, 'bound': 553, '1996': 26, 'depiction': 1185, '2000': 30, 'slick': 4026, 'affair': 135, 'grave': 1962, '2003': 33, 'starting': 4158, 'spiritual': 4116, 'mansion': 2731, 'pretend': 3381, 'planned': 3290, 'unexpected': 4650, 'consequences': 947, 'worn': 4948, 'specific': 4099, 'sincere': 3991, 'intentions': 2321, 'bears': 421, 'witness': 4914, 'chosen': 805, 'conflict': 939, 'scottish': 3825, 'rob': 3710, 'roy': 3745, 'battles': 415, 'individuals': 2278, 'leader': 2546, 'basic': 406, 'tend': 4400, 'protect': 3443, 'record': 3573, 'food': 1778, 'plan': 3287, 'higher': 2101, 'price': 3389, 'fair': 1630, 'tim': 4494, 'noble': 3021, 'sword': 4340, 'fathers': 1667, 'responsibility': 3655, 'burns': 628, 'rotten': 3740, 'brian': 576, 'cox': 1026, 'settle': 3902, 'painfully': 3172, 'dignity': 1252, 'grace': 1950, 'manner': 2729, 'shocked': 3939, 'paced': 3162, 'choices': 798, 'jessica': 2398, 'largely': 2518, 'sleazy': 4023, 'rare': 3523, 'essence': 1521, 'fallen': 1638, 'aging': 153, 'bath': 411, 'source': 4086, 'unhappy': 4656, 'mentally': 2809, 'amazingly': 210, 'detailed': 1218, 'critical': 1062, 'caliber': 649, 'virtually': 4751, 'internet': 2327, 'speech': 4102, 'copy': 994, 'share': 3920, 'religion': 3607, 'ways': 4822, 'african': 142, 'gods': 1928, 'glad': 1916, 'heroine': 2091, 'century': 736, 'remarkable': 3613, 'cartoons': 705, 'constructed': 959, 'goofy': 1939, 'sisters': 4002, 'rented': 3628, 'worthless': 4954, 'opportunity': 3121, 'twice': 4613, 'worthwhile': 4955, 'reviewer': 3677, 'originality': 3130, 'witnessed': 4915, 'festival': 1697, 'indie': 2276, 'favor': 1670, 'resist': 3648, 'adorable': 124, 'beach': 419, 'inner': 2292, 'outer': 3143, 'useful': 4694, 'appreciated': 280, 'homosexual': 2145, 'handle': 2018, 'britain': 588, 'teenage': 4389, 'intellectual': 2312, 'controversial': 978, 'michelle': 2830, 'holmes': 2139, 'onto': 3111, 'rubbish': 3748, 'appearance': 274, 'ad': 110, 'appeared': 276, 'vampire': 4711, 'tired': 4501, 'streets': 4217, 'la': 2500, 'succeed': 4262, 'vampires': 4712, 'nation': 2969, '2004': 34, 'cult': 1077, 'description': 1197, 'warn': 4797, 'couldve': 1009, 'advice': 133, 'revolves': 3682, 'acts': 107, 'flawed': 1750, 'facts': 1624, 'killers': 2471, 'corpse': 999, 'buried': 624, 'ocean': 3079, 'clothes': 860, 'category': 718, 'count': 1010, 'definition': 1163, 'behave': 445, 'breasts': 572, 'exact': 1550, 'trite': 4589, 'stopped': 4202, 'painting': 3175, 'walls': 4783, 'failing': 1627, 'watches': 4814, 'sheer': 3925, 'curiosity': 1082, 'rental': 3627, 'oliver': 3102, 'stones': 4198, 'majority': 2712, 'americas': 215, 'christ': 807, 'overwhelming': 3157, 'lovely': 2671, 'intelligent': 2314, 'niro': 3019, 'clever': 841, 'dozens': 1339, 'elaborate': 1439, 'thin': 4449, 'excuse': 1564, 'amounts': 220, 'sexuality': 3909, 'encounter': 1466, 'candy': 668, 'display': 1291, 'frequently': 1832, 'occasional': 3074, 'extras': 1608, 'trailers': 4555, 'eight': 1436, 'samurai': 3779, 'answer': 251, 'prime': 3395, 'street': 4216, 'disney': 1289, 'appeal': 271, 'talents': 4356, 'aimed': 162, 'format': 1799, 'weekend': 4838, 'walked': 4776, 'animated': 241, 'funniest': 1851, 'packed': 3166, 'laughs': 2534, 'town': 4541, 'significant': 3972, 'approach': 282, 'experienced': 1581, 'sadness': 3770, 'walk': 4775, 'listening': 2620, 'changed': 750, 'suggest': 4280, 'styles': 4250, 'sitcom': 4004, 'eric': 1514, 'circle': 821, 'diana': 1237, 'moore': 2901, 'celebrity': 729, 'member': 2800, 'lisa': 2616, 'sorry': 4076, 'tommy': 4516, 'wasted': 4809, 'steven': 4182, 'hyde': 2206, 'roberts': 3714, 'angels': 234, 'members': 2801, 'created': 1037, 'third': 4455, 'sun': 4292, 'uk': 4626, 'repeated': 3631, 'haunting': 2051, 'dubbed': 1379, 'spoiled': 4122, 'raw': 3532, 'japanese': 2382, 'van': 4713, 'der': 1191, 'originally': 3131, 'silent': 3975, 'thanks': 4423, 'moronic': 2907, 'whenever': 4863, 'blows': 517, 'captivating': 675, 'mass': 2753, 'market': 2740, 'positive': 3346, 'overdone': 3152, 'spoke': 4125, 'speak': 4094, 'pretending': 3382, 'stone': 4197, 'ultra': 4629, 'amateurish': 207, 'torture': 4529, 'details': 1219, 'opposite': 3123, 'saving': 3797, 'bloody': 513, 'gangster': 1868, 'depression': 1189, 'round': 3742, 'fights': 1710, 'dirty': 1268, 'succeeds': 4264, 'hanks': 2025, 'mafia': 2700, 'impression': 2252, 'bigger': 479, 'robots': 3718, 'vicious': 4728, 'march': 2734, 'gabriel': 1859, 'ruins': 3752, 'boxing': 556, 'plenty': 3307, 'gary': 1873, 'scott': 3824, 'simon': 3982, '1990s': 25, 'occur': 3076, 'produced': 3414, 'actresses': 106, 'sally': 3776, 'costume': 1005, 'goldberg': 1933, 'greatly': 1967, 'whilst': 4869, 'hint': 2112, 'visual': 4757, 'gags': 1862, 'mel': 2796, 'brooks': 596, 'reminded': 3619, 'pretentious': 3383, 'featuring': 1681, 'executive': 1567, 'fisher': 1739, 'seasons': 3844, 'werent': 4849, 'bill': 481, 'dropped': 1370, 'bbc': 417, 'christmas': 810, 'treat': 4572, 'screens': 3832, 'affected': 137, 'prostitute': 3440, 'likewise': 2603, 'compelling': 916, 'states': 4163, 'helped': 2080, 'occasionally': 3075, 'overcome': 3151, 'leads': 2548, 'mental': 2808, 'daniel': 1111, 'lewis': 2586, 'rush': 3759, 'hoffman': 2128, 'drive': 1363, 'reputation': 3640, 'awards': 367, 'alas': 172, 'branagh': 564, 'feels': 1687, 'hamlet': 2013, 'appearances': 275, 'self': 3869, 'ultimately': 4628, 'subtlety': 4261, 'displayed': 1292, 'frankenstein': 1822, 'priest': 3392, 'lawyer': 2541, 'peters': 3248, 'offering': 3089, 'amount': 219, 'loves': 2674, 'cabin': 643, 'distinct': 1296, 'mentioning': 2812, 'words': 4938, 'bible': 477, 'proof': 3434, 'imagination': 2236, 'hence': 2083, 'mans': 2730, 'negative': 2991, 'lately': 2524, 'accidentally': 85, 'vaguely': 4706, 'forgot': 1796, 'nonsense': 3030, 'reality': 3551, 'hell': 2077, 'ride': 3692, 'excited': 1561, 'reaching': 3539, 'moral': 2902, 'motives': 2916, 'guessing': 1991, 'rich': 3685, 'famous': 1647, 'purpose': 3474, 'rules': 3754, 'pulls': 3464, 'standing': 4146, 'ie': 2221, 'blank': 501, 'cause': 723, 'popcorn': 3331, 'settings': 3901, 'enjoyment': 1488, 'teach': 4374, 'forbidden': 1785, 'annie': 247, 'learns': 2553, 'presence': 3373, 'aired': 165, 'regret': 3591, 'generous': 1886, 'displays': 1293, 'dialogues': 1235, 'toys': 4543, 'bland': 500, 'cartoon': 704, 'plain': 3286, 'sleep': 4024, 'lesser': 2576, 'provide': 3448, 'characterization': 759, 'veteran': 4724, 'jaws': 2385, 'tried': 4584, 'whale': 4857, 'mate': 2765, 'seeks': 3860, 'alright': 198, 'irritating': 2359, 'listed': 2618, 'animals': 240, 'humans': 2190, 'preview': 3386, 'clips': 852, 'today': 4508, 'treatment': 4574, 'dimensional': 1253, 'muslim': 2949, 'youd': 4987, 'offended': 3085, 'ignorant': 2223, 'canada': 666, 'regular': 3592, 'basis': 408, 'escape': 1517, 'strikes': 4225, 'involve': 2345, 'reasonably': 3559, 'activities': 102, 'send': 3875, 'reflect': 3584, 'amitabh': 216, 'fresh': 1833, 'heads': 2059, 'bollywood': 530, 'surfing': 4311, 'received': 3564, 'resolution': 3649, 'abc': 63, 'program': 3424, 'jeff': 2390, 'recently': 3567, '2005': 35, 'kong': 2494, 'costumes': 1006, 'authentic': 358, '1940s': 13, 'creative': 1041, 'conversations': 981, 'fourth': 1813, 'ingredients': 2289, 'wwii': 4975, 'possibility': 3349, 'flashback': 1746, 'entire': 1502, 'portray': 3340, 'historical': 2119, 'vehicle': 4718, 'political': 3324, 'river': 3707, 'ensemble': 1492, 'dick': 1239, 'davis': 1126, 'laughable': 2530, 'card': 681, 'daily': 1097, 'stereotypical': 4180, 'punch': 3466, 'nose': 3037, 'deserved': 1200, 'portion': 3338, 'factory': 1623, 'scrooge': 3837, 'acid': 95, 'workers': 4943, 'blatant': 502, 'pro': 3406, 'communist': 907, 'placed': 3283, 'suggests': 4282, 'gas': 1874, 'loss': 2659, 'sons': 4073, 'passing': 3204, 'possibilities': 3348, 'endless': 1473, 'ignored': 2225, 'starring': 4154, 'jonathan': 2417, 'winters': 4901, 'chief': 788, 'noticed': 3049, 'madonna': 2699, 'switch': 4339, 'drag': 1342, 'ground': 1979, 'creating': 1039, 'pleasant': 3302, 'psycho': 3457, 'moment': 2886, 'surprised': 4313, 'talented': 4355, 'superior': 4300, 'florida': 1761, 'projects': 3428, 'neighbors': 2994, 'cried': 1054, 'believed': 455, 'rings': 3699, 'junk': 2436, '1970s': 17, '1980s': 21, 'sing': 3992, 'marie': 2737, 'cup': 1080, 'tea': 4373, 'performer': 3231, 'build': 614, 'sophisticated': 4075, 'ii': 2226, 'begin': 442, 'che': 773, 'chose': 804, 'orders': 3127, 'revolutionary': 3681, 'map': 2733, 'installment': 2303, 'methods': 2825, 'cuba': 1075, 'charismatic': 763, 'hearts': 2066, 'vision': 4754, 'horse': 2170, 'drags': 1345, 'cameos': 658, 'faces': 1618, 'sake': 3775, 'questions': 3489, 'determined': 1221, 'odds': 3082, 'south': 4087, 'destiny': 1212, 'position': 3345, 'built': 618, 'deserves': 1201, 'understated': 4646, 'lee': 2559, 'soviet': 4089, 'notice': 3048, 'symbolism': 4341, 'kurt': 2499, 'cameo': 657, 'mid': 2832, 'trouble': 4592, 'murders': 2943, 'supernatural': 4302, 'creation': 1040, 'careful': 688, 'prevent': 3385, 'scare': 3803, 'concern': 931, 'sudden': 4272, 'therefore': 4439, 'subsequent': 4257, 'window': 4894, 'historically': 2120, 'views': 4742, 'abilities': 64, 'charming': 768, 'pushing': 3479, 'judging': 2425, 'respected': 3653, 'pity': 3281, 'endings': 1472, 'ps': 3453, 'mexico': 2827, 'hotel': 2175, 'paranoia': 3186, 'trip': 4588, 'reflection': 3585, 'drugs': 1374, 'thank': 4421, 'nightmare': 3014, 'elm': 1447, 'pleasantly': 3303, 'awe': 370, 'host': 2173, 'sole': 4055, 'flesh': 1753, 'twenty': 4612, 'cake': 648, 'prepared': 3371, 'entertain': 1497, 'lacking': 2504, 'atrocious': 335, 'holes': 2133, 'jumped': 2430, 'shark': 3921, 'heres': 2087, 'sleeping': 4025, 'feet': 1688, 'guard': 1988, 'staying': 4168, 'taxi': 4371, '100': 1, 'hitler': 2124, 'sellers': 3872, 'fu': 1844, 'prove': 3445, 'managed': 2723, 'detective': 1220, 'hunt': 2198, 'faced': 1617, 'sid': 3964, 'helen': 2075, 'pink': 3277, 'burt': 629, 'enjoying': 1487, 'albeit': 173, 'classes': 834, 'strongly': 4231, 'influence': 2286, 'reaches': 3538, 'heights': 2073, 'nevertheless': 3002, 'rate': 3526, 'cgi': 740, 'bugs': 613, 'talking': 4360, 'throw': 4479, 'yelling': 4980, 'deaths': 1142, 'hoped': 2156, 'marketing': 2741, 'network': 3000, 'rangers': 3517, 'tie': 4488, 'doom': 1326, 'cash': 709, 'available': 361, 'wake': 4774, 'smoking': 4040, 'industry': 2280, 'joseph': 2419, 'merely': 2815, 'guarantee': 1987, 'turkey': 4604, 'confused': 941, 'explained': 1587, 'businessman': 634, 'russian': 3762, 'lord': 2652, 'asks': 319, 'irish': 2353, 'visits': 4756, 'francis': 1818, 'shakespeare': 3915, 'judge': 2424, 'accents': 79, 'western': 4853, 'shop': 3945, 'confusion': 943, 'social': 4049, 'harvey': 2042, 'intensity': 2317, 'directly': 1263, 'narrator': 2967, 'remain': 3609, 'defined': 1160, 'cliché': 844, 'discuss': 1283, 'depicts': 1186, 'revolution': 3680, 'boys': 559, 'property': 3438, 'shallow': 3917, 'timing': 4498, 'distracting': 1297, 'references': 3583, 'greek': 1970, 'chorus': 803, 'strictly': 4223, 'consistently': 954, '1973': 19, 'borrowed': 545, '1960s': 15, 'sunday': 4293, 'profound': 3423, 'virginia': 4750, 'cities': 823, 'silver': 3977, 'fell': 1690, 'broke': 593, 'bottle': 550, 'precious': 3366, 'henry': 2084, 'claim': 828, 'reporter': 3636, 'enterprise': 1495, '3000': 43, 'valley': 4707, '30': 42, 'surprisingly': 4316, 'gothic': 1945, 'nail': 2957, 'creepy': 1052, 'calling': 653, 'convince': 983, 'nearby': 2980, 'trap': 4563, 'builds': 617, 'shell': 3927, 'refreshing': 3586, 'explains': 1589, 'matrix': 2767, 'existed': 1570, 'lay': 2542, 'greed': 1968, 'artificial': 306, 'struggle': 4234, 'machines': 2694, 'sides': 3967, 'introduces': 2338, 'ruin': 3750, 'burning': 627, 'tree': 4576, 'trek': 4578, 'variety': 4714, 'ear': 1397, 'hints': 2113, 'whatsoever': 4861, 'bang': 393, 'ideas': 2215, 'todd': 4510, 'shut': 3961, 'kicking': 2462, 'ears': 1402, '2006': 36, 'visuals': 4759, 'tremendous': 4579, 'pacino': 3164, 'maker': 2714, 'metal': 2823, 'combine': 884, 'idiot': 2218, 'warriors': 4803, 'landscape': 2513, 'citizen': 824, 'credible': 1048, 'abandoned': 62, 'cars': 702, 'understanding': 4645, 'feed': 1683, 'holy': 2140, 'described': 1195, 'parallel': 3185, 'universe': 4666, 'complain': 919, 'properly': 3437, 'sounding': 4083, 'sticks': 4186, 'changes': 751, 'dare': 1113, 'amanda': 205, 'returned': 3666, 'contest': 967, 'aka': 168, 'solo': 4058, 'importantly': 2248, 'generations': 1884, 'stinks': 4192, 'unique': 4662, 'kung': 2498, 'deadly': 1133, 'trained': 4557, 'committed': 905, 'combination': 883, 'simplistic': 3985, 'del': 1165, 'souls': 4080, 'letter': 2581, 'slightly': 4029, 'recognition': 3568, 'fulci': 1845, 'ratings': 3530, 'lower': 2677, 'buffs': 612, 'qualities': 3483, 'buff': 611, 'scary': 3807, 'unintentional': 4658, 'porno': 3337, 'watchable': 4812, 'bette': 471, 'mildred': 2841, 'drawn': 1351, 'waitress': 4773, 'coffee': 870, 'club': 863, 'buying': 641, 'pays': 3218, 'meanwhile': 2785, 'angel': 231, 'kicks': 2463, 'burn': 625, 'montage': 2894, 'downhill': 1336, 'raised': 3508, 'path': 3209, 'wished': 4905, 'treats': 4575, 'dogs': 1311, 'married': 2744, 'philip': 3252, 'wealthy': 4827, 'staff': 4138, 'reached': 3537, 'terrifying': 4410, 'arms': 294, 'somewhere': 4069, 'superficial': 4298, 'content': 966, 'heck': 2071, 'politically': 3325, 'cd': 728, 'stilted': 4190, 'desired': 1206, 'genuine': 1891, 'generated': 1882, 'drivel': 1364, 'serves': 3895, 'aint': 163, 'fest': 1696, 'miller': 2846, 'losers': 2656, 'met': 2822, 'guide': 1993, 'disappear': 1270, 'cops': 993, 'entertained': 1498, '60': 53, 'response': 3654, 'boot': 538, '1984': 23, 'hills': 2109, 'arrives': 302, 'thrilling': 4474, 'families': 1644, 'mothers': 2912, 'neighbor': 2992, 'ex': 1549, 'blues': 519, 'artist': 307, 'usa': 4691, 'bag': 384, 'twilight': 4614, 'zone': 4999, 'mixture': 2878, 'ghost': 1902, 'sutherland': 4333, 'robbins': 3712, 'danny': 1112, 'patrick': 3213, 'lloyd': 2630, 'baker': 385, 'weird': 4841, 'clint': 850, 'eastwood': 1409, 'reynolds': 3684, 'bob': 524, 'martin': 2748, 'nostalgic': 3039, 'sit': 4003, 'per': 3223, 'replaced': 3634, 'hired': 2117, 'claire': 831, 'danes': 1108, 'competent': 917, 'edition': 1422, 'tricks': 4583, 'grandmother': 1955, 'interpretation': 2328, 'da': 1094, 'carries': 699, 'gritty': 1977, 'brand': 565, 'ready': 3546, 'fail': 1625, 'spent': 4108, 'roll': 3728, 'effectively': 1430, 'dubbing': 1380, 'glass': 1917, 'escapes': 1519, 'hole': 2132, 'mayor': 2777, 'fool': 1779, 'open': 3112, 'stupidity': 4248, 'complaint': 920, 'summary': 4290, 'editor': 1423, 'weve': 4856, 'belong': 459, 'talked': 4359, 'pack': 3165, 'culture': 1079, '50s': 52, 'savage': 3793, 'stylish': 4251, 'ellen': 1446, 'required': 3641, 'seventies': 3904, 'fond': 1776, 'pitt': 3280, 'lees': 2560, 'method': 2824, 'creates': 1038, 'museum': 2945, 'inside': 2297, 'womans': 4922, 'joined': 2413, 'rogers': 3725, 'horrors': 2169, 'limited': 2606, 'continues': 971, 'portrays': 3344, 'regarding': 3589, 'chest': 784, 'chilling': 794, 'tales': 4357, 'contrast': 975, 'dracula': 1341, 'albert': 174, 'surrounding': 4319, 'hooked': 2153, 'widow': 4883, 'system': 4345, 'designed': 1203, 'bedroom': 437, 'everyday': 1541, 'established': 1524, 'event': 1535, 'princess': 3397, 'sign': 3970, 'private': 3404, 'plans': 3292, 'goal': 1925, 'survive': 4321, 'support': 4303, 'loses': 2657, 'masses': 2755, 'sir': 4000, 'crisis': 1060, 'wives': 4918, 'accused': 91, 'becoming': 435, 'spread': 4133, 'turned': 4606, 'ignore': 2224, 'germany': 1898, 'court': 1020, 'iii': 2227, 'fortunately': 1805, 'bullets': 621, 'arm': 292, 'emily': 1456, 'blunt': 520, 'fascinating': 1658, 'lesson': 2577, 'stewart': 4184, 'loser': 2655, 'buddy': 609, 'owner': 3159, 'anthony': 253, 'mann': 2728, 'shelley': 3928, 'bat': 410, 'hudson': 2184, 'bull': 619, 'tony': 4521, 'curtis': 1087, 'surrounded': 4318, 'indians': 2275, 'offer': 3087, 'superhero': 4299, 'outfit': 3144, 'exist': 1569, 'staring': 4152, 'vice': 4727, 'scripted': 3835, 'chair': 742, 'models': 2881, 'dancer': 1104, 'attached': 336, 'belongs': 460, 'interaction': 2322, 'meeting': 2794, 'partner': 3198, 'bite': 489, 'describes': 1196, 'golden': 1934, 'heavily': 2069, 'centers': 734, 'sea': 3838, 'fill': 1714, 'mundane': 2938, 'fare': 1655, 'japan': 2381, 'studio': 4240, 'ned': 2986, 'initially': 2291, 'viewings': 4741, 'australian': 357, 'absence': 70, 'necessarily': 2983, 'fancy': 1649, 'millions': 2848, 'dollars': 1315, 'bonus': 534, 'criticism': 1063, 'gang': 1867, 'explored': 1595, 'overlooked': 3154, 'efforts': 1433, 'provided': 3449, 'understandable': 4644, 'grab': 1949, 'implausible': 2245, 'substance': 4258, 'sean': 3840, 'flaw': 1749, 'paying': 3217, 'miscast': 2862, 'rats': 3531, 'werewolf': 4850, 'monster': 2892, 'reveals': 3673, 'craig': 1030, 'infamous': 2284, 'graphic': 1958, 'unnecessary': 4672, 'halfway': 2008, 'campbell': 663, 'corner': 996, 'evident': 1547, 'sidney': 3968, 'lumet': 2688, 'ann': 244, 'nelson': 2997, 'airplane': 166, 'matt': 2768, 'fifteen': 1706, 'nervous': 2999, 'grandfather': 1954, 'massive': 2756, 'psychiatrist': 3455, 'native': 2972, 'lying': 2690, 'notes': 3046, 'trio': 4587, 'unseen': 4678, 'involves': 2348, 'trapped': 4564, 'mummy': 2937, 'experiences': 1582, 'dragged': 1343, 'spirits': 4115, 'falling': 1639, 'asleep': 320, 'exercise': 1568, 'ease': 1404, 'ghosts': 1903, 'mild': 2839, 'davies': 1125, 'captured': 677, 'cards': 683, 'handed': 2016, 'pulled': 3462, 'struggles': 4235, 'maintain': 2710, 'chess': 783, 'dynamic': 1394, 'stuck': 4237, 'minded': 2850, 'overacting': 3149, 'language': 2516, 'repetitive': 3633, 'childish': 791, 'travel': 4567, 'directorial': 1265, 'eyed': 1612, 'alice': 182, 'cooper': 990, 'hank': 2024, 'embarrassed': 1453, 'karloff': 2445, 'bela': 450, 'lugosi': 2686, 'describe': 1194, 'extent': 1605, 'thousand': 4465, 'africa': 141, 'weapon': 4828, 'disease': 1285, 'sounded': 4082, 'powers': 3361, 'tune': 4602, 'credibility': 1047, 'max': 2774, 'stated': 4161, 'taste': 4369, 'idiotic': 2219, 'jerry': 2396, 'latter': 2528, 'bleak': 503, 'torn': 4528, 'advertising': 132, 'stole': 4194, 'lie': 2590, 'undoubtedly': 4648, 'blacks': 494, 'innocent': 2294, 'passes': 3203, 'dinosaur': 1255, 'foul': 1810, 'fits': 1741, 'downright': 1337, 'scares': 3806, 'illogical': 2231, 'emma': 1457, 'cheated': 775, 'haunted': 2050, 'san': 3780, 'wayne': 4821, 'icon': 2211, 'commented': 900, 'mexican': 2826, 'santa': 3783, 'obscure': 3068, 'spoken': 4126, 'spanish': 4092, 'manhattan': 2726, 'foreign': 1790, 'six': 4010, 'claimed': 829, 'liberal': 2588, 'hundred': 2195, 'rule': 3753, 'massacre': 2754, 'adequate': 120, 'troops': 4591, 'leg': 2562, 'wounded': 4961, 'wars': 4804, 'sold': 4052, 'newly': 3004, 'andy': 230, 'quiet': 3492, 'lonely': 2643, 'jay': 2386, 'gross': 1978, 'addition': 118, 'smiling': 4037, 'department': 1182, '40s': 49, 'lousy': 2667, 'nonetheless': 3029, 'lone': 2642, 'scores': 3823, 'granted': 1957, 'spoof': 4127, 'ship': 3934, 'text': 4419, 'messed': 2821, 'term': 4405, 'exotic': 1574, 'phony': 3256, 'hook': 2152, 'versus': 4722, 'differences': 1247, 'carl': 692, 'alfred': 181, 'hitchcock': 2123, 'ian': 2209, 'hunter': 2199, 'catches': 715, 'hall': 2009, 'manager': 2724, 'fortune': 1806, 'mighty': 2836, 'courage': 1018, 'loaded': 2632, 'finger': 1731, 'confidence': 938, 'disappoint': 1272, 'boom': 537, 'starred': 4153, 'intent': 2318, 'project': 3427, 'polished': 3323, 'existent': 1572, 'clue': 864, 'restaurant': 3658, 'likely': 2601, 'producing': 3417, 'instinct': 2308, 'teenagers': 4391, 'amy': 222, 'johnny': 2410, '1930s': 11, 'warner': 4799, 'tradition': 4549, 'keaton': 2448, 'via': 4726, 'attorney': 348, 'resulting': 3661, 'indian': 2274, 'audiences': 353, 'convincingly': 986, 'eg': 1434, 'paint': 3173, 'purposes': 3475, 'porn': 3336, 'trial': 4580, 'eddie': 1416, 'heaven': 2068, 'psychotic': 3459, 'cliff': 847, 'tracks': 4545, 'farm': 1656, 'harry': 2039, 'mountains': 2918, 'breathtaking': 574, 'cinemas': 817, 'neat': 2982, 'nicholas': 3010, 'ironically': 2356, 'considerable': 950, 'segments': 3868, 'appropriate': 283, 'thick': 4447, 'glorious': 1921, 'oddly': 3081, 'teaching': 4377, 'morality': 2903, 'andrews': 229, 'smooth': 4041, 'depicting': 1184, 'jungle': 2434, 'concerns': 934, 'decade': 1144, 'execution': 1566, 'laura': 2536, 'doomed': 1327, 'friendly': 1836, 'interviews': 2330, 'movement': 2923, 'travels': 4569, 'poetry': 3314, 'aspect': 321, '11': 2, 'india': 2273, 'collection': 874, 'virus': 4752, 'join': 2412, 'depressed': 1187, 'fever': 1699, 'charlotte': 766, 'lacked': 2503, 'props': 3439, 'visit': 4755, 'daddy': 1096, 'steel': 4173, 'saga': 3773, 'spoiler': 4123, 'warning': 4800, 'remote': 3622, 'succeeded': 4263, 'modesty': 2883, 'values': 4710, 'financial': 1725, 'regard': 3588, 'technique': 4383, 'integrity': 2311, 'castle': 712, 'tracy': 4546, 'jobs': 2406, 'traveling': 4568, 'resort': 3650, 'eaten': 1412, 'spirit': 4113, 'identify': 2216, 'month': 2896, 'ourselves': 3140, 'bird': 484, 'cole': 873, 'brenda': 575, 'tragedy': 4551, 'genres': 1889, 'lust': 2689, 'sheriff': 3929, 'study': 4242, 'wealth': 4826, 'wind': 4893, 'gotten': 1947, 'oil': 3097, 'bacall': 377, 'dorothy': 1330, 'faithful': 1634, 'drunken': 1376, 'stops': 4203, 'unfortunate': 4653, 'upset': 4687, 'douglas': 1334, 'spectacular': 4101, 'nazi': 2977, 'seconds': 3848, 'transition': 4561, 'random': 3514, 'explaining': 1588, 'sucks': 4271, 'audio': 354, 'disjointed': 1287, 'consistent': 953, 'intentionally': 2320, 'elizabeth': 1445, 'russell': 3761, 'clichés': 846, 'brilliantly': 584, 'evidence': 1546, 'ultimate': 4627, 'guns': 1998, 'plant': 3293, 'intriguing': 2335, 'throat': 4476, 'motivation': 2914, 'canadian': 667, 'storm': 4206, 'cube': 1076, 'exploration': 1593, 'reveal': 3670, 'morgan': 2905, 'sullivan': 4288, 'foster': 1809, 'ice': 2210, 'conspiracy': 956, 'thrillers': 4473, 'knowledge': 2491, 'exceptional': 1558, 'block': 508, 'colour': 880, 'sympathetic': 4342, 'carefully': 689, 'double': 1331, 'agents': 151, 'silence': 3974, 'sunshine': 4294, 'destroying': 1215, 'khan': 2459, 'brad': 560, 'rid': 3690, 'sucked': 4270, 'magazine': 2701, 'loads': 2633, 'reduced': 3579, 'stayed': 4167, 'ms': 2931, 'north': 3036, 'monsters': 2893, 'website': 4834, 'roger': 3724, 'rabbit': 3498, 'highest': 2102, 'faults': 1669, 'notably': 3042, 'individual': 2277, 'wall': 4781, 'innocence': 2293, 'weight': 4840, 'personalities': 3241, 'wannabe': 4787, 'sings': 3997, 'relatively': 3600, 'insult': 2309, 'theyll': 4444, 'pool': 3327, 'leonard': 2572, 'resembles': 3646, 'civil': 826, 'ensues': 1493, 'essentially': 1523, 'fish': 1738, 'extended': 1604, 'asking': 318, 'musicals': 2948, 'surface': 4310, 'nomination': 3026, 'beating': 425, 'wolf': 4920, 'picking': 3267, 'nostalgia': 3038, 'ballet': 389, 'definite': 1161, 'closed': 854, 'doors': 1329, 'diamond': 1236, 'nine': 3017, 'poignant': 3315, 'clothing': 861, 'heston': 2094, 'intended': 2315, 'numerous': 3062, 'vhs': 4725, 'widely': 4881, 'recognized': 3570, 'italy': 2368, 'specifically': 4100, 'cinematographer': 819, 'proceedings': 3410, 'narrative': 2966, 'convoluted': 987, 'religious': 3608, 'turning': 4608, 'forgotten': 1797, 'similarly': 3980, 'mechanical': 2788, 'ties': 4490, 'loose': 2650, 'ego': 1435, 'elvira': 1450, 'mistress': 2874, 'vegas': 4717, 'spell': 4104, 'vincent': 4746, 'edie': 1419, 'li': 2587, 'hong': 2149, 'productions': 3420, 'checking': 778, 'eva': 1531, 'ball': 388, 'damage': 1099, 'nazis': 2978, 'technology': 4385, 'proper': 3436, 'et': 1526, 'empire': 1464, 'quit': 3494, 'gripping': 1976, 'banned': 395, 'beatty': 427, 'dressing': 1359, 'anderson': 227, 'stunts': 4246, 'teeth': 4393, 'despair': 1207, 'unfunny': 4655, 'midnight': 2834, 'cowboy': 1025, 'affect': 136, 'jon': 2416, 'essential': 1522, 'criminal': 1057, 'east': 1407, 'randomly': 3515, 'regardless': 3590, 'theyd': 4443, 'blown': 516, 'truck': 4595, 'cardboard': 682, 'stealing': 4171, 'mainstream': 2709, 'account': 89, 'focuses': 1768, 'enormous': 1490, 'sympathy': 4343, 'provoking': 3452, 'donald': 1321, 'receive': 3563, 'poetic': 3313, 'adventures': 131, 'chaplin': 756, 'suspend': 4329, 'disbelief': 1277, 'allow': 189, 'dire': 1257, 'warrior': 4802, 'defend': 1158, 'performers': 3232, 'safety': 3772, 'arrival': 299, 'grey': 1973, 'bridge': 578, 'nancy': 2964, 'showcase': 3954, 'chapter': 757, 'thrills': 4475, 'album': 175, 'crimes': 1056, 'astaire': 330, 'ginger': 1908, 'mgm': 2828, 'hire': 2116, 'performing': 3233, 'retired': 3664, 'victim': 4729, 'receives': 3565, 'logic': 2638, 'statement': 4162, 'handsome': 2021, 'react': 3540, 'comedian': 887, 'anger': 235, 'opportunities': 3120, 'sits': 4006, 'eager': 1396, 'expectations': 1576, 'alcoholic': 177, '2001': 31, 'plastic': 3294, 'worry': 4950, 'visible': 4753, 'cats': 721, 'neck': 2985, 'grown': 1984, 'bed': 436, 'hello': 2078, 'covered': 1023, 'chicago': 785, '2002': 32, 'eerie': 1427, 'liners': 2611, 'walken': 4777, 'lynch': 2691, 'lowest': 2678, 'guessed': 1990, 'francisco': 1819, 'pages': 3168, 'wear': 4830, 'striking': 4226, '2nd': 41, 'crafted': 1029, 'complexity': 924, 'irony': 2357, 'nor': 3032, 'chaos': 755, 'cleverly': 842, 'innovative': 2295, 'extraordinary': 1607, 'drops': 1372, 'delightful': 1168, 'derek': 1192, 'previously': 3388, 'medium': 2792, 'fetched': 1698, 'asked': 317, 'spring': 4134, 'mine': 2853, 'fairy': 1632, 'task': 4368, 'suitable': 4285, 'chooses': 800, 'miracle': 2860, 'fbi': 1675, 'balls': 390, 'paltrow': 3178, 'jane': 2380, 'theaters': 4428, 'hearing': 2063, 'user': 4696, 'amazed': 208, 'slightest': 4028, 'finding': 1727, 'bet': 470, 'thugs': 4484, 'noise': 3024, 'brutally': 604, 'abusive': 75, 'skill': 4013, 'officers': 3093, 'letters': 2582, 'quotes': 3497, 'itll': 2369, 'glover': 1923, 'twin': 4615, 'september': 3884, 'merit': 2816, 'quirky': 3493, 'adam': 111, 'sloppy': 4030, 'laughter': 2535, 'afterwards': 145, 'hide': 2097, 'strip': 4228, 'comics': 895, 'resources': 3651, 'wholly': 4874, 'grows': 1985, 'nightmares': 3015, 'gruesome': 1986, 'denzel': 1181, 'figures': 1713, 'inevitably': 2283, 'academy': 77, 'forgettable': 1794, 'tender': 4401, 'celluloid': 731, 'providing': 3451, 'richardson': 3688, 'equivalent': 1512, 'loosely': 2651, 'catherine': 719, 'campy': 664, 'friday': 1834, '13th': 5, 'females': 1694, 'theyve': 4446, 'cave': 727, 'limits': 2607, 'strangely': 4212, 'freak': 1824, 'hilariously': 2107, 'pokemon': 3320, 'heroes': 2089, 'concerning': 933, 'arguably': 289, 'includes': 2263, 'represented': 3638, 'rocket': 3721, 'uninteresting': 4660, 'forest': 1791, 'bo': 521, 'tarzan': 4367, 'understood': 4647, 'philosophy': 3254, 'pit': 3278, 'carried': 698, 'scientific': 3817, 'laid': 2508, 'godzilla': 1929, 'batman': 413, 'wes': 4851, 'versions': 4721, '70': 55, '80': 58, 'pile': 3275, 'dreary': 1356, 'newspaper': 3006, 'blew': 505, 'eat': 1411, 'assumed': 329, 'cameras': 660, 'hopeless': 2158, 'akshay': 169, 'kapoor': 2443, 'shorts': 3948, 'letting': 2583, 'size': 4012, 'beast': 422, 'frequent': 1831, 'tends': 4402, 'raising': 3509, 'peace': 3219, 'multiple': 2936, 'reach': 3536, 'status': 4165, 'hitting': 2126, 'dating': 1120, 'asian': 314, 'evening': 1534, 'reasonable': 3558, 'investigate': 2342, 'praise': 3364, 'mob': 2879, 'suffers': 4278, 'imitation': 2241, 'device': 1227, 'bergman': 466, 'assistant': 326, 'ashamed': 312, 'commit': 904, 'gerard': 1895, 'iron': 2354, 'butt': 638, 'alert': 178, 'adams': 112, '2007': 37, 'france': 1816, 'extreme': 1609, 'blade': 495, 'forty': 1807, 'upper': 4685, 'bore': 540, 'influenced': 2287, 'kingdom': 2480, 'suspect': 4327, 'mickey': 2831, 'row': 3744, 'punishment': 3467, 'defense': 1159, 'answers': 252, 'sacrifice': 3766, 'cross': 1066, 'enthusiasm': 1501, 'forgive': 1795, 'destroyed': 1214, 'terribly': 4408, 'facial': 1619, 'expressions': 1603, 'happily': 2030, 'threatening': 4468, 'typically': 4624, 'blond': 510, 'larry': 2520, 'unwatchable': 4682, 'protagonists': 3442, 'disagree': 1269, 'complicated': 925, '1968': 16, 'parties': 3196, 'weakest': 4825, 'matthew': 2772, 'ought': 3138, 'beats': 426, 'insane': 2296, 'selling': 3873, 'brains': 563, 'kidnapped': 2466, 'capable': 672, 'civilization': 827, 'afford': 138, 'arrested': 298, 'corruption': 1002, 'union': 4661, 'authority': 360, 'passionate': 3206, 'investigation': 2343, 'knife': 2487, 'von': 4765, 'psychological': 3458, 'colonel': 876, 'kennedy': 2454, 'outcome': 3142, 'counter': 1011, 'deceased': 1146, 'reunion': 3669, 'eve': 1532, 'mountain': 2917, 'stanwyck': 4149, 'companion': 909, 'wreck': 4965, 'wrestling': 4966, 'tribute': 4581, 'unintentionally': 4659, 'cusack': 1088, 'wet': 4855, 'madness': 2698, 'knock': 2488, 'drop': 1369, 'drives': 1367, 'sidekick': 3966, 'gotta': 1946, 'slave': 4022, 'questionable': 3488, 'heroic': 2090, 'spike': 4111, 'carrey': 696, 'accepted': 82, 'chuck': 812, 'damon': 1101, 'lawrence': 2539, 'walker': 4778, 'april': 284, 'bin': 483, 'myers': 2952, 'freddy': 1826, 'chasing': 772, 'carpenter': 694, 'jamie': 2379, 'suffered': 4276, 'impress': 2250, 'factor': 1622, 'slapstick': 4019, 'domino': 1319, 'simplicity': 3984, 'orange': 3125, 'carol': 693, 'accompanied': 86, 'homer': 2144, 'spot': 4131, 'charles': 764, 'unforgettable': 4652, 'inferior': 2285, 'rights': 3697, 'duo': 1386, 'roman': 3731, 'instant': 2305, 'liking': 2604, 'charge': 761, 'animal': 239, 'corrupt': 1001, 'legal': 2563, 'tame': 4363, 'dust': 1388, 'floor': 1759, 'snow': 4045, 'horses': 2171, 'backdrop': 379, 'divorce': 1301, 'gentle': 1890, 'keeping': 2450, 'sandra': 3782, 'selfish': 3870, 'dean': 1139, 'gain': 1863, 'victor': 4731, 'thirty': 4456, 'flawless': 1751, 'peoples': 3222, 'illness': 2230, 'suffice': 4279, 'namely': 2962, 'pearl': 3220, 'berlin': 467, 'revealing': 3672, 'robot': 3717, 'flies': 1756, 'cage': 645, 'tour': 4538, 'flow': 1762, 'press': 3379, 'ham': 2011, 'ridden': 3691, 'perry': 3237, 'australia': 356, 'prequel': 3372, 'contain': 962, 'philosophical': 3253, 'attacks': 339, 'kinds': 2478, 'jerk': 2395, 'reviewers': 3678, 'boredom': 542, 'sexually': 3910, 'wrapped': 4964, 'cook': 988, 'tall': 4362, 'gifted': 1907, 'garbo': 1871, 'instance': 2304, 'poem': 3312, 'deaf': 1134, 'ted': 4386, 'arthur': 305, 'wound': 4960, 'saturday': 3792, 'satan': 3787, 'suit': 4284, 'movements': 2924, 'disturbed': 1299, 'pants': 3182, 'murphy': 2944, 'barbara': 397, 'tons': 4520, 'thief': 4448, 'burton': 630, 'hollow': 2135, 'population': 3335, 'apes': 267, 'satisfy': 3790, 'mars': 2746, 'invasion': 2340, 'brazil': 568, 'mirror': 2861, 'successfully': 4267, 'darkness': 1117, 'fields': 1705, 'persons': 3244, 'realise': 3548, 'discussion': 1284, 'juvenile': 2441, 'troubled': 4593, 'whereas': 4865, 'unbearable': 4633, 'wrap': 4963, 'education': 1424, 'survived': 4322, 'documentaries': 1306, 'hardy': 2037, 'folks': 1771, 'parent': 3187, 'jealous': 2388, 'scooby': 3820, 'doo': 1325, 'explosions': 1597, 'dedicated': 1153, 'spots': 4132, 'agreed': 156, 'crack': 1027, 'pot': 3354, 'attitudes': 347, 'clumsy': 866, 'wore': 4939, 'dinner': 1254, 'kay': 2447, 'warmth': 4796, 'ryan': 3765, 'gangsters': 1869, 'leo': 2571, 'crucial': 1068, 'kidding': 2465, 'swimming': 4338, 'lily': 2605, 'crush': 1072, 'persona': 3239, 'lips': 2615, 'closet': 858, 'frustrated': 1842, 'ugly': 4625, 'butler': 637, 'useless': 4695, 'uninspired': 4657, 'arrogant': 303, 'channels': 754, 'hunters': 2200, 'mistakes': 2873, 'trick': 4582, 'earned': 1401, 'blair': 497, 'bare': 398, 'realism': 3549, 'aid': 160, 'moody': 2899, 'engage': 1479, 'presentation': 3375, 'suited': 4286, 'appreciation': 281, 'centered': 733, 'potentially': 3356, 'plight': 3308, 'atmospheric': 334, 'desperation': 1210, 'eighties': 1437, 'merits': 2817, '17': 9, 'frightening': 1839, 'homage': 2141, 'easier': 1405, 'hippie': 2115, 'meaningless': 2782, 'magical': 2704, 'concert': 935, 'connected': 945, 'unusual': 4681, 'sin': 3988, 'los': 2653, 'angeles': 233, 'karen': 2444, 'basement': 405, 'junior': 2435, 'subplot': 4255, 'brave': 567, 'designs': 1204, 'enters': 1496, 'believing': 457, 'speaks': 4096, 'bargain': 400, 'tied': 4489, 'primarily': 3393, 'spin': 4112, 'caine': 647, 'ritter': 3705, 'sport': 4129, 'lies': 2591, 'base': 402, 'taylor': 4372, 'hugh': 2186, 'rooms': 3736, 'ed': 1415, 'swear': 4334, 'senseless': 3878, 'wave': 4818, 'mysteries': 2954, 'dances': 1106, 'signed': 3971, 'craven': 1034, 'goodness': 1938, 'fascinated': 1657, 'videos': 4734, 'daring': 1114, 'raymond': 3534, 'ticket': 4487, 'westerns': 4854, 'shadows': 3913, 'ireland': 2352, 'conflicts': 940, 'oscars': 3134, 'morning': 2906, 'explosion': 1596, 'critic': 1061, 'couples': 1017, 'exists': 1573, 'translation': 4562, 'pacing': 3163, 'devoid': 1230, 'stiff': 4187, 'bourne': 554, 'returning': 3667, 'ninja': 3018, 'clip': 851, 'stereotype': 4178, 'nyc': 3065, 'rage': 3505, 'draw': 1349, 'unfolds': 4651, 'uneven': 4649, 'bringing': 586, 'prisoners': 3403, 'shoots': 3944, 'prisoner': 3402, 'load': 2631, 'sue': 4274, 'fitting': 1742, 'highlight': 2103, 'dickens': 1240, 'holiday': 2134, 'serving': 3897, 'surreal': 4317, 'household': 2179, 'splendid': 4119, 'elegant': 1441, 'blah': 496, 'rural': 3758, 'voiced': 4762, 'witnesses': 4916, 'fatal': 1664, 'encounters': 1467, 'learning': 2552, 'pride': 3391, 'wisdom': 4902, 'chinese': 796, 'thoughtful': 4463, 'babe': 375, 'suffer': 4275, 'masters': 2761, 'wed': 4835, 'square': 4136, 'awake': 365, 'painted': 3174, 'portrait': 3339, 'represent': 3637, 'comparing': 913, 'homeless': 2143, 'decisions': 1152, 'godfather': 1927, 'honesty': 2148, 'dude': 1381, 'blob': 507, 'spare': 4093, 'hundreds': 2196, 'dancers': 1105, 'colorful': 878, 'push': 3477, 'site': 4005, '24': 39, 'brooklyn': 595, 'laughably': 2531, 'ha': 2002, 'demand': 1174, 'advance': 127, 'freeman': 1829, 'report': 3635, 'mail': 2706, 'advanced': 128, 'learned': 2551, 'arnold': 296, 'helicopter': 2076, 'airport': 167, 'removed': 3624, 'exposure': 1599, 'warned': 4798, 'petty': 3249, 'tad': 4347, 'competition': 918, 'linda': 2609, 'sorts': 4078, 'dawn': 1127, 'mature': 2773, 'discovery': 1282, 'monk': 2889, 'vivid': 4760, 'giallo': 1904, 'phantom': 3251, 'demon': 1177, 'seed': 3856, 'possessed': 3347, 'margaret': 2735, 'nurse': 3063, 'swim': 4337, 'struck': 4232, 'jesse': 2397, 'split': 4120, 'masterpieces': 2760, 'feminist': 1695, 'maria': 2736, 'beneath': 464, 'mario': 2738, 'macy': 2695, 'funeral': 1849, 'iraq': 2351, 'rachel': 3500, 'photographer': 3259, 'copies': 992, 'analysis': 224, 'wondered': 4927, 'snl': 4044, '25': 40, 'explore': 1594, 'alternate': 200, 'devoted': 1231, 'doctors': 1305, 'thankfully': 4422, 'tonight': 4519, 'riveting': 3708, 'intrigued': 2334, 'loyal': 2679, 'covers': 1024, 'catholic': 720, 'dan': 1102, 'rendition': 3625, 'bell': 458, 'associated': 327, 'expressed': 1601, 'bobby': 525, 'improved': 2255, 'neighborhood': 2993, 'latin': 2527, 'sandler': 3781, 'kenneth': 2455, 'powell': 3358, '30s': 44, 'ruth': 3763, 'dave': 1123, 'unpleasant': 4674, 'bitter': 491, 'coherent': 871, 'ideal': 2214, 'beliefs': 452, '3d': 46, 'louise': 2666, 'colors': 879, 'stretch': 4221, 'mall': 2720, 'dig': 1250, 'subplots': 4256, 'viewed': 4737, 'riding': 3695, 'stretched': 4222, 'photographed': 3258, 'opened': 3113, 'stargate': 4151, 'franchise': 1817, 'devils': 1229, 'thousands': 4466, 'warren': 4801, 'resident': 3647, 'transformation': 4560, 'dentist': 1180, 'rex': 3683, 'illegal': 2229, 'diane': 1238, 'lou': 2663, 'wandering': 4785, 'hammer': 2014, 'ethan': 1528, 'melodrama': 2797, 'arrive': 300, 'contemporary': 965, 'mtv': 2933, 'em': 1452, '18': 10, 'restored': 3659, 'lessons': 2578, 'conventional': 979, 'marks': 2742, 'abraham': 69, 'unsettling': 4679, '1983': 22, 'hysterical': 2208, 'timothy': 4499, 'wells': 4845, 'cruise': 1071, 'overlook': 3153, 'lincoln': 2608, 'fonda': 1777, 'prize': 3405, 'rising': 3703, 'domestic': 1318, 'laurel': 2537, 'tiresome': 4502, 'oz': 3160, 'drink': 1361, 'psychic': 3456, 'sum': 4289, 'survivors': 4325, 'mill': 2845, 'ruby': 3749, 'meaningful': 2781, 'instantly': 2306, 'adapted': 114, 'scope': 3821, 'uncomfortable': 4637, 'chan': 746, 'slight': 4027, 'stress': 4220, 'plausible': 3295, 'invisible': 2344, '1933': 12, 'sadistic': 3768, 'wacky': 4769, 'hop': 2154, 'landscapes': 2514, 'consists': 955, 'gundam': 1997, 'suits': 4287, 'incomprehensible': 2267, 'demands': 1175, 'broad': 590, 'temple': 4398, 'gadget': 1860, 'facing': 1620, 'transfer': 4559, 'admire': 121, '20th': 38, 'demons': 1178, 'messages': 2820, 'retarded': 3663, 'measure': 2786, 'species': 4098, 'landing': 2512, 'wonders': 4931, 'spends': 4107, 'blowing': 515, 'imagery': 2234, 'cg': 739, 'tooth': 4524, 'principal': 3398, 'expression': 1602, 'monkeys': 2891, 'legs': 2566, 'advise': 134, 'warming': 4795, 'terrorists': 4414, 'generic': 1885, 'tiger': 4491, 'altogether': 202, 'bands': 392, 'web': 4833, 'spider': 4109, 'rebel': 3561, 'searching': 3842, 'waited': 4771, 'tomatoes': 4515, 'angela': 232, 'rick': 3689, 'kissing': 2484, 'patients': 3212, 'stiller': 4189, 'donna': 1323, 'prom': 3429, 'escaped': 1518, 'trees': 4577, 'pulp': 3465, 'huh': 2187, 'jaw': 2384, 'falk': 1636, 'basketball': 409, 'slap': 4018, 'handful': 2017, 'robbery': 3711, 'shirt': 3937, 'brosnan': 597, 'shed': 3924, 'ah': 158, 'relation': 3595, 'wendy': 4846, 'wicked': 4879, 'monkey': 2890, 'rambo': 3511, 'grasp': 1960, 'corporate': 998, 'voight': 4764, 'reel': 3581, 'nights': 3016, 'arrived': 301, 'vietnam': 4735, 'franco': 1820, 'waves': 4819, 'harris': 2038, 'cared': 685, 'pig': 3274, 'streep': 4215, 'featured': 1679, '1972': 18, 'trail': 4553, 'lasted': 2522, 'catchy': 717, 'betty': 474, 'ron': 3734, 'priceless': 3390, 'schools': 3814, 'jake': 2377, 'hurts': 2203, 'boll': 529, 'womens': 4924, 'polanski': 3321, 'alongside': 196, 'operation': 3117, 'trademark': 4548, 'cringe': 1059, 'spain': 4091, 'kubrick': 2496, 'dolph': 1317, 'assigned': 325, 'cary': 706, 'cinderella': 815, 'demented': 1176, 'ya': 4976, 'empathy': 1462, 'beer': 439, 'mentions': 2813, 'progresses': 3426, 'teachers': 4376, 'stan': 4142, 'cure': 1081, 'frustration': 1843, 'vulnerable': 4768, 'jenny': 2393, 'pan': 3180, 'appearing': 277, 'snake': 4042, 'someones': 4065, 'calm': 655, 'survivor': 4324, 'maggie': 2702, 'alcohol': 176, 'literature': 2623, 'cynical': 1093, 'earl': 1398, 'jazz': 2387, 'simpson': 3987, 'singers': 3994, 'lit': 2621, 'pamela': 3179, 'carradine': 695, 'duty': 1390, 'miike': 2837, 'paulie': 3215, 'gandhi': 1866, 'grinch': 1975, 'jeffrey': 2391, 'neil': 2995, 'lena': 2568, 'errors': 1516, 'bettie': 473, 'tunes': 4603, 'eyre': 1614, 'dalton': 1098, 'sixties': 4011, 'birds': 485, 'georges': 1894, 'online': 3109, 'judy': 2426, 'bud': 607, 'isolated': 2363, 'marty': 2749, 'hopper': 2161, 'olivier': 3103, 'stevens': 4183, 'willis': 4890, 'melting': 2799, 'dropping': 1371, 'vacation': 4704, 'rank': 3518, 'elephant': 1444, 'descent': 1193, 'lemmon': 2567, 'rap': 3520, 'jackie': 2374, 'sink': 3999, 'ralph': 3510, 'twins': 4616, 'felix': 1689, 'holly': 2136, 'global': 1920, 'imagined': 2239, 'opinions': 3119, 'horrid': 2165, 'uwe': 4703, 'causing': 726, 'bakshi': 386, 'crocodile': 1065, 'joey': 2408, 'rochester': 3719, 'ashley': 313, 'ramones': 3512, 'streisand': 4218, 'atlantis': 332, 'stooges': 4200, 'creativity': 1042}\n"
     ]
    }
   ],
   "source": [
    "print(str(vocabulary))"
   ]
  },
  {
   "cell_type": "markdown",
   "metadata": {},
   "source": [
    "Once you have added the endpoint name to the Lambda function, click on **Save**. Your Lambda function is now up and running. Next we need to create a way for our web app to execute the Lambda function."
   ]
  },
  {
   "cell_type": "markdown",
   "metadata": {},
   "source": [
    "### Setting up API Gateway\n",
    "\n",
    "Now that our Lambda function is set up, it is time to create a new API using API Gateway that will trigger the Lambda function we have just created.\n",
    "\n",
    "Using AWS Console, navigate to **Amazon API Gateway** and then click on **Get started**.\n",
    "\n",
    "On the next page, make sure that **New API** is selected and give the new api a name, for example, `sentiment_analysis_web_app`. Then, click on **Create API**.\n",
    "\n",
    "Now we have created an API, however it doesn't currently do anything. What we want it to do is to trigger the Lambda function that we created earlier.\n",
    "\n",
    "Select the **Actions** dropdown menu and click **Create Method**. A new blank method will be created, select its dropdown menu and select **POST**, then click on the check mark beside it.\n",
    "\n",
    "For the integration point, make sure that **Lambda Function** is selected and click on the **Use Lambda Proxy integration**. This option makes sure that the data that is sent to the API is then sent directly to the Lambda function with no processing. It also means that the return value must be a proper response object as it will also not be processed by API Gateway.\n",
    "\n",
    "Type the name of the Lambda function you created earlier into the **Lambda Function** text entry box and then click on **Save**. Click on **OK** in the pop-up box that then appears, giving permission to API Gateway to invoke the Lambda function you created.\n",
    "\n",
    "The last step in creating the API Gateway is to select the **Actions** dropdown and click on **Deploy API**. You will need to create a new Deployment stage and name it anything you like, for example `prod`.\n",
    "\n",
    "You have now successfully set up a public API to access your SageMaker model. Make sure to copy or write down the URL provided to invoke your newly created public API as this will be needed in the next step. This URL can be found at the top of the page, highlighted in blue next to the text **Invoke URL**."
   ]
  },
  {
   "cell_type": "markdown",
   "metadata": {},
   "source": [
    "## Step 7: Deploying our web app\n",
    "\n",
    "Now that we have a publicly available API, we can start using it in a web app. For our purposes, we have provided a simple static html file which can make use of the public api you created earlier.\n",
    "\n",
    "In the `website` folder there should be a file called `index.html`. Download the file to your computer and open that file up in a text editor of your choice. There should be a line which contains **\\*\\*REPLACE WITH PUBLIC API URL\\*\\***. Replace this string with the url that you wrote down in the last step and then save the file.\n",
    "\n",
    "Now, if you open `index.html` on your local computer, your browser will behave as a local web server and you can use the provided site to interact with your SageMaker model.\n",
    "\n",
    "If you'd like to go further, you can host this html file anywhere you'd like, for example using github or hosting a static site on Amazon's S3. Once you have done this you can share the link with anyone you'd like and have them play with it too!\n",
    "\n",
    "> **Important Note** In order for the web app to communicate with the SageMaker endpoint, the endpoint has to actually be deployed and running. This means that you are paying for it. Make sure that the endpoint is running when you want to use the web app but that you shut it down when you don't need it, otherwise you will end up with a surprisingly large AWS bill."
   ]
  },
  {
   "cell_type": "markdown",
   "metadata": {},
   "source": [
    "### Delete the endpoint\n",
    "\n",
    "Remember to always shut down your endpoint if you are no longer using it. You are charged for the length of time that the endpoint is running so if you forget and leave it on you could end up with an unexpectedly large bill."
   ]
  },
  {
   "cell_type": "code",
   "execution_count": 48,
   "metadata": {},
   "outputs": [],
   "source": [
    "xgb_predictor.delete_endpoint()"
   ]
  },
  {
   "cell_type": "markdown",
   "metadata": {},
   "source": [
    "## Optional: Clean up\n",
    "\n",
    "The default notebook instance on SageMaker doesn't have a lot of excess disk space available. As you continue to complete and execute notebooks you will eventually fill up this disk space, leading to errors which can be difficult to diagnose. Once you are completely finished using a notebook it is a good idea to remove the files that you created along the way. Of course, you can do this from the terminal or from the notebook hub if you would like. The cell below contains some commands to clean up the created files from within the notebook."
   ]
  },
  {
   "cell_type": "code",
   "execution_count": 49,
   "metadata": {},
   "outputs": [],
   "source": [
    "# First we will remove all of the files contained in the data_dir directory\n",
    "!rm $data_dir/*\n",
    "\n",
    "# And then we delete the directory itself\n",
    "!rmdir $data_dir\n",
    "\n",
    "# Similarly we remove the files in the cache_dir directory and the directory itself\n",
    "!rm $cache_dir/*\n",
    "!rmdir $cache_dir"
   ]
  },
  {
   "cell_type": "code",
   "execution_count": null,
   "metadata": {},
   "outputs": [],
   "source": []
  }
 ],
 "metadata": {
  "kernelspec": {
   "display_name": "conda_python3",
   "language": "python",
   "name": "conda_python3"
  },
  "language_info": {
   "codemirror_mode": {
    "name": "ipython",
    "version": 3
   },
   "file_extension": ".py",
   "mimetype": "text/x-python",
   "name": "python",
   "nbconvert_exporter": "python",
   "pygments_lexer": "ipython3",
   "version": "3.6.10"
  }
 },
 "nbformat": 4,
 "nbformat_minor": 2
}
